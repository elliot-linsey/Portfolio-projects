{
 "cells": [
  {
   "cell_type": "code",
   "execution_count": 1,
   "metadata": {},
   "outputs": [],
   "source": [
    "import pandas as pd\n",
    "from sklearn.utils import resample\n",
    "from matplotlib import pyplot as plt\n",
    "import numpy as np"
   ]
  },
  {
   "cell_type": "markdown",
   "metadata": {},
   "source": [
    "Bootstrapping is sampling with replacement from an observed data set. In essence, we are just replicating the original sample hundreds or thousands or millions of times so that we have a hypothetical population (that's just larger). In actuality, we just replace each sample after drawing; that is, we sample with replacement. This effectively creates an infinite population in which the probability of an element being drawn does not change from draw to draw. "
   ]
  },
  {
   "cell_type": "code",
   "execution_count": 2,
   "metadata": {},
   "outputs": [
    {
     "name": "stdout",
     "output_type": "stream",
     "text": [
      "50000\n"
     ]
    }
   ],
   "source": [
    "loans_income = pd.read_csv('loans_income.csv')\n",
    "loans_income.head()\n",
    "print(len(loans_income['x']))"
   ]
  },
  {
   "cell_type": "code",
   "execution_count": 3,
   "metadata": {},
   "outputs": [
    {
     "name": "stdout",
     "output_type": "stream",
     "text": [
      "0      62000.0\n",
      "1      61822.0\n",
      "2      62000.0\n",
      "3      62000.0\n",
      "4      62000.0\n",
      "        ...   \n",
      "995    62000.0\n",
      "996    62000.0\n",
      "997    62000.0\n",
      "998    62000.0\n",
      "999    62000.0\n",
      "Length: 1000, dtype: float64\n"
     ]
    }
   ],
   "source": [
    "results = []\n",
    "for nrepeat in range(1000):\n",
    "    sample = resample(loans_income['x'])\n",
    "    results.append(sample.median())\n",
    "results = pd.Series(results)\n",
    "print(results)"
   ]
  },
  {
   "cell_type": "code",
   "execution_count": 4,
   "metadata": {},
   "outputs": [
    {
     "name": "stdout",
     "output_type": "stream",
     "text": [
      "original: 62000.0\n",
      "bias: -70.8804999999993\n",
      "standard error: 212.82000804805824\n"
     ]
    }
   ],
   "source": [
    "print(f'original: {loans_income.x.median()}')\n",
    "print(f'bias: {results.mean() - loans_income.x.median()}')\n",
    "print(f'standard error: {results.std()}')"
   ]
  },
  {
   "cell_type": "code",
   "execution_count": 5,
   "metadata": {
    "scrolled": false
   },
   "outputs": [
    {
     "data": {
      "image/png": "[encoded data removed]",
      "text/plain": [
       "<Figure size 432x288 with 1 Axes>"
      ]
     },
     "metadata": {
      "needs_background": "light"
     },
     "output_type": "display_data"
    }
   ],
   "source": [
    "histo = plt.hist(results)\n",
    "plt.show()"
   ]
  },
  {
   "cell_type": "markdown",
   "metadata": {},
   "source": [
    "Using numpy is an alternative method to doing bootstrapping. This way appears to be more user-friendly as you can clearly state that replace=True and the size of the sample you wish to take. \n",
    "From there I then calculate the 90% confidence interval using np.percentile, I am not 100% sure if this is statistically correct. Then I plotted the results onto a histogram, showing that it is 90% certain that the mean of this sample population of 20 draws (that has been repeated 1000 times) lies within this range.  "
   ]
  },
  {
   "cell_type": "code",
   "execution_count": 6,
   "metadata": {},
   "outputs": [],
   "source": [
    "means = []\n",
    "for nrepeat in range(1000):\n",
    "    np_sample = np.random.choice(loans_income['x'], replace=True, size=20)\n",
    "    means.append(np_sample.mean())\n",
    "\n",
    "low_p = np.percentile(means, 5)\n",
    "high_p = np.percentile(means, 95)\n"
   ]
  },
  {
   "cell_type": "code",
   "execution_count": 7,
   "metadata": {
    "scrolled": true
   },
   "outputs": [
    {
     "data": {
      "image/png": "[encoded data removed]",
      "text/plain": [
       "<Figure size 432x288 with 1 Axes>"
      ]
     },
     "metadata": {
      "needs_background": "light"
     },
     "output_type": "display_data"
    }
   ],
   "source": [
    "histo3 = plt.hist(means, histtype='step', bins=40)\n",
    "plt.axvline(x=np.average(means), color='r')\n",
    "plt.axvline(x=low_p, color='g')\n",
    "plt.axvline(x=high_p, color='g')\n",
    "plt.show()"
   ]
  },
  {
   "cell_type": "code",
   "execution_count": 8,
   "metadata": {},
   "outputs": [
    {
     "name": "stdout",
     "output_type": "stream",
     "text": [
      "62000.0\n"
     ]
    },
    {
     "data": {
      "text/plain": [
       "0      62000.0\n",
       "1      62000.0\n",
       "2      62000.0\n",
       "3      62000.0\n",
       "4      62000.0\n",
       "        ...   \n",
       "995    62000.0\n",
       "996    62000.0\n",
       "997    62000.0\n",
       "998    61402.0\n",
       "999    62000.0\n",
       "Length: 1000, dtype: float64"
      ]
     },
     "execution_count": 8,
     "metadata": {},
     "output_type": "execute_result"
    }
   ],
   "source": [
    "means2 = []\n",
    "for nrepeat in range(1000):\n",
    "    np_sample = np.random.choice(loans_income['x'], replace=True, size=50000)\n",
    "    means2.append(np.median(np_sample))\n",
    "\n",
    "means2 = pd.Series(means2)\n",
    "print(np.median(means2))\n",
    "means2\n"
   ]
  },
  {
   "cell_type": "code",
   "execution_count": 9,
   "metadata": {
    "scrolled": true
   },
   "outputs": [
    {
     "name": "stdout",
     "output_type": "stream",
     "text": [
      "original: 62000.0\n",
      "bias: -73.72099999999773\n",
      "standard error: 216.36012146188122\n"
     ]
    }
   ],
   "source": [
    "print(f'original: {loans_income.x.median()}')\n",
    "print(f'bias: {np.average(means2) - loans_income.x.median()}')\n",
    "print(f'standard error: {np.std(means2)}')"
   ]
  },
  {
   "cell_type": "markdown",
   "metadata": {},
   "source": [
    "I think that this is how a confidence interval should be done, sometimes it is better to present an estimate (such as mean or median) as a range rather than a specific number (point estimate). Here I have taken a sample of 20 from the loans_income csv, then used a bootstrap to resample from this sample population 1000 times. From here I append the means of these resampled data values to a list which I then convert to a Panda Series. I then plot a histogram of these means and use percentiles to trim the ends off - to calculate a 90% percentile off each end the formula is [(100-x)/2]%. This equals (100 - 90)/2 = 5% from both ends, so we use np.percentile(results, 5) for the low and np.percentile(results,95) for the high. We can now say that 90% of the time the mean will be within this range."
   ]
  },
  {
   "cell_type": "code",
   "execution_count": 10,
   "metadata": {},
   "outputs": [],
   "source": [
    "sample_20 = np.random.choice(loans_income['x'], replace=True, size=20)\n"
   ]
  },
  {
   "cell_type": "code",
   "execution_count": 11,
   "metadata": {},
   "outputs": [
    {
     "name": "stdout",
     "output_type": "stream",
     "text": [
      "76443.5\n"
     ]
    },
    {
     "data": {
      "image/png": "[encoded data removed]",
      "text/plain": [
       "<Figure size 432x288 with 1 Axes>"
      ]
     },
     "metadata": {
      "needs_background": "light"
     },
     "output_type": "display_data"
    }
   ],
   "source": [
    "sample_20 = pd.Series(sample_20)\n",
    "print(sample_20.mean())\n",
    "plt.hist(sample_20)\n",
    "plt.show()"
   ]
  },
  {
   "cell_type": "code",
   "execution_count": 34,
   "metadata": {},
   "outputs": [
    {
     "name": "stdout",
     "output_type": "stream",
     "text": [
      "0       49414.20\n",
      "1       49842.65\n",
      "2       51114.50\n",
      "3       51437.10\n",
      "4       52335.20\n",
      "         ...    \n",
      "995     98251.40\n",
      "996    101092.65\n",
      "997    101800.00\n",
      "998    102171.55\n",
      "999    107387.10\n",
      "Length: 1000, dtype: float64\n"
     ]
    }
   ],
   "source": [
    "results = []\n",
    "for nrepeat in range(1000):\n",
    "    sample = resample(sample_20)\n",
    "    results.append(sample.mean())\n",
    "results = sorted(results)\n",
    "results = pd.Series(results)\n",
    "print(results)"
   ]
  },
  {
   "cell_type": "code",
   "execution_count": 36,
   "metadata": {},
   "outputs": [
    {
     "name": "stdout",
     "output_type": "stream",
     "text": [
      "76182.76165\n",
      "63148.7375\n",
      "90410.4875\n"
     ]
    }
   ],
   "source": [
    "print(results.mean())\n",
    "low_p = np.percentile(results, 5)\n",
    "high_p = np.percentile(results, 95)\n",
    "\n",
    "print(low_p)\n",
    "print(high_p)"
   ]
  },
  {
   "cell_type": "code",
   "execution_count": 40,
   "metadata": {},
   "outputs": [
    {
     "name": "stdout",
     "output_type": "stream",
     "text": [
      "63157.25\n",
      "90443.5\n"
     ]
    }
   ],
   "source": [
    "print(results[50])\n",
    "print(results[950])"
   ]
  },
  {
   "cell_type": "code",
   "execution_count": 17,
   "metadata": {},
   "outputs": [
    {
     "data": {
      "image/png": "[encoded data removed]",
      "text/plain": [
       "<Figure size 432x288 with 1 Axes>"
      ]
     },
     "metadata": {
      "needs_background": "light"
     },
     "output_type": "display_data"
    }
   ],
   "source": [
    "plt.hist(results, bins=20)\n",
    "plt.axvline(sample_20.mean(), color='r')\n",
    "plt.axvline(results.median(), color='y')\n",
    "plt.axvline(x=low_p, color='g')\n",
    "plt.axvline(x=high_p, color='g')\n",
    "plt.show()"
   ]
  },
  {
   "cell_type": "code",
   "execution_count": 41,
   "metadata": {},
   "outputs": [
    {
     "name": "stdout",
     "output_type": "stream",
     "text": [
      "0      72714.60\n",
      "1      63193.50\n",
      "2      73328.90\n",
      "3      85664.60\n",
      "4      96565.45\n",
      "         ...   \n",
      "995    83350.85\n",
      "996    70936.15\n",
      "997    93828.90\n",
      "998    81015.45\n",
      "999    77566.30\n",
      "Length: 1000, dtype: float64\n"
     ]
    }
   ],
   "source": [
    "results = []\n",
    "for nrepeat in range(1000):\n",
    "    sample = np.random.choice(sample_20, size=20, replace=True)\n",
    "    results.append(sample.mean())\n",
    "results = pd.Series(results)\n",
    "print(results)"
   ]
  },
  {
   "cell_type": "code",
   "execution_count": 42,
   "metadata": {},
   "outputs": [
    {
     "name": "stdout",
     "output_type": "stream",
     "text": [
      "76474.21075\n"
     ]
    }
   ],
   "source": [
    "print(results.mean())\n",
    "low_p = np.percentile(results, 5)\n",
    "high_p = np.percentile(results, 95)"
   ]
  },
  {
   "cell_type": "code",
   "execution_count": 43,
   "metadata": {},
   "outputs": [
    {
     "data": {
      "image/png": "[encoded data removed]",
      "text/plain": [
       "<Figure size 432x288 with 1 Axes>"
      ]
     },
     "metadata": {
      "needs_background": "light"
     },
     "output_type": "display_data"
    }
   ],
   "source": [
    "plt.hist(results, bins=20)\n",
    "plt.axvline(sample_20.mean(), color='r')\n",
    "plt.axvline(x=low_p, color='g')\n",
    "plt.axvline(x=high_p, color='g')\n",
    "plt.show()"
   ]
  }
 ],
 "metadata": {
  "kernelspec": {
   "display_name": "Python 3",
   "language": "python",
   "name": "python3"
  },
  "language_info": {
   "codemirror_mode": {
    "name": "ipython",
    "version": 3
   },
   "file_extension": ".py",
   "mimetype": "text/x-python",
   "name": "python",
   "nbconvert_exporter": "python",
   "pygments_lexer": "ipython3",
   "version": "3.8.5"
  }
 },
 "nbformat": 4,
 "nbformat_minor": 4
}
