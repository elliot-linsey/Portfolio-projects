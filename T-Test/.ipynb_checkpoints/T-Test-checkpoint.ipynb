{
 "cells": [
  {
   "cell_type": "code",
   "execution_count": 33,
   "metadata": {},
   "outputs": [],
   "source": [
    "from scipy import stats\n",
    "from matplotlib import pyplot as plt\n",
    "import numpy as np\n",
    "import pandas as pd"
   ]
  },
  {
   "cell_type": "markdown",
   "metadata": {},
   "source": [
    "A T-Test is used to decide whether the differences between two sample sets of data are significantly different. The test can either be one or two-tailed and this is related to the question being asked. If you have 2 sets of grades from students and you ask \"Is class one significantly (higher or lower) to class 2\", then the test is one-tailed. If you ask \"Are the results between class one and two significantly different?\", then it would be two-tailed as it is open-ended, either class could be higher or lower. It also matters if the data is paired or unpaired, an example of paired would be the same persons height being measured at different ages, these values are related and connected due to being the same person at different times in their lives. Unpaired could be a comparison between two classes of students, as neither student is in both classes it does not matter the order of the data and whether they are grouped together or not, thus they are unpaired"
   ]
  },
  {
   "cell_type": "markdown",
   "metadata": {},
   "source": [
    "The tests that I have imported above are of either unpaired or paired (stats.ttest_ind and stats.ttest_rel), but they are both two-tailed so they work for open-ended questions. ttest_ind is independent, so unpaired and ttest_rel is related so paired. A t-test will result in a p-value (probability value) to determine whether the differences are significant. Within science, a p-value of less than 0.05 shows that the results have a more than 95% chance of being significant, this confidence interval is the most common however some may ask for a value of less than 0.01 for extreme certainty. For a t-test to work, both sample populations must have at least 10 samples, however they do not have to be the same size, this is a useful test for small sampling populations but the accuracy will improve with more samples."
   ]
  },
  {
   "cell_type": "markdown",
   "metadata": {},
   "source": [
    "I will run some t-tests on some data to get a sense of how they work. "
   ]
  },
  {
   "cell_type": "code",
   "execution_count": 10,
   "metadata": {},
   "outputs": [],
   "source": [
    "grasshoppers = pd.DataFrame({\n",
    "    'Length': [15,17,24,22,19,22,16,20,24,17,15,23,21,17,19,24,20,19,16,15],\n",
    "    'Sex': ['Male', 'Male','Male','Male','Male','Male','Male','Male','Male','Male', \n",
    "            'Female','Female','Female','Female','Female','Female','Female','Female','Female','Female',]\n",
    "})"
   ]
  },
  {
   "cell_type": "code",
   "execution_count": 11,
   "metadata": {
    "scrolled": false
   },
   "outputs": [
    {
     "data": {
      "text/html": [
       "<div>\n",
       "<style scoped>\n",
       "    .dataframe tbody tr th:only-of-type {\n",
       "        vertical-align: middle;\n",
       "    }\n",
       "\n",
       "    .dataframe tbody tr th {\n",
       "        vertical-align: top;\n",
       "    }\n",
       "\n",
       "    .dataframe thead th {\n",
       "        text-align: right;\n",
       "    }\n",
       "</style>\n",
       "<table border=\"1\" class=\"dataframe\">\n",
       "  <thead>\n",
       "    <tr style=\"text-align: right;\">\n",
       "      <th></th>\n",
       "      <th>Length</th>\n",
       "      <th>Sex</th>\n",
       "    </tr>\n",
       "  </thead>\n",
       "  <tbody>\n",
       "    <tr>\n",
       "      <th>0</th>\n",
       "      <td>15</td>\n",
       "      <td>Male</td>\n",
       "    </tr>\n",
       "    <tr>\n",
       "      <th>1</th>\n",
       "      <td>17</td>\n",
       "      <td>Male</td>\n",
       "    </tr>\n",
       "    <tr>\n",
       "      <th>2</th>\n",
       "      <td>24</td>\n",
       "      <td>Male</td>\n",
       "    </tr>\n",
       "    <tr>\n",
       "      <th>3</th>\n",
       "      <td>22</td>\n",
       "      <td>Male</td>\n",
       "    </tr>\n",
       "    <tr>\n",
       "      <th>4</th>\n",
       "      <td>19</td>\n",
       "      <td>Male</td>\n",
       "    </tr>\n",
       "    <tr>\n",
       "      <th>5</th>\n",
       "      <td>22</td>\n",
       "      <td>Male</td>\n",
       "    </tr>\n",
       "    <tr>\n",
       "      <th>6</th>\n",
       "      <td>16</td>\n",
       "      <td>Male</td>\n",
       "    </tr>\n",
       "    <tr>\n",
       "      <th>7</th>\n",
       "      <td>20</td>\n",
       "      <td>Male</td>\n",
       "    </tr>\n",
       "    <tr>\n",
       "      <th>8</th>\n",
       "      <td>24</td>\n",
       "      <td>Male</td>\n",
       "    </tr>\n",
       "    <tr>\n",
       "      <th>9</th>\n",
       "      <td>17</td>\n",
       "      <td>Male</td>\n",
       "    </tr>\n",
       "    <tr>\n",
       "      <th>10</th>\n",
       "      <td>15</td>\n",
       "      <td>Female</td>\n",
       "    </tr>\n",
       "    <tr>\n",
       "      <th>11</th>\n",
       "      <td>23</td>\n",
       "      <td>Female</td>\n",
       "    </tr>\n",
       "    <tr>\n",
       "      <th>12</th>\n",
       "      <td>21</td>\n",
       "      <td>Female</td>\n",
       "    </tr>\n",
       "    <tr>\n",
       "      <th>13</th>\n",
       "      <td>17</td>\n",
       "      <td>Female</td>\n",
       "    </tr>\n",
       "    <tr>\n",
       "      <th>14</th>\n",
       "      <td>19</td>\n",
       "      <td>Female</td>\n",
       "    </tr>\n",
       "    <tr>\n",
       "      <th>15</th>\n",
       "      <td>24</td>\n",
       "      <td>Female</td>\n",
       "    </tr>\n",
       "    <tr>\n",
       "      <th>16</th>\n",
       "      <td>20</td>\n",
       "      <td>Female</td>\n",
       "    </tr>\n",
       "    <tr>\n",
       "      <th>17</th>\n",
       "      <td>19</td>\n",
       "      <td>Female</td>\n",
       "    </tr>\n",
       "    <tr>\n",
       "      <th>18</th>\n",
       "      <td>16</td>\n",
       "      <td>Female</td>\n",
       "    </tr>\n",
       "    <tr>\n",
       "      <th>19</th>\n",
       "      <td>15</td>\n",
       "      <td>Female</td>\n",
       "    </tr>\n",
       "  </tbody>\n",
       "</table>\n",
       "</div>"
      ],
      "text/plain": [
       "    Length     Sex\n",
       "0       15    Male\n",
       "1       17    Male\n",
       "2       24    Male\n",
       "3       22    Male\n",
       "4       19    Male\n",
       "5       22    Male\n",
       "6       16    Male\n",
       "7       20    Male\n",
       "8       24    Male\n",
       "9       17    Male\n",
       "10      15  Female\n",
       "11      23  Female\n",
       "12      21  Female\n",
       "13      17  Female\n",
       "14      19  Female\n",
       "15      24  Female\n",
       "16      20  Female\n",
       "17      19  Female\n",
       "18      16  Female\n",
       "19      15  Female"
      ]
     },
     "execution_count": 11,
     "metadata": {},
     "output_type": "execute_result"
    }
   ],
   "source": [
    "grasshoppers"
   ]
  },
  {
   "cell_type": "markdown",
   "metadata": {},
   "source": [
    "I've split the above dataframe into the lengths of the grasshoppers based on sex to see if there is a significant difference between them. As we can see they have very similar means, but are they signficantly different?"
   ]
  },
  {
   "cell_type": "code",
   "execution_count": 29,
   "metadata": {},
   "outputs": [
    {
     "name": "stdout",
     "output_type": "stream",
     "text": [
      "0    15\n",
      "1    17\n",
      "2    24\n",
      "3    22\n",
      "4    19\n",
      "5    22\n",
      "6    16\n",
      "7    20\n",
      "8    24\n",
      "9    17\n",
      "Name: Length, dtype: int64\n",
      "19.6\n"
     ]
    }
   ],
   "source": [
    "males = grasshoppers[(grasshoppers['Sex'] == 'Male')]\n",
    "males = males['Length']\n",
    "print(males)\n",
    "print(males.mean())"
   ]
  },
  {
   "cell_type": "code",
   "execution_count": 30,
   "metadata": {
    "scrolled": false
   },
   "outputs": [
    {
     "name": "stdout",
     "output_type": "stream",
     "text": [
      "10    15\n",
      "11    23\n",
      "12    21\n",
      "13    17\n",
      "14    19\n",
      "15    24\n",
      "16    20\n",
      "17    19\n",
      "18    16\n",
      "19    15\n",
      "Name: Length, dtype: int64\n",
      "18.9\n"
     ]
    }
   ],
   "source": [
    "females = grasshoppers[(grasshoppers['Sex'] == 'Female')]\n",
    "females = females['Length']\n",
    "print(females)\n",
    "print(females.mean())"
   ]
  },
  {
   "cell_type": "markdown",
   "metadata": {},
   "source": [
    "Here I run the independent t-test as the samples are unpaired, it results in a pvalue of 0.635 which is a 63.5% chance that the results are not significant or a 36.5% chance that they are significant which is not high enough to be scientific. "
   ]
  },
  {
   "cell_type": "code",
   "execution_count": 34,
   "metadata": {
    "scrolled": false
   },
   "outputs": [
    {
     "data": {
      "text/plain": [
       "Ttest_indResult(statistic=0.48266297757416876, pvalue=0.6351527881055652)"
      ]
     },
     "execution_count": 34,
     "metadata": {},
     "output_type": "execute_result"
    }
   ],
   "source": [
    "stats.ttest_ind(males, females)"
   ]
  },
  {
   "cell_type": "markdown",
   "metadata": {},
   "source": [
    "Here I have an example of paired data, as this is comparing the heights of named individuals at different ages, thus the data is related so we use stats.ttest_rel. We can also see that the means are very different, however, is this significant?"
   ]
  },
  {
   "cell_type": "code",
   "execution_count": 36,
   "metadata": {},
   "outputs": [
    {
     "data": {
      "text/html": [
       "<div>\n",
       "<style scoped>\n",
       "    .dataframe tbody tr th:only-of-type {\n",
       "        vertical-align: middle;\n",
       "    }\n",
       "\n",
       "    .dataframe tbody tr th {\n",
       "        vertical-align: top;\n",
       "    }\n",
       "\n",
       "    .dataframe thead th {\n",
       "        text-align: right;\n",
       "    }\n",
       "</style>\n",
       "<table border=\"1\" class=\"dataframe\">\n",
       "  <thead>\n",
       "    <tr style=\"text-align: right;\">\n",
       "      <th></th>\n",
       "      <th>Name</th>\n",
       "      <th>Age at 5</th>\n",
       "      <th>Age at 15</th>\n",
       "    </tr>\n",
       "  </thead>\n",
       "  <tbody>\n",
       "    <tr>\n",
       "      <th>0</th>\n",
       "      <td>Elliot</td>\n",
       "      <td>65</td>\n",
       "      <td>150</td>\n",
       "    </tr>\n",
       "    <tr>\n",
       "      <th>1</th>\n",
       "      <td>Steve</td>\n",
       "      <td>58</td>\n",
       "      <td>135</td>\n",
       "    </tr>\n",
       "    <tr>\n",
       "      <th>2</th>\n",
       "      <td>Joss</td>\n",
       "      <td>54</td>\n",
       "      <td>178</td>\n",
       "    </tr>\n",
       "    <tr>\n",
       "      <th>3</th>\n",
       "      <td>Abbie</td>\n",
       "      <td>69</td>\n",
       "      <td>147</td>\n",
       "    </tr>\n",
       "    <tr>\n",
       "      <th>4</th>\n",
       "      <td>Wendy</td>\n",
       "      <td>75</td>\n",
       "      <td>137</td>\n",
       "    </tr>\n",
       "    <tr>\n",
       "      <th>5</th>\n",
       "      <td>Halle</td>\n",
       "      <td>53</td>\n",
       "      <td>155</td>\n",
       "    </tr>\n",
       "    <tr>\n",
       "      <th>6</th>\n",
       "      <td>Milo</td>\n",
       "      <td>49</td>\n",
       "      <td>173</td>\n",
       "    </tr>\n",
       "    <tr>\n",
       "      <th>7</th>\n",
       "      <td>Emma</td>\n",
       "      <td>73</td>\n",
       "      <td>129</td>\n",
       "    </tr>\n",
       "    <tr>\n",
       "      <th>8</th>\n",
       "      <td>Nigel</td>\n",
       "      <td>56</td>\n",
       "      <td>144</td>\n",
       "    </tr>\n",
       "    <tr>\n",
       "      <th>9</th>\n",
       "      <td>Peter</td>\n",
       "      <td>67</td>\n",
       "      <td>168</td>\n",
       "    </tr>\n",
       "  </tbody>\n",
       "</table>\n",
       "</div>"
      ],
      "text/plain": [
       "     Name  Age at 5  Age at 15\n",
       "0  Elliot        65        150\n",
       "1   Steve        58        135\n",
       "2    Joss        54        178\n",
       "3   Abbie        69        147\n",
       "4   Wendy        75        137\n",
       "5   Halle        53        155\n",
       "6    Milo        49        173\n",
       "7    Emma        73        129\n",
       "8   Nigel        56        144\n",
       "9   Peter        67        168"
      ]
     },
     "execution_count": 36,
     "metadata": {},
     "output_type": "execute_result"
    }
   ],
   "source": [
    "year_height_diff = pd.DataFrame({\n",
    "    'Name': ['Elliot', 'Steve', 'Joss', 'Abbie', 'Wendy', 'Halle', 'Milo', 'Emma', 'Nigel', 'Peter'],\n",
    "    'Age at 5': [65,58,54,69,75,53,49,73,56,67],\n",
    "    'Age at 15': [150,135,178,147,137,155,173,129,144,168]\n",
    "})\n",
    "year_height_diff"
   ]
  },
  {
   "cell_type": "code",
   "execution_count": 37,
   "metadata": {},
   "outputs": [
    {
     "name": "stdout",
     "output_type": "stream",
     "text": [
      "61.9\n",
      "151.6\n"
     ]
    }
   ],
   "source": [
    "print(year_height_diff['Age at 5'].mean())\n",
    "print(year_height_diff['Age at 15'].mean())"
   ]
  },
  {
   "cell_type": "markdown",
   "metadata": {},
   "source": [
    "Running the t-test results in a very small pvalue far below the threshold of 0.05. Therefore the results are statistically significant!"
   ]
  },
  {
   "cell_type": "code",
   "execution_count": 38,
   "metadata": {},
   "outputs": [
    {
     "name": "stdout",
     "output_type": "stream",
     "text": [
      "Ttest_relResult(statistic=-12.209010653171209, pvalue=6.645772210450116e-07)\n"
     ]
    }
   ],
   "source": [
    "print(stats.ttest_rel(year_height_diff['Age at 5'], year_height_diff['Age at 15']))"
   ]
  },
  {
   "cell_type": "markdown",
   "metadata": {},
   "source": [
    "In conclusion, we have investigated what situations a t-test could be used for and also the different parameters such as unpaired and paired, one or two-tailed and the confidence thresholds required for a result to be statistically significant. This method is an attempt to stop us relying on location estimates such as means to generalize an answer between two sets of data and instead have an empirically backed number to tell us whether the differences are legitimate or due to random chance.   "
   ]
  }
 ],
 "metadata": {
  "kernelspec": {
   "display_name": "Python 3",
   "language": "python",
   "name": "python3"
  },
  "language_info": {
   "codemirror_mode": {
    "name": "ipython",
    "version": 3
   },
   "file_extension": ".py",
   "mimetype": "text/x-python",
   "name": "python",
   "nbconvert_exporter": "python",
   "pygments_lexer": "ipython3",
   "version": "3.8.8"
  }
 },
 "nbformat": 4,
 "nbformat_minor": 4
}
