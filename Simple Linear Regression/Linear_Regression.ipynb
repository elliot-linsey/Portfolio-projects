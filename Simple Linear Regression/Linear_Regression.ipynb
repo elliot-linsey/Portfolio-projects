{
 "cells": [
  {
   "cell_type": "code",
   "execution_count": 1,
   "metadata": {},
   "outputs": [],
   "source": [
    "import pandas as pd\n",
    "import math\n",
    "from matplotlib import pyplot as plt\n",
    "import seaborn as sns\n",
    "import numpy as np"
   ]
  },
  {
   "cell_type": "markdown",
   "metadata": {},
   "source": [
    "Within this document I will be demonstrating simple linear regression. Firstly, we start off with a basic dataset of 10 rows, we shall investigate whether they are positively correlated, negatively correlated or have no correlation. The variables are 'Age' and 'Yearly_Income' and the assumption we are investigating is whether with higher age comes higher income. In this case, age is the independent variable and yearly income the dependent variable. If we slot this into the linear regression formula y = B0 + B1x, yearly income = B0 + (B1*age). B0 represents the intercept which is where the line cuts the y-axis. B1 represents the slope of the line, so for every value of x, how many values does y increase. Y and X represent their respective variables."
   ]
  },
  {
   "cell_type": "markdown",
   "metadata": {},
   "source": [
    "![alt text](Linear_Regression_Formula.png \"Linear Regression Formula\")"
   ]
  },
  {
   "cell_type": "code",
   "execution_count": 2,
   "metadata": {
    "scrolled": true
   },
   "outputs": [
    {
     "data": {
      "text/html": [
       "<div>\n",
       "<style scoped>\n",
       "    .dataframe tbody tr th:only-of-type {\n",
       "        vertical-align: middle;\n",
       "    }\n",
       "\n",
       "    .dataframe tbody tr th {\n",
       "        vertical-align: top;\n",
       "    }\n",
       "\n",
       "    .dataframe thead th {\n",
       "        text-align: right;\n",
       "    }\n",
       "</style>\n",
       "<table border=\"1\" class=\"dataframe\">\n",
       "  <thead>\n",
       "    <tr style=\"text-align: right;\">\n",
       "      <th></th>\n",
       "      <th>Age</th>\n",
       "      <th>Yearly_Income</th>\n",
       "    </tr>\n",
       "  </thead>\n",
       "  <tbody>\n",
       "    <tr>\n",
       "      <th>0</th>\n",
       "      <td>18</td>\n",
       "      <td>15000</td>\n",
       "    </tr>\n",
       "    <tr>\n",
       "      <th>1</th>\n",
       "      <td>25</td>\n",
       "      <td>29000</td>\n",
       "    </tr>\n",
       "    <tr>\n",
       "      <th>2</th>\n",
       "      <td>57</td>\n",
       "      <td>68000</td>\n",
       "    </tr>\n",
       "    <tr>\n",
       "      <th>3</th>\n",
       "      <td>45</td>\n",
       "      <td>52000</td>\n",
       "    </tr>\n",
       "    <tr>\n",
       "      <th>4</th>\n",
       "      <td>26</td>\n",
       "      <td>32000</td>\n",
       "    </tr>\n",
       "    <tr>\n",
       "      <th>5</th>\n",
       "      <td>64</td>\n",
       "      <td>80000</td>\n",
       "    </tr>\n",
       "    <tr>\n",
       "      <th>6</th>\n",
       "      <td>37</td>\n",
       "      <td>41000</td>\n",
       "    </tr>\n",
       "    <tr>\n",
       "      <th>7</th>\n",
       "      <td>40</td>\n",
       "      <td>45000</td>\n",
       "    </tr>\n",
       "    <tr>\n",
       "      <th>8</th>\n",
       "      <td>24</td>\n",
       "      <td>26000</td>\n",
       "    </tr>\n",
       "    <tr>\n",
       "      <th>9</th>\n",
       "      <td>33</td>\n",
       "      <td>33000</td>\n",
       "    </tr>\n",
       "  </tbody>\n",
       "</table>\n",
       "</div>"
      ],
      "text/plain": [
       "   Age  Yearly_Income\n",
       "0   18          15000\n",
       "1   25          29000\n",
       "2   57          68000\n",
       "3   45          52000\n",
       "4   26          32000\n",
       "5   64          80000\n",
       "6   37          41000\n",
       "7   40          45000\n",
       "8   24          26000\n",
       "9   33          33000"
      ]
     },
     "execution_count": 2,
     "metadata": {},
     "output_type": "execute_result"
    }
   ],
   "source": [
    "#Constructing the dataset\n",
    "df = pd.DataFrame({'Age': [18,25,57,45,26,64,37,40,24,33], 'Yearly_Income':\n",
    "                  [15000, 29000,68000,52000,32000,80000,41000,45000,26000,33000]})\n",
    "df"
   ]
  },
  {
   "cell_type": "markdown",
   "metadata": {},
   "source": [
    "Here is a scatter graph of our dataset, what we want to achieve is a line drawn through all the points with the least amount of error. If done correctly and the data is correlated, we can use this line to predict values along the Y and X axis to an accurate degree."
   ]
  },
  {
   "cell_type": "code",
   "execution_count": 3,
   "metadata": {
    "scrolled": false
   },
   "outputs": [
    {
     "data": {
      "image/png": "[encoded data removed]",
      "text/plain": [
       "<Figure size 432x288 with 1 Axes>"
      ]
     },
     "metadata": {
      "needs_background": "light"
     },
     "output_type": "display_data"
    }
   ],
   "source": [
    "sns.scatterplot(data=df, x='Age', y='Yearly_Income')\n",
    "plt.show()"
   ]
  },
  {
   "cell_type": "markdown",
   "metadata": {},
   "source": [
    "Firstly, let's calculate B1. The formula for this is r * (Sy/Sx) which stands for Pearson's correlation coefficient * (standard deviation of y/standard deviation of x) "
   ]
  },
  {
   "cell_type": "markdown",
   "metadata": {},
   "source": [
    "This is the formula for Pearson's correlation coefficient:\n",
    "![alt text](comp_formula.gif \"Pearson's R Formula\")\\\n",
    "It looks daunting but we will fill this in bit by bit."
   ]
  },
  {
   "cell_type": "code",
   "execution_count": 4,
   "metadata": {},
   "outputs": [
    {
     "name": "stdout",
     "output_type": "stream",
     "text": [
      "15629\n",
      "21289000000\n"
     ]
    },
    {
     "data": {
      "text/html": [
       "<div>\n",
       "<style scoped>\n",
       "    .dataframe tbody tr th:only-of-type {\n",
       "        vertical-align: middle;\n",
       "    }\n",
       "\n",
       "    .dataframe tbody tr th {\n",
       "        vertical-align: top;\n",
       "    }\n",
       "\n",
       "    .dataframe thead th {\n",
       "        text-align: right;\n",
       "    }\n",
       "</style>\n",
       "<table border=\"1\" class=\"dataframe\">\n",
       "  <thead>\n",
       "    <tr style=\"text-align: right;\">\n",
       "      <th></th>\n",
       "      <th>Age</th>\n",
       "      <th>Yearly_Income</th>\n",
       "      <th>xs_squared</th>\n",
       "      <th>ys_squared</th>\n",
       "    </tr>\n",
       "  </thead>\n",
       "  <tbody>\n",
       "    <tr>\n",
       "      <th>0</th>\n",
       "      <td>18</td>\n",
       "      <td>15000</td>\n",
       "      <td>324</td>\n",
       "      <td>225000000</td>\n",
       "    </tr>\n",
       "    <tr>\n",
       "      <th>1</th>\n",
       "      <td>25</td>\n",
       "      <td>29000</td>\n",
       "      <td>625</td>\n",
       "      <td>841000000</td>\n",
       "    </tr>\n",
       "    <tr>\n",
       "      <th>2</th>\n",
       "      <td>57</td>\n",
       "      <td>68000</td>\n",
       "      <td>3249</td>\n",
       "      <td>4624000000</td>\n",
       "    </tr>\n",
       "    <tr>\n",
       "      <th>3</th>\n",
       "      <td>45</td>\n",
       "      <td>52000</td>\n",
       "      <td>2025</td>\n",
       "      <td>2704000000</td>\n",
       "    </tr>\n",
       "    <tr>\n",
       "      <th>4</th>\n",
       "      <td>26</td>\n",
       "      <td>32000</td>\n",
       "      <td>676</td>\n",
       "      <td>1024000000</td>\n",
       "    </tr>\n",
       "    <tr>\n",
       "      <th>5</th>\n",
       "      <td>64</td>\n",
       "      <td>80000</td>\n",
       "      <td>4096</td>\n",
       "      <td>6400000000</td>\n",
       "    </tr>\n",
       "    <tr>\n",
       "      <th>6</th>\n",
       "      <td>37</td>\n",
       "      <td>41000</td>\n",
       "      <td>1369</td>\n",
       "      <td>1681000000</td>\n",
       "    </tr>\n",
       "    <tr>\n",
       "      <th>7</th>\n",
       "      <td>40</td>\n",
       "      <td>45000</td>\n",
       "      <td>1600</td>\n",
       "      <td>2025000000</td>\n",
       "    </tr>\n",
       "    <tr>\n",
       "      <th>8</th>\n",
       "      <td>24</td>\n",
       "      <td>26000</td>\n",
       "      <td>576</td>\n",
       "      <td>676000000</td>\n",
       "    </tr>\n",
       "    <tr>\n",
       "      <th>9</th>\n",
       "      <td>33</td>\n",
       "      <td>33000</td>\n",
       "      <td>1089</td>\n",
       "      <td>1089000000</td>\n",
       "    </tr>\n",
       "  </tbody>\n",
       "</table>\n",
       "</div>"
      ],
      "text/plain": [
       "   Age  Yearly_Income  xs_squared  ys_squared\n",
       "0   18          15000         324   225000000\n",
       "1   25          29000         625   841000000\n",
       "2   57          68000        3249  4624000000\n",
       "3   45          52000        2025  2704000000\n",
       "4   26          32000         676  1024000000\n",
       "5   64          80000        4096  6400000000\n",
       "6   37          41000        1369  1681000000\n",
       "7   40          45000        1600  2025000000\n",
       "8   24          26000         576   676000000\n",
       "9   33          33000        1089  1089000000"
      ]
     },
     "execution_count": 4,
     "metadata": {},
     "output_type": "execute_result"
    }
   ],
   "source": [
    "#Here we create a column that simply squares each value in the Age column\n",
    "df['xs_squared'] = df.Age**2\n",
    "#We then sum all the values of this column. This gives us Sigma x_squared in the formula above.\n",
    "xs_squared = df['xs_squared'].sum()\n",
    "print(xs_squared)\n",
    "\n",
    "#We repeat the above process for Yearly_Income, this gives us Sigma y_squared in the formula above.\n",
    "df['ys_squared'] = df.Yearly_Income**2\n",
    "ys_squared = df['ys_squared'].sum()\n",
    "print(ys_squared)\n",
    "df"
   ]
  },
  {
   "cell_type": "markdown",
   "metadata": {},
   "source": [
    "Next, let's find the values of (Sigma x)squared and (Sigma y)squared."
   ]
  },
  {
   "cell_type": "code",
   "execution_count": 5,
   "metadata": {},
   "outputs": [
    {
     "name": "stdout",
     "output_type": "stream",
     "text": [
      "136161\n",
      "177241000000\n"
     ]
    }
   ],
   "source": [
    "#These just sum up all the values within the columns, then squares the result.\n",
    "xsquared = sum(df.Age)**2\n",
    "print(xsquared)\n",
    "ysquared = sum(df.Yearly_Income)**2\n",
    "print(ysquared)"
   ]
  },
  {
   "cell_type": "markdown",
   "metadata": {},
   "source": [
    "Lastly, let's figure out the top line. Sigma X and Sigma Y are just the sums of their corresponding columns"
   ]
  },
  {
   "cell_type": "code",
   "execution_count": 6,
   "metadata": {},
   "outputs": [
    {
     "name": "stdout",
     "output_type": "stream",
     "text": [
      "369\n",
      "421000\n"
     ]
    }
   ],
   "source": [
    "#Sigma X and Sigma Y\n",
    "age_sum = sum(df.Age)\n",
    "income_sum = sum(df.Yearly_Income)\n",
    "print(age_sum)\n",
    "print(income_sum)"
   ]
  },
  {
   "cell_type": "markdown",
   "metadata": {},
   "source": [
    "Sigma XY is multiplying the first row of Age by the first row of Y, saving that result then continuing so forth down the rows and summing all the resulting values."
   ]
  },
  {
   "cell_type": "code",
   "execution_count": 7,
   "metadata": {},
   "outputs": [
    {
     "name": "stdout",
     "output_type": "stream",
     "text": [
      "18193000\n"
     ]
    }
   ],
   "source": [
    "age_income = sum(df.Age*df.Yearly_Income)\n",
    "print(age_income)"
   ]
  },
  {
   "cell_type": "markdown",
   "metadata": {},
   "source": [
    "N equals the number of samples, of which we have 10.\\\n",
    "Now we have all the requirements for the formula, let's plug them in."
   ]
  },
  {
   "cell_type": "code",
   "execution_count": 8,
   "metadata": {},
   "outputs": [
    {
     "name": "stdout",
     "output_type": "stream",
     "text": [
      "0.9922852587629405\n"
     ]
    }
   ],
   "source": [
    "r = (age_income - ((age_sum*income_sum)/len(df.Age)))/((math.sqrt(xs_squared-(xsquared/len(df.Age))))*(math.sqrt(ys_squared-(ysquared/len(df.Age)))))\n",
    "print(r)"
   ]
  },
  {
   "cell_type": "markdown",
   "metadata": {},
   "source": [
    "We can also check using the inbuilt corr() function. This shows an extremely positive correlation between Age and Yearly Income, as Age increases so does Income. 1 is the most positive correlation you can achieve, -1 is the most negative and 0 is no correlation between variables."
   ]
  },
  {
   "cell_type": "code",
   "execution_count": 9,
   "metadata": {},
   "outputs": [
    {
     "name": "stdout",
     "output_type": "stream",
     "text": [
      "0.9922852587629404\n"
     ]
    }
   ],
   "source": [
    "print(df['Age'].corr(df['Yearly_Income']))"
   ]
  },
  {
   "cell_type": "markdown",
   "metadata": {},
   "source": [
    "Now we have r we can return to our formula for B1 which is r * (Sy/Sx)."
   ]
  },
  {
   "cell_type": "code",
   "execution_count": 10,
   "metadata": {},
   "outputs": [
    {
     "name": "stdout",
     "output_type": "stream",
     "text": [
      "18880.942773071478 14.187670703818863\n"
     ]
    }
   ],
   "source": [
    "#Using numpy to calculate that standard deviations of Y and X\n",
    "Sy = np.std(df.Yearly_Income)\n",
    "Sx = np.std(df.Age)\n",
    "print(Sy, Sx)"
   ]
  },
  {
   "cell_type": "markdown",
   "metadata": {},
   "source": [
    "Slotting these into our formula gives:"
   ]
  },
  {
   "cell_type": "code",
   "execution_count": 11,
   "metadata": {},
   "outputs": [
    {
     "name": "stdout",
     "output_type": "stream",
     "text": [
      "1320.5325649560339\n"
     ]
    }
   ],
   "source": [
    "B1 = r*(Sy/Sx)\n",
    "print(B1)"
   ]
  },
  {
   "cell_type": "markdown",
   "metadata": {},
   "source": [
    "So our slope is equal to 1320.532. For every 1 value that Age moves along, Yearly Income moves by 1320.532.\\\n",
    "To figure out B0 is easier now we have this value. The formula for B0 is (mean of y) - (B1 * mean of x)."
   ]
  },
  {
   "cell_type": "code",
   "execution_count": 12,
   "metadata": {},
   "outputs": [
    {
     "name": "stdout",
     "output_type": "stream",
     "text": [
      "-6627.651646877646\n"
     ]
    }
   ],
   "source": [
    "B0 = (np.mean(df.Yearly_Income)) - (B1 * np.mean(df.Age))\n",
    "print(B0)"
   ]
  },
  {
   "cell_type": "markdown",
   "metadata": {},
   "source": [
    "Here we can see that the Y intercept is actually a negative number, this is because as Age gets lower so will Yearly Income as they are positively correlated. However, due to the nature of this Y will eventually become negative as X gets closer to zero, in realistic terms we know that a zero year old person cannot earn less than 0 dollars and so this is ignored. "
   ]
  },
  {
   "cell_type": "markdown",
   "metadata": {},
   "source": [
    "Now that we have all the values, we can input them into our formula:\\\n",
    "y = -6627.651 + (1320.532 * x)"
   ]
  },
  {
   "cell_type": "markdown",
   "metadata": {},
   "source": [
    "Our maximum age is 64, but we can now predict values above this value using the formula. However, let's say the retirement age is 65 in this scenario and we're only interested in this populations active working income. Let's also set our lower boundary as 18 due to it being the youngest working age in this population.\\\n",
    "We can calculate the Y values by inputting 64 and 18 into our formula:"
   ]
  },
  {
   "cell_type": "code",
   "execution_count": 13,
   "metadata": {},
   "outputs": [
    {
     "name": "stdout",
     "output_type": "stream",
     "text": [
      "77886.397\n",
      "17141.924999999996\n"
     ]
    }
   ],
   "source": [
    "#Inputting 64 into our formula\n",
    "print(-6627.651 + (1320.532*64))\n",
    "print(-6627.651 + (1320.532*18))"
   ]
  },
  {
   "cell_type": "markdown",
   "metadata": {},
   "source": [
    "With these numbers, we can plot a straight line from these two points onto our scatter plot.\\\n"
   ]
  },
  {
   "cell_type": "code",
   "execution_count": 14,
   "metadata": {},
   "outputs": [
    {
     "data": {
      "image/png": "[encoded data removed]",
      "text/plain": [
       "<Figure size 432x288 with 1 Axes>"
      ]
     },
     "metadata": {
      "needs_background": "light"
     },
     "output_type": "display_data"
    }
   ],
   "source": [
    "#plotting the scatter plot\n",
    "sns.scatterplot(data=df, x='Age', y='Yearly_Income')\n",
    "#plotting the line, [18,64] are the x coordinates and [17141.924, 77886.397] are the Y coordinates\n",
    "plt.plot([18,64], [17141.924, 77886.397])\n",
    "plt.show()"
   ]
  },
  {
   "cell_type": "markdown",
   "metadata": {},
   "source": [
    "This line is our best fitting line to the available data, using it we can predict any value for Yearly Income from whatever age we choose.\\\n",
    "Notice that the Y result we got for 64 (77886.397) is different to the actual value in our data for 64 which was 80000 dollars. Due to the fact that the line is attempting to minimize error amongst all the points, it is very unlikely it will actually be exactly the same as a specific value."
   ]
  },
  {
   "cell_type": "markdown",
   "metadata": {},
   "source": [
    "Thank you for reading my work on simple linear regression. This method involves a lot of mathematics primarily in working out Pearson's correlation coefficient, once this has been deduced the rest of the pieces fall into place quite readily. "
   ]
  },
  {
   "cell_type": "markdown",
   "metadata": {},
   "source": [
    "Elliot Linsey QMUL 2021"
   ]
  }
 ],
 "metadata": {
  "interpreter": {
   "hash": "68e5eec871f4a0b113878d9d8f753a0df0ad6db7c0ea5b0051ec16ab875e30ce"
  },
  "kernelspec": {
   "display_name": "Python 3",
   "language": "python",
   "name": "python3"
  },
  "language_info": {
   "codemirror_mode": {
    "name": "ipython",
    "version": 3
   },
   "file_extension": ".py",
   "mimetype": "text/x-python",
   "name": "python",
   "nbconvert_exporter": "python",
   "pygments_lexer": "ipython3",
   "version": "3.8.5"
  }
 },
 "nbformat": 4,
 "nbformat_minor": 2
}
