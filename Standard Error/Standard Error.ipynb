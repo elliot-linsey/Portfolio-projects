{
 "cells": [
  {
   "cell_type": "code",
   "execution_count": 12,
   "source": [
    "import pandas as pd\r\n",
    "import numpy as np"
   ],
   "outputs": [],
   "metadata": {}
  },
  {
   "cell_type": "markdown",
   "source": [
    "Standard deviation is the spread of how far the values are from the mean. The higher the standard deviation, the more spread out the values are.\\\n",
    "The standard deviation of the means (plural) is the standard error. Let me explain."
   ],
   "metadata": {}
  },
  {
   "cell_type": "markdown",
   "source": [
    "If you have a group of 5 mice and weigh them, there will be a mean as well as a standard deviation value, that shows how spread out the values are from the mean.\\\n",
    "If you repeat this experiment with 4 other groups of different mice, you will have 4 other means as well as 4 other standard deviation values (these are not important).\\\n",
    "The standard error is simply the standard deviation of these 5 resulting means."
   ],
   "metadata": {}
  },
  {
   "cell_type": "code",
   "execution_count": 13,
   "source": [
    "df = pd.DataFrame({\r\n",
    "    'Mouse 1': [5,10,7,12,9],\r\n",
    "    'Mouse 2': [7,14,16,8,7],\r\n",
    "    'Mouse 3': [8,4,6,13,18],\r\n",
    "    'Mouse 4': [17,15,6,13,8],\r\n",
    "    'Mouse 5': [14,8,9,15,16],\r\n",
    "})"
   ],
   "outputs": [],
   "metadata": {}
  },
  {
   "cell_type": "code",
   "execution_count": 14,
   "source": [
    "df"
   ],
   "outputs": [
    {
     "output_type": "execute_result",
     "data": {
      "text/html": [
       "<div>\n",
       "<style scoped>\n",
       "    .dataframe tbody tr th:only-of-type {\n",
       "        vertical-align: middle;\n",
       "    }\n",
       "\n",
       "    .dataframe tbody tr th {\n",
       "        vertical-align: top;\n",
       "    }\n",
       "\n",
       "    .dataframe thead th {\n",
       "        text-align: right;\n",
       "    }\n",
       "</style>\n",
       "<table border=\"1\" class=\"dataframe\">\n",
       "  <thead>\n",
       "    <tr style=\"text-align: right;\">\n",
       "      <th></th>\n",
       "      <th>Mouse 1</th>\n",
       "      <th>Mouse 2</th>\n",
       "      <th>Mouse 3</th>\n",
       "      <th>Mouse 4</th>\n",
       "      <th>Mouse 5</th>\n",
       "    </tr>\n",
       "  </thead>\n",
       "  <tbody>\n",
       "    <tr>\n",
       "      <th>0</th>\n",
       "      <td>5</td>\n",
       "      <td>7</td>\n",
       "      <td>8</td>\n",
       "      <td>17</td>\n",
       "      <td>14</td>\n",
       "    </tr>\n",
       "    <tr>\n",
       "      <th>1</th>\n",
       "      <td>10</td>\n",
       "      <td>14</td>\n",
       "      <td>4</td>\n",
       "      <td>15</td>\n",
       "      <td>8</td>\n",
       "    </tr>\n",
       "    <tr>\n",
       "      <th>2</th>\n",
       "      <td>7</td>\n",
       "      <td>16</td>\n",
       "      <td>6</td>\n",
       "      <td>6</td>\n",
       "      <td>9</td>\n",
       "    </tr>\n",
       "    <tr>\n",
       "      <th>3</th>\n",
       "      <td>12</td>\n",
       "      <td>8</td>\n",
       "      <td>13</td>\n",
       "      <td>13</td>\n",
       "      <td>15</td>\n",
       "    </tr>\n",
       "    <tr>\n",
       "      <th>4</th>\n",
       "      <td>9</td>\n",
       "      <td>7</td>\n",
       "      <td>18</td>\n",
       "      <td>8</td>\n",
       "      <td>16</td>\n",
       "    </tr>\n",
       "  </tbody>\n",
       "</table>\n",
       "</div>"
      ],
      "text/plain": [
       "   Mouse 1  Mouse 2  Mouse 3  Mouse 4  Mouse 5\n",
       "0        5        7        8       17       14\n",
       "1       10       14        4       15        8\n",
       "2        7       16        6        6        9\n",
       "3       12        8       13       13       15\n",
       "4        9        7       18        8       16"
      ]
     },
     "metadata": {},
     "execution_count": 14
    }
   ],
   "metadata": {}
  },
  {
   "cell_type": "code",
   "execution_count": 15,
   "source": [
    "mean_1 = df['Mouse 1'].mean()\r\n",
    "mean_2 = df['Mouse 2'].mean()\r\n",
    "mean_3 = df['Mouse 3'].mean()\r\n",
    "mean_4 = df['Mouse 4'].mean()\r\n",
    "mean_5 = df['Mouse 5'].mean()"
   ],
   "outputs": [],
   "metadata": {}
  },
  {
   "cell_type": "code",
   "execution_count": 16,
   "source": [
    "print(f'Mean 1 = {mean_1}')\r\n",
    "print(f'Mean 2 = {mean_2}')\r\n",
    "print(f'Mean 3 = {mean_3}')\r\n",
    "print(f'Mean 4 = {mean_4}')\r\n",
    "print(f'Mean 5 = {mean_5}')"
   ],
   "outputs": [
    {
     "output_type": "stream",
     "name": "stdout",
     "text": [
      "Mean 1 = 8.6\n",
      "Mean 2 = 10.4\n",
      "Mean 3 = 9.8\n",
      "Mean 4 = 11.8\n",
      "Mean 5 = 12.4\n"
     ]
    }
   ],
   "metadata": {
    "scrolled": true
   }
  },
  {
   "cell_type": "code",
   "execution_count": 17,
   "source": [
    "std_1 = df['Mouse 1'].std()\r\n",
    "std_2 = df['Mouse 2'].std()\r\n",
    "std_3 = df['Mouse 3'].std()\r\n",
    "std_4 = df['Mouse 4'].std()\r\n",
    "std_5 = df['Mouse 5'].std()"
   ],
   "outputs": [],
   "metadata": {}
  },
  {
   "cell_type": "code",
   "execution_count": 18,
   "source": [
    "print(f'Standard Deviation 1 = {std_1}')\r\n",
    "print(f'Standard Deviation 2 = {std_2}')\r\n",
    "print(f'Standard Deviation 3 = {std_3}')\r\n",
    "print(f'Standard Deviation 4 = {std_4}')\r\n",
    "print(f'Standard Deviation 5 = {std_5}')\r\n",
    "      "
   ],
   "outputs": [
    {
     "output_type": "stream",
     "name": "stdout",
     "text": [
      "Standard Deviation 1 = 2.701851217221259\n",
      "Standard Deviation 2 = 4.277849927241488\n",
      "Standard Deviation 3 = 5.674504383644443\n",
      "Standard Deviation 4 = 4.658325879540846\n",
      "Standard Deviation 5 = 3.646916505762094\n"
     ]
    }
   ],
   "metadata": {}
  },
  {
   "cell_type": "markdown",
   "source": [
    "Above we have 5 means of the experiments and 5 standard deviations. Some observations may include that fact that group 5 has the highest mean but one of the lowest standard deviations, or spread of values. Group 3 has one of the lowest means but the highest spread of values."
   ],
   "metadata": {}
  },
  {
   "cell_type": "code",
   "execution_count": 19,
   "source": [
    "means = pd.Series([mean_1, mean_2, mean_3, mean_4, mean_5])"
   ],
   "outputs": [],
   "metadata": {}
  },
  {
   "cell_type": "code",
   "execution_count": 20,
   "source": [
    "means"
   ],
   "outputs": [
    {
     "output_type": "execute_result",
     "data": {
      "text/plain": [
       "0     8.6\n",
       "1    10.4\n",
       "2     9.8\n",
       "3    11.8\n",
       "4    12.4\n",
       "dtype: float64"
      ]
     },
     "metadata": {},
     "execution_count": 20
    }
   ],
   "metadata": {}
  },
  {
   "cell_type": "code",
   "execution_count": 21,
   "source": [
    "print(f'Mean of the means = {means.mean()}')\r\n",
    "print(f'Standard deviation of the means = {means.std()}, this is the Standard Error')"
   ],
   "outputs": [
    {
     "output_type": "stream",
     "name": "stdout",
     "text": [
      "Mean of the means = 10.6\n",
      "Standard deviation of the means = 1.5297058540778357, this is the Standard Error\n"
     ]
    }
   ],
   "metadata": {}
  },
  {
   "cell_type": "markdown",
   "source": [
    "We can also find the standard error using the equation SE = SD (of population) / n ** 0.5\r\n",
    "This means that we take the standard deviation of the population and divide it by the square root of the number of samples (n). I am not 100% sure that what I've done below is correct but it may be inaccurate due to the small sample size. "
   ],
   "metadata": {}
  },
  {
   "cell_type": "code",
   "execution_count": 52,
   "source": [
    "pop = []\r\n",
    "df.apply(lambda x: pop.append(x))\r\n",
    "pop\r\n",
    "print(np.mean(pop))\r\n",
    "print(np.std(pop))\r\n",
    "print(np.std(pop)/5**0.5)"
   ],
   "outputs": [
    {
     "output_type": "stream",
     "name": "stdout",
     "text": [
      "10.6\n",
      "4.089009660052175\n",
      "1.8286607121059937\n"
     ]
    }
   ],
   "metadata": {}
  }
 ],
 "metadata": {
  "kernelspec": {
   "name": "python3",
   "display_name": "Python 3.8.11 64-bit ('base': conda)"
  },
  "language_info": {
   "codemirror_mode": {
    "name": "ipython",
    "version": 3
   },
   "file_extension": ".py",
   "mimetype": "text/x-python",
   "name": "python",
   "nbconvert_exporter": "python",
   "pygments_lexer": "ipython3",
   "version": "3.8.11"
  },
  "interpreter": {
   "hash": "68e5eec871f4a0b113878d9d8f753a0df0ad6db7c0ea5b0051ec16ab875e30ce"
  }
 },
 "nbformat": 4,
 "nbformat_minor": 4
}