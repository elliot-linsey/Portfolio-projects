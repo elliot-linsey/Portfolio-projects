{
 "cells": [
  {
   "cell_type": "code",
   "execution_count": 16,
   "id": "c0aade2a",
   "metadata": {},
   "outputs": [],
   "source": [
    "import pandas as pd\n",
    "from scipy import stats\n",
    "from matplotlib import pyplot as plt\n",
    "import seaborn as sns\n",
    "from statsmodels.stats.multicomp import pairwise_tukeyhsd"
   ]
  },
  {
   "cell_type": "markdown",
   "id": "e4b92e1c",
   "metadata": {},
   "source": [
    "ANOVA testing is similar to a two-sample t-test in that you are comparing a quantitative variable to a categorical variable. However, in an ANOVA setting the categorical variable is **non-binary**. This means that there are more than 2 options within the categorical variable.\\\n",
    "An example of this difference would be the differences in sales between 2 stores of a chain (where a two-sample t-test would be used) or the sales differences in more than 2 stores (ANOVA would be used).\\\n",
    "If we had stores 'A', 'B' and 'C', we would need to test A against B, then A against C, then B against C to get all the combinations and to see if either of them are significantly different to one another. The problem with doing this is that the chances of an error such as a false positive or false negative occurring increases with the number of tests. "
   ]
  },
  {
   "cell_type": "markdown",
   "id": "f0f07b6c",
   "metadata": {},
   "source": [
    "To counteract this, an ANOVA test does all of them simultaneously and provides a p-value and an f-statistic. This p-value will only show whether there is a significant difference "
   ]
  },
  {
   "cell_type": "code",
   "execution_count": 2,
   "id": "07902e27",
   "metadata": {},
   "outputs": [
    {
     "data": {
      "text/html": [
       "<div>\n",
       "<style scoped>\n",
       "    .dataframe tbody tr th:only-of-type {\n",
       "        vertical-align: middle;\n",
       "    }\n",
       "\n",
       "    .dataframe tbody tr th {\n",
       "        vertical-align: top;\n",
       "    }\n",
       "\n",
       "    .dataframe thead th {\n",
       "        text-align: right;\n",
       "    }\n",
       "</style>\n",
       "<table border=\"1\" class=\"dataframe\">\n",
       "  <thead>\n",
       "    <tr style=\"text-align: right;\">\n",
       "      <th></th>\n",
       "      <th>Sale</th>\n",
       "      <th>Store</th>\n",
       "    </tr>\n",
       "  </thead>\n",
       "  <tbody>\n",
       "    <tr>\n",
       "      <th>0</th>\n",
       "      <td>73.57</td>\n",
       "      <td>A</td>\n",
       "    </tr>\n",
       "    <tr>\n",
       "      <th>1</th>\n",
       "      <td>38.37</td>\n",
       "      <td>A</td>\n",
       "    </tr>\n",
       "    <tr>\n",
       "      <th>2</th>\n",
       "      <td>49.36</td>\n",
       "      <td>A</td>\n",
       "    </tr>\n",
       "    <tr>\n",
       "      <th>3</th>\n",
       "      <td>61.96</td>\n",
       "      <td>A</td>\n",
       "    </tr>\n",
       "    <tr>\n",
       "      <th>4</th>\n",
       "      <td>38.74</td>\n",
       "      <td>A</td>\n",
       "    </tr>\n",
       "  </tbody>\n",
       "</table>\n",
       "</div>"
      ],
      "text/plain": [
       "    Sale Store\n",
       "0  73.57     A\n",
       "1  38.37     A\n",
       "2  49.36     A\n",
       "3  61.96     A\n",
       "4  38.74     A"
      ]
     },
     "execution_count": 2,
     "metadata": {},
     "output_type": "execute_result"
    }
   ],
   "source": [
    "df = pd.read_csv('veryants.csv')\n",
    "df.head()"
   ]
  },
  {
   "cell_type": "code",
   "execution_count": 8,
   "id": "fc058088",
   "metadata": {},
   "outputs": [
    {
     "data": {
      "text/plain": [
       "0    73.57\n",
       "1    38.37\n",
       "2    49.36\n",
       "3    61.96\n",
       "4    38.74\n",
       "Name: Sale, dtype: float64"
      ]
     },
     "execution_count": 8,
     "metadata": {},
     "output_type": "execute_result"
    }
   ],
   "source": [
    "a = df.Sale[df.Store == 'A']\n",
    "b = df.Sale[df.Store == 'B']\n",
    "c = df.Sale[df.Store == 'C']\n",
    "a.head()"
   ]
  },
  {
   "cell_type": "code",
   "execution_count": 13,
   "id": "e3b18802",
   "metadata": {},
   "outputs": [
    {
     "data": {
      "image/png": "[encoded data removed]",
      "text/plain": [
       "<Figure size 432x288 with 1 Axes>"
      ]
     },
     "metadata": {
      "needs_background": "light"
     },
     "output_type": "display_data"
    }
   ],
   "source": [
    "boxplot = sns.boxplot(data=df, x='Store', y='Sale')\n",
    "plt.show()"
   ]
  },
  {
   "cell_type": "code",
   "execution_count": 15,
   "id": "924aa3de",
   "metadata": {},
   "outputs": [
    {
     "data": {
      "text/plain": [
       "0.00015355234908845413"
      ]
     },
     "execution_count": 15,
     "metadata": {},
     "output_type": "execute_result"
    }
   ],
   "source": [
    "pval = stats.f_oneway(a,b,c)[1]\n",
    "pval"
   ]
  },
  {
   "cell_type": "code",
   "execution_count": 18,
   "id": "f28803c2",
   "metadata": {},
   "outputs": [
    {
     "name": "stdout",
     "output_type": "stream",
     "text": [
      "Multiple Comparison of Means - Tukey HSD, FWER=0.05 \n",
      "====================================================\n",
      "group1 group2 meandiff p-adj   lower   upper  reject\n",
      "----------------------------------------------------\n",
      "     A      B   7.2763  0.001  3.2263 11.3264   True\n",
      "     A      C    4.011 0.0529 -0.0391  8.0611  False\n",
      "     B      C  -3.2653  0.141 -7.3154  0.7847  False\n",
      "----------------------------------------------------\n"
     ]
    }
   ],
   "source": [
    "tukey_results = pairwise_tukeyhsd(df['Sale'], df['Store'], 0.05)\n",
    "print(tukey_results)"
   ]
  }
 ],
 "metadata": {
  "kernelspec": {
   "display_name": "Python 3 (ipykernel)",
   "language": "python",
   "name": "python3"
  },
  "language_info": {
   "codemirror_mode": {
    "name": "ipython",
    "version": 3
   },
   "file_extension": ".py",
   "mimetype": "text/x-python",
   "name": "python",
   "nbconvert_exporter": "python",
   "pygments_lexer": "ipython3",
   "version": "3.8.11"
  }
 },
 "nbformat": 4,
 "nbformat_minor": 5
}
