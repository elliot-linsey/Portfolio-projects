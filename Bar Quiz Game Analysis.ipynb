{
 "cells": [
  {
   "cell_type": "code",
   "execution_count": 1,
   "id": "8ccba719",
   "metadata": {},
   "outputs": [],
   "source": [
    "import numpy as np "
   ]
  },
  {
   "cell_type": "markdown",
   "id": "0ea27597",
   "metadata": {},
   "source": [
    "# Bar Quiz Game Analysis\n",
    "\n",
    "This is going to be finding the best move that can be taken in the classic bar quiz game 'Higher or Lower'. The quizmaster takes 6 random cards from the pack, then shows you one card. You have to guess whether the next card is higher or lower than the card being shown. \n",
    "\n",
    "What is interesting about this game is the fact that the cards are initially selected at random from the deck. You could be shown a jack and instinctively think to guess lower, but the rest of the cards could all be Queens, Kings and Aces. "
   ]
  },
  {
   "cell_type": "code",
   "execution_count": 11,
   "id": "654bff51",
   "metadata": {},
   "outputs": [],
   "source": [
    "deck = [[2],[2],[2],[2],[3],[3],[3],[3],[4],[4],[4],[4],[5],[5],[5],[5],[6],[6],[6],[6],[7],[7],[7],[7],[8],[8],[8],[8],\n",
    "        [9],[9],[9],[9],[10],[10],[10],[10],[11],[11],[11],[11],[12],[12],[12],[12],[13],[13],[13],[13],[14],[14],[14],[14]]"
   ]
  },
  {
   "cell_type": "code",
   "execution_count": 13,
   "id": "e6a3b704",
   "metadata": {},
   "outputs": [
    {
     "data": {
      "text/plain": [
       "52"
      ]
     },
     "execution_count": 13,
     "metadata": {},
     "output_type": "execute_result"
    }
   ],
   "source": [
    "len(deck)"
   ]
  },
  {
   "cell_type": "code",
   "execution_count": 19,
   "id": "de8559d5",
   "metadata": {},
   "outputs": [
    {
     "data": {
      "text/plain": [
       "[2]"
      ]
     },
     "execution_count": 19,
     "metadata": {},
     "output_type": "execute_result"
    }
   ],
   "source": [
    "deck[0]"
   ]
  },
  {
   "cell_type": "code",
   "execution_count": 38,
   "id": "f2be187d",
   "metadata": {},
   "outputs": [],
   "source": [
    "random_choices = np.random.choice(range(52), 6, replace=False)"
   ]
  },
  {
   "cell_type": "code",
   "execution_count": 39,
   "id": "e940ed2f",
   "metadata": {},
   "outputs": [
    {
     "data": {
      "text/plain": [
       "[[5], [13], [14], [11], [10], [6]]"
      ]
     },
     "execution_count": 39,
     "metadata": {},
     "output_type": "execute_result"
    }
   ],
   "source": [
    "random_cards = [deck[x] for x in random_choices]\n",
    "random_cards"
   ]
  },
  {
   "cell_type": "code",
   "execution_count": 285,
   "id": "62aac4f5",
   "metadata": {},
   "outputs": [],
   "source": [
    "class game():\n",
    "    def __init__(self,deck):\n",
    "        self.deck = deck\n",
    "        self.r_choices = np.random.choice(range(52), 6, replace=False)\n",
    "        #self.r_choices = [0,4,8,12,16,20]\n",
    "        self.random_cards = [self.deck[x] for x in self.r_choices]\n",
    "    def play(self):\n",
    "        x = 0\n",
    "        while x < 5:\n",
    "            card = self.random_cards[x][0]\n",
    "            next_card = self.random_cards[x+1][0]\n",
    "            print(card)\n",
    "            p_input = input('Higher or Lower? ')\n",
    "            if p_input == 'h' and next_card < card:\n",
    "                print('You lose!')\n",
    "                return next_card\n",
    "            elif p_input == 'l' and next_card > card:\n",
    "                print(next_card)\n",
    "                return ('You lose!')\n",
    "            elif (p_input == 'h' or p_input == 'l') and card == next_card:\n",
    "                print(next_card)\n",
    "                return ('You lose! Duplicate card!')\n",
    "            x += 1\n",
    "        else:\n",
    "            #print('butts')\n",
    "            card = self.random_cards[4][0]\n",
    "            next_card = self.random_cards[4+1][0]\n",
    "            if p_input == 'h' and next_card > card:\n",
    "                print(next_card)\n",
    "                return ('You win!')\n",
    "            elif p_input == 'l' and next_card < card:\n",
    "                print(next_card)\n",
    "                return ('You win!')\n",
    "            else:\n",
    "                print(next_card)\n",
    "                return ('You lose!')\n",
    "            \n",
    "\n",
    "    \n",
    "    "
   ]
  },
  {
   "cell_type": "code",
   "execution_count": 286,
   "id": "ed37ea3b",
   "metadata": {},
   "outputs": [
    {
     "name": "stdout",
     "output_type": "stream",
     "text": [
      "4\n",
      "Higher or Lower? h\n",
      "9\n",
      "Higher or Lower? l\n",
      "7\n",
      "Higher or Lower? h\n",
      "You lose!\n"
     ]
    },
    {
     "data": {
      "text/plain": [
       "3"
      ]
     },
     "execution_count": 286,
     "metadata": {},
     "output_type": "execute_result"
    }
   ],
   "source": [
    "test = game(deck)\n",
    "test.play()"
   ]
  }
 ],
 "metadata": {
  "kernelspec": {
   "display_name": "Python 3",
   "language": "python",
   "name": "python3"
  },
  "language_info": {
   "codemirror_mode": {
    "name": "ipython",
    "version": 3
   },
   "file_extension": ".py",
   "mimetype": "text/x-python",
   "name": "python",
   "nbconvert_exporter": "python",
   "pygments_lexer": "ipython3",
   "version": "3.8.8"
  }
 },
 "nbformat": 4,
 "nbformat_minor": 5
}
