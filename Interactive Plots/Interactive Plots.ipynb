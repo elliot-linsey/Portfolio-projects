{
 "cells": [
  {
   "cell_type": "code",
   "execution_count": 125,
   "metadata": {},
   "outputs": [
    {
     "data": {
      "text/html": [
       "\n",
       "    <div class=\"bk-root\">\n",
       "        <a href=\"https://bokeh.org\" target=\"_blank\" class=\"bk-logo bk-logo-small bk-logo-notebook\"></a>\n",
       "        <span id=\"12706\">Loading BokehJS ...</span>\n",
       "    </div>"
      ]
     },
     "metadata": {},
     "output_type": "display_data"
    },
    {
     "data": {
      "application/javascript": [
       "\n",
       "(function(root) {\n",
       "  function now() {\n",
       "    return new Date();\n",
       "  }\n",
       "\n",
       "  var force = true;\n",
       "\n",
       "  if (typeof root._bokeh_onload_callbacks === \"undefined\" || force === true) {\n",
       "    root._bokeh_onload_callbacks = [];\n",
       "    root._bokeh_is_loading = undefined;\n",
       "  }\n",
       "\n",
       "  var JS_MIME_TYPE = 'application/javascript';\n",
       "  var HTML_MIME_TYPE = 'text/html';\n",
       "  var EXEC_MIME_TYPE = 'application/vnd.bokehjs_exec.v0+json';\n",
       "  var CLASS_NAME = 'output_bokeh rendered_html';\n",
       "\n",
       "  /**\n",
       "   * Render data to the DOM node\n",
       "   */\n",
       "  function render(props, node) {\n",
       "    var script = document.createElement(\"script\");\n",
       "    node.appendChild(script);\n",
       "  }\n",
       "\n",
       "  /**\n",
       "   * Handle when an output is cleared or removed\n",
       "   */\n",
       "  function handleClearOutput(event, handle) {\n",
       "    var cell = handle.cell;\n",
       "\n",
       "    var id = cell.output_area._bokeh_element_id;\n",
       "    var server_id = cell.output_area._bokeh_server_id;\n",
       "    // Clean up Bokeh references\n",
       "    if (id != null && id in Bokeh.index) {\n",
       "      Bokeh.index[id].model.document.clear();\n",
       "      delete Bokeh.index[id];\n",
       "    }\n",
       "\n",
       "    if (server_id !== undefined) {\n",
       "      // Clean up Bokeh references\n",
       "      var cmd = \"from bokeh.io.state import curstate; print(curstate().uuid_to_server['\" + server_id + \"'].get_sessions()[0].document.roots[0]._id)\";\n",
       "      cell.notebook.kernel.execute(cmd, {\n",
       "        iopub: {\n",
       "          output: function(msg) {\n",
       "            var id = msg.content.text.trim();\n",
       "            if (id in Bokeh.index) {\n",
       "              Bokeh.index[id].model.document.clear();\n",
       "              delete Bokeh.index[id];\n",
       "            }\n",
       "          }\n",
       "        }\n",
       "      });\n",
       "      // Destroy server and session\n",
       "      var cmd = \"import bokeh.io.notebook as ion; ion.destroy_server('\" + server_id + \"')\";\n",
       "      cell.notebook.kernel.execute(cmd);\n",
       "    }\n",
       "  }\n",
       "\n",
       "  /**\n",
       "   * Handle when a new output is added\n",
       "   */\n",
       "  function handleAddOutput(event, handle) {\n",
       "    var output_area = handle.output_area;\n",
       "    var output = handle.output;\n",
       "\n",
       "    // limit handleAddOutput to display_data with EXEC_MIME_TYPE content only\n",
       "    if ((output.output_type != \"display_data\") || (!Object.prototype.hasOwnProperty.call(output.data, EXEC_MIME_TYPE))) {\n",
       "      return\n",
       "    }\n",
       "\n",
       "    var toinsert = output_area.element.find(\".\" + CLASS_NAME.split(' ')[0]);\n",
       "\n",
       "    if (output.metadata[EXEC_MIME_TYPE][\"id\"] !== undefined) {\n",
       "      toinsert[toinsert.length - 1].firstChild.textContent = output.data[JS_MIME_TYPE];\n",
       "      // store reference to embed id on output_area\n",
       "      output_area._bokeh_element_id = output.metadata[EXEC_MIME_TYPE][\"id\"];\n",
       "    }\n",
       "    if (output.metadata[EXEC_MIME_TYPE][\"server_id\"] !== undefined) {\n",
       "      var bk_div = document.createElement(\"div\");\n",
       "      bk_div.innerHTML = output.data[HTML_MIME_TYPE];\n",
       "      var script_attrs = bk_div.children[0].attributes;\n",
       "      for (var i = 0; i < script_attrs.length; i++) {\n",
       "        toinsert[toinsert.length - 1].firstChild.setAttribute(script_attrs[i].name, script_attrs[i].value);\n",
       "        toinsert[toinsert.length - 1].firstChild.textContent = bk_div.children[0].textContent\n",
       "      }\n",
       "      // store reference to server id on output_area\n",
       "      output_area._bokeh_server_id = output.metadata[EXEC_MIME_TYPE][\"server_id\"];\n",
       "    }\n",
       "  }\n",
       "\n",
       "  function register_renderer(events, OutputArea) {\n",
       "\n",
       "    function append_mime(data, metadata, element) {\n",
       "      // create a DOM node to render to\n",
       "      var toinsert = this.create_output_subarea(\n",
       "        metadata,\n",
       "        CLASS_NAME,\n",
       "        EXEC_MIME_TYPE\n",
       "      );\n",
       "      this.keyboard_manager.register_events(toinsert);\n",
       "      // Render to node\n",
       "      var props = {data: data, metadata: metadata[EXEC_MIME_TYPE]};\n",
       "      render(props, toinsert[toinsert.length - 1]);\n",
       "      element.append(toinsert);\n",
       "      return toinsert\n",
       "    }\n",
       "\n",
       "    /* Handle when an output is cleared or removed */\n",
       "    events.on('clear_output.CodeCell', handleClearOutput);\n",
       "    events.on('delete.Cell', handleClearOutput);\n",
       "\n",
       "    /* Handle when a new output is added */\n",
       "    events.on('output_added.OutputArea', handleAddOutput);\n",
       "\n",
       "    /**\n",
       "     * Register the mime type and append_mime function with output_area\n",
       "     */\n",
       "    OutputArea.prototype.register_mime_type(EXEC_MIME_TYPE, append_mime, {\n",
       "      /* Is output safe? */\n",
       "      safe: true,\n",
       "      /* Index of renderer in `output_area.display_order` */\n",
       "      index: 0\n",
       "    });\n",
       "  }\n",
       "\n",
       "  // register the mime type if in Jupyter Notebook environment and previously unregistered\n",
       "  if (root.Jupyter !== undefined) {\n",
       "    var events = require('base/js/events');\n",
       "    var OutputArea = require('notebook/js/outputarea').OutputArea;\n",
       "\n",
       "    if (OutputArea.prototype.mime_types().indexOf(EXEC_MIME_TYPE) == -1) {\n",
       "      register_renderer(events, OutputArea);\n",
       "    }\n",
       "  }\n",
       "\n",
       "  \n",
       "  if (typeof (root._bokeh_timeout) === \"undefined\" || force === true) {\n",
       "    root._bokeh_timeout = Date.now() + 5000;\n",
       "    root._bokeh_failed_load = false;\n",
       "  }\n",
       "\n",
       "  var NB_LOAD_WARNING = {'data': {'text/html':\n",
       "     \"<div style='background-color: #fdd'>\\n\"+\n",
       "     \"<p>\\n\"+\n",
       "     \"BokehJS does not appear to have successfully loaded. If loading BokehJS from CDN, this \\n\"+\n",
       "     \"may be due to a slow or bad network connection. Possible fixes:\\n\"+\n",
       "     \"</p>\\n\"+\n",
       "     \"<ul>\\n\"+\n",
       "     \"<li>re-rerun `output_notebook()` to attempt to load from CDN again, or</li>\\n\"+\n",
       "     \"<li>use INLINE resources instead, as so:</li>\\n\"+\n",
       "     \"</ul>\\n\"+\n",
       "     \"<code>\\n\"+\n",
       "     \"from bokeh.resources import INLINE\\n\"+\n",
       "     \"output_notebook(resources=INLINE)\\n\"+\n",
       "     \"</code>\\n\"+\n",
       "     \"</div>\"}};\n",
       "\n",
       "  function display_loaded() {\n",
       "    var el = document.getElementById(\"12706\");\n",
       "    if (el != null) {\n",
       "      el.textContent = \"BokehJS is loading...\";\n",
       "    }\n",
       "    if (root.Bokeh !== undefined) {\n",
       "      if (el != null) {\n",
       "        el.textContent = \"BokehJS \" + root.Bokeh.version + \" successfully loaded.\";\n",
       "      }\n",
       "    } else if (Date.now() < root._bokeh_timeout) {\n",
       "      setTimeout(display_loaded, 100)\n",
       "    }\n",
       "  }\n",
       "\n",
       "\n",
       "  function run_callbacks() {\n",
       "    try {\n",
       "      root._bokeh_onload_callbacks.forEach(function(callback) {\n",
       "        if (callback != null)\n",
       "          callback();\n",
       "      });\n",
       "    } finally {\n",
       "      delete root._bokeh_onload_callbacks\n",
       "    }\n",
       "    console.debug(\"Bokeh: all callbacks have finished\");\n",
       "  }\n",
       "\n",
       "  function load_libs(css_urls, js_urls, callback) {\n",
       "    if (css_urls == null) css_urls = [];\n",
       "    if (js_urls == null) js_urls = [];\n",
       "\n",
       "    root._bokeh_onload_callbacks.push(callback);\n",
       "    if (root._bokeh_is_loading > 0) {\n",
       "      console.debug(\"Bokeh: BokehJS is being loaded, scheduling callback at\", now());\n",
       "      return null;\n",
       "    }\n",
       "    if (js_urls == null || js_urls.length === 0) {\n",
       "      run_callbacks();\n",
       "      return null;\n",
       "    }\n",
       "    console.debug(\"Bokeh: BokehJS not loaded, scheduling load and callback at\", now());\n",
       "    root._bokeh_is_loading = css_urls.length + js_urls.length;\n",
       "\n",
       "    function on_load() {\n",
       "      root._bokeh_is_loading--;\n",
       "      if (root._bokeh_is_loading === 0) {\n",
       "        console.debug(\"Bokeh: all BokehJS libraries/stylesheets loaded\");\n",
       "        run_callbacks()\n",
       "      }\n",
       "    }\n",
       "\n",
       "    function on_error(url) {\n",
       "      console.error(\"failed to load \" + url);\n",
       "    }\n",
       "\n",
       "    for (let i = 0; i < css_urls.length; i++) {\n",
       "      const url = css_urls[i];\n",
       "      const element = document.createElement(\"link\");\n",
       "      element.onload = on_load;\n",
       "      element.onerror = on_error.bind(null, url);\n",
       "      element.rel = \"stylesheet\";\n",
       "      element.type = \"text/css\";\n",
       "      element.href = url;\n",
       "      console.debug(\"Bokeh: injecting link tag for BokehJS stylesheet: \", url);\n",
       "      document.body.appendChild(element);\n",
       "    }\n",
       "\n",
       "    const hashes = {\"https://cdn.bokeh.org/bokeh/release/bokeh-2.3.2.min.js\": \"XypntL49z55iwGVUW4qsEu83zKL3XEcz0MjuGOQ9SlaaQ68X/g+k1FcioZi7oQAc\", \"https://cdn.bokeh.org/bokeh/release/bokeh-tables-2.3.2.min.js\": \"bEsM86IHGDTLCS0Zod8a8WM6Y4+lafAL/eSiyQcuPzinmWNgNO2/olUF0Z2Dkn5i\", \"https://cdn.bokeh.org/bokeh/release/bokeh-widgets-2.3.2.min.js\": \"TX0gSQTdXTTeScqxj6PVQxTiRW8DOoGVwinyi1D3kxv7wuxQ02XkOxv0xwiypcAH\"};\n",
       "\n",
       "    for (let i = 0; i < js_urls.length; i++) {\n",
       "      const url = js_urls[i];\n",
       "      const element = document.createElement('script');\n",
       "      element.onload = on_load;\n",
       "      element.onerror = on_error.bind(null, url);\n",
       "      element.async = false;\n",
       "      element.src = url;\n",
       "      if (url in hashes) {\n",
       "        element.crossOrigin = \"anonymous\";\n",
       "        element.integrity = \"sha384-\" + hashes[url];\n",
       "      }\n",
       "      console.debug(\"Bokeh: injecting script tag for BokehJS library: \", url);\n",
       "      document.head.appendChild(element);\n",
       "    }\n",
       "  };\n",
       "\n",
       "  function inject_raw_css(css) {\n",
       "    const element = document.createElement(\"style\");\n",
       "    element.appendChild(document.createTextNode(css));\n",
       "    document.body.appendChild(element);\n",
       "  }\n",
       "\n",
       "  \n",
       "  var js_urls = [\"https://cdn.bokeh.org/bokeh/release/bokeh-2.3.2.min.js\", \"https://cdn.bokeh.org/bokeh/release/bokeh-widgets-2.3.2.min.js\", \"https://cdn.bokeh.org/bokeh/release/bokeh-tables-2.3.2.min.js\"];\n",
       "  var css_urls = [];\n",
       "  \n",
       "\n",
       "  var inline_js = [\n",
       "    function(Bokeh) {\n",
       "      Bokeh.set_log_level(\"info\");\n",
       "    },\n",
       "    function(Bokeh) {\n",
       "    \n",
       "    \n",
       "    }\n",
       "  ];\n",
       "\n",
       "  function run_inline_js() {\n",
       "    \n",
       "    if (root.Bokeh !== undefined || force === true) {\n",
       "      \n",
       "    for (var i = 0; i < inline_js.length; i++) {\n",
       "      inline_js[i].call(root, root.Bokeh);\n",
       "    }\n",
       "    if (force === true) {\n",
       "        display_loaded();\n",
       "      }} else if (Date.now() < root._bokeh_timeout) {\n",
       "      setTimeout(run_inline_js, 100);\n",
       "    } else if (!root._bokeh_failed_load) {\n",
       "      console.log(\"Bokeh: BokehJS failed to load within specified timeout.\");\n",
       "      root._bokeh_failed_load = true;\n",
       "    } else if (force !== true) {\n",
       "      var cell = $(document.getElementById(\"12706\")).parents('.cell').data().cell;\n",
       "      cell.output_area.append_execute_result(NB_LOAD_WARNING)\n",
       "    }\n",
       "\n",
       "  }\n",
       "\n",
       "  if (root._bokeh_is_loading === 0) {\n",
       "    console.debug(\"Bokeh: BokehJS loaded, going straight to plotting\");\n",
       "    run_inline_js();\n",
       "  } else {\n",
       "    load_libs(css_urls, js_urls, function() {\n",
       "      console.debug(\"Bokeh: BokehJS plotting callback run at\", now());\n",
       "      run_inline_js();\n",
       "    });\n",
       "  }\n",
       "}(window));"
      ],
      "application/vnd.bokehjs_load.v0+json": "\n(function(root) {\n  function now() {\n    return new Date();\n  }\n\n  var force = true;\n\n  if (typeof root._bokeh_onload_callbacks === \"undefined\" || force === true) {\n    root._bokeh_onload_callbacks = [];\n    root._bokeh_is_loading = undefined;\n  }\n\n  \n\n  \n  if (typeof (root._bokeh_timeout) === \"undefined\" || force === true) {\n    root._bokeh_timeout = Date.now() + 5000;\n    root._bokeh_failed_load = false;\n  }\n\n  var NB_LOAD_WARNING = {'data': {'text/html':\n     \"<div style='background-color: #fdd'>\\n\"+\n     \"<p>\\n\"+\n     \"BokehJS does not appear to have successfully loaded. If loading BokehJS from CDN, this \\n\"+\n     \"may be due to a slow or bad network connection. Possible fixes:\\n\"+\n     \"</p>\\n\"+\n     \"<ul>\\n\"+\n     \"<li>re-rerun `output_notebook()` to attempt to load from CDN again, or</li>\\n\"+\n     \"<li>use INLINE resources instead, as so:</li>\\n\"+\n     \"</ul>\\n\"+\n     \"<code>\\n\"+\n     \"from bokeh.resources import INLINE\\n\"+\n     \"output_notebook(resources=INLINE)\\n\"+\n     \"</code>\\n\"+\n     \"</div>\"}};\n\n  function display_loaded() {\n    var el = document.getElementById(\"12706\");\n    if (el != null) {\n      el.textContent = \"BokehJS is loading...\";\n    }\n    if (root.Bokeh !== undefined) {\n      if (el != null) {\n        el.textContent = \"BokehJS \" + root.Bokeh.version + \" successfully loaded.\";\n      }\n    } else if (Date.now() < root._bokeh_timeout) {\n      setTimeout(display_loaded, 100)\n    }\n  }\n\n\n  function run_callbacks() {\n    try {\n      root._bokeh_onload_callbacks.forEach(function(callback) {\n        if (callback != null)\n          callback();\n      });\n    } finally {\n      delete root._bokeh_onload_callbacks\n    }\n    console.debug(\"Bokeh: all callbacks have finished\");\n  }\n\n  function load_libs(css_urls, js_urls, callback) {\n    if (css_urls == null) css_urls = [];\n    if (js_urls == null) js_urls = [];\n\n    root._bokeh_onload_callbacks.push(callback);\n    if (root._bokeh_is_loading > 0) {\n      console.debug(\"Bokeh: BokehJS is being loaded, scheduling callback at\", now());\n      return null;\n    }\n    if (js_urls == null || js_urls.length === 0) {\n      run_callbacks();\n      return null;\n    }\n    console.debug(\"Bokeh: BokehJS not loaded, scheduling load and callback at\", now());\n    root._bokeh_is_loading = css_urls.length + js_urls.length;\n\n    function on_load() {\n      root._bokeh_is_loading--;\n      if (root._bokeh_is_loading === 0) {\n        console.debug(\"Bokeh: all BokehJS libraries/stylesheets loaded\");\n        run_callbacks()\n      }\n    }\n\n    function on_error(url) {\n      console.error(\"failed to load \" + url);\n    }\n\n    for (let i = 0; i < css_urls.length; i++) {\n      const url = css_urls[i];\n      const element = document.createElement(\"link\");\n      element.onload = on_load;\n      element.onerror = on_error.bind(null, url);\n      element.rel = \"stylesheet\";\n      element.type = \"text/css\";\n      element.href = url;\n      console.debug(\"Bokeh: injecting link tag for BokehJS stylesheet: \", url);\n      document.body.appendChild(element);\n    }\n\n    const hashes = {\"https://cdn.bokeh.org/bokeh/release/bokeh-2.3.2.min.js\": \"XypntL49z55iwGVUW4qsEu83zKL3XEcz0MjuGOQ9SlaaQ68X/g+k1FcioZi7oQAc\", \"https://cdn.bokeh.org/bokeh/release/bokeh-tables-2.3.2.min.js\": \"bEsM86IHGDTLCS0Zod8a8WM6Y4+lafAL/eSiyQcuPzinmWNgNO2/olUF0Z2Dkn5i\", \"https://cdn.bokeh.org/bokeh/release/bokeh-widgets-2.3.2.min.js\": \"TX0gSQTdXTTeScqxj6PVQxTiRW8DOoGVwinyi1D3kxv7wuxQ02XkOxv0xwiypcAH\"};\n\n    for (let i = 0; i < js_urls.length; i++) {\n      const url = js_urls[i];\n      const element = document.createElement('script');\n      element.onload = on_load;\n      element.onerror = on_error.bind(null, url);\n      element.async = false;\n      element.src = url;\n      if (url in hashes) {\n        element.crossOrigin = \"anonymous\";\n        element.integrity = \"sha384-\" + hashes[url];\n      }\n      console.debug(\"Bokeh: injecting script tag for BokehJS library: \", url);\n      document.head.appendChild(element);\n    }\n  };\n\n  function inject_raw_css(css) {\n    const element = document.createElement(\"style\");\n    element.appendChild(document.createTextNode(css));\n    document.body.appendChild(element);\n  }\n\n  \n  var js_urls = [\"https://cdn.bokeh.org/bokeh/release/bokeh-2.3.2.min.js\", \"https://cdn.bokeh.org/bokeh/release/bokeh-widgets-2.3.2.min.js\", \"https://cdn.bokeh.org/bokeh/release/bokeh-tables-2.3.2.min.js\"];\n  var css_urls = [];\n  \n\n  var inline_js = [\n    function(Bokeh) {\n      Bokeh.set_log_level(\"info\");\n    },\n    function(Bokeh) {\n    \n    \n    }\n  ];\n\n  function run_inline_js() {\n    \n    if (root.Bokeh !== undefined || force === true) {\n      \n    for (var i = 0; i < inline_js.length; i++) {\n      inline_js[i].call(root, root.Bokeh);\n    }\n    if (force === true) {\n        display_loaded();\n      }} else if (Date.now() < root._bokeh_timeout) {\n      setTimeout(run_inline_js, 100);\n    } else if (!root._bokeh_failed_load) {\n      console.log(\"Bokeh: BokehJS failed to load within specified timeout.\");\n      root._bokeh_failed_load = true;\n    } else if (force !== true) {\n      var cell = $(document.getElementById(\"12706\")).parents('.cell').data().cell;\n      cell.output_area.append_execute_result(NB_LOAD_WARNING)\n    }\n\n  }\n\n  if (root._bokeh_is_loading === 0) {\n    console.debug(\"Bokeh: BokehJS loaded, going straight to plotting\");\n    run_inline_js();\n  } else {\n    load_libs(css_urls, js_urls, function() {\n      console.debug(\"Bokeh: BokehJS plotting callback run at\", now());\n      run_inline_js();\n    });\n  }\n}(window));"
     },
     "metadata": {},
     "output_type": "display_data"
    }
   ],
   "source": [
    "import numpy as np\n",
    "from matplotlib import pyplot as plt\n",
    "import pandas as pd\n",
    "import pandas_bokeh\n",
    "pandas_bokeh.output_notebook()"
   ]
  },
  {
   "cell_type": "markdown",
   "metadata": {},
   "source": [
    "The Documentation for pandas_bokeh is in a jupyter notebook file called 'Pandas_Bokeh Documentation.ipynb'. It's also available on github: https://github.com/PatrikHlobil/Pandas-Bokeh  "
   ]
  },
  {
   "cell_type": "markdown",
   "metadata": {},
   "source": [
    "This document is just to get to grips with using pandas-bokeh which is a library for creating interactive plots. Here I am importing a dataset of the Indian stock exchange, this is a subset containing information on the Banking, FMCG (Fast Moving Consumer Goods), IT and Pharmaceutical stocks."
   ]
  },
  {
   "cell_type": "code",
   "execution_count": 126,
   "metadata": {
    "scrolled": true
   },
   "outputs": [
    {
     "data": {
      "text/html": [
       "<div>\n",
       "<style scoped>\n",
       "    .dataframe tbody tr th:only-of-type {\n",
       "        vertical-align: middle;\n",
       "    }\n",
       "\n",
       "    .dataframe tbody tr th {\n",
       "        vertical-align: top;\n",
       "    }\n",
       "\n",
       "    .dataframe thead th {\n",
       "        text-align: right;\n",
       "    }\n",
       "</style>\n",
       "<table border=\"1\" class=\"dataframe\">\n",
       "  <thead>\n",
       "    <tr style=\"text-align: right;\">\n",
       "      <th></th>\n",
       "      <th>Date</th>\n",
       "      <th>NIFTY Bank index</th>\n",
       "      <th>NIFTY FMCG index</th>\n",
       "      <th>NIFTY IT index</th>\n",
       "      <th>NIFTY Pharma index</th>\n",
       "    </tr>\n",
       "  </thead>\n",
       "  <tbody>\n",
       "    <tr>\n",
       "      <th>0</th>\n",
       "      <td>2020-01-01</td>\n",
       "      <td>32102.90</td>\n",
       "      <td>30234.25</td>\n",
       "      <td>15722.15</td>\n",
       "      <td>8047.10</td>\n",
       "    </tr>\n",
       "    <tr>\n",
       "      <th>1</th>\n",
       "      <td>2020-01-02</td>\n",
       "      <td>32443.85</td>\n",
       "      <td>30266.20</td>\n",
       "      <td>15709.65</td>\n",
       "      <td>8053.95</td>\n",
       "    </tr>\n",
       "    <tr>\n",
       "      <th>2</th>\n",
       "      <td>2020-01-03</td>\n",
       "      <td>32069.25</td>\n",
       "      <td>30109.25</td>\n",
       "      <td>15936.60</td>\n",
       "      <td>8111.95</td>\n",
       "    </tr>\n",
       "    <tr>\n",
       "      <th>3</th>\n",
       "      <td>2020-01-06</td>\n",
       "      <td>31237.15</td>\n",
       "      <td>29799.30</td>\n",
       "      <td>15879.80</td>\n",
       "      <td>7987.35</td>\n",
       "    </tr>\n",
       "    <tr>\n",
       "      <th>4</th>\n",
       "      <td>2020-01-07</td>\n",
       "      <td>31399.40</td>\n",
       "      <td>29861.80</td>\n",
       "      <td>15895.20</td>\n",
       "      <td>8036.50</td>\n",
       "    </tr>\n",
       "  </tbody>\n",
       "</table>\n",
       "</div>"
      ],
      "text/plain": [
       "         Date  NIFTY Bank index  NIFTY FMCG index  NIFTY IT index  \\\n",
       "0  2020-01-01          32102.90          30234.25        15722.15   \n",
       "1  2020-01-02          32443.85          30266.20        15709.65   \n",
       "2  2020-01-03          32069.25          30109.25        15936.60   \n",
       "3  2020-01-06          31237.15          29799.30        15879.80   \n",
       "4  2020-01-07          31399.40          29861.80        15895.20   \n",
       "\n",
       "   NIFTY Pharma index  \n",
       "0             8047.10  \n",
       "1             8053.95  \n",
       "2             8111.95  \n",
       "3             7987.35  \n",
       "4             8036.50  "
      ]
     },
     "execution_count": 126,
     "metadata": {},
     "output_type": "execute_result"
    }
   ],
   "source": [
    "df = pd.read_csv('NIFTY_data_2020.csv')\n",
    "df0 = pd.read_csv('NIFTY_data_2020.csv')\n",
    "df.head()"
   ]
  },
  {
   "cell_type": "markdown",
   "metadata": {},
   "source": [
    "To simplify working with this data, I will resample it using df.resample() and aggregate the values by month. For this to work, the index must be in a datetime or timedelta format before applying the resample function. "
   ]
  },
  {
   "cell_type": "code",
   "execution_count": 127,
   "metadata": {},
   "outputs": [
    {
     "data": {
      "text/html": [
       "<div>\n",
       "<style scoped>\n",
       "    .dataframe tbody tr th:only-of-type {\n",
       "        vertical-align: middle;\n",
       "    }\n",
       "\n",
       "    .dataframe tbody tr th {\n",
       "        vertical-align: top;\n",
       "    }\n",
       "\n",
       "    .dataframe thead th {\n",
       "        text-align: right;\n",
       "    }\n",
       "</style>\n",
       "<table border=\"1\" class=\"dataframe\">\n",
       "  <thead>\n",
       "    <tr style=\"text-align: right;\">\n",
       "      <th></th>\n",
       "      <th>NIFTY Bank index</th>\n",
       "      <th>NIFTY FMCG index</th>\n",
       "      <th>NIFTY IT index</th>\n",
       "      <th>NIFTY Pharma index</th>\n",
       "    </tr>\n",
       "    <tr>\n",
       "      <th>Date</th>\n",
       "      <th></th>\n",
       "      <th></th>\n",
       "      <th></th>\n",
       "      <th></th>\n",
       "    </tr>\n",
       "  </thead>\n",
       "  <tbody>\n",
       "    <tr>\n",
       "      <th>2020-01-01</th>\n",
       "      <td>32102.90</td>\n",
       "      <td>30234.25</td>\n",
       "      <td>15722.15</td>\n",
       "      <td>8047.10</td>\n",
       "    </tr>\n",
       "    <tr>\n",
       "      <th>2020-01-02</th>\n",
       "      <td>32443.85</td>\n",
       "      <td>30266.20</td>\n",
       "      <td>15709.65</td>\n",
       "      <td>8053.95</td>\n",
       "    </tr>\n",
       "    <tr>\n",
       "      <th>2020-01-03</th>\n",
       "      <td>32069.25</td>\n",
       "      <td>30109.25</td>\n",
       "      <td>15936.60</td>\n",
       "      <td>8111.95</td>\n",
       "    </tr>\n",
       "    <tr>\n",
       "      <th>2020-01-06</th>\n",
       "      <td>31237.15</td>\n",
       "      <td>29799.30</td>\n",
       "      <td>15879.80</td>\n",
       "      <td>7987.35</td>\n",
       "    </tr>\n",
       "    <tr>\n",
       "      <th>2020-01-07</th>\n",
       "      <td>31399.40</td>\n",
       "      <td>29861.80</td>\n",
       "      <td>15895.20</td>\n",
       "      <td>8036.50</td>\n",
       "    </tr>\n",
       "  </tbody>\n",
       "</table>\n",
       "</div>"
      ],
      "text/plain": [
       "            NIFTY Bank index  NIFTY FMCG index  NIFTY IT index  \\\n",
       "Date                                                             \n",
       "2020-01-01          32102.90          30234.25        15722.15   \n",
       "2020-01-02          32443.85          30266.20        15709.65   \n",
       "2020-01-03          32069.25          30109.25        15936.60   \n",
       "2020-01-06          31237.15          29799.30        15879.80   \n",
       "2020-01-07          31399.40          29861.80        15895.20   \n",
       "\n",
       "            NIFTY Pharma index  \n",
       "Date                            \n",
       "2020-01-01             8047.10  \n",
       "2020-01-02             8053.95  \n",
       "2020-01-03             8111.95  \n",
       "2020-01-06             7987.35  \n",
       "2020-01-07             8036.50  "
      ]
     },
     "execution_count": 127,
     "metadata": {},
     "output_type": "execute_result"
    }
   ],
   "source": [
    "df.Date = pd.to_datetime(df.Date)\n",
    "df = df.set_index('Date')\n",
    "\n",
    "df.head()"
   ]
  },
  {
   "cell_type": "code",
   "execution_count": 128,
   "metadata": {
    "scrolled": false
   },
   "outputs": [
    {
     "data": {
      "text/html": [
       "<div>\n",
       "<style scoped>\n",
       "    .dataframe tbody tr th:only-of-type {\n",
       "        vertical-align: middle;\n",
       "    }\n",
       "\n",
       "    .dataframe tbody tr th {\n",
       "        vertical-align: top;\n",
       "    }\n",
       "\n",
       "    .dataframe thead th {\n",
       "        text-align: right;\n",
       "    }\n",
       "</style>\n",
       "<table border=\"1\" class=\"dataframe\">\n",
       "  <thead>\n",
       "    <tr style=\"text-align: right;\">\n",
       "      <th></th>\n",
       "      <th>NIFTY Bank index</th>\n",
       "      <th>NIFTY FMCG index</th>\n",
       "      <th>NIFTY IT index</th>\n",
       "      <th>NIFTY Pharma index</th>\n",
       "    </tr>\n",
       "    <tr>\n",
       "      <th>Date</th>\n",
       "      <th></th>\n",
       "      <th></th>\n",
       "      <th></th>\n",
       "      <th></th>\n",
       "    </tr>\n",
       "  </thead>\n",
       "  <tbody>\n",
       "    <tr>\n",
       "      <th>2020-01-31</th>\n",
       "      <td>31446.391304</td>\n",
       "      <td>30791.567391</td>\n",
       "      <td>16177.997826</td>\n",
       "      <td>8184.965217</td>\n",
       "    </tr>\n",
       "    <tr>\n",
       "      <th>2020-02-29</th>\n",
       "      <td>30675.427500</td>\n",
       "      <td>30468.122500</td>\n",
       "      <td>16411.647500</td>\n",
       "      <td>8140.932500</td>\n",
       "    </tr>\n",
       "    <tr>\n",
       "      <th>2020-03-31</th>\n",
       "      <td>22936.040476</td>\n",
       "      <td>26407.204762</td>\n",
       "      <td>13356.300000</td>\n",
       "      <td>7187.983333</td>\n",
       "    </tr>\n",
       "    <tr>\n",
       "      <th>2020-04-30</th>\n",
       "      <td>19715.116667</td>\n",
       "      <td>28622.122222</td>\n",
       "      <td>12750.766667</td>\n",
       "      <td>8926.777778</td>\n",
       "    </tr>\n",
       "    <tr>\n",
       "      <th>2020-05-31</th>\n",
       "      <td>18707.215789</td>\n",
       "      <td>27325.952632</td>\n",
       "      <td>13569.336842</td>\n",
       "      <td>9324.586842</td>\n",
       "    </tr>\n",
       "    <tr>\n",
       "      <th>2020-06-30</th>\n",
       "      <td>20953.679545</td>\n",
       "      <td>29321.377273</td>\n",
       "      <td>14585.154545</td>\n",
       "      <td>10036.240909</td>\n",
       "    </tr>\n",
       "    <tr>\n",
       "      <th>2020-07-31</th>\n",
       "      <td>22235.144737</td>\n",
       "      <td>30906.789474</td>\n",
       "      <td>16223.036842</td>\n",
       "      <td>10113.686842</td>\n",
       "    </tr>\n",
       "  </tbody>\n",
       "</table>\n",
       "</div>"
      ],
      "text/plain": [
       "            NIFTY Bank index  NIFTY FMCG index  NIFTY IT index  \\\n",
       "Date                                                             \n",
       "2020-01-31      31446.391304      30791.567391    16177.997826   \n",
       "2020-02-29      30675.427500      30468.122500    16411.647500   \n",
       "2020-03-31      22936.040476      26407.204762    13356.300000   \n",
       "2020-04-30      19715.116667      28622.122222    12750.766667   \n",
       "2020-05-31      18707.215789      27325.952632    13569.336842   \n",
       "2020-06-30      20953.679545      29321.377273    14585.154545   \n",
       "2020-07-31      22235.144737      30906.789474    16223.036842   \n",
       "\n",
       "            NIFTY Pharma index  \n",
       "Date                            \n",
       "2020-01-31         8184.965217  \n",
       "2020-02-29         8140.932500  \n",
       "2020-03-31         7187.983333  \n",
       "2020-04-30         8926.777778  \n",
       "2020-05-31         9324.586842  \n",
       "2020-06-30        10036.240909  \n",
       "2020-07-31        10113.686842  "
      ]
     },
     "execution_count": 128,
     "metadata": {},
     "output_type": "execute_result"
    }
   ],
   "source": [
    "df_res = df.resample(rule='M').mean()\n",
    "df_res"
   ]
  },
  {
   "cell_type": "code",
   "execution_count": 129,
   "metadata": {},
   "outputs": [
    {
     "data": {
      "text/html": [
       "<div>\n",
       "<style scoped>\n",
       "    .dataframe tbody tr th:only-of-type {\n",
       "        vertical-align: middle;\n",
       "    }\n",
       "\n",
       "    .dataframe tbody tr th {\n",
       "        vertical-align: top;\n",
       "    }\n",
       "\n",
       "    .dataframe thead th {\n",
       "        text-align: right;\n",
       "    }\n",
       "</style>\n",
       "<table border=\"1\" class=\"dataframe\">\n",
       "  <thead>\n",
       "    <tr style=\"text-align: right;\">\n",
       "      <th></th>\n",
       "      <th>NIFTY Bank index</th>\n",
       "      <th>NIFTY FMCG index</th>\n",
       "      <th>NIFTY IT index</th>\n",
       "      <th>NIFTY Pharma index</th>\n",
       "    </tr>\n",
       "    <tr>\n",
       "      <th>Date</th>\n",
       "      <th></th>\n",
       "      <th></th>\n",
       "      <th></th>\n",
       "      <th></th>\n",
       "    </tr>\n",
       "  </thead>\n",
       "  <tbody>\n",
       "    <tr>\n",
       "      <th>2020-01-31</th>\n",
       "      <td>31.446391</td>\n",
       "      <td>30.791567</td>\n",
       "      <td>16.177998</td>\n",
       "      <td>8.184965</td>\n",
       "    </tr>\n",
       "    <tr>\n",
       "      <th>2020-02-29</th>\n",
       "      <td>30.675428</td>\n",
       "      <td>30.468122</td>\n",
       "      <td>16.411648</td>\n",
       "      <td>8.140933</td>\n",
       "    </tr>\n",
       "    <tr>\n",
       "      <th>2020-03-31</th>\n",
       "      <td>22.936040</td>\n",
       "      <td>26.407205</td>\n",
       "      <td>13.356300</td>\n",
       "      <td>7.187983</td>\n",
       "    </tr>\n",
       "    <tr>\n",
       "      <th>2020-04-30</th>\n",
       "      <td>19.715117</td>\n",
       "      <td>28.622122</td>\n",
       "      <td>12.750767</td>\n",
       "      <td>8.926778</td>\n",
       "    </tr>\n",
       "    <tr>\n",
       "      <th>2020-05-31</th>\n",
       "      <td>18.707216</td>\n",
       "      <td>27.325953</td>\n",
       "      <td>13.569337</td>\n",
       "      <td>9.324587</td>\n",
       "    </tr>\n",
       "    <tr>\n",
       "      <th>2020-06-30</th>\n",
       "      <td>20.953680</td>\n",
       "      <td>29.321377</td>\n",
       "      <td>14.585155</td>\n",
       "      <td>10.036241</td>\n",
       "    </tr>\n",
       "    <tr>\n",
       "      <th>2020-07-31</th>\n",
       "      <td>22.235145</td>\n",
       "      <td>30.906789</td>\n",
       "      <td>16.223037</td>\n",
       "      <td>10.113687</td>\n",
       "    </tr>\n",
       "  </tbody>\n",
       "</table>\n",
       "</div>"
      ],
      "text/plain": [
       "            NIFTY Bank index  NIFTY FMCG index  NIFTY IT index  \\\n",
       "Date                                                             \n",
       "2020-01-31         31.446391         30.791567       16.177998   \n",
       "2020-02-29         30.675428         30.468122       16.411648   \n",
       "2020-03-31         22.936040         26.407205       13.356300   \n",
       "2020-04-30         19.715117         28.622122       12.750767   \n",
       "2020-05-31         18.707216         27.325953       13.569337   \n",
       "2020-06-30         20.953680         29.321377       14.585155   \n",
       "2020-07-31         22.235145         30.906789       16.223037   \n",
       "\n",
       "            NIFTY Pharma index  \n",
       "Date                            \n",
       "2020-01-31            8.184965  \n",
       "2020-02-29            8.140933  \n",
       "2020-03-31            7.187983  \n",
       "2020-04-30            8.926778  \n",
       "2020-05-31            9.324587  \n",
       "2020-06-30           10.036241  \n",
       "2020-07-31           10.113687  "
      ]
     },
     "execution_count": 129,
     "metadata": {},
     "output_type": "execute_result"
    }
   ],
   "source": [
    "df_res[['NIFTY Bank index', 'NIFTY FMCG index', 'NIFTY IT index', 'NIFTY Pharma index']] = df_res[['NIFTY Bank index', 'NIFTY FMCG index', 'NIFTY IT index', 'NIFTY Pharma index']]/1000\n",
    "df[['NIFTY Bank index', 'NIFTY FMCG index', 'NIFTY IT index', 'NIFTY Pharma index']] = df[['NIFTY Bank index', 'NIFTY FMCG index', 'NIFTY IT index', 'NIFTY Pharma index']]/1000\n",
    "df_res"
   ]
  },
  {
   "cell_type": "code",
   "execution_count": 147,
   "metadata": {},
   "outputs": [
    {
     "data": {
      "text/html": [
       "\n",
       "\n",
       "\n",
       "\n",
       "\n",
       "\n",
       "  <div class=\"bk-root\" id=\"1eca82b7-578f-43db-96b3-46ad0c416d9c\" data-root-id=\"16365\"></div>\n"
      ]
     },
     "metadata": {},
     "output_type": "display_data"
    },
    {
     "data": {
      "application/javascript": [
       "(function(root) {\n",
       "  function embed_document(root) {\n",
       "    \n",
       "  var docs_json = {\"e82a906d-6c6b-4311-8d68-109fdae5c38d\":{\"defs\":[],\"roots\":{\"references\":[{\"attributes\":{\"below\":[{\"id\":\"16376\"}],\"center\":[{\"id\":\"16379\"},{\"id\":\"16383\"},{\"id\":\"16426\"}],\"height\":450,\"left\":[{\"id\":\"16380\"}],\"output_backend\":\"webgl\",\"renderers\":[{\"id\":\"16402\"},{\"id\":\"16434\"},{\"id\":\"16467\"},{\"id\":\"16502\"}],\"sizing_mode\":\"fixed\",\"title\":{\"id\":\"16366\"},\"toolbar\":{\"id\":\"16391\"},\"width\":800,\"x_range\":{\"id\":\"16368\"},\"x_scale\":{\"id\":\"16372\"},\"y_range\":{\"id\":\"16370\"},\"y_scale\":{\"id\":\"16374\"}},\"id\":\"16365\",\"subtype\":\"Figure\",\"type\":\"Plot\"},{\"attributes\":{\"overlay\":{\"id\":\"16390\"}},\"id\":\"16386\",\"type\":\"BoxZoomTool\"},{\"attributes\":{},\"id\":\"16408\",\"type\":\"BasicTickFormatter\"},{\"attributes\":{},\"id\":\"16372\",\"type\":\"LinearScale\"},{\"attributes\":{},\"id\":\"16407\",\"type\":\"AllLabels\"},{\"attributes\":{\"days\":[1,2,3,4,5,6,7,8,9,10,11,12,13,14,15,16,17,18,19,20,21,22,23,24,25,26,27,28,29,30,31]},\"id\":\"16416\",\"type\":\"DaysTicker\"},{\"attributes\":{},\"id\":\"16410\",\"type\":\"AllLabels\"},{\"attributes\":{\"label\":{\"value\":\" NIFTY Pharma index\"},\"renderers\":[{\"id\":\"16502\"}]},\"id\":\"16532\",\"type\":\"LegendItem\"},{\"attributes\":{\"mantissas\":[1,2,5],\"max_interval\":500.0,\"num_minor_ticks\":0},\"id\":\"16413\",\"type\":\"AdaptiveTicker\"},{\"attributes\":{\"text\":\"NIFTY Stock Values\"},\"id\":\"16366\",\"type\":\"Title\"},{\"attributes\":{\"data\":{\"NIFTY Bank index\":{\"__ndarray__\":\"E2HD0ysNQEAwKqkT0DhAQL6fGi/dCEBAFD/G3LU8P0C8BRIUP2Y/QIEmwoanXz9AQRNhw9MLQECxUGuadwxAQDQRNjy9FkBAE2HD0ysJQEBteHqlLNM/QO4NvjCZ2j9A5WGh1jSXP0AjbHh6pRQ/QCZTBaOS8j5AescpOpKzPkB+jLlrCQE/QNnO91PjPT9AoKut2F/WPkCmLEMc68I+QI2XbhKD4D5AL26jAbylPkAS8kHPZtU+QFJJnYAm0j1Ay6FFtvMFPkDIKTqSy68+QCo6kst/AD9AS1mGONZNP0BdbcX+sjM/QC1DHOviDj9Ady0hH/RMP0DLMsSxLn4/QG3n+6nxOj9AZ7Pqc7XVPkAgY+5aQq4+QAAAAAAAkD5A2IFzRpTWPkCaCBueXvE+QNtoAG+BdD5ArfpcbcVuPkAQx7q4jU4+QB1aZDvfLz5APZtVn6slPUCu2F92T948QL3BFyZTLT1ALGUZ4linPEApyxDHutA8QBNhw9MrzTtALSEf9Gx2OkAi/fZ14Hw6QKqCUUmd+DdAUWuad5wqOUCL/WX35Bk3QHP5D+m3JzZAoyO5/IeUNEBMN4lBYBU0QKg1zTtOUTRApixDHOvqMEBd3EYDeBsxQKW9wRcmezJAsAPnjCidM0Dy0k1iEPgzQPJjzF1LyDJAvp8aL90kM0AhH/RsVjUyQI7k8h/SPzFAAAAAAAAQM0CZTBWMSvIyQCegibDh6TNAsHJoke18M0CfPCzUmg4zQGZmZmZmZjNA9dvXgXOuNEAhQfFjzIU0QBueXinLaDNAlrIMcayzM0CU9gZfmEQ0QMsyxLEuljNABhIUP8YUNEB5WKg1zas0QGUZ4lgXFzVARrbz/dSINUBmZmZmZr4zQCGwcmiRRTNA0m9fB86xM0A8LNSa5n0zQCfChqdXWjNAF9nO91PzMkCFWtO849wyQF+YTBWMojNAqMZLN4kRM0DMf0i/fdUyQDQRNjy9kjFAFK5H4Xp8MUBlGeJYF9cxQCNKe4MvvDFAutqK/WVHMUApyxDHunAxQDws1JrmtTJAXdxGA3grM0BqvHSTGEwzQC9uowG89TNA1lbsL7uHNEDiWBe30fA0QCS5/If0YzRARrbz/dQINUDV52or9i81QNPe4AuTuTRAYFRSJ6AZNUCRfvs6cIY0QMiYu5aQpzRAtoR80LPpM0AkufyH9Es0QM/3U+OlMzRAMCqpE9D0NEAQx7q4jVY1QCEf9GxWtTVA3bWEfNBDNkDM7snDQm01QNPe4AuTgTVAyJi7lpCXNUCWQ4ts51s1QEqdgCbCXjVA0ZFc/kP6NUAWjErqBPQ1QEQc6+I22jVACYofY+4yNkBU46WbxKA2QD2bVZ+rlTZAY+5aQj7oNkBZF7fRAGY2QAIrhxbZFjZAv30dOGdkNUCsHFpkO1c1QHHOiNLemDVA1sVtNID3NUC0N/jCZFI2QNV46SYxyDZAGXPXEvLhNkBoImx4ehU3QBpR2ht8qTZA4XoUrkfZNUA=\",\"dtype\":\"float64\",\"order\":\"little\",\"shape\":[142]},\"NIFTY FMCG index\":{\"__ndarray__\":\"hxbZzvc7PkD5MeauJUQ+QIcW2c73Gz5AW7G/7J7MPUBbsb/sntw9QIbJVMGo5D1AHcnlP6QfPkCfzarP1V4+QMpUwaiktj5AotY07zglP0Cw4emVsjw/QNiBc0aUVj9AZRniWBdfP0Boke18P20/QOjZrPpcJT9A5WGh1jQnP0Bgdk8eFjo/QNPe4AuTeT9AETY8vVImP0BXW7G/7AY/QIXrUbgebT9A1lbsL7vvPkC7lpAPesY+QCfChqdXMj5A5PIf0m9vPkBYObTIdr4+QOVhodY07z5AzTtO0ZG8PkCsHFpkO88+QDqSy39Ihz5Aio7k8h9qPkAUrkfhevw+QJm7lpAPCj9AIbByaJGlPkClvcEXJns+QAbwFkhQXD5A9ihcj8LVPkB7FK5H4aI+QLzjFB3JJT5AzqrP1VYsPkAep+hILvc9QNDVVuwv+z1AgZVDi2xPPUAXak3zjiM9QJ2iI7n8Zz1A4XoUrkc5PUArhxbZzoc9QB1aZDvf7zxAWDm0yHYOPEBcj8L1KBQ8QGiR7Xw/FTpAaJHtfD81OkCwA+eMKLU4QIMvTKYK7jhAObTIdr4vOECNl24Sg/g3QB/0bFZ97jlALNSa5h0vN0Dk8h/Sb+83QPGFyVTBeDhAdQKaCBuuOUC9UpYhjr05QCL99nXg1DlAGuJYF7dRO0AHzhlR2ls6QIts5/upiTpAdLUV+8u+PEAQ6bevA9c8QBaMSuoE9DxAmN2Th4WCPEC5/If02689QKW9wRcmgz1AeVioNc0zPUDTvOMUHZk8QCV1ApoIezxAutqK/WUvPUDhehSuR8k8QPtcbcX+ojxAoWez6nMNPUDlYaHWNMc8QArXo3A9qjxAejarPlerPEDTTWIQWJk7QME5I0p7IztAcPCFyVShOkBhMlUwKkE6QDSAt0CCwjpA0ETY8PSqOkAzxLEubts6QMl2vp8avzpAEOm3rwPvOkB3Tx4WavU6QJoqGJXUsTpAWmQ730/lOkDDZKpgVEo7QBdIUPwY4ztAtmJ/2T3JO0ABTYQNTx88QGKh1jTvODxApN++DpxzPEAWjErqBEw9QG40gLdAkj1AMXctIR9cPUD0/dR46YY9QCzUmuYdnz1AmG4Sg8CKPUC4rwPnjIA9QKCrrdhfhj1A4lgXt9GAPUDkg57Nqhc9QC9MpgpGJT1AMlUwKqmzPEDswDkjSpM8QEoMAiuHbjxAS+oENBGmPECvJeSDnrU8QL1SliGO3TxACYofY+5aPUAGEhQ/xnw9QKJFtvP9HD5A0m9fB87BPUCNKO0Nvvg9QNV46SYxED5A7FG4HoU7PkDG/rJ78lA+QEhQ/Bhzhz5AIUHxY8ylPkCGyVTBqIQ+QNlfdk8exj5AhxbZzverPkBEHOviNtI+QBDpt68DNz9A1xLyQc/uPkAkufyH9CM/QPRsVn2uLj9A/yH99nVwP0CoNc07Tok/QDm0yHa+Rz9APXlYqDUNP0Bgdk8eFho/QJOHhVrTBD9AYOXQItvRPkA=\",\"dtype\":\"float64\",\"order\":\"little\",\"shape\":[142]},\"NIFTY IT index\":{\"__ndarray__\":\"4JwRpb1xL0B6Nqs+V2svQAHeAgmK3y9ApgpGJXXCL0AnwoanV8ovQA6+MJkq6C9A78nDQq3ZL0Bd3EYDeOsvQJkqGJXUOTBAorQ3+MJcMEAbnl4py1gwQLaEfNCzYTBA7MA5I0pbMEDMXUvIBzUwQFtCPujZLDBAduCcEaVVMEDwOEVHcnkwQBsv3SQGeTBAPldbsb9kMEC8dJMYBG4wQAn5oGezejBAwFsgQfFTMEDpt68D5yQwQOM2GsBbSDBAyAc9m1UPMEA2zTtO0VkwQO2ePCzUcjBAEOm3rwNfMEDjNhrAW3gwQHUkl/+QbjBAFvvL7slzMEBE+u3rwIkwQKOSOgFNrDBABoGVQ4ukMECEns2qz6UwQEjhehSuvzBAkst/SL/FMEC8BRIUP6YwQPVKWYY4djBAAAAAAACQMECTGARWDlUwQKs+V1uxHzBAzV1LyAdtLkDQRNjw9NouQDXvOEVHci9AmN2Th4W6L0A8vVKWIb4vQPoP6bevUy9AZ7Pqc7W1LUAi/fZ14FwtQGgAb4EExSpAFoxK6gQUK0BlGeJYF+coQIlBYOXQMihAqMZLN4mBJ0CuR+F6FK4mQJm7lpAPuihAJLn8h/RbJkBCz2bV57onQA8LtaZ5dyhAp3nHKToSKUClTkATYSMpQPrt68A5oyhASS7/If2GKUAPC7WmeRcoQCNKe4MvXCdAWvW52ootKUCWsgxxrPsoQGgAb4EEdSlAaW/whck0KUDWVuwvu2cpQOjZrPpc7ShAI9v5fmpMKUCn6Egu/7EpQHDwhclU0ShA22gAb4EkKUDFsS5uo0EqQIv9ZffkoSlAINJvXwc+KkCGONbFbUQqQNPe4AuT2SpADwu1pnk3LEB/arx0k+gqQC2yne+nxipAYHZPHhbKKkASFD/G3JUqQMpUwaikzipA4xQdyeUvK0DjpZvEIGArQCFB8WPMjStAoKut2F+WKkCjI7n8h2QqQIy5awn5oCpAhslUwajkKkDUK2UZ4ggrQCQofoy5SytA5PIf0m+vK0Cgq63YXyYrQIC3QILi5ytAylTBqKQOLEBMN4lBYAUsQAU0ETY8nSxAKqkT0ETYLEAp7Q2+MLksQBvAWyBBQS1AG8BbIEFBLUDSAN4CCcotQET67evAeS1AjzF3LSGvLUCwA+eMKD0tQJHtfD81zixAe6UsQxzLLEDXEvJBz+YsQNuK/WX39CxACtejcD0aLUDjFB3J5f8sQK+UZYhj7SxAlGWIY11cLUC2hHzQsyktQPw6cM6I0ixAzO7Jw0L9LUDwp8ZLN4ktQN++Dpwzgi1An82qz9V2LUDlP6Tfvj4uQFHaG3xhki5A54wo7Q3uLkCL/WX35JEvQEku/yH9Bi9AGZXUCWgSL0D+ZffkYSEvQDPEsS5uoy9A1edqK/ZHL0Bns+pztXUwQPd14JwR7TBA0ZFc/kPSMECKjuTyH0IxQGdEaW/wRTFAXdxGA3gTMUB6xyk6kgsxQPCnxks3STFAnMQgsHKgMUA=\",\"dtype\":\"float64\",\"order\":\"little\",\"shape\":[142]},\"NIFTY Pharma index\":{\"__ndarray__\":\"gEi/fR0YIEAIPZtVnxsgQAyTqYJROSBAidLe4AvzH0Cmm8QgsBIgQD+k374O/B9AjLlrCfkQIEDLoUW28x0gQA6+MJkqKCBAlkOLbOc7IEC+MJkqGFUgQJ2iI7n8ZyBAG55eKcuwIEDvWkI+6IkgQFwgQfFjjCBAbAn5oGeDIEC2hHzQs5kgQBDHuriNliBAE2HD0yvVIEC6SQwCK9cgQN2Th4Va0yBAmggbnl55IECCc0aU9kYgQNejcD0KByBArfpcbcXeH0CQD3o2qz4gQFXBqKROQCBATYQNT690IEB0RpT2Bq8gQPYoXI/ChSBA9UpZhjimIEAOnDOitIcgQM+I0t7gqyBAmioYldSpIEDUK2UZ4mggQPaX3ZOHZSBAxEKtad7BIEBfmEwVjLogQAkbnl4pOyBAjLlrCfnAH0B6Nqs+V1sfQLQ3+MJkih9AO99PjZdOHkDBWyBB8SMeQFjKMsSxrh9AB/AWSFAsIECYbhKDwEogQJoIG55eCSBAnzws1JoGH0BZF7fRAH4eQBNhw9MrxRtA30+Nl24SHUCgq63YX9YbQO4NvjCZ6htAppvEILDSGkCsHFpkO58aQOU/pN++zhtAQz7o2ay6GUAa4lgXt3EaQGPuWkI+yBpAmpmZmZkZG0AcDeAtkEAbQC/dJAaBlRtA2/l+ary0HEB6Nqs+VxscQDXvOEVHch1Aq8/VVuw/IECJ0t7gC9MgQJoqGJXUmSFAuycPC7UWIkBqK/aX3RMiQIMvTKYKZiJAVOOlm8RQIkBcIEHxY0wiQGwJ+aBnwyJAGy/dJAbBIkAs1JrmHcciQPA4RUdyCSNAFB3J5T80I0AvbqMBvMUiQIV80LNZxSJADwu1pnmnIkBDPujZrLoiQLByaJHtXCJAo5I6AU10IkBBE2HD00siQMgpOpLLryJAIR/0bFadIkDmHafoSH4iQM/3U+OlSyJADr4wmSpYIkBWDi2ynS8iQOTyH9JvLyJAs3vysFArIkAnoImw4ekiQJjdk4eFCiNAT6+UZYgzI0BkO99PjfciQHdPHhZq7SJA5/up8dLtIkBFaW/whYkjQEM+6NmsmiNAJuSDns2qI0C0N/jCZLojQLn8h/TbJyRAYFRSJ6ApJEDiWBe30eAjQB/0bFZ9PiRAI9v5fmpMJEA8LNSa5t0jQIEExY8x9yNAtDf4wmT6I0BfB84ZUdojQGpN845T9CNA3ZOHhVrzI0BwXwfOGQEkQMgpOpLLbyRAKcsQx7q4JEB/arx0kzgkQN5xio7kYiRA2IFzRpRGJECEDU+vlEUkQA1Pr5Rl+CNAFoxK6gTEI0ClvcEXJuMjQMzuycNC7SNAPQrXo3DNI0Coxks3icEjQBKDwMqh5SNAYFRSJ6D5I0CiRbbz/SQkQNiBc0aUNiRAVn2utmJPJECWQ4ts52skQIeFWtO8wyRA4JwRpb3xJEAkufyH9JskQOU/pN++TiRAtoR80LNZJEAT0ETY8KQkQJoqGJXUeSRAAG+BBMUfJEA=\",\"dtype\":\"float64\",\"order\":\"little\",\"shape\":[142]},\"__x__values\":{\"__ndarray__\":\"AACAbub1dkIAAEDUOPZ2QgAAADqL9nZCAABAa4L3dkIAAADR1Pd2QgAAwDYn+HZCAACAnHn4dkIAAEACzPh2QgAAgDPD+XZCAABAmRX6dkIAAAD/Z/p2QgAAwGS6+nZCAACAygz7dkIAAMD7A/x2QgAAgGFW/HZCAABAx6j8dkIAAAAt+/x2QgAAwJJN/XZCAAAAxET+dkIAAMApl/52QgAAgI/p/nZCAABA9Tv/dkIAAABbjv92QgAAwMDg/3ZCAABAjIUAd0IAAADy1wB3QgAAwFcqAXdCAACAvXwBd0IAAEAjzwF3QgAAgFTGAndCAABAuhgDd0IAAAAgawN3QgAAwIW9A3dCAACA6w8Ed0IAAMAcBwV3QgAAgIJZBXdCAABA6KsFd0IAAABO/gV3QgAAAOVHB3dCAADASpoHd0IAAICw7Ad3QgAAQBY/CHdCAAAAfJEId0IAAECtiAl3QgAAABPbCXdCAADAeC0Kd0IAAIDefwp3QgAAQETSCndCAACAdckLd0IAAABBbgx3QgAAwKbADHdCAACADBMNd0IAAMA9Cg53QgAAgKNcDndCAABACa8Od0IAAABvAQ93QgAAwNRTD3dCAAAABksQd0IAAMBrnRB3QgAAgNHvEHdCAABAN0IRd0IAAACdlBF3QgAAQM6LEndCAAAANN4Sd0IAAMCZMBN3QgAAQGXVE3dCAABA/B4Vd0IAAABicRV3QgAAwMfDFXdCAADAXg0Xd0IAAEAqshd3QgAAAJAEGHdCAADA9VYYd0IAAAAnThl3QgAAwIygGXdCAACA8vIZd0IAAEBYRRp3QgAAAL6XGndCAABA744bd0IAAABV4Rt3QgAAwLozHHdCAACAIIYcd0IAAIC3zx13QgAAQB0iHndCAAAAg3Qed0IAAMDoxh53QgAAgE4ZH3dCAADAfxAgd0IAAIDlYiB3QgAAQEu1IHdCAAAAsQchd0IAAMAWWiF3QgAAAEhRIndCAADAraMid0IAAIAT9iJ3QgAAQHlII3dCAAAA35ojd0IAAAB25CR3QgAAwNs2JXdCAACAQYkld0IAAECn2yV3QgAAgNjSJndCAABAPiUnd0IAAACkdyd3QgAAwAnKJ3dCAACAbxwod0IAAMCgEyl3QgAAgAZmKXdCAABAbLgpd0IAAADSCip3QgAAwDddKndCAAAAaVQrd0IAAMDOpit3QgAAgDT5K3dCAABAmkssd0IAAAAAnix3QgAAQDGVLXdCAAAAl+ctd0IAAMD8OS53QgAAgGKMLndCAABAyN4ud0IAAID51S93QgAAQF8oMHdCAAAAxXowd0IAAMAqzTB3QgAAgJAfMXdCAADAwRYyd0IAAIAnaTJ3QgAAQI27MndCAAAA8w0zd0IAAMBYYDN3QgAAAIpXNHdCAADA76k0d0IAAIBV/DR3QgAAQLtONXdCAAAAIaE1d0IAAEBSmDZ3QgAAALjqNndCAADAHT03d0IAAICDjzd3QgAAQOnhN3dCAACAGtk4d0I=\",\"dtype\":\"float64\",\"order\":\"little\",\"shape\":[142]},\"__x__values_original\":{\"__ndarray__\":\"AACAbub1dkIAAEDUOPZ2QgAAADqL9nZCAABAa4L3dkIAAADR1Pd2QgAAwDYn+HZCAACAnHn4dkIAAEACzPh2QgAAgDPD+XZCAABAmRX6dkIAAAD/Z/p2QgAAwGS6+nZCAACAygz7dkIAAMD7A/x2QgAAgGFW/HZCAABAx6j8dkIAAAAt+/x2QgAAwJJN/XZCAAAAxET+dkIAAMApl/52QgAAgI/p/nZCAABA9Tv/dkIAAABbjv92QgAAwMDg/3ZCAABAjIUAd0IAAADy1wB3QgAAwFcqAXdCAACAvXwBd0IAAEAjzwF3QgAAgFTGAndCAABAuhgDd0IAAAAgawN3QgAAwIW9A3dCAACA6w8Ed0IAAMAcBwV3QgAAgIJZBXdCAABA6KsFd0IAAABO/gV3QgAAAOVHB3dCAADASpoHd0IAAICw7Ad3QgAAQBY/CHdCAAAAfJEId0IAAECtiAl3QgAAABPbCXdCAADAeC0Kd0IAAIDefwp3QgAAQETSCndCAACAdckLd0IAAABBbgx3QgAAwKbADHdCAACADBMNd0IAAMA9Cg53QgAAgKNcDndCAABACa8Od0IAAABvAQ93QgAAwNRTD3dCAAAABksQd0IAAMBrnRB3QgAAgNHvEHdCAABAN0IRd0IAAACdlBF3QgAAQM6LEndCAAAANN4Sd0IAAMCZMBN3QgAAQGXVE3dCAABA/B4Vd0IAAABicRV3QgAAwMfDFXdCAADAXg0Xd0IAAEAqshd3QgAAAJAEGHdCAADA9VYYd0IAAAAnThl3QgAAwIygGXdCAACA8vIZd0IAAEBYRRp3QgAAAL6XGndCAABA744bd0IAAABV4Rt3QgAAwLozHHdCAACAIIYcd0IAAIC3zx13QgAAQB0iHndCAAAAg3Qed0IAAMDoxh53QgAAgE4ZH3dCAADAfxAgd0IAAIDlYiB3QgAAQEu1IHdCAAAAsQchd0IAAMAWWiF3QgAAAEhRIndCAADAraMid0IAAIAT9iJ3QgAAQHlII3dCAAAA35ojd0IAAAB25CR3QgAAwNs2JXdCAACAQYkld0IAAECn2yV3QgAAgNjSJndCAABAPiUnd0IAAACkdyd3QgAAwAnKJ3dCAACAbxwod0IAAMCgEyl3QgAAgAZmKXdCAABAbLgpd0IAAADSCip3QgAAwDddKndCAAAAaVQrd0IAAMDOpit3QgAAgDT5K3dCAABAmkssd0IAAAAAnix3QgAAQDGVLXdCAAAAl+ctd0IAAMD8OS53QgAAgGKMLndCAABAyN4ud0IAAID51S93QgAAQF8oMHdCAAAAxXowd0IAAMAqzTB3QgAAgJAfMXdCAADAwRYyd0IAAIAnaTJ3QgAAQI27MndCAAAA8w0zd0IAAMBYYDN3QgAAAIpXNHdCAADA76k0d0IAAIBV/DR3QgAAQLtONXdCAAAAIaE1d0IAAEBSmDZ3QgAAALjqNndCAADAHT03d0IAAICDjzd3QgAAQOnhN3dCAACAGtk4d0I=\",\"dtype\":\"float64\",\"order\":\"little\",\"shape\":[142]}},\"selected\":{\"id\":\"16518\"},\"selection_policy\":{\"id\":\"16517\"}},\"id\":\"16498\",\"type\":\"ColumnDataSource\"},{\"attributes\":{},\"id\":\"16368\",\"type\":\"DataRange1d\"},{\"attributes\":{\"base\":24,\"mantissas\":[1,2,4,6,8,12],\"max_interval\":43200000.0,\"min_interval\":3600000.0,\"num_minor_ticks\":0},\"id\":\"16415\",\"type\":\"AdaptiveTicker\"},{\"attributes\":{\"line_color\":\"#ff7f0e\",\"line_width\":2,\"x\":{\"field\":\"__x__values\"},\"y\":{\"field\":\"NIFTY FMCG index\"}},\"id\":\"16432\",\"type\":\"Line\"},{\"attributes\":{\"line_color\":\"#d62728\",\"line_width\":2,\"x\":{\"field\":\"__x__values\"},\"y\":{\"field\":\"NIFTY Pharma index\"}},\"id\":\"16500\",\"type\":\"Line\"},{\"attributes\":{\"label\":{\"value\":\" NIFTY IT index\"},\"renderers\":[{\"id\":\"16467\"}]},\"id\":\"16495\",\"type\":\"LegendItem\"},{\"attributes\":{\"data_source\":{\"id\":\"16498\"},\"glyph\":{\"id\":\"16500\"},\"hover_glyph\":null,\"muted_glyph\":null,\"nonselection_glyph\":{\"id\":\"16501\"},\"view\":{\"id\":\"16503\"}},\"id\":\"16502\",\"type\":\"GlyphRenderer\"},{\"attributes\":{\"data\":{\"NIFTY Bank index\":{\"__ndarray__\":\"E2HD0ysNQEAwKqkT0DhAQL6fGi/dCEBAFD/G3LU8P0C8BRIUP2Y/QIEmwoanXz9AQRNhw9MLQECxUGuadwxAQDQRNjy9FkBAE2HD0ysJQEBteHqlLNM/QO4NvjCZ2j9A5WGh1jSXP0AjbHh6pRQ/QCZTBaOS8j5AescpOpKzPkB+jLlrCQE/QNnO91PjPT9AoKut2F/WPkCmLEMc68I+QI2XbhKD4D5AL26jAbylPkAS8kHPZtU+QFJJnYAm0j1Ay6FFtvMFPkDIKTqSy68+QCo6kst/AD9AS1mGONZNP0BdbcX+sjM/QC1DHOviDj9Ady0hH/RMP0DLMsSxLn4/QG3n+6nxOj9AZ7Pqc7XVPkAgY+5aQq4+QAAAAAAAkD5A2IFzRpTWPkCaCBueXvE+QNtoAG+BdD5ArfpcbcVuPkAQx7q4jU4+QB1aZDvfLz5APZtVn6slPUCu2F92T948QL3BFyZTLT1ALGUZ4linPEApyxDHutA8QBNhw9MrzTtALSEf9Gx2OkAi/fZ14Hw6QKqCUUmd+DdAUWuad5wqOUCL/WX35Bk3QHP5D+m3JzZAoyO5/IeUNEBMN4lBYBU0QKg1zTtOUTRApixDHOvqMEBd3EYDeBsxQKW9wRcmezJAsAPnjCidM0Dy0k1iEPgzQPJjzF1LyDJAvp8aL90kM0AhH/RsVjUyQI7k8h/SPzFAAAAAAAAQM0CZTBWMSvIyQCegibDh6TNAsHJoke18M0CfPCzUmg4zQGZmZmZmZjNA9dvXgXOuNEAhQfFjzIU0QBueXinLaDNAlrIMcayzM0CU9gZfmEQ0QMsyxLEuljNABhIUP8YUNEB5WKg1zas0QGUZ4lgXFzVARrbz/dSINUBmZmZmZr4zQCGwcmiRRTNA0m9fB86xM0A8LNSa5n0zQCfChqdXWjNAF9nO91PzMkCFWtO849wyQF+YTBWMojNAqMZLN4kRM0DMf0i/fdUyQDQRNjy9kjFAFK5H4Xp8MUBlGeJYF9cxQCNKe4MvvDFAutqK/WVHMUApyxDHunAxQDws1JrmtTJAXdxGA3grM0BqvHSTGEwzQC9uowG89TNA1lbsL7uHNEDiWBe30fA0QCS5/If0YzRARrbz/dQINUDV52or9i81QNPe4AuTuTRAYFRSJ6AZNUCRfvs6cIY0QMiYu5aQpzRAtoR80LPpM0AkufyH9Es0QM/3U+OlMzRAMCqpE9D0NEAQx7q4jVY1QCEf9GxWtTVA3bWEfNBDNkDM7snDQm01QNPe4AuTgTVAyJi7lpCXNUCWQ4ts51s1QEqdgCbCXjVA0ZFc/kP6NUAWjErqBPQ1QEQc6+I22jVACYofY+4yNkBU46WbxKA2QD2bVZ+rlTZAY+5aQj7oNkBZF7fRAGY2QAIrhxbZFjZAv30dOGdkNUCsHFpkO1c1QHHOiNLemDVA1sVtNID3NUC0N/jCZFI2QNV46SYxyDZAGXPXEvLhNkBoImx4ehU3QBpR2ht8qTZA4XoUrkfZNUA=\",\"dtype\":\"float64\",\"order\":\"little\",\"shape\":[142]},\"NIFTY FMCG index\":{\"__ndarray__\":\"hxbZzvc7PkD5MeauJUQ+QIcW2c73Gz5AW7G/7J7MPUBbsb/sntw9QIbJVMGo5D1AHcnlP6QfPkCfzarP1V4+QMpUwaiktj5AotY07zglP0Cw4emVsjw/QNiBc0aUVj9AZRniWBdfP0Boke18P20/QOjZrPpcJT9A5WGh1jQnP0Bgdk8eFjo/QNPe4AuTeT9AETY8vVImP0BXW7G/7AY/QIXrUbgebT9A1lbsL7vvPkC7lpAPesY+QCfChqdXMj5A5PIf0m9vPkBYObTIdr4+QOVhodY07z5AzTtO0ZG8PkCsHFpkO88+QDqSy39Ihz5Aio7k8h9qPkAUrkfhevw+QJm7lpAPCj9AIbByaJGlPkClvcEXJns+QAbwFkhQXD5A9ihcj8LVPkB7FK5H4aI+QLzjFB3JJT5AzqrP1VYsPkAep+hILvc9QNDVVuwv+z1AgZVDi2xPPUAXak3zjiM9QJ2iI7n8Zz1A4XoUrkc5PUArhxbZzoc9QB1aZDvf7zxAWDm0yHYOPEBcj8L1KBQ8QGiR7Xw/FTpAaJHtfD81OkCwA+eMKLU4QIMvTKYK7jhAObTIdr4vOECNl24Sg/g3QB/0bFZ97jlALNSa5h0vN0Dk8h/Sb+83QPGFyVTBeDhAdQKaCBuuOUC9UpYhjr05QCL99nXg1DlAGuJYF7dRO0AHzhlR2ls6QIts5/upiTpAdLUV+8u+PEAQ6bevA9c8QBaMSuoE9DxAmN2Th4WCPEC5/If02689QKW9wRcmgz1AeVioNc0zPUDTvOMUHZk8QCV1ApoIezxAutqK/WUvPUDhehSuR8k8QPtcbcX+ojxAoWez6nMNPUDlYaHWNMc8QArXo3A9qjxAejarPlerPEDTTWIQWJk7QME5I0p7IztAcPCFyVShOkBhMlUwKkE6QDSAt0CCwjpA0ETY8PSqOkAzxLEubts6QMl2vp8avzpAEOm3rwPvOkB3Tx4WavU6QJoqGJXUsTpAWmQ730/lOkDDZKpgVEo7QBdIUPwY4ztAtmJ/2T3JO0ABTYQNTx88QGKh1jTvODxApN++DpxzPEAWjErqBEw9QG40gLdAkj1AMXctIR9cPUD0/dR46YY9QCzUmuYdnz1AmG4Sg8CKPUC4rwPnjIA9QKCrrdhfhj1A4lgXt9GAPUDkg57Nqhc9QC9MpgpGJT1AMlUwKqmzPEDswDkjSpM8QEoMAiuHbjxAS+oENBGmPECvJeSDnrU8QL1SliGO3TxACYofY+5aPUAGEhQ/xnw9QKJFtvP9HD5A0m9fB87BPUCNKO0Nvvg9QNV46SYxED5A7FG4HoU7PkDG/rJ78lA+QEhQ/Bhzhz5AIUHxY8ylPkCGyVTBqIQ+QNlfdk8exj5AhxbZzverPkBEHOviNtI+QBDpt68DNz9A1xLyQc/uPkAkufyH9CM/QPRsVn2uLj9A/yH99nVwP0CoNc07Tok/QDm0yHa+Rz9APXlYqDUNP0Bgdk8eFho/QJOHhVrTBD9AYOXQItvRPkA=\",\"dtype\":\"float64\",\"order\":\"little\",\"shape\":[142]},\"NIFTY IT index\":{\"__ndarray__\":\"4JwRpb1xL0B6Nqs+V2svQAHeAgmK3y9ApgpGJXXCL0AnwoanV8ovQA6+MJkq6C9A78nDQq3ZL0Bd3EYDeOsvQJkqGJXUOTBAorQ3+MJcMEAbnl4py1gwQLaEfNCzYTBA7MA5I0pbMEDMXUvIBzUwQFtCPujZLDBAduCcEaVVMEDwOEVHcnkwQBsv3SQGeTBAPldbsb9kMEC8dJMYBG4wQAn5oGezejBAwFsgQfFTMEDpt68D5yQwQOM2GsBbSDBAyAc9m1UPMEA2zTtO0VkwQO2ePCzUcjBAEOm3rwNfMEDjNhrAW3gwQHUkl/+QbjBAFvvL7slzMEBE+u3rwIkwQKOSOgFNrDBABoGVQ4ukMECEns2qz6UwQEjhehSuvzBAkst/SL/FMEC8BRIUP6YwQPVKWYY4djBAAAAAAACQMECTGARWDlUwQKs+V1uxHzBAzV1LyAdtLkDQRNjw9NouQDXvOEVHci9AmN2Th4W6L0A8vVKWIb4vQPoP6bevUy9AZ7Pqc7W1LUAi/fZ14FwtQGgAb4EExSpAFoxK6gQUK0BlGeJYF+coQIlBYOXQMihAqMZLN4mBJ0CuR+F6FK4mQJm7lpAPuihAJLn8h/RbJkBCz2bV57onQA8LtaZ5dyhAp3nHKToSKUClTkATYSMpQPrt68A5oyhASS7/If2GKUAPC7WmeRcoQCNKe4MvXCdAWvW52ootKUCWsgxxrPsoQGgAb4EEdSlAaW/whck0KUDWVuwvu2cpQOjZrPpc7ShAI9v5fmpMKUCn6Egu/7EpQHDwhclU0ShA22gAb4EkKUDFsS5uo0EqQIv9ZffkoSlAINJvXwc+KkCGONbFbUQqQNPe4AuT2SpADwu1pnk3LEB/arx0k+gqQC2yne+nxipAYHZPHhbKKkASFD/G3JUqQMpUwaikzipA4xQdyeUvK0DjpZvEIGArQCFB8WPMjStAoKut2F+WKkCjI7n8h2QqQIy5awn5oCpAhslUwajkKkDUK2UZ4ggrQCQofoy5SytA5PIf0m+vK0Cgq63YXyYrQIC3QILi5ytAylTBqKQOLEBMN4lBYAUsQAU0ETY8nSxAKqkT0ETYLEAp7Q2+MLksQBvAWyBBQS1AG8BbIEFBLUDSAN4CCcotQET67evAeS1AjzF3LSGvLUCwA+eMKD0tQJHtfD81zixAe6UsQxzLLEDXEvJBz+YsQNuK/WX39CxACtejcD0aLUDjFB3J5f8sQK+UZYhj7SxAlGWIY11cLUC2hHzQsyktQPw6cM6I0ixAzO7Jw0L9LUDwp8ZLN4ktQN++Dpwzgi1An82qz9V2LUDlP6Tfvj4uQFHaG3xhki5A54wo7Q3uLkCL/WX35JEvQEku/yH9Bi9AGZXUCWgSL0D+ZffkYSEvQDPEsS5uoy9A1edqK/ZHL0Bns+pztXUwQPd14JwR7TBA0ZFc/kPSMECKjuTyH0IxQGdEaW/wRTFAXdxGA3gTMUB6xyk6kgsxQPCnxks3STFAnMQgsHKgMUA=\",\"dtype\":\"float64\",\"order\":\"little\",\"shape\":[142]},\"NIFTY Pharma index\":{\"__ndarray__\":\"gEi/fR0YIEAIPZtVnxsgQAyTqYJROSBAidLe4AvzH0Cmm8QgsBIgQD+k374O/B9AjLlrCfkQIEDLoUW28x0gQA6+MJkqKCBAlkOLbOc7IEC+MJkqGFUgQJ2iI7n8ZyBAG55eKcuwIEDvWkI+6IkgQFwgQfFjjCBAbAn5oGeDIEC2hHzQs5kgQBDHuriNliBAE2HD0yvVIEC6SQwCK9cgQN2Th4Va0yBAmggbnl55IECCc0aU9kYgQNejcD0KByBArfpcbcXeH0CQD3o2qz4gQFXBqKROQCBATYQNT690IEB0RpT2Bq8gQPYoXI/ChSBA9UpZhjimIEAOnDOitIcgQM+I0t7gqyBAmioYldSpIEDUK2UZ4mggQPaX3ZOHZSBAxEKtad7BIEBfmEwVjLogQAkbnl4pOyBAjLlrCfnAH0B6Nqs+V1sfQLQ3+MJkih9AO99PjZdOHkDBWyBB8SMeQFjKMsSxrh9AB/AWSFAsIECYbhKDwEogQJoIG55eCSBAnzws1JoGH0BZF7fRAH4eQBNhw9MrxRtA30+Nl24SHUCgq63YX9YbQO4NvjCZ6htAppvEILDSGkCsHFpkO58aQOU/pN++zhtAQz7o2ay6GUAa4lgXt3EaQGPuWkI+yBpAmpmZmZkZG0AcDeAtkEAbQC/dJAaBlRtA2/l+ary0HEB6Nqs+VxscQDXvOEVHch1Aq8/VVuw/IECJ0t7gC9MgQJoqGJXUmSFAuycPC7UWIkBqK/aX3RMiQIMvTKYKZiJAVOOlm8RQIkBcIEHxY0wiQGwJ+aBnwyJAGy/dJAbBIkAs1JrmHcciQPA4RUdyCSNAFB3J5T80I0AvbqMBvMUiQIV80LNZxSJADwu1pnmnIkBDPujZrLoiQLByaJHtXCJAo5I6AU10IkBBE2HD00siQMgpOpLLryJAIR/0bFadIkDmHafoSH4iQM/3U+OlSyJADr4wmSpYIkBWDi2ynS8iQOTyH9JvLyJAs3vysFArIkAnoImw4ekiQJjdk4eFCiNAT6+UZYgzI0BkO99PjfciQHdPHhZq7SJA5/up8dLtIkBFaW/whYkjQEM+6NmsmiNAJuSDns2qI0C0N/jCZLojQLn8h/TbJyRAYFRSJ6ApJEDiWBe30eAjQB/0bFZ9PiRAI9v5fmpMJEA8LNSa5t0jQIEExY8x9yNAtDf4wmT6I0BfB84ZUdojQGpN845T9CNA3ZOHhVrzI0BwXwfOGQEkQMgpOpLLbyRAKcsQx7q4JEB/arx0kzgkQN5xio7kYiRA2IFzRpRGJECEDU+vlEUkQA1Pr5Rl+CNAFoxK6gTEI0ClvcEXJuMjQMzuycNC7SNAPQrXo3DNI0Coxks3icEjQBKDwMqh5SNAYFRSJ6D5I0CiRbbz/SQkQNiBc0aUNiRAVn2utmJPJECWQ4ts52skQIeFWtO8wyRA4JwRpb3xJEAkufyH9JskQOU/pN++TiRAtoR80LNZJEAT0ETY8KQkQJoqGJXUeSRAAG+BBMUfJEA=\",\"dtype\":\"float64\",\"order\":\"little\",\"shape\":[142]},\"__x__values\":{\"__ndarray__\":\"AACAbub1dkIAAEDUOPZ2QgAAADqL9nZCAABAa4L3dkIAAADR1Pd2QgAAwDYn+HZCAACAnHn4dkIAAEACzPh2QgAAgDPD+XZCAABAmRX6dkIAAAD/Z/p2QgAAwGS6+nZCAACAygz7dkIAAMD7A/x2QgAAgGFW/HZCAABAx6j8dkIAAAAt+/x2QgAAwJJN/XZCAAAAxET+dkIAAMApl/52QgAAgI/p/nZCAABA9Tv/dkIAAABbjv92QgAAwMDg/3ZCAABAjIUAd0IAAADy1wB3QgAAwFcqAXdCAACAvXwBd0IAAEAjzwF3QgAAgFTGAndCAABAuhgDd0IAAAAgawN3QgAAwIW9A3dCAACA6w8Ed0IAAMAcBwV3QgAAgIJZBXdCAABA6KsFd0IAAABO/gV3QgAAAOVHB3dCAADASpoHd0IAAICw7Ad3QgAAQBY/CHdCAAAAfJEId0IAAECtiAl3QgAAABPbCXdCAADAeC0Kd0IAAIDefwp3QgAAQETSCndCAACAdckLd0IAAABBbgx3QgAAwKbADHdCAACADBMNd0IAAMA9Cg53QgAAgKNcDndCAABACa8Od0IAAABvAQ93QgAAwNRTD3dCAAAABksQd0IAAMBrnRB3QgAAgNHvEHdCAABAN0IRd0IAAACdlBF3QgAAQM6LEndCAAAANN4Sd0IAAMCZMBN3QgAAQGXVE3dCAABA/B4Vd0IAAABicRV3QgAAwMfDFXdCAADAXg0Xd0IAAEAqshd3QgAAAJAEGHdCAADA9VYYd0IAAAAnThl3QgAAwIygGXdCAACA8vIZd0IAAEBYRRp3QgAAAL6XGndCAABA744bd0IAAABV4Rt3QgAAwLozHHdCAACAIIYcd0IAAIC3zx13QgAAQB0iHndCAAAAg3Qed0IAAMDoxh53QgAAgE4ZH3dCAADAfxAgd0IAAIDlYiB3QgAAQEu1IHdCAAAAsQchd0IAAMAWWiF3QgAAAEhRIndCAADAraMid0IAAIAT9iJ3QgAAQHlII3dCAAAA35ojd0IAAAB25CR3QgAAwNs2JXdCAACAQYkld0IAAECn2yV3QgAAgNjSJndCAABAPiUnd0IAAACkdyd3QgAAwAnKJ3dCAACAbxwod0IAAMCgEyl3QgAAgAZmKXdCAABAbLgpd0IAAADSCip3QgAAwDddKndCAAAAaVQrd0IAAMDOpit3QgAAgDT5K3dCAABAmkssd0IAAAAAnix3QgAAQDGVLXdCAAAAl+ctd0IAAMD8OS53QgAAgGKMLndCAABAyN4ud0IAAID51S93QgAAQF8oMHdCAAAAxXowd0IAAMAqzTB3QgAAgJAfMXdCAADAwRYyd0IAAIAnaTJ3QgAAQI27MndCAAAA8w0zd0IAAMBYYDN3QgAAAIpXNHdCAADA76k0d0IAAIBV/DR3QgAAQLtONXdCAAAAIaE1d0IAAEBSmDZ3QgAAALjqNndCAADAHT03d0IAAICDjzd3QgAAQOnhN3dCAACAGtk4d0I=\",\"dtype\":\"float64\",\"order\":\"little\",\"shape\":[142]},\"__x__values_original\":{\"__ndarray__\":\"AACAbub1dkIAAEDUOPZ2QgAAADqL9nZCAABAa4L3dkIAAADR1Pd2QgAAwDYn+HZCAACAnHn4dkIAAEACzPh2QgAAgDPD+XZCAABAmRX6dkIAAAD/Z/p2QgAAwGS6+nZCAACAygz7dkIAAMD7A/x2QgAAgGFW/HZCAABAx6j8dkIAAAAt+/x2QgAAwJJN/XZCAAAAxET+dkIAAMApl/52QgAAgI/p/nZCAABA9Tv/dkIAAABbjv92QgAAwMDg/3ZCAABAjIUAd0IAAADy1wB3QgAAwFcqAXdCAACAvXwBd0IAAEAjzwF3QgAAgFTGAndCAABAuhgDd0IAAAAgawN3QgAAwIW9A3dCAACA6w8Ed0IAAMAcBwV3QgAAgIJZBXdCAABA6KsFd0IAAABO/gV3QgAAAOVHB3dCAADASpoHd0IAAICw7Ad3QgAAQBY/CHdCAAAAfJEId0IAAECtiAl3QgAAABPbCXdCAADAeC0Kd0IAAIDefwp3QgAAQETSCndCAACAdckLd0IAAABBbgx3QgAAwKbADHdCAACADBMNd0IAAMA9Cg53QgAAgKNcDndCAABACa8Od0IAAABvAQ93QgAAwNRTD3dCAAAABksQd0IAAMBrnRB3QgAAgNHvEHdCAABAN0IRd0IAAACdlBF3QgAAQM6LEndCAAAANN4Sd0IAAMCZMBN3QgAAQGXVE3dCAABA/B4Vd0IAAABicRV3QgAAwMfDFXdCAADAXg0Xd0IAAEAqshd3QgAAAJAEGHdCAADA9VYYd0IAAAAnThl3QgAAwIygGXdCAACA8vIZd0IAAEBYRRp3QgAAAL6XGndCAABA744bd0IAAABV4Rt3QgAAwLozHHdCAACAIIYcd0IAAIC3zx13QgAAQB0iHndCAAAAg3Qed0IAAMDoxh53QgAAgE4ZH3dCAADAfxAgd0IAAIDlYiB3QgAAQEu1IHdCAAAAsQchd0IAAMAWWiF3QgAAAEhRIndCAADAraMid0IAAIAT9iJ3QgAAQHlII3dCAAAA35ojd0IAAAB25CR3QgAAwNs2JXdCAACAQYkld0IAAECn2yV3QgAAgNjSJndCAABAPiUnd0IAAACkdyd3QgAAwAnKJ3dCAACAbxwod0IAAMCgEyl3QgAAgAZmKXdCAABAbLgpd0IAAADSCip3QgAAwDddKndCAAAAaVQrd0IAAMDOpit3QgAAgDT5K3dCAABAmkssd0IAAAAAnix3QgAAQDGVLXdCAAAAl+ctd0IAAMD8OS53QgAAgGKMLndCAABAyN4ud0IAAID51S93QgAAQF8oMHdCAAAAxXowd0IAAMAqzTB3QgAAgJAfMXdCAADAwRYyd0IAAIAnaTJ3QgAAQI27MndCAAAA8w0zd0IAAMBYYDN3QgAAAIpXNHdCAADA76k0d0IAAIBV/DR3QgAAQLtONXdCAAAAIaE1d0IAAEBSmDZ3QgAAALjqNndCAADAHT03d0IAAICDjzd3QgAAQOnhN3dCAACAGtk4d0I=\",\"dtype\":\"float64\",\"order\":\"little\",\"shape\":[142]}},\"selected\":{\"id\":\"16446\"},\"selection_policy\":{\"id\":\"16445\"}},\"id\":\"16430\",\"type\":\"ColumnDataSource\"},{\"attributes\":{\"data_source\":{\"id\":\"16430\"},\"glyph\":{\"id\":\"16432\"},\"hover_glyph\":null,\"muted_glyph\":null,\"nonselection_glyph\":{\"id\":\"16433\"},\"view\":{\"id\":\"16435\"}},\"id\":\"16434\",\"type\":\"GlyphRenderer\"},{\"attributes\":{\"source\":{\"id\":\"16498\"}},\"id\":\"16503\",\"type\":\"CDSView\"},{\"attributes\":{\"callback\":null,\"formatters\":{\"@__x__values_original\":\"datetime\"},\"mode\":\"vline\",\"renderers\":[{\"id\":\"16467\"}],\"tooltips\":[[\"Date\",\"@__x__values_original{%F}\"],[\"NIFTY IT index\",\"@{NIFTY IT index}\"]]},\"id\":\"16496\",\"type\":\"HoverTool\"},{\"attributes\":{\"data\":{\"NIFTY Bank index\":{\"__ndarray__\":\"E2HD0ysNQEAwKqkT0DhAQL6fGi/dCEBAFD/G3LU8P0C8BRIUP2Y/QIEmwoanXz9AQRNhw9MLQECxUGuadwxAQDQRNjy9FkBAE2HD0ysJQEBteHqlLNM/QO4NvjCZ2j9A5WGh1jSXP0AjbHh6pRQ/QCZTBaOS8j5AescpOpKzPkB+jLlrCQE/QNnO91PjPT9AoKut2F/WPkCmLEMc68I+QI2XbhKD4D5AL26jAbylPkAS8kHPZtU+QFJJnYAm0j1Ay6FFtvMFPkDIKTqSy68+QCo6kst/AD9AS1mGONZNP0BdbcX+sjM/QC1DHOviDj9Ady0hH/RMP0DLMsSxLn4/QG3n+6nxOj9AZ7Pqc7XVPkAgY+5aQq4+QAAAAAAAkD5A2IFzRpTWPkCaCBueXvE+QNtoAG+BdD5ArfpcbcVuPkAQx7q4jU4+QB1aZDvfLz5APZtVn6slPUCu2F92T948QL3BFyZTLT1ALGUZ4linPEApyxDHutA8QBNhw9MrzTtALSEf9Gx2OkAi/fZ14Hw6QKqCUUmd+DdAUWuad5wqOUCL/WX35Bk3QHP5D+m3JzZAoyO5/IeUNEBMN4lBYBU0QKg1zTtOUTRApixDHOvqMEBd3EYDeBsxQKW9wRcmezJAsAPnjCidM0Dy0k1iEPgzQPJjzF1LyDJAvp8aL90kM0AhH/RsVjUyQI7k8h/SPzFAAAAAAAAQM0CZTBWMSvIyQCegibDh6TNAsHJoke18M0CfPCzUmg4zQGZmZmZmZjNA9dvXgXOuNEAhQfFjzIU0QBueXinLaDNAlrIMcayzM0CU9gZfmEQ0QMsyxLEuljNABhIUP8YUNEB5WKg1zas0QGUZ4lgXFzVARrbz/dSINUBmZmZmZr4zQCGwcmiRRTNA0m9fB86xM0A8LNSa5n0zQCfChqdXWjNAF9nO91PzMkCFWtO849wyQF+YTBWMojNAqMZLN4kRM0DMf0i/fdUyQDQRNjy9kjFAFK5H4Xp8MUBlGeJYF9cxQCNKe4MvvDFAutqK/WVHMUApyxDHunAxQDws1JrmtTJAXdxGA3grM0BqvHSTGEwzQC9uowG89TNA1lbsL7uHNEDiWBe30fA0QCS5/If0YzRARrbz/dQINUDV52or9i81QNPe4AuTuTRAYFRSJ6AZNUCRfvs6cIY0QMiYu5aQpzRAtoR80LPpM0AkufyH9Es0QM/3U+OlMzRAMCqpE9D0NEAQx7q4jVY1QCEf9GxWtTVA3bWEfNBDNkDM7snDQm01QNPe4AuTgTVAyJi7lpCXNUCWQ4ts51s1QEqdgCbCXjVA0ZFc/kP6NUAWjErqBPQ1QEQc6+I22jVACYofY+4yNkBU46WbxKA2QD2bVZ+rlTZAY+5aQj7oNkBZF7fRAGY2QAIrhxbZFjZAv30dOGdkNUCsHFpkO1c1QHHOiNLemDVA1sVtNID3NUC0N/jCZFI2QNV46SYxyDZAGXPXEvLhNkBoImx4ehU3QBpR2ht8qTZA4XoUrkfZNUA=\",\"dtype\":\"float64\",\"order\":\"little\",\"shape\":[142]},\"NIFTY FMCG index\":{\"__ndarray__\":\"hxbZzvc7PkD5MeauJUQ+QIcW2c73Gz5AW7G/7J7MPUBbsb/sntw9QIbJVMGo5D1AHcnlP6QfPkCfzarP1V4+QMpUwaiktj5AotY07zglP0Cw4emVsjw/QNiBc0aUVj9AZRniWBdfP0Boke18P20/QOjZrPpcJT9A5WGh1jQnP0Bgdk8eFjo/QNPe4AuTeT9AETY8vVImP0BXW7G/7AY/QIXrUbgebT9A1lbsL7vvPkC7lpAPesY+QCfChqdXMj5A5PIf0m9vPkBYObTIdr4+QOVhodY07z5AzTtO0ZG8PkCsHFpkO88+QDqSy39Ihz5Aio7k8h9qPkAUrkfhevw+QJm7lpAPCj9AIbByaJGlPkClvcEXJns+QAbwFkhQXD5A9ihcj8LVPkB7FK5H4aI+QLzjFB3JJT5AzqrP1VYsPkAep+hILvc9QNDVVuwv+z1AgZVDi2xPPUAXak3zjiM9QJ2iI7n8Zz1A4XoUrkc5PUArhxbZzoc9QB1aZDvf7zxAWDm0yHYOPEBcj8L1KBQ8QGiR7Xw/FTpAaJHtfD81OkCwA+eMKLU4QIMvTKYK7jhAObTIdr4vOECNl24Sg/g3QB/0bFZ97jlALNSa5h0vN0Dk8h/Sb+83QPGFyVTBeDhAdQKaCBuuOUC9UpYhjr05QCL99nXg1DlAGuJYF7dRO0AHzhlR2ls6QIts5/upiTpAdLUV+8u+PEAQ6bevA9c8QBaMSuoE9DxAmN2Th4WCPEC5/If02689QKW9wRcmgz1AeVioNc0zPUDTvOMUHZk8QCV1ApoIezxAutqK/WUvPUDhehSuR8k8QPtcbcX+ojxAoWez6nMNPUDlYaHWNMc8QArXo3A9qjxAejarPlerPEDTTWIQWJk7QME5I0p7IztAcPCFyVShOkBhMlUwKkE6QDSAt0CCwjpA0ETY8PSqOkAzxLEubts6QMl2vp8avzpAEOm3rwPvOkB3Tx4WavU6QJoqGJXUsTpAWmQ730/lOkDDZKpgVEo7QBdIUPwY4ztAtmJ/2T3JO0ABTYQNTx88QGKh1jTvODxApN++DpxzPEAWjErqBEw9QG40gLdAkj1AMXctIR9cPUD0/dR46YY9QCzUmuYdnz1AmG4Sg8CKPUC4rwPnjIA9QKCrrdhfhj1A4lgXt9GAPUDkg57Nqhc9QC9MpgpGJT1AMlUwKqmzPEDswDkjSpM8QEoMAiuHbjxAS+oENBGmPECvJeSDnrU8QL1SliGO3TxACYofY+5aPUAGEhQ/xnw9QKJFtvP9HD5A0m9fB87BPUCNKO0Nvvg9QNV46SYxED5A7FG4HoU7PkDG/rJ78lA+QEhQ/Bhzhz5AIUHxY8ylPkCGyVTBqIQ+QNlfdk8exj5AhxbZzverPkBEHOviNtI+QBDpt68DNz9A1xLyQc/uPkAkufyH9CM/QPRsVn2uLj9A/yH99nVwP0CoNc07Tok/QDm0yHa+Rz9APXlYqDUNP0Bgdk8eFho/QJOHhVrTBD9AYOXQItvRPkA=\",\"dtype\":\"float64\",\"order\":\"little\",\"shape\":[142]},\"NIFTY IT index\":{\"__ndarray__\":\"4JwRpb1xL0B6Nqs+V2svQAHeAgmK3y9ApgpGJXXCL0AnwoanV8ovQA6+MJkq6C9A78nDQq3ZL0Bd3EYDeOsvQJkqGJXUOTBAorQ3+MJcMEAbnl4py1gwQLaEfNCzYTBA7MA5I0pbMEDMXUvIBzUwQFtCPujZLDBAduCcEaVVMEDwOEVHcnkwQBsv3SQGeTBAPldbsb9kMEC8dJMYBG4wQAn5oGezejBAwFsgQfFTMEDpt68D5yQwQOM2GsBbSDBAyAc9m1UPMEA2zTtO0VkwQO2ePCzUcjBAEOm3rwNfMEDjNhrAW3gwQHUkl/+QbjBAFvvL7slzMEBE+u3rwIkwQKOSOgFNrDBABoGVQ4ukMECEns2qz6UwQEjhehSuvzBAkst/SL/FMEC8BRIUP6YwQPVKWYY4djBAAAAAAACQMECTGARWDlUwQKs+V1uxHzBAzV1LyAdtLkDQRNjw9NouQDXvOEVHci9AmN2Th4W6L0A8vVKWIb4vQPoP6bevUy9AZ7Pqc7W1LUAi/fZ14FwtQGgAb4EExSpAFoxK6gQUK0BlGeJYF+coQIlBYOXQMihAqMZLN4mBJ0CuR+F6FK4mQJm7lpAPuihAJLn8h/RbJkBCz2bV57onQA8LtaZ5dyhAp3nHKToSKUClTkATYSMpQPrt68A5oyhASS7/If2GKUAPC7WmeRcoQCNKe4MvXCdAWvW52ootKUCWsgxxrPsoQGgAb4EEdSlAaW/whck0KUDWVuwvu2cpQOjZrPpc7ShAI9v5fmpMKUCn6Egu/7EpQHDwhclU0ShA22gAb4EkKUDFsS5uo0EqQIv9ZffkoSlAINJvXwc+KkCGONbFbUQqQNPe4AuT2SpADwu1pnk3LEB/arx0k+gqQC2yne+nxipAYHZPHhbKKkASFD/G3JUqQMpUwaikzipA4xQdyeUvK0DjpZvEIGArQCFB8WPMjStAoKut2F+WKkCjI7n8h2QqQIy5awn5oCpAhslUwajkKkDUK2UZ4ggrQCQofoy5SytA5PIf0m+vK0Cgq63YXyYrQIC3QILi5ytAylTBqKQOLEBMN4lBYAUsQAU0ETY8nSxAKqkT0ETYLEAp7Q2+MLksQBvAWyBBQS1AG8BbIEFBLUDSAN4CCcotQET67evAeS1AjzF3LSGvLUCwA+eMKD0tQJHtfD81zixAe6UsQxzLLEDXEvJBz+YsQNuK/WX39CxACtejcD0aLUDjFB3J5f8sQK+UZYhj7SxAlGWIY11cLUC2hHzQsyktQPw6cM6I0ixAzO7Jw0L9LUDwp8ZLN4ktQN++Dpwzgi1An82qz9V2LUDlP6Tfvj4uQFHaG3xhki5A54wo7Q3uLkCL/WX35JEvQEku/yH9Bi9AGZXUCWgSL0D+ZffkYSEvQDPEsS5uoy9A1edqK/ZHL0Bns+pztXUwQPd14JwR7TBA0ZFc/kPSMECKjuTyH0IxQGdEaW/wRTFAXdxGA3gTMUB6xyk6kgsxQPCnxks3STFAnMQgsHKgMUA=\",\"dtype\":\"float64\",\"order\":\"little\",\"shape\":[142]},\"NIFTY Pharma index\":{\"__ndarray__\":\"gEi/fR0YIEAIPZtVnxsgQAyTqYJROSBAidLe4AvzH0Cmm8QgsBIgQD+k374O/B9AjLlrCfkQIEDLoUW28x0gQA6+MJkqKCBAlkOLbOc7IEC+MJkqGFUgQJ2iI7n8ZyBAG55eKcuwIEDvWkI+6IkgQFwgQfFjjCBAbAn5oGeDIEC2hHzQs5kgQBDHuriNliBAE2HD0yvVIEC6SQwCK9cgQN2Th4Va0yBAmggbnl55IECCc0aU9kYgQNejcD0KByBArfpcbcXeH0CQD3o2qz4gQFXBqKROQCBATYQNT690IEB0RpT2Bq8gQPYoXI/ChSBA9UpZhjimIEAOnDOitIcgQM+I0t7gqyBAmioYldSpIEDUK2UZ4mggQPaX3ZOHZSBAxEKtad7BIEBfmEwVjLogQAkbnl4pOyBAjLlrCfnAH0B6Nqs+V1sfQLQ3+MJkih9AO99PjZdOHkDBWyBB8SMeQFjKMsSxrh9AB/AWSFAsIECYbhKDwEogQJoIG55eCSBAnzws1JoGH0BZF7fRAH4eQBNhw9MrxRtA30+Nl24SHUCgq63YX9YbQO4NvjCZ6htAppvEILDSGkCsHFpkO58aQOU/pN++zhtAQz7o2ay6GUAa4lgXt3EaQGPuWkI+yBpAmpmZmZkZG0AcDeAtkEAbQC/dJAaBlRtA2/l+ary0HEB6Nqs+VxscQDXvOEVHch1Aq8/VVuw/IECJ0t7gC9MgQJoqGJXUmSFAuycPC7UWIkBqK/aX3RMiQIMvTKYKZiJAVOOlm8RQIkBcIEHxY0wiQGwJ+aBnwyJAGy/dJAbBIkAs1JrmHcciQPA4RUdyCSNAFB3J5T80I0AvbqMBvMUiQIV80LNZxSJADwu1pnmnIkBDPujZrLoiQLByaJHtXCJAo5I6AU10IkBBE2HD00siQMgpOpLLryJAIR/0bFadIkDmHafoSH4iQM/3U+OlSyJADr4wmSpYIkBWDi2ynS8iQOTyH9JvLyJAs3vysFArIkAnoImw4ekiQJjdk4eFCiNAT6+UZYgzI0BkO99PjfciQHdPHhZq7SJA5/up8dLtIkBFaW/whYkjQEM+6NmsmiNAJuSDns2qI0C0N/jCZLojQLn8h/TbJyRAYFRSJ6ApJEDiWBe30eAjQB/0bFZ9PiRAI9v5fmpMJEA8LNSa5t0jQIEExY8x9yNAtDf4wmT6I0BfB84ZUdojQGpN845T9CNA3ZOHhVrzI0BwXwfOGQEkQMgpOpLLbyRAKcsQx7q4JEB/arx0kzgkQN5xio7kYiRA2IFzRpRGJECEDU+vlEUkQA1Pr5Rl+CNAFoxK6gTEI0ClvcEXJuMjQMzuycNC7SNAPQrXo3DNI0Coxks3icEjQBKDwMqh5SNAYFRSJ6D5I0CiRbbz/SQkQNiBc0aUNiRAVn2utmJPJECWQ4ts52skQIeFWtO8wyRA4JwRpb3xJEAkufyH9JskQOU/pN++TiRAtoR80LNZJEAT0ETY8KQkQJoqGJXUeSRAAG+BBMUfJEA=\",\"dtype\":\"float64\",\"order\":\"little\",\"shape\":[142]},\"__x__values\":{\"__ndarray__\":\"AACAbub1dkIAAEDUOPZ2QgAAADqL9nZCAABAa4L3dkIAAADR1Pd2QgAAwDYn+HZCAACAnHn4dkIAAEACzPh2QgAAgDPD+XZCAABAmRX6dkIAAAD/Z/p2QgAAwGS6+nZCAACAygz7dkIAAMD7A/x2QgAAgGFW/HZCAABAx6j8dkIAAAAt+/x2QgAAwJJN/XZCAAAAxET+dkIAAMApl/52QgAAgI/p/nZCAABA9Tv/dkIAAABbjv92QgAAwMDg/3ZCAABAjIUAd0IAAADy1wB3QgAAwFcqAXdCAACAvXwBd0IAAEAjzwF3QgAAgFTGAndCAABAuhgDd0IAAAAgawN3QgAAwIW9A3dCAACA6w8Ed0IAAMAcBwV3QgAAgIJZBXdCAABA6KsFd0IAAABO/gV3QgAAAOVHB3dCAADASpoHd0IAAICw7Ad3QgAAQBY/CHdCAAAAfJEId0IAAECtiAl3QgAAABPbCXdCAADAeC0Kd0IAAIDefwp3QgAAQETSCndCAACAdckLd0IAAABBbgx3QgAAwKbADHdCAACADBMNd0IAAMA9Cg53QgAAgKNcDndCAABACa8Od0IAAABvAQ93QgAAwNRTD3dCAAAABksQd0IAAMBrnRB3QgAAgNHvEHdCAABAN0IRd0IAAACdlBF3QgAAQM6LEndCAAAANN4Sd0IAAMCZMBN3QgAAQGXVE3dCAABA/B4Vd0IAAABicRV3QgAAwMfDFXdCAADAXg0Xd0IAAEAqshd3QgAAAJAEGHdCAADA9VYYd0IAAAAnThl3QgAAwIygGXdCAACA8vIZd0IAAEBYRRp3QgAAAL6XGndCAABA744bd0IAAABV4Rt3QgAAwLozHHdCAACAIIYcd0IAAIC3zx13QgAAQB0iHndCAAAAg3Qed0IAAMDoxh53QgAAgE4ZH3dCAADAfxAgd0IAAIDlYiB3QgAAQEu1IHdCAAAAsQchd0IAAMAWWiF3QgAAAEhRIndCAADAraMid0IAAIAT9iJ3QgAAQHlII3dCAAAA35ojd0IAAAB25CR3QgAAwNs2JXdCAACAQYkld0IAAECn2yV3QgAAgNjSJndCAABAPiUnd0IAAACkdyd3QgAAwAnKJ3dCAACAbxwod0IAAMCgEyl3QgAAgAZmKXdCAABAbLgpd0IAAADSCip3QgAAwDddKndCAAAAaVQrd0IAAMDOpit3QgAAgDT5K3dCAABAmkssd0IAAAAAnix3QgAAQDGVLXdCAAAAl+ctd0IAAMD8OS53QgAAgGKMLndCAABAyN4ud0IAAID51S93QgAAQF8oMHdCAAAAxXowd0IAAMAqzTB3QgAAgJAfMXdCAADAwRYyd0IAAIAnaTJ3QgAAQI27MndCAAAA8w0zd0IAAMBYYDN3QgAAAIpXNHdCAADA76k0d0IAAIBV/DR3QgAAQLtONXdCAAAAIaE1d0IAAEBSmDZ3QgAAALjqNndCAADAHT03d0IAAICDjzd3QgAAQOnhN3dCAACAGtk4d0I=\",\"dtype\":\"float64\",\"order\":\"little\",\"shape\":[142]},\"__x__values_original\":{\"__ndarray__\":\"AACAbub1dkIAAEDUOPZ2QgAAADqL9nZCAABAa4L3dkIAAADR1Pd2QgAAwDYn+HZCAACAnHn4dkIAAEACzPh2QgAAgDPD+XZCAABAmRX6dkIAAAD/Z/p2QgAAwGS6+nZCAACAygz7dkIAAMD7A/x2QgAAgGFW/HZCAABAx6j8dkIAAAAt+/x2QgAAwJJN/XZCAAAAxET+dkIAAMApl/52QgAAgI/p/nZCAABA9Tv/dkIAAABbjv92QgAAwMDg/3ZCAABAjIUAd0IAAADy1wB3QgAAwFcqAXdCAACAvXwBd0IAAEAjzwF3QgAAgFTGAndCAABAuhgDd0IAAAAgawN3QgAAwIW9A3dCAACA6w8Ed0IAAMAcBwV3QgAAgIJZBXdCAABA6KsFd0IAAABO/gV3QgAAAOVHB3dCAADASpoHd0IAAICw7Ad3QgAAQBY/CHdCAAAAfJEId0IAAECtiAl3QgAAABPbCXdCAADAeC0Kd0IAAIDefwp3QgAAQETSCndCAACAdckLd0IAAABBbgx3QgAAwKbADHdCAACADBMNd0IAAMA9Cg53QgAAgKNcDndCAABACa8Od0IAAABvAQ93QgAAwNRTD3dCAAAABksQd0IAAMBrnRB3QgAAgNHvEHdCAABAN0IRd0IAAACdlBF3QgAAQM6LEndCAAAANN4Sd0IAAMCZMBN3QgAAQGXVE3dCAABA/B4Vd0IAAABicRV3QgAAwMfDFXdCAADAXg0Xd0IAAEAqshd3QgAAAJAEGHdCAADA9VYYd0IAAAAnThl3QgAAwIygGXdCAACA8vIZd0IAAEBYRRp3QgAAAL6XGndCAABA744bd0IAAABV4Rt3QgAAwLozHHdCAACAIIYcd0IAAIC3zx13QgAAQB0iHndCAAAAg3Qed0IAAMDoxh53QgAAgE4ZH3dCAADAfxAgd0IAAIDlYiB3QgAAQEu1IHdCAAAAsQchd0IAAMAWWiF3QgAAAEhRIndCAADAraMid0IAAIAT9iJ3QgAAQHlII3dCAAAA35ojd0IAAAB25CR3QgAAwNs2JXdCAACAQYkld0IAAECn2yV3QgAAgNjSJndCAABAPiUnd0IAAACkdyd3QgAAwAnKJ3dCAACAbxwod0IAAMCgEyl3QgAAgAZmKXdCAABAbLgpd0IAAADSCip3QgAAwDddKndCAAAAaVQrd0IAAMDOpit3QgAAgDT5K3dCAABAmkssd0IAAAAAnix3QgAAQDGVLXdCAAAAl+ctd0IAAMD8OS53QgAAgGKMLndCAABAyN4ud0IAAID51S93QgAAQF8oMHdCAAAAxXowd0IAAMAqzTB3QgAAgJAfMXdCAADAwRYyd0IAAIAnaTJ3QgAAQI27MndCAAAA8w0zd0IAAMBYYDN3QgAAAIpXNHdCAADA76k0d0IAAIBV/DR3QgAAQLtONXdCAAAAIaE1d0IAAEBSmDZ3QgAAALjqNndCAADAHT03d0IAAICDjzd3QgAAQOnhN3dCAACAGtk4d0I=\",\"dtype\":\"float64\",\"order\":\"little\",\"shape\":[142]}},\"selected\":{\"id\":\"16481\"},\"selection_policy\":{\"id\":\"16480\"}},\"id\":\"16463\",\"type\":\"ColumnDataSource\"},{\"attributes\":{\"callback\":null,\"formatters\":{\"@__x__values_original\":\"datetime\"},\"mode\":\"vline\",\"renderers\":[{\"id\":\"16402\"}],\"tooltips\":[[\"Date\",\"@__x__values_original{%F}\"],[\"NIFTY Bank index\",\"@{NIFTY Bank index}\"]]},\"id\":\"16428\",\"type\":\"HoverTool\"},{\"attributes\":{\"label\":{\"value\":\" NIFTY FMCG index\"},\"renderers\":[{\"id\":\"16434\"}]},\"id\":\"16460\",\"type\":\"LegendItem\"},{\"attributes\":{\"line_color\":\"#2ca02c\",\"line_width\":2,\"x\":{\"field\":\"__x__values\"},\"y\":{\"field\":\"NIFTY IT index\"}},\"id\":\"16465\",\"type\":\"Line\"},{\"attributes\":{\"bottom_units\":\"screen\",\"fill_alpha\":0.5,\"fill_color\":\"lightgrey\",\"left_units\":\"screen\",\"level\":\"overlay\",\"line_alpha\":1.0,\"line_color\":\"black\",\"line_dash\":[4,4],\"line_width\":2,\"right_units\":\"screen\",\"syncable\":false,\"top_units\":\"screen\"},\"id\":\"16390\",\"type\":\"BoxAnnotation\"},{\"attributes\":{},\"id\":\"16374\",\"type\":\"LinearScale\"},{\"attributes\":{\"source\":{\"id\":\"16430\"}},\"id\":\"16435\",\"type\":\"CDSView\"},{\"attributes\":{\"source\":{\"id\":\"16463\"}},\"id\":\"16468\",\"type\":\"CDSView\"},{\"attributes\":{\"line_alpha\":0.1,\"line_color\":\"#d62728\",\"line_width\":2,\"x\":{\"field\":\"__x__values\"},\"y\":{\"field\":\"NIFTY Pharma index\"}},\"id\":\"16501\",\"type\":\"Line\"},{\"attributes\":{},\"id\":\"16370\",\"type\":\"DataRange1d\"},{\"attributes\":{\"days\":[1,4,7,10,13,16,19,22,25,28]},\"id\":\"16417\",\"type\":\"DaysTicker\"},{\"attributes\":{},\"id\":\"16480\",\"type\":\"UnionRenderers\"},{\"attributes\":{\"axis_label\":\"Date\",\"formatter\":{\"id\":\"16535\"},\"major_label_policy\":{\"id\":\"16407\"},\"ticker\":{\"id\":\"16377\"}},\"id\":\"16376\",\"type\":\"DatetimeAxis\"},{\"attributes\":{\"line_alpha\":0.1,\"line_color\":\"#ff7f0e\",\"line_width\":2,\"x\":{\"field\":\"__x__values\"},\"y\":{\"field\":\"NIFTY FMCG index\"}},\"id\":\"16433\",\"type\":\"Line\"},{\"attributes\":{\"line_alpha\":0.1,\"line_color\":\"#2ca02c\",\"line_width\":2,\"x\":{\"field\":\"__x__values\"},\"y\":{\"field\":\"NIFTY IT index\"}},\"id\":\"16466\",\"type\":\"Line\"},{\"attributes\":{},\"id\":\"16411\",\"type\":\"UnionRenderers\"},{\"attributes\":{\"line_color\":\"#1f77b4\",\"line_width\":2,\"x\":{\"field\":\"__x__values\"},\"y\":{\"field\":\"NIFTY Bank index\"}},\"id\":\"16400\",\"type\":\"Line\"},{\"attributes\":{\"data_source\":{\"id\":\"16463\"},\"glyph\":{\"id\":\"16465\"},\"hover_glyph\":null,\"muted_glyph\":null,\"nonselection_glyph\":{\"id\":\"16466\"},\"view\":{\"id\":\"16468\"}},\"id\":\"16467\",\"type\":\"GlyphRenderer\"},{\"attributes\":{\"source\":{\"id\":\"16398\"}},\"id\":\"16403\",\"type\":\"CDSView\"},{\"attributes\":{\"callback\":null,\"formatters\":{\"@__x__values_original\":\"datetime\"},\"mode\":\"vline\",\"renderers\":[{\"id\":\"16502\"}],\"tooltips\":[[\"Date\",\"@__x__values_original{%F}\"],[\"NIFTY Pharma index\",\"@{NIFTY Pharma index}\"]]},\"id\":\"16533\",\"type\":\"HoverTool\"},{\"attributes\":{\"num_minor_ticks\":5,\"tickers\":[{\"id\":\"16413\"},{\"id\":\"16414\"},{\"id\":\"16415\"},{\"id\":\"16416\"},{\"id\":\"16417\"},{\"id\":\"16418\"},{\"id\":\"16419\"},{\"id\":\"16420\"},{\"id\":\"16421\"},{\"id\":\"16422\"},{\"id\":\"16423\"},{\"id\":\"16424\"}]},\"id\":\"16377\",\"type\":\"DatetimeTicker\"},{\"attributes\":{},\"id\":\"16412\",\"type\":\"Selection\"},{\"attributes\":{},\"id\":\"16385\",\"type\":\"WheelZoomTool\"},{\"attributes\":{\"callback\":null,\"formatters\":{\"@__x__values_original\":\"datetime\"},\"mode\":\"vline\",\"renderers\":[{\"id\":\"16434\"}],\"tooltips\":[[\"Date\",\"@__x__values_original{%F}\"],[\"NIFTY FMCG index\",\"@{NIFTY FMCG index}\"]]},\"id\":\"16461\",\"type\":\"HoverTool\"},{\"attributes\":{},\"id\":\"16517\",\"type\":\"UnionRenderers\"},{\"attributes\":{\"months\":[0,2,4,6,8,10]},\"id\":\"16421\",\"type\":\"MonthsTicker\"},{\"attributes\":{\"axis_label\":\"Index (Thousands)\",\"formatter\":{\"id\":\"16408\"},\"major_label_policy\":{\"id\":\"16410\"},\"ticker\":{\"id\":\"16381\"}},\"id\":\"16380\",\"type\":\"LinearAxis\"},{\"attributes\":{\"data\":{\"NIFTY Bank index\":{\"__ndarray__\":\"E2HD0ysNQEAwKqkT0DhAQL6fGi/dCEBAFD/G3LU8P0C8BRIUP2Y/QIEmwoanXz9AQRNhw9MLQECxUGuadwxAQDQRNjy9FkBAE2HD0ysJQEBteHqlLNM/QO4NvjCZ2j9A5WGh1jSXP0AjbHh6pRQ/QCZTBaOS8j5AescpOpKzPkB+jLlrCQE/QNnO91PjPT9AoKut2F/WPkCmLEMc68I+QI2XbhKD4D5AL26jAbylPkAS8kHPZtU+QFJJnYAm0j1Ay6FFtvMFPkDIKTqSy68+QCo6kst/AD9AS1mGONZNP0BdbcX+sjM/QC1DHOviDj9Ady0hH/RMP0DLMsSxLn4/QG3n+6nxOj9AZ7Pqc7XVPkAgY+5aQq4+QAAAAAAAkD5A2IFzRpTWPkCaCBueXvE+QNtoAG+BdD5ArfpcbcVuPkAQx7q4jU4+QB1aZDvfLz5APZtVn6slPUCu2F92T948QL3BFyZTLT1ALGUZ4linPEApyxDHutA8QBNhw9MrzTtALSEf9Gx2OkAi/fZ14Hw6QKqCUUmd+DdAUWuad5wqOUCL/WX35Bk3QHP5D+m3JzZAoyO5/IeUNEBMN4lBYBU0QKg1zTtOUTRApixDHOvqMEBd3EYDeBsxQKW9wRcmezJAsAPnjCidM0Dy0k1iEPgzQPJjzF1LyDJAvp8aL90kM0AhH/RsVjUyQI7k8h/SPzFAAAAAAAAQM0CZTBWMSvIyQCegibDh6TNAsHJoke18M0CfPCzUmg4zQGZmZmZmZjNA9dvXgXOuNEAhQfFjzIU0QBueXinLaDNAlrIMcayzM0CU9gZfmEQ0QMsyxLEuljNABhIUP8YUNEB5WKg1zas0QGUZ4lgXFzVARrbz/dSINUBmZmZmZr4zQCGwcmiRRTNA0m9fB86xM0A8LNSa5n0zQCfChqdXWjNAF9nO91PzMkCFWtO849wyQF+YTBWMojNAqMZLN4kRM0DMf0i/fdUyQDQRNjy9kjFAFK5H4Xp8MUBlGeJYF9cxQCNKe4MvvDFAutqK/WVHMUApyxDHunAxQDws1JrmtTJAXdxGA3grM0BqvHSTGEwzQC9uowG89TNA1lbsL7uHNEDiWBe30fA0QCS5/If0YzRARrbz/dQINUDV52or9i81QNPe4AuTuTRAYFRSJ6AZNUCRfvs6cIY0QMiYu5aQpzRAtoR80LPpM0AkufyH9Es0QM/3U+OlMzRAMCqpE9D0NEAQx7q4jVY1QCEf9GxWtTVA3bWEfNBDNkDM7snDQm01QNPe4AuTgTVAyJi7lpCXNUCWQ4ts51s1QEqdgCbCXjVA0ZFc/kP6NUAWjErqBPQ1QEQc6+I22jVACYofY+4yNkBU46WbxKA2QD2bVZ+rlTZAY+5aQj7oNkBZF7fRAGY2QAIrhxbZFjZAv30dOGdkNUCsHFpkO1c1QHHOiNLemDVA1sVtNID3NUC0N/jCZFI2QNV46SYxyDZAGXPXEvLhNkBoImx4ehU3QBpR2ht8qTZA4XoUrkfZNUA=\",\"dtype\":\"float64\",\"order\":\"little\",\"shape\":[142]},\"NIFTY FMCG index\":{\"__ndarray__\":\"hxbZzvc7PkD5MeauJUQ+QIcW2c73Gz5AW7G/7J7MPUBbsb/sntw9QIbJVMGo5D1AHcnlP6QfPkCfzarP1V4+QMpUwaiktj5AotY07zglP0Cw4emVsjw/QNiBc0aUVj9AZRniWBdfP0Boke18P20/QOjZrPpcJT9A5WGh1jQnP0Bgdk8eFjo/QNPe4AuTeT9AETY8vVImP0BXW7G/7AY/QIXrUbgebT9A1lbsL7vvPkC7lpAPesY+QCfChqdXMj5A5PIf0m9vPkBYObTIdr4+QOVhodY07z5AzTtO0ZG8PkCsHFpkO88+QDqSy39Ihz5Aio7k8h9qPkAUrkfhevw+QJm7lpAPCj9AIbByaJGlPkClvcEXJns+QAbwFkhQXD5A9ihcj8LVPkB7FK5H4aI+QLzjFB3JJT5AzqrP1VYsPkAep+hILvc9QNDVVuwv+z1AgZVDi2xPPUAXak3zjiM9QJ2iI7n8Zz1A4XoUrkc5PUArhxbZzoc9QB1aZDvf7zxAWDm0yHYOPEBcj8L1KBQ8QGiR7Xw/FTpAaJHtfD81OkCwA+eMKLU4QIMvTKYK7jhAObTIdr4vOECNl24Sg/g3QB/0bFZ97jlALNSa5h0vN0Dk8h/Sb+83QPGFyVTBeDhAdQKaCBuuOUC9UpYhjr05QCL99nXg1DlAGuJYF7dRO0AHzhlR2ls6QIts5/upiTpAdLUV+8u+PEAQ6bevA9c8QBaMSuoE9DxAmN2Th4WCPEC5/If02689QKW9wRcmgz1AeVioNc0zPUDTvOMUHZk8QCV1ApoIezxAutqK/WUvPUDhehSuR8k8QPtcbcX+ojxAoWez6nMNPUDlYaHWNMc8QArXo3A9qjxAejarPlerPEDTTWIQWJk7QME5I0p7IztAcPCFyVShOkBhMlUwKkE6QDSAt0CCwjpA0ETY8PSqOkAzxLEubts6QMl2vp8avzpAEOm3rwPvOkB3Tx4WavU6QJoqGJXUsTpAWmQ730/lOkDDZKpgVEo7QBdIUPwY4ztAtmJ/2T3JO0ABTYQNTx88QGKh1jTvODxApN++DpxzPEAWjErqBEw9QG40gLdAkj1AMXctIR9cPUD0/dR46YY9QCzUmuYdnz1AmG4Sg8CKPUC4rwPnjIA9QKCrrdhfhj1A4lgXt9GAPUDkg57Nqhc9QC9MpgpGJT1AMlUwKqmzPEDswDkjSpM8QEoMAiuHbjxAS+oENBGmPECvJeSDnrU8QL1SliGO3TxACYofY+5aPUAGEhQ/xnw9QKJFtvP9HD5A0m9fB87BPUCNKO0Nvvg9QNV46SYxED5A7FG4HoU7PkDG/rJ78lA+QEhQ/Bhzhz5AIUHxY8ylPkCGyVTBqIQ+QNlfdk8exj5AhxbZzverPkBEHOviNtI+QBDpt68DNz9A1xLyQc/uPkAkufyH9CM/QPRsVn2uLj9A/yH99nVwP0CoNc07Tok/QDm0yHa+Rz9APXlYqDUNP0Bgdk8eFho/QJOHhVrTBD9AYOXQItvRPkA=\",\"dtype\":\"float64\",\"order\":\"little\",\"shape\":[142]},\"NIFTY IT index\":{\"__ndarray__\":\"4JwRpb1xL0B6Nqs+V2svQAHeAgmK3y9ApgpGJXXCL0AnwoanV8ovQA6+MJkq6C9A78nDQq3ZL0Bd3EYDeOsvQJkqGJXUOTBAorQ3+MJcMEAbnl4py1gwQLaEfNCzYTBA7MA5I0pbMEDMXUvIBzUwQFtCPujZLDBAduCcEaVVMEDwOEVHcnkwQBsv3SQGeTBAPldbsb9kMEC8dJMYBG4wQAn5oGezejBAwFsgQfFTMEDpt68D5yQwQOM2GsBbSDBAyAc9m1UPMEA2zTtO0VkwQO2ePCzUcjBAEOm3rwNfMEDjNhrAW3gwQHUkl/+QbjBAFvvL7slzMEBE+u3rwIkwQKOSOgFNrDBABoGVQ4ukMECEns2qz6UwQEjhehSuvzBAkst/SL/FMEC8BRIUP6YwQPVKWYY4djBAAAAAAACQMECTGARWDlUwQKs+V1uxHzBAzV1LyAdtLkDQRNjw9NouQDXvOEVHci9AmN2Th4W6L0A8vVKWIb4vQPoP6bevUy9AZ7Pqc7W1LUAi/fZ14FwtQGgAb4EExSpAFoxK6gQUK0BlGeJYF+coQIlBYOXQMihAqMZLN4mBJ0CuR+F6FK4mQJm7lpAPuihAJLn8h/RbJkBCz2bV57onQA8LtaZ5dyhAp3nHKToSKUClTkATYSMpQPrt68A5oyhASS7/If2GKUAPC7WmeRcoQCNKe4MvXCdAWvW52ootKUCWsgxxrPsoQGgAb4EEdSlAaW/whck0KUDWVuwvu2cpQOjZrPpc7ShAI9v5fmpMKUCn6Egu/7EpQHDwhclU0ShA22gAb4EkKUDFsS5uo0EqQIv9ZffkoSlAINJvXwc+KkCGONbFbUQqQNPe4AuT2SpADwu1pnk3LEB/arx0k+gqQC2yne+nxipAYHZPHhbKKkASFD/G3JUqQMpUwaikzipA4xQdyeUvK0DjpZvEIGArQCFB8WPMjStAoKut2F+WKkCjI7n8h2QqQIy5awn5oCpAhslUwajkKkDUK2UZ4ggrQCQofoy5SytA5PIf0m+vK0Cgq63YXyYrQIC3QILi5ytAylTBqKQOLEBMN4lBYAUsQAU0ETY8nSxAKqkT0ETYLEAp7Q2+MLksQBvAWyBBQS1AG8BbIEFBLUDSAN4CCcotQET67evAeS1AjzF3LSGvLUCwA+eMKD0tQJHtfD81zixAe6UsQxzLLEDXEvJBz+YsQNuK/WX39CxACtejcD0aLUDjFB3J5f8sQK+UZYhj7SxAlGWIY11cLUC2hHzQsyktQPw6cM6I0ixAzO7Jw0L9LUDwp8ZLN4ktQN++Dpwzgi1An82qz9V2LUDlP6Tfvj4uQFHaG3xhki5A54wo7Q3uLkCL/WX35JEvQEku/yH9Bi9AGZXUCWgSL0D+ZffkYSEvQDPEsS5uoy9A1edqK/ZHL0Bns+pztXUwQPd14JwR7TBA0ZFc/kPSMECKjuTyH0IxQGdEaW/wRTFAXdxGA3gTMUB6xyk6kgsxQPCnxks3STFAnMQgsHKgMUA=\",\"dtype\":\"float64\",\"order\":\"little\",\"shape\":[142]},\"NIFTY Pharma index\":{\"__ndarray__\":\"gEi/fR0YIEAIPZtVnxsgQAyTqYJROSBAidLe4AvzH0Cmm8QgsBIgQD+k374O/B9AjLlrCfkQIEDLoUW28x0gQA6+MJkqKCBAlkOLbOc7IEC+MJkqGFUgQJ2iI7n8ZyBAG55eKcuwIEDvWkI+6IkgQFwgQfFjjCBAbAn5oGeDIEC2hHzQs5kgQBDHuriNliBAE2HD0yvVIEC6SQwCK9cgQN2Th4Va0yBAmggbnl55IECCc0aU9kYgQNejcD0KByBArfpcbcXeH0CQD3o2qz4gQFXBqKROQCBATYQNT690IEB0RpT2Bq8gQPYoXI/ChSBA9UpZhjimIEAOnDOitIcgQM+I0t7gqyBAmioYldSpIEDUK2UZ4mggQPaX3ZOHZSBAxEKtad7BIEBfmEwVjLogQAkbnl4pOyBAjLlrCfnAH0B6Nqs+V1sfQLQ3+MJkih9AO99PjZdOHkDBWyBB8SMeQFjKMsSxrh9AB/AWSFAsIECYbhKDwEogQJoIG55eCSBAnzws1JoGH0BZF7fRAH4eQBNhw9MrxRtA30+Nl24SHUCgq63YX9YbQO4NvjCZ6htAppvEILDSGkCsHFpkO58aQOU/pN++zhtAQz7o2ay6GUAa4lgXt3EaQGPuWkI+yBpAmpmZmZkZG0AcDeAtkEAbQC/dJAaBlRtA2/l+ary0HEB6Nqs+VxscQDXvOEVHch1Aq8/VVuw/IECJ0t7gC9MgQJoqGJXUmSFAuycPC7UWIkBqK/aX3RMiQIMvTKYKZiJAVOOlm8RQIkBcIEHxY0wiQGwJ+aBnwyJAGy/dJAbBIkAs1JrmHcciQPA4RUdyCSNAFB3J5T80I0AvbqMBvMUiQIV80LNZxSJADwu1pnmnIkBDPujZrLoiQLByaJHtXCJAo5I6AU10IkBBE2HD00siQMgpOpLLryJAIR/0bFadIkDmHafoSH4iQM/3U+OlSyJADr4wmSpYIkBWDi2ynS8iQOTyH9JvLyJAs3vysFArIkAnoImw4ekiQJjdk4eFCiNAT6+UZYgzI0BkO99PjfciQHdPHhZq7SJA5/up8dLtIkBFaW/whYkjQEM+6NmsmiNAJuSDns2qI0C0N/jCZLojQLn8h/TbJyRAYFRSJ6ApJEDiWBe30eAjQB/0bFZ9PiRAI9v5fmpMJEA8LNSa5t0jQIEExY8x9yNAtDf4wmT6I0BfB84ZUdojQGpN845T9CNA3ZOHhVrzI0BwXwfOGQEkQMgpOpLLbyRAKcsQx7q4JEB/arx0kzgkQN5xio7kYiRA2IFzRpRGJECEDU+vlEUkQA1Pr5Rl+CNAFoxK6gTEI0ClvcEXJuMjQMzuycNC7SNAPQrXo3DNI0Coxks3icEjQBKDwMqh5SNAYFRSJ6D5I0CiRbbz/SQkQNiBc0aUNiRAVn2utmJPJECWQ4ts52skQIeFWtO8wyRA4JwRpb3xJEAkufyH9JskQOU/pN++TiRAtoR80LNZJEAT0ETY8KQkQJoqGJXUeSRAAG+BBMUfJEA=\",\"dtype\":\"float64\",\"order\":\"little\",\"shape\":[142]},\"__x__values\":{\"__ndarray__\":\"AACAbub1dkIAAEDUOPZ2QgAAADqL9nZCAABAa4L3dkIAAADR1Pd2QgAAwDYn+HZCAACAnHn4dkIAAEACzPh2QgAAgDPD+XZCAABAmRX6dkIAAAD/Z/p2QgAAwGS6+nZCAACAygz7dkIAAMD7A/x2QgAAgGFW/HZCAABAx6j8dkIAAAAt+/x2QgAAwJJN/XZCAAAAxET+dkIAAMApl/52QgAAgI/p/nZCAABA9Tv/dkIAAABbjv92QgAAwMDg/3ZCAABAjIUAd0IAAADy1wB3QgAAwFcqAXdCAACAvXwBd0IAAEAjzwF3QgAAgFTGAndCAABAuhgDd0IAAAAgawN3QgAAwIW9A3dCAACA6w8Ed0IAAMAcBwV3QgAAgIJZBXdCAABA6KsFd0IAAABO/gV3QgAAAOVHB3dCAADASpoHd0IAAICw7Ad3QgAAQBY/CHdCAAAAfJEId0IAAECtiAl3QgAAABPbCXdCAADAeC0Kd0IAAIDefwp3QgAAQETSCndCAACAdckLd0IAAABBbgx3QgAAwKbADHdCAACADBMNd0IAAMA9Cg53QgAAgKNcDndCAABACa8Od0IAAABvAQ93QgAAwNRTD3dCAAAABksQd0IAAMBrnRB3QgAAgNHvEHdCAABAN0IRd0IAAACdlBF3QgAAQM6LEndCAAAANN4Sd0IAAMCZMBN3QgAAQGXVE3dCAABA/B4Vd0IAAABicRV3QgAAwMfDFXdCAADAXg0Xd0IAAEAqshd3QgAAAJAEGHdCAADA9VYYd0IAAAAnThl3QgAAwIygGXdCAACA8vIZd0IAAEBYRRp3QgAAAL6XGndCAABA744bd0IAAABV4Rt3QgAAwLozHHdCAACAIIYcd0IAAIC3zx13QgAAQB0iHndCAAAAg3Qed0IAAMDoxh53QgAAgE4ZH3dCAADAfxAgd0IAAIDlYiB3QgAAQEu1IHdCAAAAsQchd0IAAMAWWiF3QgAAAEhRIndCAADAraMid0IAAIAT9iJ3QgAAQHlII3dCAAAA35ojd0IAAAB25CR3QgAAwNs2JXdCAACAQYkld0IAAECn2yV3QgAAgNjSJndCAABAPiUnd0IAAACkdyd3QgAAwAnKJ3dCAACAbxwod0IAAMCgEyl3QgAAgAZmKXdCAABAbLgpd0IAAADSCip3QgAAwDddKndCAAAAaVQrd0IAAMDOpit3QgAAgDT5K3dCAABAmkssd0IAAAAAnix3QgAAQDGVLXdCAAAAl+ctd0IAAMD8OS53QgAAgGKMLndCAABAyN4ud0IAAID51S93QgAAQF8oMHdCAAAAxXowd0IAAMAqzTB3QgAAgJAfMXdCAADAwRYyd0IAAIAnaTJ3QgAAQI27MndCAAAA8w0zd0IAAMBYYDN3QgAAAIpXNHdCAADA76k0d0IAAIBV/DR3QgAAQLtONXdCAAAAIaE1d0IAAEBSmDZ3QgAAALjqNndCAADAHT03d0IAAICDjzd3QgAAQOnhN3dCAACAGtk4d0I=\",\"dtype\":\"float64\",\"order\":\"little\",\"shape\":[142]},\"__x__values_original\":{\"__ndarray__\":\"AACAbub1dkIAAEDUOPZ2QgAAADqL9nZCAABAa4L3dkIAAADR1Pd2QgAAwDYn+HZCAACAnHn4dkIAAEACzPh2QgAAgDPD+XZCAABAmRX6dkIAAAD/Z/p2QgAAwGS6+nZCAACAygz7dkIAAMD7A/x2QgAAgGFW/HZCAABAx6j8dkIAAAAt+/x2QgAAwJJN/XZCAAAAxET+dkIAAMApl/52QgAAgI/p/nZCAABA9Tv/dkIAAABbjv92QgAAwMDg/3ZCAABAjIUAd0IAAADy1wB3QgAAwFcqAXdCAACAvXwBd0IAAEAjzwF3QgAAgFTGAndCAABAuhgDd0IAAAAgawN3QgAAwIW9A3dCAACA6w8Ed0IAAMAcBwV3QgAAgIJZBXdCAABA6KsFd0IAAABO/gV3QgAAAOVHB3dCAADASpoHd0IAAICw7Ad3QgAAQBY/CHdCAAAAfJEId0IAAECtiAl3QgAAABPbCXdCAADAeC0Kd0IAAIDefwp3QgAAQETSCndCAACAdckLd0IAAABBbgx3QgAAwKbADHdCAACADBMNd0IAAMA9Cg53QgAAgKNcDndCAABACa8Od0IAAABvAQ93QgAAwNRTD3dCAAAABksQd0IAAMBrnRB3QgAAgNHvEHdCAABAN0IRd0IAAACdlBF3QgAAQM6LEndCAAAANN4Sd0IAAMCZMBN3QgAAQGXVE3dCAABA/B4Vd0IAAABicRV3QgAAwMfDFXdCAADAXg0Xd0IAAEAqshd3QgAAAJAEGHdCAADA9VYYd0IAAAAnThl3QgAAwIygGXdCAACA8vIZd0IAAEBYRRp3QgAAAL6XGndCAABA744bd0IAAABV4Rt3QgAAwLozHHdCAACAIIYcd0IAAIC3zx13QgAAQB0iHndCAAAAg3Qed0IAAMDoxh53QgAAgE4ZH3dCAADAfxAgd0IAAIDlYiB3QgAAQEu1IHdCAAAAsQchd0IAAMAWWiF3QgAAAEhRIndCAADAraMid0IAAIAT9iJ3QgAAQHlII3dCAAAA35ojd0IAAAB25CR3QgAAwNs2JXdCAACAQYkld0IAAECn2yV3QgAAgNjSJndCAABAPiUnd0IAAACkdyd3QgAAwAnKJ3dCAACAbxwod0IAAMCgEyl3QgAAgAZmKXdCAABAbLgpd0IAAADSCip3QgAAwDddKndCAAAAaVQrd0IAAMDOpit3QgAAgDT5K3dCAABAmkssd0IAAAAAnix3QgAAQDGVLXdCAAAAl+ctd0IAAMD8OS53QgAAgGKMLndCAABAyN4ud0IAAID51S93QgAAQF8oMHdCAAAAxXowd0IAAMAqzTB3QgAAgJAfMXdCAADAwRYyd0IAAIAnaTJ3QgAAQI27MndCAAAA8w0zd0IAAMBYYDN3QgAAAIpXNHdCAADA76k0d0IAAIBV/DR3QgAAQLtONXdCAAAAIaE1d0IAAEBSmDZ3QgAAALjqNndCAADAHT03d0IAAICDjzd3QgAAQOnhN3dCAACAGtk4d0I=\",\"dtype\":\"float64\",\"order\":\"little\",\"shape\":[142]}},\"selected\":{\"id\":\"16412\"},\"selection_policy\":{\"id\":\"16411\"}},\"id\":\"16398\",\"type\":\"ColumnDataSource\"},{\"attributes\":{\"months\":[0,1,2,3,4,5,6,7,8,9,10,11]},\"id\":\"16420\",\"type\":\"MonthsTicker\"},{\"attributes\":{\"axis\":{\"id\":\"16376\"},\"ticker\":null},\"id\":\"16379\",\"type\":\"Grid\"},{\"attributes\":{\"label\":{\"value\":\" NIFTY Bank index\"},\"renderers\":[{\"id\":\"16402\"}]},\"id\":\"16427\",\"type\":\"LegendItem\"},{\"attributes\":{},\"id\":\"16481\",\"type\":\"Selection\"},{\"attributes\":{},\"id\":\"16518\",\"type\":\"Selection\"},{\"attributes\":{\"days\":[\"%d %B %Y\"],\"hours\":[\"%H:%M:%S\"],\"milliseconds\":[\"%H:%M:%S.%f\"],\"minutes\":[\"%H:%M:%S\"],\"months\":[\"%d %B %Y\"],\"seconds\":[\"%H:%M:%S\"],\"years\":[\"%d %B %Y\"]},\"id\":\"16535\",\"type\":\"DatetimeTickFormatter\"},{\"attributes\":{\"days\":[1,15]},\"id\":\"16419\",\"type\":\"DaysTicker\"},{\"attributes\":{\"axis\":{\"id\":\"16380\"},\"dimension\":1,\"ticker\":null},\"id\":\"16383\",\"type\":\"Grid\"},{\"attributes\":{\"days\":[1,8,15,22]},\"id\":\"16418\",\"type\":\"DaysTicker\"},{\"attributes\":{\"months\":[0,6]},\"id\":\"16423\",\"type\":\"MonthsTicker\"},{\"attributes\":{},\"id\":\"16381\",\"type\":\"BasicTicker\"},{\"attributes\":{\"data_source\":{\"id\":\"16398\"},\"glyph\":{\"id\":\"16400\"},\"hover_glyph\":null,\"muted_glyph\":null,\"nonselection_glyph\":{\"id\":\"16401\"},\"view\":{\"id\":\"16403\"}},\"id\":\"16402\",\"type\":\"GlyphRenderer\"},{\"attributes\":{},\"id\":\"16445\",\"type\":\"UnionRenderers\"},{\"attributes\":{},\"id\":\"16384\",\"type\":\"PanTool\"},{\"attributes\":{\"months\":[0,4,8]},\"id\":\"16422\",\"type\":\"MonthsTicker\"},{\"attributes\":{},\"id\":\"16424\",\"type\":\"YearsTicker\"},{\"attributes\":{\"active_multi\":null,\"active_scroll\":{\"id\":\"16385\"},\"tools\":[{\"id\":\"16384\"},{\"id\":\"16385\"},{\"id\":\"16386\"},{\"id\":\"16387\"},{\"id\":\"16388\"},{\"id\":\"16389\"},{\"id\":\"16428\"},{\"id\":\"16461\"},{\"id\":\"16496\"},{\"id\":\"16533\"}]},\"id\":\"16391\",\"type\":\"Toolbar\"},{\"attributes\":{\"click_policy\":\"hide\",\"items\":[{\"id\":\"16427\"},{\"id\":\"16460\"},{\"id\":\"16495\"},{\"id\":\"16532\"}]},\"id\":\"16426\",\"type\":\"Legend\"},{\"attributes\":{\"line_alpha\":0.1,\"line_color\":\"#1f77b4\",\"line_width\":2,\"x\":{\"field\":\"__x__values\"},\"y\":{\"field\":\"NIFTY Bank index\"}},\"id\":\"16401\",\"type\":\"Line\"},{\"attributes\":{},\"id\":\"16388\",\"type\":\"ResetTool\"},{\"attributes\":{},\"id\":\"16446\",\"type\":\"Selection\"},{\"attributes\":{},\"id\":\"16389\",\"type\":\"HelpTool\"},{\"attributes\":{\"base\":60,\"mantissas\":[1,2,5,10,15,20,30],\"max_interval\":1800000.0,\"min_interval\":1000.0,\"num_minor_ticks\":0},\"id\":\"16414\",\"type\":\"AdaptiveTicker\"},{\"attributes\":{},\"id\":\"16387\",\"type\":\"SaveTool\"}],\"root_ids\":[\"16365\"]},\"title\":\"Bokeh Application\",\"version\":\"2.3.2\"}};\n",
       "  var render_items = [{\"docid\":\"e82a906d-6c6b-4311-8d68-109fdae5c38d\",\"root_ids\":[\"16365\"],\"roots\":{\"16365\":\"1eca82b7-578f-43db-96b3-46ad0c416d9c\"}}];\n",
       "  root.Bokeh.embed.embed_items_notebook(docs_json, render_items);\n",
       "\n",
       "  }\n",
       "  if (root.Bokeh !== undefined) {\n",
       "    embed_document(root);\n",
       "  } else {\n",
       "    var attempts = 0;\n",
       "    var timer = setInterval(function(root) {\n",
       "      if (root.Bokeh !== undefined) {\n",
       "        clearInterval(timer);\n",
       "        embed_document(root);\n",
       "      } else {\n",
       "        attempts++;\n",
       "        if (attempts > 100) {\n",
       "          clearInterval(timer);\n",
       "          console.log(\"Bokeh: ERROR: Unable to run BokehJS code because BokehJS library is missing\");\n",
       "        }\n",
       "      }\n",
       "    }, 10, root)\n",
       "  }\n",
       "})(window);"
      ],
      "application/vnd.bokehjs_exec.v0+json": ""
     },
     "metadata": {
      "application/vnd.bokehjs_exec.v0+json": {
       "id": "16365"
      }
     },
     "output_type": "display_data"
    },
    {
     "data": {
      "text/html": [
       "<div style=\"display: table;\"><div style=\"display: table-row;\"><div style=\"display: table-cell;\"><b title=\"bokeh.plotting.figure.Figure\">Figure</b>(</div><div style=\"display: table-cell;\">id&nbsp;=&nbsp;'16365', <span id=\"16894\" style=\"cursor: pointer;\">&hellip;)</span></div></div><div class=\"16893\" style=\"display: none;\"><div style=\"display: table-cell;\"></div><div style=\"display: table-cell;\">above&nbsp;=&nbsp;[],</div></div><div class=\"16893\" style=\"display: none;\"><div style=\"display: table-cell;\"></div><div style=\"display: table-cell;\">align&nbsp;=&nbsp;'start',</div></div><div class=\"16893\" style=\"display: none;\"><div style=\"display: table-cell;\"></div><div style=\"display: table-cell;\">aspect_ratio&nbsp;=&nbsp;None,</div></div><div class=\"16893\" style=\"display: none;\"><div style=\"display: table-cell;\"></div><div style=\"display: table-cell;\">aspect_scale&nbsp;=&nbsp;1,</div></div><div class=\"16893\" style=\"display: none;\"><div style=\"display: table-cell;\"></div><div style=\"display: table-cell;\">background&nbsp;=&nbsp;None,</div></div><div class=\"16893\" style=\"display: none;\"><div style=\"display: table-cell;\"></div><div style=\"display: table-cell;\">background_fill_alpha&nbsp;=&nbsp;1.0,</div></div><div class=\"16893\" style=\"display: none;\"><div style=\"display: table-cell;\"></div><div style=\"display: table-cell;\">background_fill_color&nbsp;=&nbsp;'#ffffff',</div></div><div class=\"16893\" style=\"display: none;\"><div style=\"display: table-cell;\"></div><div style=\"display: table-cell;\">below&nbsp;=&nbsp;[DatetimeAxis(id='16376', ...)],</div></div><div class=\"16893\" style=\"display: none;\"><div style=\"display: table-cell;\"></div><div style=\"display: table-cell;\">border_fill_alpha&nbsp;=&nbsp;1.0,</div></div><div class=\"16893\" style=\"display: none;\"><div style=\"display: table-cell;\"></div><div style=\"display: table-cell;\">border_fill_color&nbsp;=&nbsp;'#ffffff',</div></div><div class=\"16893\" style=\"display: none;\"><div style=\"display: table-cell;\"></div><div style=\"display: table-cell;\">center&nbsp;=&nbsp;[Grid(id='16379', ...), Grid(id='16383', ...), Legend(id='16426', ...)],</div></div><div class=\"16893\" style=\"display: none;\"><div style=\"display: table-cell;\"></div><div style=\"display: table-cell;\">css_classes&nbsp;=&nbsp;[],</div></div><div class=\"16893\" style=\"display: none;\"><div style=\"display: table-cell;\"></div><div style=\"display: table-cell;\">disabled&nbsp;=&nbsp;False,</div></div><div class=\"16893\" style=\"display: none;\"><div style=\"display: table-cell;\"></div><div style=\"display: table-cell;\">extra_x_ranges&nbsp;=&nbsp;{},</div></div><div class=\"16893\" style=\"display: none;\"><div style=\"display: table-cell;\"></div><div style=\"display: table-cell;\">extra_y_ranges&nbsp;=&nbsp;{},</div></div><div class=\"16893\" style=\"display: none;\"><div style=\"display: table-cell;\"></div><div style=\"display: table-cell;\">frame_height&nbsp;=&nbsp;None,</div></div><div class=\"16893\" style=\"display: none;\"><div style=\"display: table-cell;\"></div><div style=\"display: table-cell;\">frame_width&nbsp;=&nbsp;None,</div></div><div class=\"16893\" style=\"display: none;\"><div style=\"display: table-cell;\"></div><div style=\"display: table-cell;\">height&nbsp;=&nbsp;450,</div></div><div class=\"16893\" style=\"display: none;\"><div style=\"display: table-cell;\"></div><div style=\"display: table-cell;\">height_policy&nbsp;=&nbsp;'auto',</div></div><div class=\"16893\" style=\"display: none;\"><div style=\"display: table-cell;\"></div><div style=\"display: table-cell;\">hidpi&nbsp;=&nbsp;True,</div></div><div class=\"16893\" style=\"display: none;\"><div style=\"display: table-cell;\"></div><div style=\"display: table-cell;\">inner_height&nbsp;=&nbsp;0,</div></div><div class=\"16893\" style=\"display: none;\"><div style=\"display: table-cell;\"></div><div style=\"display: table-cell;\">inner_width&nbsp;=&nbsp;0,</div></div><div class=\"16893\" style=\"display: none;\"><div style=\"display: table-cell;\"></div><div style=\"display: table-cell;\">js_event_callbacks&nbsp;=&nbsp;{},</div></div><div class=\"16893\" style=\"display: none;\"><div style=\"display: table-cell;\"></div><div style=\"display: table-cell;\">js_property_callbacks&nbsp;=&nbsp;{},</div></div><div class=\"16893\" style=\"display: none;\"><div style=\"display: table-cell;\"></div><div style=\"display: table-cell;\">left&nbsp;=&nbsp;[LinearAxis(id='16380', ...)],</div></div><div class=\"16893\" style=\"display: none;\"><div style=\"display: table-cell;\"></div><div style=\"display: table-cell;\">lod_factor&nbsp;=&nbsp;10,</div></div><div class=\"16893\" style=\"display: none;\"><div style=\"display: table-cell;\"></div><div style=\"display: table-cell;\">lod_interval&nbsp;=&nbsp;300,</div></div><div class=\"16893\" style=\"display: none;\"><div style=\"display: table-cell;\"></div><div style=\"display: table-cell;\">lod_threshold&nbsp;=&nbsp;2000,</div></div><div class=\"16893\" style=\"display: none;\"><div style=\"display: table-cell;\"></div><div style=\"display: table-cell;\">lod_timeout&nbsp;=&nbsp;500,</div></div><div class=\"16893\" style=\"display: none;\"><div style=\"display: table-cell;\"></div><div style=\"display: table-cell;\">margin&nbsp;=&nbsp;(0, 0, 0, 0),</div></div><div class=\"16893\" style=\"display: none;\"><div style=\"display: table-cell;\"></div><div style=\"display: table-cell;\">match_aspect&nbsp;=&nbsp;False,</div></div><div class=\"16893\" style=\"display: none;\"><div style=\"display: table-cell;\"></div><div style=\"display: table-cell;\">max_height&nbsp;=&nbsp;None,</div></div><div class=\"16893\" style=\"display: none;\"><div style=\"display: table-cell;\"></div><div style=\"display: table-cell;\">max_width&nbsp;=&nbsp;None,</div></div><div class=\"16893\" style=\"display: none;\"><div style=\"display: table-cell;\"></div><div style=\"display: table-cell;\">min_border&nbsp;=&nbsp;5,</div></div><div class=\"16893\" style=\"display: none;\"><div style=\"display: table-cell;\"></div><div style=\"display: table-cell;\">min_border_bottom&nbsp;=&nbsp;None,</div></div><div class=\"16893\" style=\"display: none;\"><div style=\"display: table-cell;\"></div><div style=\"display: table-cell;\">min_border_left&nbsp;=&nbsp;None,</div></div><div class=\"16893\" style=\"display: none;\"><div style=\"display: table-cell;\"></div><div style=\"display: table-cell;\">min_border_right&nbsp;=&nbsp;None,</div></div><div class=\"16893\" style=\"display: none;\"><div style=\"display: table-cell;\"></div><div style=\"display: table-cell;\">min_border_top&nbsp;=&nbsp;None,</div></div><div class=\"16893\" style=\"display: none;\"><div style=\"display: table-cell;\"></div><div style=\"display: table-cell;\">min_height&nbsp;=&nbsp;None,</div></div><div class=\"16893\" style=\"display: none;\"><div style=\"display: table-cell;\"></div><div style=\"display: table-cell;\">min_width&nbsp;=&nbsp;None,</div></div><div class=\"16893\" style=\"display: none;\"><div style=\"display: table-cell;\"></div><div style=\"display: table-cell;\">name&nbsp;=&nbsp;None,</div></div><div class=\"16893\" style=\"display: none;\"><div style=\"display: table-cell;\"></div><div style=\"display: table-cell;\">outer_height&nbsp;=&nbsp;0,</div></div><div class=\"16893\" style=\"display: none;\"><div style=\"display: table-cell;\"></div><div style=\"display: table-cell;\">outer_width&nbsp;=&nbsp;0,</div></div><div class=\"16893\" style=\"display: none;\"><div style=\"display: table-cell;\"></div><div style=\"display: table-cell;\">outline_line_alpha&nbsp;=&nbsp;1.0,</div></div><div class=\"16893\" style=\"display: none;\"><div style=\"display: table-cell;\"></div><div style=\"display: table-cell;\">outline_line_cap&nbsp;=&nbsp;'butt',</div></div><div class=\"16893\" style=\"display: none;\"><div style=\"display: table-cell;\"></div><div style=\"display: table-cell;\">outline_line_color&nbsp;=&nbsp;'#e5e5e5',</div></div><div class=\"16893\" style=\"display: none;\"><div style=\"display: table-cell;\"></div><div style=\"display: table-cell;\">outline_line_dash&nbsp;=&nbsp;[],</div></div><div class=\"16893\" style=\"display: none;\"><div style=\"display: table-cell;\"></div><div style=\"display: table-cell;\">outline_line_dash_offset&nbsp;=&nbsp;0,</div></div><div class=\"16893\" style=\"display: none;\"><div style=\"display: table-cell;\"></div><div style=\"display: table-cell;\">outline_line_join&nbsp;=&nbsp;'bevel',</div></div><div class=\"16893\" style=\"display: none;\"><div style=\"display: table-cell;\"></div><div style=\"display: table-cell;\">outline_line_width&nbsp;=&nbsp;1,</div></div><div class=\"16893\" style=\"display: none;\"><div style=\"display: table-cell;\"></div><div style=\"display: table-cell;\">output_backend&nbsp;=&nbsp;'webgl',</div></div><div class=\"16893\" style=\"display: none;\"><div style=\"display: table-cell;\"></div><div style=\"display: table-cell;\">renderers&nbsp;=&nbsp;[GlyphRenderer(id='16402', ...), GlyphRenderer(id='16434', ...), GlyphRenderer(id='16467', ...), GlyphRenderer(id='16502', ...)],</div></div><div class=\"16893\" style=\"display: none;\"><div style=\"display: table-cell;\"></div><div style=\"display: table-cell;\">reset_policy&nbsp;=&nbsp;'standard',</div></div><div class=\"16893\" style=\"display: none;\"><div style=\"display: table-cell;\"></div><div style=\"display: table-cell;\">right&nbsp;=&nbsp;[],</div></div><div class=\"16893\" style=\"display: none;\"><div style=\"display: table-cell;\"></div><div style=\"display: table-cell;\">sizing_mode&nbsp;=&nbsp;'fixed',</div></div><div class=\"16893\" style=\"display: none;\"><div style=\"display: table-cell;\"></div><div style=\"display: table-cell;\">subscribed_events&nbsp;=&nbsp;[],</div></div><div class=\"16893\" style=\"display: none;\"><div style=\"display: table-cell;\"></div><div style=\"display: table-cell;\">syncable&nbsp;=&nbsp;True,</div></div><div class=\"16893\" style=\"display: none;\"><div style=\"display: table-cell;\"></div><div style=\"display: table-cell;\">tags&nbsp;=&nbsp;[],</div></div><div class=\"16893\" style=\"display: none;\"><div style=\"display: table-cell;\"></div><div style=\"display: table-cell;\">title&nbsp;=&nbsp;Title(id='16366', ...),</div></div><div class=\"16893\" style=\"display: none;\"><div style=\"display: table-cell;\"></div><div style=\"display: table-cell;\">title_location&nbsp;=&nbsp;'above',</div></div><div class=\"16893\" style=\"display: none;\"><div style=\"display: table-cell;\"></div><div style=\"display: table-cell;\">toolbar&nbsp;=&nbsp;Toolbar(id='16391', ...),</div></div><div class=\"16893\" style=\"display: none;\"><div style=\"display: table-cell;\"></div><div style=\"display: table-cell;\">toolbar_location&nbsp;=&nbsp;'right',</div></div><div class=\"16893\" style=\"display: none;\"><div style=\"display: table-cell;\"></div><div style=\"display: table-cell;\">toolbar_sticky&nbsp;=&nbsp;True,</div></div><div class=\"16893\" style=\"display: none;\"><div style=\"display: table-cell;\"></div><div style=\"display: table-cell;\">visible&nbsp;=&nbsp;True,</div></div><div class=\"16893\" style=\"display: none;\"><div style=\"display: table-cell;\"></div><div style=\"display: table-cell;\">width&nbsp;=&nbsp;800,</div></div><div class=\"16893\" style=\"display: none;\"><div style=\"display: table-cell;\"></div><div style=\"display: table-cell;\">width_policy&nbsp;=&nbsp;'auto',</div></div><div class=\"16893\" style=\"display: none;\"><div style=\"display: table-cell;\"></div><div style=\"display: table-cell;\">x_range&nbsp;=&nbsp;DataRange1d(id='16368', ...),</div></div><div class=\"16893\" style=\"display: none;\"><div style=\"display: table-cell;\"></div><div style=\"display: table-cell;\">x_scale&nbsp;=&nbsp;LinearScale(id='16372', ...),</div></div><div class=\"16893\" style=\"display: none;\"><div style=\"display: table-cell;\"></div><div style=\"display: table-cell;\">y_range&nbsp;=&nbsp;DataRange1d(id='16370', ...),</div></div><div class=\"16893\" style=\"display: none;\"><div style=\"display: table-cell;\"></div><div style=\"display: table-cell;\">y_scale&nbsp;=&nbsp;LinearScale(id='16374', ...))</div></div></div>\n",
       "<script>\n",
       "(function() {\n",
       "  var expanded = false;\n",
       "  var ellipsis = document.getElementById(\"16894\");\n",
       "  ellipsis.addEventListener(\"click\", function() {\n",
       "    var rows = document.getElementsByClassName(\"16893\");\n",
       "    for (var i = 0; i < rows.length; i++) {\n",
       "      var el = rows[i];\n",
       "      el.style.display = expanded ? \"none\" : \"table-row\";\n",
       "    }\n",
       "    ellipsis.innerHTML = expanded ? \"&hellip;)\" : \"&lsaquo;&lsaquo;&lsaquo;\";\n",
       "    expanded = !expanded;\n",
       "  });\n",
       "})();\n",
       "</script>\n"
      ],
      "text/plain": [
       "Figure(id='16365', ...)"
      ]
     },
     "execution_count": 147,
     "metadata": {},
     "output_type": "execute_result"
    }
   ],
   "source": [
    "df.plot_bokeh(kind='line',title='NIFTY Stock Values', ylabel='Index (Thousands)', figsize=(800, 450))\n"
   ]
  },
  {
   "cell_type": "code",
   "execution_count": 143,
   "metadata": {},
   "outputs": [
    {
     "data": {
      "text/html": [
       "\n",
       "\n",
       "\n",
       "\n",
       "\n",
       "\n",
       "  <div class=\"bk-root\" id=\"502096ea-d64c-4d9c-b34a-b94179c5e21f\" data-root-id=\"14715\"></div>\n"
      ]
     },
     "metadata": {},
     "output_type": "display_data"
    },
    {
     "data": {
      "application/javascript": [
       "(function(root) {\n",
       "  function embed_document(root) {\n",
       "    \n",
       "  var docs_json = {\"e261f5ff-3eb3-4a51-8b9d-04282b6a00c9\":{\"defs\":[],\"roots\":{\"references\":[{\"attributes\":{\"below\":[{\"id\":\"14726\"}],\"center\":[{\"id\":\"14729\"},{\"id\":\"14733\"},{\"id\":\"14764\"}],\"height\":400,\"left\":[{\"id\":\"14730\"}],\"output_backend\":\"webgl\",\"renderers\":[{\"id\":\"14752\"}],\"sizing_mode\":\"fixed\",\"title\":{\"id\":\"14716\"},\"toolbar\":{\"id\":\"14741\"},\"x_range\":{\"id\":\"14718\"},\"x_scale\":{\"id\":\"14722\"},\"y_range\":{\"id\":\"14720\"},\"y_scale\":{\"id\":\"14724\"}},\"id\":\"14715\",\"subtype\":\"Figure\",\"type\":\"Plot\"},{\"attributes\":{},\"id\":\"14731\",\"type\":\"BasicTicker\"},{\"attributes\":{\"axis\":{\"id\":\"14730\"},\"dimension\":1,\"ticker\":null},\"id\":\"14733\",\"type\":\"Grid\"},{\"attributes\":{},\"id\":\"14758\",\"type\":\"BasicTickFormatter\"},{\"attributes\":{},\"id\":\"14722\",\"type\":\"LinearScale\"},{\"attributes\":{\"axis_label\":\"NIFTY Pharma index\",\"formatter\":{\"id\":\"14758\"},\"major_label_policy\":{\"id\":\"14760\"},\"ticker\":{\"id\":\"14731\"}},\"id\":\"14730\",\"type\":\"LinearAxis\"},{\"attributes\":{\"click_policy\":\"hide\",\"items\":[{\"id\":\"14765\"}],\"location\":\"top_left\"},\"id\":\"14764\",\"type\":\"Legend\"},{\"attributes\":{\"active_multi\":null,\"active_scroll\":{\"id\":\"14735\"},\"tools\":[{\"id\":\"14734\"},{\"id\":\"14735\"},{\"id\":\"14736\"},{\"id\":\"14737\"},{\"id\":\"14738\"},{\"id\":\"14739\"},{\"id\":\"14766\"}]},\"id\":\"14741\",\"type\":\"Toolbar\"},{\"attributes\":{\"callback\":null,\"renderers\":[{\"id\":\"14752\"}],\"tooltips\":[[\"NIFTY IT index\",\"@__x__values_original\"],[\"NIFTY Pharma index\",\"@y\"]]},\"id\":\"14766\",\"type\":\"HoverTool\"},{\"attributes\":{\"fill_color\":{\"value\":\"#1f77b4\"},\"line_width\":{\"value\":2},\"size\":{\"value\":10},\"x\":{\"field\":\"__x__values\"},\"y\":{\"field\":\"y\"}},\"id\":\"14750\",\"type\":\"Scatter\"},{\"attributes\":{},\"id\":\"14760\",\"type\":\"AllLabels\"},{\"attributes\":{},\"id\":\"14739\",\"type\":\"HelpTool\"},{\"attributes\":{},\"id\":\"14734\",\"type\":\"PanTool\"},{\"attributes\":{\"overlay\":{\"id\":\"14740\"}},\"id\":\"14736\",\"type\":\"BoxZoomTool\"},{\"attributes\":{},\"id\":\"14737\",\"type\":\"SaveTool\"},{\"attributes\":{},\"id\":\"14738\",\"type\":\"ResetTool\"},{\"attributes\":{\"fill_alpha\":{\"value\":0.1},\"fill_color\":{\"value\":\"#1f77b4\"},\"line_alpha\":{\"value\":0.1},\"line_width\":{\"value\":2},\"size\":{\"value\":10},\"x\":{\"field\":\"__x__values\"},\"y\":{\"field\":\"y\"}},\"id\":\"14751\",\"type\":\"Scatter\"},{\"attributes\":{},\"id\":\"14727\",\"type\":\"BasicTicker\"},{\"attributes\":{\"data_source\":{\"id\":\"14748\"},\"glyph\":{\"id\":\"14750\"},\"hover_glyph\":null,\"muted_glyph\":null,\"nonselection_glyph\":{\"id\":\"14751\"},\"view\":{\"id\":\"14753\"}},\"id\":\"14752\",\"type\":\"GlyphRenderer\"},{\"attributes\":{\"axis_label\":\"NIFTY IT index\",\"formatter\":{\"id\":\"14755\"},\"major_label_policy\":{\"id\":\"14757\"},\"ticker\":{\"id\":\"14727\"}},\"id\":\"14726\",\"type\":\"LinearAxis\"},{\"attributes\":{},\"id\":\"14718\",\"type\":\"DataRange1d\"},{\"attributes\":{\"data\":{\"__x__values\":{\"__ndarray__\":\"4JwRpb1xL0B6Nqs+V2svQAHeAgmK3y9ApgpGJXXCL0AnwoanV8ovQA6+MJkq6C9A78nDQq3ZL0Bd3EYDeOsvQJkqGJXUOTBAorQ3+MJcMEAbnl4py1gwQLaEfNCzYTBA7MA5I0pbMEDMXUvIBzUwQFtCPujZLDBAduCcEaVVMEDwOEVHcnkwQBsv3SQGeTBAPldbsb9kMEC8dJMYBG4wQAn5oGezejBAwFsgQfFTMEDpt68D5yQwQOM2GsBbSDBAyAc9m1UPMEA2zTtO0VkwQO2ePCzUcjBAEOm3rwNfMEDjNhrAW3gwQHUkl/+QbjBAFvvL7slzMEBE+u3rwIkwQKOSOgFNrDBABoGVQ4ukMECEns2qz6UwQEjhehSuvzBAkst/SL/FMEC8BRIUP6YwQPVKWYY4djBAAAAAAACQMECTGARWDlUwQKs+V1uxHzBAzV1LyAdtLkDQRNjw9NouQDXvOEVHci9AmN2Th4W6L0A8vVKWIb4vQPoP6bevUy9AZ7Pqc7W1LUAi/fZ14FwtQGgAb4EExSpAFoxK6gQUK0BlGeJYF+coQIlBYOXQMihAqMZLN4mBJ0CuR+F6FK4mQJm7lpAPuihAJLn8h/RbJkBCz2bV57onQA8LtaZ5dyhAp3nHKToSKUClTkATYSMpQPrt68A5oyhASS7/If2GKUAPC7WmeRcoQCNKe4MvXCdAWvW52ootKUCWsgxxrPsoQGgAb4EEdSlAaW/whck0KUDWVuwvu2cpQOjZrPpc7ShAI9v5fmpMKUCn6Egu/7EpQHDwhclU0ShA22gAb4EkKUDFsS5uo0EqQIv9ZffkoSlAINJvXwc+KkCGONbFbUQqQNPe4AuT2SpADwu1pnk3LEB/arx0k+gqQC2yne+nxipAYHZPHhbKKkASFD/G3JUqQMpUwaikzipA4xQdyeUvK0DjpZvEIGArQCFB8WPMjStAoKut2F+WKkCjI7n8h2QqQIy5awn5oCpAhslUwajkKkDUK2UZ4ggrQCQofoy5SytA5PIf0m+vK0Cgq63YXyYrQIC3QILi5ytAylTBqKQOLEBMN4lBYAUsQAU0ETY8nSxAKqkT0ETYLEAp7Q2+MLksQBvAWyBBQS1AG8BbIEFBLUDSAN4CCcotQET67evAeS1AjzF3LSGvLUCwA+eMKD0tQJHtfD81zixAe6UsQxzLLEDXEvJBz+YsQNuK/WX39CxACtejcD0aLUDjFB3J5f8sQK+UZYhj7SxAlGWIY11cLUC2hHzQsyktQPw6cM6I0ixAzO7Jw0L9LUDwp8ZLN4ktQN++Dpwzgi1An82qz9V2LUDlP6Tfvj4uQFHaG3xhki5A54wo7Q3uLkCL/WX35JEvQEku/yH9Bi9AGZXUCWgSL0D+ZffkYSEvQDPEsS5uoy9A1edqK/ZHL0Bns+pztXUwQPd14JwR7TBA0ZFc/kPSMECKjuTyH0IxQGdEaW/wRTFAXdxGA3gTMUB6xyk6kgsxQPCnxks3STFAnMQgsHKgMUA=\",\"dtype\":\"float64\",\"order\":\"little\",\"shape\":[142]},\"__x__values_original\":{\"__ndarray__\":\"4JwRpb1xL0B6Nqs+V2svQAHeAgmK3y9ApgpGJXXCL0AnwoanV8ovQA6+MJkq6C9A78nDQq3ZL0Bd3EYDeOsvQJkqGJXUOTBAorQ3+MJcMEAbnl4py1gwQLaEfNCzYTBA7MA5I0pbMEDMXUvIBzUwQFtCPujZLDBAduCcEaVVMEDwOEVHcnkwQBsv3SQGeTBAPldbsb9kMEC8dJMYBG4wQAn5oGezejBAwFsgQfFTMEDpt68D5yQwQOM2GsBbSDBAyAc9m1UPMEA2zTtO0VkwQO2ePCzUcjBAEOm3rwNfMEDjNhrAW3gwQHUkl/+QbjBAFvvL7slzMEBE+u3rwIkwQKOSOgFNrDBABoGVQ4ukMECEns2qz6UwQEjhehSuvzBAkst/SL/FMEC8BRIUP6YwQPVKWYY4djBAAAAAAACQMECTGARWDlUwQKs+V1uxHzBAzV1LyAdtLkDQRNjw9NouQDXvOEVHci9AmN2Th4W6L0A8vVKWIb4vQPoP6bevUy9AZ7Pqc7W1LUAi/fZ14FwtQGgAb4EExSpAFoxK6gQUK0BlGeJYF+coQIlBYOXQMihAqMZLN4mBJ0CuR+F6FK4mQJm7lpAPuihAJLn8h/RbJkBCz2bV57onQA8LtaZ5dyhAp3nHKToSKUClTkATYSMpQPrt68A5oyhASS7/If2GKUAPC7WmeRcoQCNKe4MvXCdAWvW52ootKUCWsgxxrPsoQGgAb4EEdSlAaW/whck0KUDWVuwvu2cpQOjZrPpc7ShAI9v5fmpMKUCn6Egu/7EpQHDwhclU0ShA22gAb4EkKUDFsS5uo0EqQIv9ZffkoSlAINJvXwc+KkCGONbFbUQqQNPe4AuT2SpADwu1pnk3LEB/arx0k+gqQC2yne+nxipAYHZPHhbKKkASFD/G3JUqQMpUwaikzipA4xQdyeUvK0DjpZvEIGArQCFB8WPMjStAoKut2F+WKkCjI7n8h2QqQIy5awn5oCpAhslUwajkKkDUK2UZ4ggrQCQofoy5SytA5PIf0m+vK0Cgq63YXyYrQIC3QILi5ytAylTBqKQOLEBMN4lBYAUsQAU0ETY8nSxAKqkT0ETYLEAp7Q2+MLksQBvAWyBBQS1AG8BbIEFBLUDSAN4CCcotQET67evAeS1AjzF3LSGvLUCwA+eMKD0tQJHtfD81zixAe6UsQxzLLEDXEvJBz+YsQNuK/WX39CxACtejcD0aLUDjFB3J5f8sQK+UZYhj7SxAlGWIY11cLUC2hHzQsyktQPw6cM6I0ixAzO7Jw0L9LUDwp8ZLN4ktQN++Dpwzgi1An82qz9V2LUDlP6Tfvj4uQFHaG3xhki5A54wo7Q3uLkCL/WX35JEvQEku/yH9Bi9AGZXUCWgSL0D+ZffkYSEvQDPEsS5uoy9A1edqK/ZHL0Bns+pztXUwQPd14JwR7TBA0ZFc/kPSMECKjuTyH0IxQGdEaW/wRTFAXdxGA3gTMUB6xyk6kgsxQPCnxks3STFAnMQgsHKgMUA=\",\"dtype\":\"float64\",\"order\":\"little\",\"shape\":[142]},\"y\":{\"__ndarray__\":\"gEi/fR0YIEAIPZtVnxsgQAyTqYJROSBAidLe4AvzH0Cmm8QgsBIgQD+k374O/B9AjLlrCfkQIEDLoUW28x0gQA6+MJkqKCBAlkOLbOc7IEC+MJkqGFUgQJ2iI7n8ZyBAG55eKcuwIEDvWkI+6IkgQFwgQfFjjCBAbAn5oGeDIEC2hHzQs5kgQBDHuriNliBAE2HD0yvVIEC6SQwCK9cgQN2Th4Va0yBAmggbnl55IECCc0aU9kYgQNejcD0KByBArfpcbcXeH0CQD3o2qz4gQFXBqKROQCBATYQNT690IEB0RpT2Bq8gQPYoXI/ChSBA9UpZhjimIEAOnDOitIcgQM+I0t7gqyBAmioYldSpIEDUK2UZ4mggQPaX3ZOHZSBAxEKtad7BIEBfmEwVjLogQAkbnl4pOyBAjLlrCfnAH0B6Nqs+V1sfQLQ3+MJkih9AO99PjZdOHkDBWyBB8SMeQFjKMsSxrh9AB/AWSFAsIECYbhKDwEogQJoIG55eCSBAnzws1JoGH0BZF7fRAH4eQBNhw9MrxRtA30+Nl24SHUCgq63YX9YbQO4NvjCZ6htAppvEILDSGkCsHFpkO58aQOU/pN++zhtAQz7o2ay6GUAa4lgXt3EaQGPuWkI+yBpAmpmZmZkZG0AcDeAtkEAbQC/dJAaBlRtA2/l+ary0HEB6Nqs+VxscQDXvOEVHch1Aq8/VVuw/IECJ0t7gC9MgQJoqGJXUmSFAuycPC7UWIkBqK/aX3RMiQIMvTKYKZiJAVOOlm8RQIkBcIEHxY0wiQGwJ+aBnwyJAGy/dJAbBIkAs1JrmHcciQPA4RUdyCSNAFB3J5T80I0AvbqMBvMUiQIV80LNZxSJADwu1pnmnIkBDPujZrLoiQLByaJHtXCJAo5I6AU10IkBBE2HD00siQMgpOpLLryJAIR/0bFadIkDmHafoSH4iQM/3U+OlSyJADr4wmSpYIkBWDi2ynS8iQOTyH9JvLyJAs3vysFArIkAnoImw4ekiQJjdk4eFCiNAT6+UZYgzI0BkO99PjfciQHdPHhZq7SJA5/up8dLtIkBFaW/whYkjQEM+6NmsmiNAJuSDns2qI0C0N/jCZLojQLn8h/TbJyRAYFRSJ6ApJEDiWBe30eAjQB/0bFZ9PiRAI9v5fmpMJEA8LNSa5t0jQIEExY8x9yNAtDf4wmT6I0BfB84ZUdojQGpN845T9CNA3ZOHhVrzI0BwXwfOGQEkQMgpOpLLbyRAKcsQx7q4JEB/arx0kzgkQN5xio7kYiRA2IFzRpRGJECEDU+vlEUkQA1Pr5Rl+CNAFoxK6gTEI0ClvcEXJuMjQMzuycNC7SNAPQrXo3DNI0Coxks3icEjQBKDwMqh5SNAYFRSJ6D5I0CiRbbz/SQkQNiBc0aUNiRAVn2utmJPJECWQ4ts52skQIeFWtO8wyRA4JwRpb3xJEAkufyH9JskQOU/pN++TiRAtoR80LNZJEAT0ETY8KQkQJoqGJXUeSRAAG+BBMUfJEA=\",\"dtype\":\"float64\",\"order\":\"little\",\"shape\":[142]}},\"selected\":{\"id\":\"14762\"},\"selection_policy\":{\"id\":\"14761\"}},\"id\":\"14748\",\"type\":\"ColumnDataSource\"},{\"attributes\":{\"source\":{\"id\":\"14748\"}},\"id\":\"14753\",\"type\":\"CDSView\"},{\"attributes\":{\"axis\":{\"id\":\"14726\"},\"ticker\":null},\"id\":\"14729\",\"type\":\"Grid\"},{\"attributes\":{},\"id\":\"14735\",\"type\":\"WheelZoomTool\"},{\"attributes\":{},\"id\":\"14762\",\"type\":\"Selection\"},{\"attributes\":{},\"id\":\"14761\",\"type\":\"UnionRenderers\"},{\"attributes\":{\"label\":{\"value\":\"Hide/Show\"},\"renderers\":[{\"id\":\"14752\"}]},\"id\":\"14765\",\"type\":\"LegendItem\"},{\"attributes\":{},\"id\":\"14720\",\"type\":\"DataRange1d\"},{\"attributes\":{},\"id\":\"14716\",\"type\":\"Title\"},{\"attributes\":{\"bottom_units\":\"screen\",\"fill_alpha\":0.5,\"fill_color\":\"lightgrey\",\"left_units\":\"screen\",\"level\":\"overlay\",\"line_alpha\":1.0,\"line_color\":\"black\",\"line_dash\":[4,4],\"line_width\":2,\"right_units\":\"screen\",\"syncable\":false,\"top_units\":\"screen\"},\"id\":\"14740\",\"type\":\"BoxAnnotation\"},{\"attributes\":{},\"id\":\"14724\",\"type\":\"LinearScale\"},{\"attributes\":{},\"id\":\"14755\",\"type\":\"BasicTickFormatter\"},{\"attributes\":{},\"id\":\"14757\",\"type\":\"AllLabels\"}],\"root_ids\":[\"14715\"]},\"title\":\"Bokeh Application\",\"version\":\"2.3.2\"}};\n",
       "  var render_items = [{\"docid\":\"e261f5ff-3eb3-4a51-8b9d-04282b6a00c9\",\"root_ids\":[\"14715\"],\"roots\":{\"14715\":\"502096ea-d64c-4d9c-b34a-b94179c5e21f\"}}];\n",
       "  root.Bokeh.embed.embed_items_notebook(docs_json, render_items);\n",
       "\n",
       "  }\n",
       "  if (root.Bokeh !== undefined) {\n",
       "    embed_document(root);\n",
       "  } else {\n",
       "    var attempts = 0;\n",
       "    var timer = setInterval(function(root) {\n",
       "      if (root.Bokeh !== undefined) {\n",
       "        clearInterval(timer);\n",
       "        embed_document(root);\n",
       "      } else {\n",
       "        attempts++;\n",
       "        if (attempts > 100) {\n",
       "          clearInterval(timer);\n",
       "          console.log(\"Bokeh: ERROR: Unable to run BokehJS code because BokehJS library is missing\");\n",
       "        }\n",
       "      }\n",
       "    }, 10, root)\n",
       "  }\n",
       "})(window);"
      ],
      "application/vnd.bokehjs_exec.v0+json": ""
     },
     "metadata": {
      "application/vnd.bokehjs_exec.v0+json": {
       "id": "14715"
      }
     },
     "output_type": "display_data"
    },
    {
     "data": {
      "text/html": [
       "<div style=\"display: table;\"><div style=\"display: table-row;\"><div style=\"display: table-cell;\"><b title=\"bokeh.plotting.figure.Figure\">Figure</b>(</div><div style=\"display: table-cell;\">id&nbsp;=&nbsp;'14715', <span id=\"14932\" style=\"cursor: pointer;\">&hellip;)</span></div></div><div class=\"14931\" style=\"display: none;\"><div style=\"display: table-cell;\"></div><div style=\"display: table-cell;\">above&nbsp;=&nbsp;[],</div></div><div class=\"14931\" style=\"display: none;\"><div style=\"display: table-cell;\"></div><div style=\"display: table-cell;\">align&nbsp;=&nbsp;'start',</div></div><div class=\"14931\" style=\"display: none;\"><div style=\"display: table-cell;\"></div><div style=\"display: table-cell;\">aspect_ratio&nbsp;=&nbsp;None,</div></div><div class=\"14931\" style=\"display: none;\"><div style=\"display: table-cell;\"></div><div style=\"display: table-cell;\">aspect_scale&nbsp;=&nbsp;1,</div></div><div class=\"14931\" style=\"display: none;\"><div style=\"display: table-cell;\"></div><div style=\"display: table-cell;\">background&nbsp;=&nbsp;None,</div></div><div class=\"14931\" style=\"display: none;\"><div style=\"display: table-cell;\"></div><div style=\"display: table-cell;\">background_fill_alpha&nbsp;=&nbsp;1.0,</div></div><div class=\"14931\" style=\"display: none;\"><div style=\"display: table-cell;\"></div><div style=\"display: table-cell;\">background_fill_color&nbsp;=&nbsp;'#ffffff',</div></div><div class=\"14931\" style=\"display: none;\"><div style=\"display: table-cell;\"></div><div style=\"display: table-cell;\">below&nbsp;=&nbsp;[LinearAxis(id='14726', ...)],</div></div><div class=\"14931\" style=\"display: none;\"><div style=\"display: table-cell;\"></div><div style=\"display: table-cell;\">border_fill_alpha&nbsp;=&nbsp;1.0,</div></div><div class=\"14931\" style=\"display: none;\"><div style=\"display: table-cell;\"></div><div style=\"display: table-cell;\">border_fill_color&nbsp;=&nbsp;'#ffffff',</div></div><div class=\"14931\" style=\"display: none;\"><div style=\"display: table-cell;\"></div><div style=\"display: table-cell;\">center&nbsp;=&nbsp;[Grid(id='14729', ...), Grid(id='14733', ...), Legend(id='14764', ...)],</div></div><div class=\"14931\" style=\"display: none;\"><div style=\"display: table-cell;\"></div><div style=\"display: table-cell;\">css_classes&nbsp;=&nbsp;[],</div></div><div class=\"14931\" style=\"display: none;\"><div style=\"display: table-cell;\"></div><div style=\"display: table-cell;\">disabled&nbsp;=&nbsp;False,</div></div><div class=\"14931\" style=\"display: none;\"><div style=\"display: table-cell;\"></div><div style=\"display: table-cell;\">extra_x_ranges&nbsp;=&nbsp;{},</div></div><div class=\"14931\" style=\"display: none;\"><div style=\"display: table-cell;\"></div><div style=\"display: table-cell;\">extra_y_ranges&nbsp;=&nbsp;{},</div></div><div class=\"14931\" style=\"display: none;\"><div style=\"display: table-cell;\"></div><div style=\"display: table-cell;\">frame_height&nbsp;=&nbsp;None,</div></div><div class=\"14931\" style=\"display: none;\"><div style=\"display: table-cell;\"></div><div style=\"display: table-cell;\">frame_width&nbsp;=&nbsp;None,</div></div><div class=\"14931\" style=\"display: none;\"><div style=\"display: table-cell;\"></div><div style=\"display: table-cell;\">height&nbsp;=&nbsp;400,</div></div><div class=\"14931\" style=\"display: none;\"><div style=\"display: table-cell;\"></div><div style=\"display: table-cell;\">height_policy&nbsp;=&nbsp;'auto',</div></div><div class=\"14931\" style=\"display: none;\"><div style=\"display: table-cell;\"></div><div style=\"display: table-cell;\">hidpi&nbsp;=&nbsp;True,</div></div><div class=\"14931\" style=\"display: none;\"><div style=\"display: table-cell;\"></div><div style=\"display: table-cell;\">inner_height&nbsp;=&nbsp;0,</div></div><div class=\"14931\" style=\"display: none;\"><div style=\"display: table-cell;\"></div><div style=\"display: table-cell;\">inner_width&nbsp;=&nbsp;0,</div></div><div class=\"14931\" style=\"display: none;\"><div style=\"display: table-cell;\"></div><div style=\"display: table-cell;\">js_event_callbacks&nbsp;=&nbsp;{},</div></div><div class=\"14931\" style=\"display: none;\"><div style=\"display: table-cell;\"></div><div style=\"display: table-cell;\">js_property_callbacks&nbsp;=&nbsp;{},</div></div><div class=\"14931\" style=\"display: none;\"><div style=\"display: table-cell;\"></div><div style=\"display: table-cell;\">left&nbsp;=&nbsp;[LinearAxis(id='14730', ...)],</div></div><div class=\"14931\" style=\"display: none;\"><div style=\"display: table-cell;\"></div><div style=\"display: table-cell;\">lod_factor&nbsp;=&nbsp;10,</div></div><div class=\"14931\" style=\"display: none;\"><div style=\"display: table-cell;\"></div><div style=\"display: table-cell;\">lod_interval&nbsp;=&nbsp;300,</div></div><div class=\"14931\" style=\"display: none;\"><div style=\"display: table-cell;\"></div><div style=\"display: table-cell;\">lod_threshold&nbsp;=&nbsp;2000,</div></div><div class=\"14931\" style=\"display: none;\"><div style=\"display: table-cell;\"></div><div style=\"display: table-cell;\">lod_timeout&nbsp;=&nbsp;500,</div></div><div class=\"14931\" style=\"display: none;\"><div style=\"display: table-cell;\"></div><div style=\"display: table-cell;\">margin&nbsp;=&nbsp;(0, 0, 0, 0),</div></div><div class=\"14931\" style=\"display: none;\"><div style=\"display: table-cell;\"></div><div style=\"display: table-cell;\">match_aspect&nbsp;=&nbsp;False,</div></div><div class=\"14931\" style=\"display: none;\"><div style=\"display: table-cell;\"></div><div style=\"display: table-cell;\">max_height&nbsp;=&nbsp;None,</div></div><div class=\"14931\" style=\"display: none;\"><div style=\"display: table-cell;\"></div><div style=\"display: table-cell;\">max_width&nbsp;=&nbsp;None,</div></div><div class=\"14931\" style=\"display: none;\"><div style=\"display: table-cell;\"></div><div style=\"display: table-cell;\">min_border&nbsp;=&nbsp;5,</div></div><div class=\"14931\" style=\"display: none;\"><div style=\"display: table-cell;\"></div><div style=\"display: table-cell;\">min_border_bottom&nbsp;=&nbsp;None,</div></div><div class=\"14931\" style=\"display: none;\"><div style=\"display: table-cell;\"></div><div style=\"display: table-cell;\">min_border_left&nbsp;=&nbsp;None,</div></div><div class=\"14931\" style=\"display: none;\"><div style=\"display: table-cell;\"></div><div style=\"display: table-cell;\">min_border_right&nbsp;=&nbsp;None,</div></div><div class=\"14931\" style=\"display: none;\"><div style=\"display: table-cell;\"></div><div style=\"display: table-cell;\">min_border_top&nbsp;=&nbsp;None,</div></div><div class=\"14931\" style=\"display: none;\"><div style=\"display: table-cell;\"></div><div style=\"display: table-cell;\">min_height&nbsp;=&nbsp;None,</div></div><div class=\"14931\" style=\"display: none;\"><div style=\"display: table-cell;\"></div><div style=\"display: table-cell;\">min_width&nbsp;=&nbsp;None,</div></div><div class=\"14931\" style=\"display: none;\"><div style=\"display: table-cell;\"></div><div style=\"display: table-cell;\">name&nbsp;=&nbsp;None,</div></div><div class=\"14931\" style=\"display: none;\"><div style=\"display: table-cell;\"></div><div style=\"display: table-cell;\">outer_height&nbsp;=&nbsp;0,</div></div><div class=\"14931\" style=\"display: none;\"><div style=\"display: table-cell;\"></div><div style=\"display: table-cell;\">outer_width&nbsp;=&nbsp;0,</div></div><div class=\"14931\" style=\"display: none;\"><div style=\"display: table-cell;\"></div><div style=\"display: table-cell;\">outline_line_alpha&nbsp;=&nbsp;1.0,</div></div><div class=\"14931\" style=\"display: none;\"><div style=\"display: table-cell;\"></div><div style=\"display: table-cell;\">outline_line_cap&nbsp;=&nbsp;'butt',</div></div><div class=\"14931\" style=\"display: none;\"><div style=\"display: table-cell;\"></div><div style=\"display: table-cell;\">outline_line_color&nbsp;=&nbsp;'#e5e5e5',</div></div><div class=\"14931\" style=\"display: none;\"><div style=\"display: table-cell;\"></div><div style=\"display: table-cell;\">outline_line_dash&nbsp;=&nbsp;[],</div></div><div class=\"14931\" style=\"display: none;\"><div style=\"display: table-cell;\"></div><div style=\"display: table-cell;\">outline_line_dash_offset&nbsp;=&nbsp;0,</div></div><div class=\"14931\" style=\"display: none;\"><div style=\"display: table-cell;\"></div><div style=\"display: table-cell;\">outline_line_join&nbsp;=&nbsp;'bevel',</div></div><div class=\"14931\" style=\"display: none;\"><div style=\"display: table-cell;\"></div><div style=\"display: table-cell;\">outline_line_width&nbsp;=&nbsp;1,</div></div><div class=\"14931\" style=\"display: none;\"><div style=\"display: table-cell;\"></div><div style=\"display: table-cell;\">output_backend&nbsp;=&nbsp;'webgl',</div></div><div class=\"14931\" style=\"display: none;\"><div style=\"display: table-cell;\"></div><div style=\"display: table-cell;\">renderers&nbsp;=&nbsp;[GlyphRenderer(id='14752', ...)],</div></div><div class=\"14931\" style=\"display: none;\"><div style=\"display: table-cell;\"></div><div style=\"display: table-cell;\">reset_policy&nbsp;=&nbsp;'standard',</div></div><div class=\"14931\" style=\"display: none;\"><div style=\"display: table-cell;\"></div><div style=\"display: table-cell;\">right&nbsp;=&nbsp;[],</div></div><div class=\"14931\" style=\"display: none;\"><div style=\"display: table-cell;\"></div><div style=\"display: table-cell;\">sizing_mode&nbsp;=&nbsp;'fixed',</div></div><div class=\"14931\" style=\"display: none;\"><div style=\"display: table-cell;\"></div><div style=\"display: table-cell;\">subscribed_events&nbsp;=&nbsp;[],</div></div><div class=\"14931\" style=\"display: none;\"><div style=\"display: table-cell;\"></div><div style=\"display: table-cell;\">syncable&nbsp;=&nbsp;True,</div></div><div class=\"14931\" style=\"display: none;\"><div style=\"display: table-cell;\"></div><div style=\"display: table-cell;\">tags&nbsp;=&nbsp;[],</div></div><div class=\"14931\" style=\"display: none;\"><div style=\"display: table-cell;\"></div><div style=\"display: table-cell;\">title&nbsp;=&nbsp;Title(id='14716', ...),</div></div><div class=\"14931\" style=\"display: none;\"><div style=\"display: table-cell;\"></div><div style=\"display: table-cell;\">title_location&nbsp;=&nbsp;'above',</div></div><div class=\"14931\" style=\"display: none;\"><div style=\"display: table-cell;\"></div><div style=\"display: table-cell;\">toolbar&nbsp;=&nbsp;Toolbar(id='14741', ...),</div></div><div class=\"14931\" style=\"display: none;\"><div style=\"display: table-cell;\"></div><div style=\"display: table-cell;\">toolbar_location&nbsp;=&nbsp;'right',</div></div><div class=\"14931\" style=\"display: none;\"><div style=\"display: table-cell;\"></div><div style=\"display: table-cell;\">toolbar_sticky&nbsp;=&nbsp;True,</div></div><div class=\"14931\" style=\"display: none;\"><div style=\"display: table-cell;\"></div><div style=\"display: table-cell;\">visible&nbsp;=&nbsp;True,</div></div><div class=\"14931\" style=\"display: none;\"><div style=\"display: table-cell;\"></div><div style=\"display: table-cell;\">width&nbsp;=&nbsp;600,</div></div><div class=\"14931\" style=\"display: none;\"><div style=\"display: table-cell;\"></div><div style=\"display: table-cell;\">width_policy&nbsp;=&nbsp;'auto',</div></div><div class=\"14931\" style=\"display: none;\"><div style=\"display: table-cell;\"></div><div style=\"display: table-cell;\">x_range&nbsp;=&nbsp;DataRange1d(id='14718', ...),</div></div><div class=\"14931\" style=\"display: none;\"><div style=\"display: table-cell;\"></div><div style=\"display: table-cell;\">x_scale&nbsp;=&nbsp;LinearScale(id='14722', ...),</div></div><div class=\"14931\" style=\"display: none;\"><div style=\"display: table-cell;\"></div><div style=\"display: table-cell;\">y_range&nbsp;=&nbsp;DataRange1d(id='14720', ...),</div></div><div class=\"14931\" style=\"display: none;\"><div style=\"display: table-cell;\"></div><div style=\"display: table-cell;\">y_scale&nbsp;=&nbsp;LinearScale(id='14724', ...))</div></div></div>\n",
       "<script>\n",
       "(function() {\n",
       "  var expanded = false;\n",
       "  var ellipsis = document.getElementById(\"14932\");\n",
       "  ellipsis.addEventListener(\"click\", function() {\n",
       "    var rows = document.getElementsByClassName(\"14931\");\n",
       "    for (var i = 0; i < rows.length; i++) {\n",
       "      var el = rows[i];\n",
       "      el.style.display = expanded ? \"none\" : \"table-row\";\n",
       "    }\n",
       "    ellipsis.innerHTML = expanded ? \"&hellip;)\" : \"&lsaquo;&lsaquo;&lsaquo;\";\n",
       "    expanded = !expanded;\n",
       "  });\n",
       "})();\n",
       "</script>\n"
      ],
      "text/plain": [
       "Figure(id='14715', ...)"
      ]
     },
     "execution_count": 143,
     "metadata": {},
     "output_type": "execute_result"
    }
   ],
   "source": [
    "df.plot_bokeh.scatter(x='NIFTY IT index', y='NIFTY Pharma index', legend='top_left')"
   ]
  },
  {
   "cell_type": "code",
   "execution_count": 148,
   "metadata": {
    "scrolled": false
   },
   "outputs": [
    {
     "data": {
      "text/html": [
       "\n",
       "\n",
       "\n",
       "\n",
       "\n",
       "\n",
       "  <div class=\"bk-root\" id=\"02ce01e3-0626-40c9-b919-db9cf0c5adbf\" data-root-id=\"16896\"></div>\n"
      ]
     },
     "metadata": {},
     "output_type": "display_data"
    },
    {
     "data": {
      "application/javascript": [
       "(function(root) {\n",
       "  function embed_document(root) {\n",
       "    \n",
       "  var docs_json = {\"5f972d6a-88dd-4492-861c-98224d9e6ef7\":{\"defs\":[],\"roots\":{\"references\":[{\"attributes\":{\"below\":[{\"id\":\"16907\"}],\"center\":[{\"id\":\"16910\"},{\"id\":\"16914\"},{\"id\":\"16957\"}],\"height\":400,\"left\":[{\"id\":\"16911\"}],\"output_backend\":\"webgl\",\"renderers\":[{\"id\":\"16933\"},{\"id\":\"16965\"}],\"sizing_mode\":\"fixed\",\"title\":{\"id\":\"16897\"},\"toolbar\":{\"id\":\"16922\"},\"x_range\":{\"id\":\"16899\"},\"x_scale\":{\"id\":\"16903\"},\"y_range\":{\"id\":\"16901\"},\"y_scale\":{\"id\":\"16905\"}},\"id\":\"16896\",\"subtype\":\"Figure\",\"type\":\"Plot\"},{\"attributes\":{\"axis_label\":\"Frequency\",\"formatter\":{\"id\":\"16939\"},\"major_label_policy\":{\"id\":\"16941\"},\"ticker\":{\"id\":\"16912\"}},\"id\":\"16911\",\"type\":\"LinearAxis\"},{\"attributes\":{\"label\":{\"value\":\"NIFTY Bank index\"},\"renderers\":[{\"id\":\"16965\"}]},\"id\":\"16991\",\"type\":\"LegendItem\"},{\"attributes\":{\"label\":{\"value\":\"NIFTY FMCG index\"},\"renderers\":[{\"id\":\"16933\"}]},\"id\":\"16958\",\"type\":\"LegendItem\"},{\"attributes\":{\"axis\":{\"id\":\"16907\"},\"ticker\":null},\"id\":\"16910\",\"type\":\"Grid\"},{\"attributes\":{},\"id\":\"16938\",\"type\":\"AllLabels\"},{\"attributes\":{},\"id\":\"16916\",\"type\":\"WheelZoomTool\"},{\"attributes\":{},\"id\":\"16905\",\"type\":\"LinearScale\"},{\"attributes\":{},\"id\":\"16976\",\"type\":\"UnionRenderers\"},{\"attributes\":{\"axis\":{\"id\":\"16911\"},\"dimension\":1,\"ticker\":null},\"id\":\"16914\",\"type\":\"Grid\"},{\"attributes\":{},\"id\":\"16912\",\"type\":\"BasicTicker\"},{\"attributes\":{\"active_multi\":null,\"active_scroll\":{\"id\":\"16916\"},\"tools\":[{\"id\":\"16915\"},{\"id\":\"16916\"},{\"id\":\"16917\"},{\"id\":\"16918\"},{\"id\":\"16919\"},{\"id\":\"16920\"},{\"id\":\"16959\"},{\"id\":\"16992\"}]},\"id\":\"16922\",\"type\":\"Toolbar\"},{\"attributes\":{},\"id\":\"16977\",\"type\":\"Selection\"},{\"attributes\":{},\"id\":\"16920\",\"type\":\"HelpTool\"},{\"attributes\":{},\"id\":\"16939\",\"type\":\"BasicTickFormatter\"},{\"attributes\":{\"source\":{\"id\":\"16929\"}},\"id\":\"16934\",\"type\":\"CDSView\"},{\"attributes\":{},\"id\":\"16915\",\"type\":\"PanTool\"},{\"attributes\":{\"click_policy\":\"hide\",\"items\":[{\"id\":\"16958\"},{\"id\":\"16991\"}],\"location\":\"top_left\"},\"id\":\"16957\",\"type\":\"Legend\"},{\"attributes\":{},\"id\":\"16903\",\"type\":\"LinearScale\"},{\"attributes\":{\"overlay\":{\"id\":\"16921\"}},\"id\":\"16917\",\"type\":\"BoxZoomTool\"},{\"attributes\":{},\"id\":\"16918\",\"type\":\"SaveTool\"},{\"attributes\":{\"data_source\":{\"id\":\"16929\"},\"glyph\":{\"id\":\"16931\"},\"hover_glyph\":null,\"muted_glyph\":null,\"nonselection_glyph\":{\"id\":\"16932\"},\"view\":{\"id\":\"16934\"}},\"id\":\"16933\",\"type\":\"GlyphRenderer\"},{\"attributes\":{},\"id\":\"16919\",\"type\":\"ResetTool\"},{\"attributes\":{},\"id\":\"16901\",\"type\":\"DataRange1d\"},{\"attributes\":{},\"id\":\"16941\",\"type\":\"AllLabels\"},{\"attributes\":{\"axis_label\":\"Dollars\",\"formatter\":{\"id\":\"16996\"},\"major_label_orientation\":1.5707963267948966,\"major_label_policy\":{\"id\":\"16938\"},\"ticker\":{\"id\":\"16994\"}},\"id\":\"16907\",\"type\":\"DatetimeAxis\"},{\"attributes\":{},\"id\":\"16899\",\"type\":\"DataRange1d\"},{\"attributes\":{\"data\":{\"bins\":[\"16.917650000000002\\uff0d17.435190000000002\",\"17.435190000000002\\uff0d17.952730000000003\",\"17.952730000000003\\uff0d18.470270000000003\",\"18.470270000000003\\uff0d18.987810000000003\",\"18.987810000000003\\uff0d19.50535\",\"19.50535\\uff0d20.02289\",\"20.02289\\uff0d20.54043\",\"20.54043\\uff0d21.05797\",\"21.05797\\uff0d21.57551\",\"21.57551\\uff0d22.09305\",\"22.09305\\uff0d22.610590000000002\",\"22.610590000000002\\uff0d23.12813\",\"23.12813\\uff0d23.645670000000003\",\"23.645670000000003\\uff0d24.16321\",\"24.16321\\uff0d24.68075\",\"24.68075\\uff0d25.19829\",\"25.19829\\uff0d25.71583\",\"25.71583\\uff0d26.23337\",\"26.23337\\uff0d26.750909999999998\",\"26.750909999999998\\uff0d27.26845\",\"27.26845\\uff0d27.785989999999998\",\"27.785989999999998\\uff0d28.30353\",\"28.30353\\uff0d28.82107\",\"28.82107\\uff0d29.33861\",\"29.33861\\uff0d29.85615\",\"29.85615\\uff0d30.37369\",\"30.37369\\uff0d30.89123\",\"30.89123\\uff0d31.408769999999997\",\"31.408769999999997\\uff0d31.92631\",\"31.92631\\uff0d32.44385\"],\"bottom\":[0,0,0,0,0,0,0,0,0,0,0,0,0,0,0,0,0,0,0,0,0,0,0,0,0,0,0,0,0,0],\"left\":{\"__ndarray__\":\"pixDHOvqMEDXi6GcaG8xQAjr/xzm8zFAOUpenWN4MkBqqbwd4fwyQJoIG55egTNAy2d5HtwFNED8xteeWYo0QC0mNh/XDjVAXoWUn1STNUCP5PIf0hc2QMBDUaBPnDZA8KKvIM0gN0AiAg6hSqU3QFJhbCHIKThAg8DKoUWuOEC0HykiwzI5QOV+h6JAtzlAFt7lIr47OkBGPUSjO8A6QHicoiO5RDtAqPsApDbJO0DZWl8ktE08QAq6vaQx0jxAOxkcJa9WPUBseHqlLNs9QJ3X2CWqXz5AzjY3pifkPkD+lZUmpWg/QDD186Yi7T9A\",\"dtype\":\"float64\",\"order\":\"little\",\"shape\":[30]},\"right\":{\"__ndarray__\":\"14uhnGhvMUAI6/8c5vMxQDlKXp1jeDJAaqm8HeH8MkCaCBueXoEzQMtneR7cBTRA/MbXnlmKNEAtJjYf1w41QF6FlJ9UkzVAj+TyH9IXNkDAQ1GgT5w2QPCiryDNIDdAIgIOoUqlN0BSYWwhyCk4QIPAyqFFrjhAtB8pIsMyOUDlfoeiQLc5QBbe5SK+OzpARj1EozvAOkB4nKIjuUQ7QKj7AKQ2yTtA2VpfJLRNPEAKur2kMdI8QDsZHCWvVj1AbHh6pSzbPUCd19glql8+QM42N6Yn5D5A/pWVJqVoP0Aw9fOmIu0/QDAqqRPQOEBA\",\"dtype\":\"float64\",\"order\":\"little\",\"shape\":[30]},\"top\":[0,0,0,0,0,0,0,0,0,0,0,0,1,2,2,2,1,5,7,6,3,6,15,13,16,18,19,21,5,0]},\"selected\":{\"id\":\"16943\"},\"selection_policy\":{\"id\":\"16942\"}},\"id\":\"16929\",\"type\":\"ColumnDataSource\"},{\"attributes\":{\"days\":[\"%d %B %Y\"],\"hours\":[\"%H:%M:%S\"],\"milliseconds\":[\"%H:%M:%S.%f\"],\"minutes\":[\"%H:%M:%S\"],\"months\":[\"%d %B %Y\"],\"seconds\":[\"%H:%M:%S\"],\"years\":[\"%d %B %Y\"]},\"id\":\"16996\",\"type\":\"DatetimeTickFormatter\"},{\"attributes\":{\"ticks\":[16.917650000000002,17.435190000000002,17.952730000000003,18.470270000000003,18.987810000000003,19.50535,20.02289,20.54043,21.05797,21.57551,22.09305,22.610590000000002,23.12813,23.645670000000003,24.16321,24.68075,25.19829,25.71583,26.23337,26.750909999999998,27.26845,27.785989999999998,28.30353,28.82107,29.33861,29.85615,30.37369,30.89123,31.408769999999997,31.92631,32.44385]},\"id\":\"16994\",\"type\":\"FixedTicker\"},{\"attributes\":{},\"id\":\"16897\",\"type\":\"Title\"},{\"attributes\":{\"bottom\":{\"field\":\"bottom\"},\"fill_alpha\":{\"value\":0.1},\"fill_color\":{\"value\":\"#1f77b4\"},\"left\":{\"field\":\"left\"},\"line_alpha\":{\"value\":0.1},\"line_color\":{\"value\":null},\"line_width\":{\"value\":2},\"right\":{\"field\":\"right\"},\"top\":{\"field\":\"top\"}},\"id\":\"16932\",\"type\":\"Quad\"},{\"attributes\":{\"bottom\":{\"field\":\"bottom\"},\"fill_alpha\":{\"value\":0.5},\"fill_color\":{\"value\":\"#1f77b4\"},\"left\":{\"field\":\"left\"},\"line_alpha\":{\"value\":0.5},\"line_color\":{\"value\":null},\"line_width\":{\"value\":2},\"right\":{\"field\":\"right\"},\"top\":{\"field\":\"top\"}},\"id\":\"16931\",\"type\":\"Quad\"},{\"attributes\":{\"callback\":null,\"mode\":\"vline\",\"renderers\":[{\"id\":\"16933\"}],\"tooltips\":\"<h3> NIFTY FMCG index: </h3> <h4>bin=@bins</h4> <h4>value=@top </h4>\"},\"id\":\"16959\",\"type\":\"HoverTool\"},{\"attributes\":{},\"id\":\"16943\",\"type\":\"Selection\"},{\"attributes\":{\"bottom_units\":\"screen\",\"fill_alpha\":0.5,\"fill_color\":\"lightgrey\",\"left_units\":\"screen\",\"level\":\"overlay\",\"line_alpha\":1.0,\"line_color\":\"black\",\"line_dash\":[4,4],\"line_width\":2,\"right_units\":\"screen\",\"syncable\":false,\"top_units\":\"screen\"},\"id\":\"16921\",\"type\":\"BoxAnnotation\"},{\"attributes\":{\"data\":{\"bins\":[\"16.917650000000002\\uff0d17.435190000000002\",\"17.435190000000002\\uff0d17.952730000000003\",\"17.952730000000003\\uff0d18.470270000000003\",\"18.470270000000003\\uff0d18.987810000000003\",\"18.987810000000003\\uff0d19.50535\",\"19.50535\\uff0d20.02289\",\"20.02289\\uff0d20.54043\",\"20.54043\\uff0d21.05797\",\"21.05797\\uff0d21.57551\",\"21.57551\\uff0d22.09305\",\"22.09305\\uff0d22.610590000000002\",\"22.610590000000002\\uff0d23.12813\",\"23.12813\\uff0d23.645670000000003\",\"23.645670000000003\\uff0d24.16321\",\"24.16321\\uff0d24.68075\",\"24.68075\\uff0d25.19829\",\"25.19829\\uff0d25.71583\",\"25.71583\\uff0d26.23337\",\"26.23337\\uff0d26.750909999999998\",\"26.750909999999998\\uff0d27.26845\",\"27.26845\\uff0d27.785989999999998\",\"27.785989999999998\\uff0d28.30353\",\"28.30353\\uff0d28.82107\",\"28.82107\\uff0d29.33861\",\"29.33861\\uff0d29.85615\",\"29.85615\\uff0d30.37369\",\"30.37369\\uff0d30.89123\",\"30.89123\\uff0d31.408769999999997\",\"31.408769999999997\\uff0d31.92631\",\"31.92631\\uff0d32.44385\"],\"bottom\":[0,0,0,0,0,0,0,0,0,0,0,0,0,0,0,0,0,0,0,0,0,0,0,0,0,0,0,0,0,0],\"left\":{\"__ndarray__\":\"pixDHOvqMEDXi6GcaG8xQAjr/xzm8zFAOUpenWN4MkBqqbwd4fwyQJoIG55egTNAy2d5HtwFNED8xteeWYo0QC0mNh/XDjVAXoWUn1STNUCP5PIf0hc2QMBDUaBPnDZA8KKvIM0gN0AiAg6hSqU3QFJhbCHIKThAg8DKoUWuOEC0HykiwzI5QOV+h6JAtzlAFt7lIr47OkBGPUSjO8A6QHicoiO5RDtAqPsApDbJO0DZWl8ktE08QAq6vaQx0jxAOxkcJa9WPUBseHqlLNs9QJ3X2CWqXz5AzjY3pifkPkD+lZUmpWg/QDD186Yi7T9A\",\"dtype\":\"float64\",\"order\":\"little\",\"shape\":[30]},\"right\":{\"__ndarray__\":\"14uhnGhvMUAI6/8c5vMxQDlKXp1jeDJAaqm8HeH8MkCaCBueXoEzQMtneR7cBTRA/MbXnlmKNEAtJjYf1w41QF6FlJ9UkzVAj+TyH9IXNkDAQ1GgT5w2QPCiryDNIDdAIgIOoUqlN0BSYWwhyCk4QIPAyqFFrjhAtB8pIsMyOUDlfoeiQLc5QBbe5SK+OzpARj1EozvAOkB4nKIjuUQ7QKj7AKQ2yTtA2VpfJLRNPEAKur2kMdI8QDsZHCWvVj1AbHh6pSzbPUCd19glql8+QM42N6Yn5D5A/pWVJqVoP0Aw9fOmIu0/QDAqqRPQOEBA\",\"dtype\":\"float64\",\"order\":\"little\",\"shape\":[30]},\"top\":[4,5,1,7,12,10,10,8,11,9,6,7,0,1,0,1,0,0,2,0,0,1,2,3,1,3,13,14,4,7]},\"selected\":{\"id\":\"16977\"},\"selection_policy\":{\"id\":\"16976\"}},\"id\":\"16961\",\"type\":\"ColumnDataSource\"},{\"attributes\":{\"bottom\":{\"field\":\"bottom\"},\"fill_alpha\":{\"value\":0.1},\"fill_color\":{\"value\":\"#ff7f0e\"},\"left\":{\"field\":\"left\"},\"line_alpha\":{\"value\":0.1},\"line_color\":{\"value\":null},\"line_width\":{\"value\":2},\"right\":{\"field\":\"right\"},\"top\":{\"field\":\"top\"}},\"id\":\"16964\",\"type\":\"Quad\"},{\"attributes\":{\"bottom\":{\"field\":\"bottom\"},\"fill_alpha\":{\"value\":0.5},\"fill_color\":{\"value\":\"#ff7f0e\"},\"left\":{\"field\":\"left\"},\"line_alpha\":{\"value\":0.5},\"line_color\":{\"value\":null},\"line_width\":{\"value\":2},\"right\":{\"field\":\"right\"},\"top\":{\"field\":\"top\"}},\"id\":\"16963\",\"type\":\"Quad\"},{\"attributes\":{},\"id\":\"16942\",\"type\":\"UnionRenderers\"},{\"attributes\":{\"callback\":null,\"mode\":\"vline\",\"renderers\":[{\"id\":\"16965\"}],\"tooltips\":\"<h3> NIFTY Bank index: </h3> <h4>bin=@bins</h4> <h4>value=@top </h4>\"},\"id\":\"16992\",\"type\":\"HoverTool\"},{\"attributes\":{\"source\":{\"id\":\"16961\"}},\"id\":\"16966\",\"type\":\"CDSView\"},{\"attributes\":{\"data_source\":{\"id\":\"16961\"},\"glyph\":{\"id\":\"16963\"},\"hover_glyph\":null,\"muted_glyph\":null,\"nonselection_glyph\":{\"id\":\"16964\"},\"view\":{\"id\":\"16966\"}},\"id\":\"16965\",\"type\":\"GlyphRenderer\"}],\"root_ids\":[\"16896\"]},\"title\":\"Bokeh Application\",\"version\":\"2.3.2\"}};\n",
       "  var render_items = [{\"docid\":\"5f972d6a-88dd-4492-861c-98224d9e6ef7\",\"root_ids\":[\"16896\"],\"roots\":{\"16896\":\"02ce01e3-0626-40c9-b919-db9cf0c5adbf\"}}];\n",
       "  root.Bokeh.embed.embed_items_notebook(docs_json, render_items);\n",
       "\n",
       "  }\n",
       "  if (root.Bokeh !== undefined) {\n",
       "    embed_document(root);\n",
       "  } else {\n",
       "    var attempts = 0;\n",
       "    var timer = setInterval(function(root) {\n",
       "      if (root.Bokeh !== undefined) {\n",
       "        clearInterval(timer);\n",
       "        embed_document(root);\n",
       "      } else {\n",
       "        attempts++;\n",
       "        if (attempts > 100) {\n",
       "          clearInterval(timer);\n",
       "          console.log(\"Bokeh: ERROR: Unable to run BokehJS code because BokehJS library is missing\");\n",
       "        }\n",
       "      }\n",
       "    }, 10, root)\n",
       "  }\n",
       "})(window);"
      ],
      "application/vnd.bokehjs_exec.v0+json": ""
     },
     "metadata": {
      "application/vnd.bokehjs_exec.v0+json": {
       "id": "16896"
      }
     },
     "output_type": "display_data"
    },
    {
     "data": {
      "text/html": [
       "<div style=\"display: table;\"><div style=\"display: table-row;\"><div style=\"display: table-cell;\"><b title=\"bokeh.plotting.figure.Figure\">Figure</b>(</div><div style=\"display: table-cell;\">id&nbsp;=&nbsp;'16896', <span id=\"17280\" style=\"cursor: pointer;\">&hellip;)</span></div></div><div class=\"17279\" style=\"display: none;\"><div style=\"display: table-cell;\"></div><div style=\"display: table-cell;\">above&nbsp;=&nbsp;[],</div></div><div class=\"17279\" style=\"display: none;\"><div style=\"display: table-cell;\"></div><div style=\"display: table-cell;\">align&nbsp;=&nbsp;'start',</div></div><div class=\"17279\" style=\"display: none;\"><div style=\"display: table-cell;\"></div><div style=\"display: table-cell;\">aspect_ratio&nbsp;=&nbsp;None,</div></div><div class=\"17279\" style=\"display: none;\"><div style=\"display: table-cell;\"></div><div style=\"display: table-cell;\">aspect_scale&nbsp;=&nbsp;1,</div></div><div class=\"17279\" style=\"display: none;\"><div style=\"display: table-cell;\"></div><div style=\"display: table-cell;\">background&nbsp;=&nbsp;None,</div></div><div class=\"17279\" style=\"display: none;\"><div style=\"display: table-cell;\"></div><div style=\"display: table-cell;\">background_fill_alpha&nbsp;=&nbsp;1.0,</div></div><div class=\"17279\" style=\"display: none;\"><div style=\"display: table-cell;\"></div><div style=\"display: table-cell;\">background_fill_color&nbsp;=&nbsp;'#ffffff',</div></div><div class=\"17279\" style=\"display: none;\"><div style=\"display: table-cell;\"></div><div style=\"display: table-cell;\">below&nbsp;=&nbsp;[DatetimeAxis(id='16907', ...)],</div></div><div class=\"17279\" style=\"display: none;\"><div style=\"display: table-cell;\"></div><div style=\"display: table-cell;\">border_fill_alpha&nbsp;=&nbsp;1.0,</div></div><div class=\"17279\" style=\"display: none;\"><div style=\"display: table-cell;\"></div><div style=\"display: table-cell;\">border_fill_color&nbsp;=&nbsp;'#ffffff',</div></div><div class=\"17279\" style=\"display: none;\"><div style=\"display: table-cell;\"></div><div style=\"display: table-cell;\">center&nbsp;=&nbsp;[Grid(id='16910', ...), Grid(id='16914', ...), Legend(id='16957', ...)],</div></div><div class=\"17279\" style=\"display: none;\"><div style=\"display: table-cell;\"></div><div style=\"display: table-cell;\">css_classes&nbsp;=&nbsp;[],</div></div><div class=\"17279\" style=\"display: none;\"><div style=\"display: table-cell;\"></div><div style=\"display: table-cell;\">disabled&nbsp;=&nbsp;False,</div></div><div class=\"17279\" style=\"display: none;\"><div style=\"display: table-cell;\"></div><div style=\"display: table-cell;\">extra_x_ranges&nbsp;=&nbsp;{},</div></div><div class=\"17279\" style=\"display: none;\"><div style=\"display: table-cell;\"></div><div style=\"display: table-cell;\">extra_y_ranges&nbsp;=&nbsp;{},</div></div><div class=\"17279\" style=\"display: none;\"><div style=\"display: table-cell;\"></div><div style=\"display: table-cell;\">frame_height&nbsp;=&nbsp;None,</div></div><div class=\"17279\" style=\"display: none;\"><div style=\"display: table-cell;\"></div><div style=\"display: table-cell;\">frame_width&nbsp;=&nbsp;None,</div></div><div class=\"17279\" style=\"display: none;\"><div style=\"display: table-cell;\"></div><div style=\"display: table-cell;\">height&nbsp;=&nbsp;400,</div></div><div class=\"17279\" style=\"display: none;\"><div style=\"display: table-cell;\"></div><div style=\"display: table-cell;\">height_policy&nbsp;=&nbsp;'auto',</div></div><div class=\"17279\" style=\"display: none;\"><div style=\"display: table-cell;\"></div><div style=\"display: table-cell;\">hidpi&nbsp;=&nbsp;True,</div></div><div class=\"17279\" style=\"display: none;\"><div style=\"display: table-cell;\"></div><div style=\"display: table-cell;\">inner_height&nbsp;=&nbsp;0,</div></div><div class=\"17279\" style=\"display: none;\"><div style=\"display: table-cell;\"></div><div style=\"display: table-cell;\">inner_width&nbsp;=&nbsp;0,</div></div><div class=\"17279\" style=\"display: none;\"><div style=\"display: table-cell;\"></div><div style=\"display: table-cell;\">js_event_callbacks&nbsp;=&nbsp;{},</div></div><div class=\"17279\" style=\"display: none;\"><div style=\"display: table-cell;\"></div><div style=\"display: table-cell;\">js_property_callbacks&nbsp;=&nbsp;{},</div></div><div class=\"17279\" style=\"display: none;\"><div style=\"display: table-cell;\"></div><div style=\"display: table-cell;\">left&nbsp;=&nbsp;[LinearAxis(id='16911', ...)],</div></div><div class=\"17279\" style=\"display: none;\"><div style=\"display: table-cell;\"></div><div style=\"display: table-cell;\">lod_factor&nbsp;=&nbsp;10,</div></div><div class=\"17279\" style=\"display: none;\"><div style=\"display: table-cell;\"></div><div style=\"display: table-cell;\">lod_interval&nbsp;=&nbsp;300,</div></div><div class=\"17279\" style=\"display: none;\"><div style=\"display: table-cell;\"></div><div style=\"display: table-cell;\">lod_threshold&nbsp;=&nbsp;2000,</div></div><div class=\"17279\" style=\"display: none;\"><div style=\"display: table-cell;\"></div><div style=\"display: table-cell;\">lod_timeout&nbsp;=&nbsp;500,</div></div><div class=\"17279\" style=\"display: none;\"><div style=\"display: table-cell;\"></div><div style=\"display: table-cell;\">margin&nbsp;=&nbsp;(0, 0, 0, 0),</div></div><div class=\"17279\" style=\"display: none;\"><div style=\"display: table-cell;\"></div><div style=\"display: table-cell;\">match_aspect&nbsp;=&nbsp;False,</div></div><div class=\"17279\" style=\"display: none;\"><div style=\"display: table-cell;\"></div><div style=\"display: table-cell;\">max_height&nbsp;=&nbsp;None,</div></div><div class=\"17279\" style=\"display: none;\"><div style=\"display: table-cell;\"></div><div style=\"display: table-cell;\">max_width&nbsp;=&nbsp;None,</div></div><div class=\"17279\" style=\"display: none;\"><div style=\"display: table-cell;\"></div><div style=\"display: table-cell;\">min_border&nbsp;=&nbsp;5,</div></div><div class=\"17279\" style=\"display: none;\"><div style=\"display: table-cell;\"></div><div style=\"display: table-cell;\">min_border_bottom&nbsp;=&nbsp;None,</div></div><div class=\"17279\" style=\"display: none;\"><div style=\"display: table-cell;\"></div><div style=\"display: table-cell;\">min_border_left&nbsp;=&nbsp;None,</div></div><div class=\"17279\" style=\"display: none;\"><div style=\"display: table-cell;\"></div><div style=\"display: table-cell;\">min_border_right&nbsp;=&nbsp;None,</div></div><div class=\"17279\" style=\"display: none;\"><div style=\"display: table-cell;\"></div><div style=\"display: table-cell;\">min_border_top&nbsp;=&nbsp;None,</div></div><div class=\"17279\" style=\"display: none;\"><div style=\"display: table-cell;\"></div><div style=\"display: table-cell;\">min_height&nbsp;=&nbsp;None,</div></div><div class=\"17279\" style=\"display: none;\"><div style=\"display: table-cell;\"></div><div style=\"display: table-cell;\">min_width&nbsp;=&nbsp;None,</div></div><div class=\"17279\" style=\"display: none;\"><div style=\"display: table-cell;\"></div><div style=\"display: table-cell;\">name&nbsp;=&nbsp;None,</div></div><div class=\"17279\" style=\"display: none;\"><div style=\"display: table-cell;\"></div><div style=\"display: table-cell;\">outer_height&nbsp;=&nbsp;0,</div></div><div class=\"17279\" style=\"display: none;\"><div style=\"display: table-cell;\"></div><div style=\"display: table-cell;\">outer_width&nbsp;=&nbsp;0,</div></div><div class=\"17279\" style=\"display: none;\"><div style=\"display: table-cell;\"></div><div style=\"display: table-cell;\">outline_line_alpha&nbsp;=&nbsp;1.0,</div></div><div class=\"17279\" style=\"display: none;\"><div style=\"display: table-cell;\"></div><div style=\"display: table-cell;\">outline_line_cap&nbsp;=&nbsp;'butt',</div></div><div class=\"17279\" style=\"display: none;\"><div style=\"display: table-cell;\"></div><div style=\"display: table-cell;\">outline_line_color&nbsp;=&nbsp;'#e5e5e5',</div></div><div class=\"17279\" style=\"display: none;\"><div style=\"display: table-cell;\"></div><div style=\"display: table-cell;\">outline_line_dash&nbsp;=&nbsp;[],</div></div><div class=\"17279\" style=\"display: none;\"><div style=\"display: table-cell;\"></div><div style=\"display: table-cell;\">outline_line_dash_offset&nbsp;=&nbsp;0,</div></div><div class=\"17279\" style=\"display: none;\"><div style=\"display: table-cell;\"></div><div style=\"display: table-cell;\">outline_line_join&nbsp;=&nbsp;'bevel',</div></div><div class=\"17279\" style=\"display: none;\"><div style=\"display: table-cell;\"></div><div style=\"display: table-cell;\">outline_line_width&nbsp;=&nbsp;1,</div></div><div class=\"17279\" style=\"display: none;\"><div style=\"display: table-cell;\"></div><div style=\"display: table-cell;\">output_backend&nbsp;=&nbsp;'webgl',</div></div><div class=\"17279\" style=\"display: none;\"><div style=\"display: table-cell;\"></div><div style=\"display: table-cell;\">renderers&nbsp;=&nbsp;[GlyphRenderer(id='16933', ...), GlyphRenderer(id='16965', ...)],</div></div><div class=\"17279\" style=\"display: none;\"><div style=\"display: table-cell;\"></div><div style=\"display: table-cell;\">reset_policy&nbsp;=&nbsp;'standard',</div></div><div class=\"17279\" style=\"display: none;\"><div style=\"display: table-cell;\"></div><div style=\"display: table-cell;\">right&nbsp;=&nbsp;[],</div></div><div class=\"17279\" style=\"display: none;\"><div style=\"display: table-cell;\"></div><div style=\"display: table-cell;\">sizing_mode&nbsp;=&nbsp;'fixed',</div></div><div class=\"17279\" style=\"display: none;\"><div style=\"display: table-cell;\"></div><div style=\"display: table-cell;\">subscribed_events&nbsp;=&nbsp;[],</div></div><div class=\"17279\" style=\"display: none;\"><div style=\"display: table-cell;\"></div><div style=\"display: table-cell;\">syncable&nbsp;=&nbsp;True,</div></div><div class=\"17279\" style=\"display: none;\"><div style=\"display: table-cell;\"></div><div style=\"display: table-cell;\">tags&nbsp;=&nbsp;[],</div></div><div class=\"17279\" style=\"display: none;\"><div style=\"display: table-cell;\"></div><div style=\"display: table-cell;\">title&nbsp;=&nbsp;Title(id='16897', ...),</div></div><div class=\"17279\" style=\"display: none;\"><div style=\"display: table-cell;\"></div><div style=\"display: table-cell;\">title_location&nbsp;=&nbsp;'above',</div></div><div class=\"17279\" style=\"display: none;\"><div style=\"display: table-cell;\"></div><div style=\"display: table-cell;\">toolbar&nbsp;=&nbsp;Toolbar(id='16922', ...),</div></div><div class=\"17279\" style=\"display: none;\"><div style=\"display: table-cell;\"></div><div style=\"display: table-cell;\">toolbar_location&nbsp;=&nbsp;'right',</div></div><div class=\"17279\" style=\"display: none;\"><div style=\"display: table-cell;\"></div><div style=\"display: table-cell;\">toolbar_sticky&nbsp;=&nbsp;True,</div></div><div class=\"17279\" style=\"display: none;\"><div style=\"display: table-cell;\"></div><div style=\"display: table-cell;\">visible&nbsp;=&nbsp;True,</div></div><div class=\"17279\" style=\"display: none;\"><div style=\"display: table-cell;\"></div><div style=\"display: table-cell;\">width&nbsp;=&nbsp;600,</div></div><div class=\"17279\" style=\"display: none;\"><div style=\"display: table-cell;\"></div><div style=\"display: table-cell;\">width_policy&nbsp;=&nbsp;'auto',</div></div><div class=\"17279\" style=\"display: none;\"><div style=\"display: table-cell;\"></div><div style=\"display: table-cell;\">x_range&nbsp;=&nbsp;DataRange1d(id='16899', ...),</div></div><div class=\"17279\" style=\"display: none;\"><div style=\"display: table-cell;\"></div><div style=\"display: table-cell;\">x_scale&nbsp;=&nbsp;LinearScale(id='16903', ...),</div></div><div class=\"17279\" style=\"display: none;\"><div style=\"display: table-cell;\"></div><div style=\"display: table-cell;\">y_range&nbsp;=&nbsp;DataRange1d(id='16901', ...),</div></div><div class=\"17279\" style=\"display: none;\"><div style=\"display: table-cell;\"></div><div style=\"display: table-cell;\">y_scale&nbsp;=&nbsp;LinearScale(id='16905', ...))</div></div></div>\n",
       "<script>\n",
       "(function() {\n",
       "  var expanded = false;\n",
       "  var ellipsis = document.getElementById(\"17280\");\n",
       "  ellipsis.addEventListener(\"click\", function() {\n",
       "    var rows = document.getElementsByClassName(\"17279\");\n",
       "    for (var i = 0; i < rows.length; i++) {\n",
       "      var el = rows[i];\n",
       "      el.style.display = expanded ? \"none\" : \"table-row\";\n",
       "    }\n",
       "    ellipsis.innerHTML = expanded ? \"&hellip;)\" : \"&lsaquo;&lsaquo;&lsaquo;\";\n",
       "    expanded = !expanded;\n",
       "  });\n",
       "})();\n",
       "</script>\n"
      ],
      "text/plain": [
       "Figure(id='16896', ...)"
      ]
     },
     "execution_count": 148,
     "metadata": {},
     "output_type": "execute_result"
    }
   ],
   "source": [
    "df[['NIFTY FMCG index', 'NIFTY Bank index']].plot_bokeh(kind='hist', bins=30, vertical_xlabel=True, xlabel='Dollars', ylabel='Frequency', legend='top_left')"
   ]
  },
  {
   "cell_type": "code",
   "execution_count": 149,
   "metadata": {},
   "outputs": [
    {
     "data": {
      "text/html": [
       "\n",
       "\n",
       "\n",
       "\n",
       "\n",
       "\n",
       "  <div class=\"bk-root\" id=\"e18ce94e-88cb-4ea2-bbd8-2c23fc40a7ee\" data-root-id=\"17318\"></div>\n"
      ]
     },
     "metadata": {},
     "output_type": "display_data"
    },
    {
     "data": {
      "application/javascript": [
       "(function(root) {\n",
       "  function embed_document(root) {\n",
       "    \n",
       "  var docs_json = {\"5c84a4d5-266b-4361-aae0-47a81799a804\":{\"defs\":[],\"roots\":{\"references\":[{\"attributes\":{\"below\":[{\"id\":\"17329\"}],\"center\":[{\"id\":\"17332\"},{\"id\":\"17336\"},{\"id\":\"17368\"}],\"height\":400,\"left\":[{\"id\":\"17333\"}],\"output_backend\":\"webgl\",\"renderers\":[{\"id\":\"17357\"},{\"id\":\"17376\"},{\"id\":\"17394\"},{\"id\":\"17412\"}],\"sizing_mode\":\"fixed\",\"title\":{\"id\":\"17319\"},\"toolbar\":{\"id\":\"17344\"},\"x_range\":{\"id\":\"17321\"},\"x_scale\":{\"id\":\"17325\"},\"y_range\":{\"id\":\"17323\"},\"y_scale\":{\"id\":\"17327\"}},\"id\":\"17318\",\"subtype\":\"Figure\",\"type\":\"Plot\"},{\"attributes\":{\"fill_alpha\":{\"value\":0.1},\"fill_color\":{\"value\":\"#2ca02c\"},\"line_alpha\":{\"value\":0.1},\"line_color\":{\"value\":\"#2ca02c\"},\"line_width\":{\"value\":2},\"top\":{\"field\":\"NIFTY IT index\"},\"width\":{\"value\":0.14285714285714285},\"x\":{\"field\":\"__x__values\",\"transform\":{\"id\":\"17390\"}}},\"id\":\"17393\",\"type\":\"VBar\"},{\"attributes\":{\"click_policy\":\"hide\",\"items\":[{\"id\":\"17369\"},{\"id\":\"17387\"},{\"id\":\"17405\"},{\"id\":\"17423\"}]},\"id\":\"17368\",\"type\":\"Legend\"},{\"attributes\":{\"formatter\":{\"id\":\"17362\"},\"major_label_policy\":{\"id\":\"17364\"},\"ticker\":{\"id\":\"17334\"}},\"id\":\"17333\",\"type\":\"LinearAxis\"},{\"attributes\":{\"fill_color\":{\"value\":\"#1f77b4\"},\"line_color\":{\"value\":\"#1f77b4\"},\"line_width\":{\"value\":2},\"top\":{\"field\":\"NIFTY Bank index\"},\"width\":{\"value\":0.14285714285714285},\"x\":{\"field\":\"__x__values\",\"transform\":{\"id\":\"17353\"}}},\"id\":\"17355\",\"type\":\"VBar\"},{\"attributes\":{\"label\":{\"value\":\" NIFTY Pharma index\"},\"renderers\":[{\"id\":\"17412\"}]},\"id\":\"17423\",\"type\":\"LegendItem\"},{\"attributes\":{\"callback\":null,\"mode\":\"vline\",\"renderers\":[{\"id\":\"17376\"}],\"tooltips\":[[\"Date\",\"@__x__values_original\"],[\"NIFTY FMCG index\",\"@{NIFTY FMCG index}\"]]},\"id\":\"17388\",\"type\":\"HoverTool\"},{\"attributes\":{\"source\":{\"id\":\"17317\"}},\"id\":\"17395\",\"type\":\"CDSView\"},{\"attributes\":{\"data_source\":{\"id\":\"17317\"},\"glyph\":{\"id\":\"17392\"},\"hover_glyph\":null,\"muted_glyph\":null,\"nonselection_glyph\":{\"id\":\"17393\"},\"view\":{\"id\":\"17395\"}},\"id\":\"17394\",\"type\":\"GlyphRenderer\"},{\"attributes\":{\"source\":{\"id\":\"17317\"}},\"id\":\"17358\",\"type\":\"CDSView\"},{\"attributes\":{\"axis\":{\"id\":\"17333\"},\"dimension\":1,\"ticker\":null},\"id\":\"17336\",\"type\":\"Grid\"},{\"attributes\":{},\"id\":\"17334\",\"type\":\"BasicTicker\"},{\"attributes\":{\"data\":{\"NIFTY Bank index\":{\"__ndarray__\":\"iWRVs0ZyP0CtUQ/R6Kw+QGr4QFmg7zZAaijI4hG3M0AaAQ8YDLUyQGeXulck9DRAOZAKcjI8NkA=\",\"dtype\":\"float64\",\"order\":\"little\",\"shape\":[7]},\"NIFTY FMCG index\":{\"__ndarray__\":\"czsaKaTKPkCRBUzg1nc+QAooP5I+aDpALo/mZkOfPEA8rbShcVM7QJMK7MdFUj1AqdTdWiPoPkA=\",\"dtype\":\"float64\",\"order\":\"little\",\"shape\":[7]},\"NIFTY IT index\":{\"__ndarray__\":\"ds35Q5EtMEDs+gW7YWkwQC8hH/RstipARIUQfWSAKUADgFoegCMrQIKqZ2CZKy1ALaVG8Rg5MEA=\",\"dtype\":\"float64\",\"order\":\"little\",\"shape\":[7]},\"NIFTY Pharma index\":{\"__ndarray__\":\"tS/PwrNeIEAW4/xNKEggQF9w87N+wBxAI27snYLaIUCpGx8/MKYiQEGlHiuOEiRAvadpKTU6JEA=\",\"dtype\":\"float64\",\"order\":\"little\",\"shape\":[7]},\"__x__values\":[0,1,2,3,4,5,6],\"__x__values_original\":{\"__ndarray__\":\"AAAAW47/dkIAAMDh4wh3QgAAADTeEndCAACAIIYcd0IAAMBygCZ3QgAAQF8oMHdCAACAsSI6d0I=\",\"dtype\":\"float64\",\"order\":\"little\",\"shape\":[7]}},\"selected\":{\"id\":\"17366\"},\"selection_policy\":{\"id\":\"17365\"}},\"id\":\"17317\",\"type\":\"ColumnDataSource\"},{\"attributes\":{\"label\":{\"value\":\" NIFTY Bank index\"},\"renderers\":[{\"id\":\"17357\"}]},\"id\":\"17369\",\"type\":\"LegendItem\"},{\"attributes\":{\"label\":{\"value\":\" NIFTY IT index\"},\"renderers\":[{\"id\":\"17394\"}]},\"id\":\"17405\",\"type\":\"LegendItem\"},{\"attributes\":{},\"id\":\"17319\",\"type\":\"Title\"},{\"attributes\":{},\"id\":\"17337\",\"type\":\"PanTool\"},{\"attributes\":{},\"id\":\"17365\",\"type\":\"UnionRenderers\"},{\"attributes\":{\"bottom_units\":\"screen\",\"fill_alpha\":0.5,\"fill_color\":\"lightgrey\",\"left_units\":\"screen\",\"level\":\"overlay\",\"line_alpha\":1.0,\"line_color\":\"black\",\"line_dash\":[4,4],\"line_width\":2,\"right_units\":\"screen\",\"syncable\":false,\"top_units\":\"screen\"},\"id\":\"17343\",\"type\":\"BoxAnnotation\"},{\"attributes\":{\"callback\":null,\"mode\":\"vline\",\"renderers\":[{\"id\":\"17357\"}],\"tooltips\":[[\"Date\",\"@__x__values_original\"],[\"NIFTY Bank index\",\"@{NIFTY Bank index}\"]]},\"id\":\"17370\",\"type\":\"HoverTool\"},{\"attributes\":{},\"id\":\"17366\",\"type\":\"Selection\"},{\"attributes\":{},\"id\":\"17338\",\"type\":\"WheelZoomTool\"},{\"attributes\":{\"fill_color\":{\"value\":\"#2ca02c\"},\"line_color\":{\"value\":\"#2ca02c\"},\"line_width\":{\"value\":2},\"top\":{\"field\":\"NIFTY IT index\"},\"width\":{\"value\":0.14285714285714285},\"x\":{\"field\":\"__x__values\",\"transform\":{\"id\":\"17390\"}}},\"id\":\"17392\",\"type\":\"VBar\"},{\"attributes\":{},\"id\":\"17364\",\"type\":\"AllLabels\"},{\"attributes\":{\"range\":{\"id\":\"17321\"},\"value\":-0.08333333333333334},\"id\":\"17372\",\"type\":\"Dodge\"},{\"attributes\":{\"fill_color\":{\"value\":\"#ff7f0e\"},\"line_color\":{\"value\":\"#ff7f0e\"},\"line_width\":{\"value\":2},\"top\":{\"field\":\"NIFTY FMCG index\"},\"width\":{\"value\":0.14285714285714285},\"x\":{\"field\":\"__x__values\",\"transform\":{\"id\":\"17372\"}}},\"id\":\"17374\",\"type\":\"VBar\"},{\"attributes\":{\"overlay\":{\"id\":\"17343\"}},\"id\":\"17339\",\"type\":\"BoxZoomTool\"},{\"attributes\":{\"fill_alpha\":{\"value\":0.1},\"fill_color\":{\"value\":\"#ff7f0e\"},\"line_alpha\":{\"value\":0.1},\"line_color\":{\"value\":\"#ff7f0e\"},\"line_width\":{\"value\":2},\"top\":{\"field\":\"NIFTY FMCG index\"},\"width\":{\"value\":0.14285714285714285},\"x\":{\"field\":\"__x__values\",\"transform\":{\"id\":\"17372\"}}},\"id\":\"17375\",\"type\":\"VBar\"},{\"attributes\":{},\"id\":\"17361\",\"type\":\"AllLabels\"},{\"attributes\":{\"callback\":null,\"mode\":\"vline\",\"renderers\":[{\"id\":\"17412\"}],\"tooltips\":[[\"Date\",\"@__x__values_original\"],[\"NIFTY Pharma index\",\"@{NIFTY Pharma index}\"]]},\"id\":\"17424\",\"type\":\"HoverTool\"},{\"attributes\":{\"source\":{\"id\":\"17317\"}},\"id\":\"17377\",\"type\":\"CDSView\"},{\"attributes\":{\"data_source\":{\"id\":\"17317\"},\"glyph\":{\"id\":\"17374\"},\"hover_glyph\":null,\"muted_glyph\":null,\"nonselection_glyph\":{\"id\":\"17375\"},\"view\":{\"id\":\"17377\"}},\"id\":\"17376\",\"type\":\"GlyphRenderer\"},{\"attributes\":{\"active_multi\":null,\"active_scroll\":{\"id\":\"17338\"},\"tools\":[{\"id\":\"17337\"},{\"id\":\"17338\"},{\"id\":\"17339\"},{\"id\":\"17340\"},{\"id\":\"17341\"},{\"id\":\"17342\"},{\"id\":\"17370\"},{\"id\":\"17388\"},{\"id\":\"17406\"},{\"id\":\"17424\"}]},\"id\":\"17344\",\"type\":\"Toolbar\"},{\"attributes\":{\"ticks\":[0,1,2,3,4,5,6]},\"id\":\"17426\",\"type\":\"FixedTicker\"},{\"attributes\":{},\"id\":\"17342\",\"type\":\"HelpTool\"},{\"attributes\":{\"range\":{\"id\":\"17321\"},\"value\":0.08333333333333331},\"id\":\"17390\",\"type\":\"Dodge\"},{\"attributes\":{},\"id\":\"17341\",\"type\":\"ResetTool\"},{\"attributes\":{\"label\":{\"value\":\" NIFTY FMCG index\"},\"renderers\":[{\"id\":\"17376\"}]},\"id\":\"17387\",\"type\":\"LegendItem\"},{\"attributes\":{\"data_source\":{\"id\":\"17317\"},\"glyph\":{\"id\":\"17355\"},\"hover_glyph\":null,\"muted_glyph\":null,\"nonselection_glyph\":{\"id\":\"17356\"},\"view\":{\"id\":\"17358\"}},\"id\":\"17357\",\"type\":\"GlyphRenderer\"},{\"attributes\":{\"code\":\"\\n                                    var labels = {0: '2020/01/31', 1: '2020/02/29', 2: '2020/03/31', 3: '2020/04/30', 4: '2020/05/31', 5: '2020/06/30', 6: '2020/07/31'};\\n                                    return labels[tick];\\n                                    \"},\"id\":\"17351\",\"type\":\"FuncTickFormatter\"},{\"attributes\":{},\"id\":\"17362\",\"type\":\"BasicTickFormatter\"},{\"attributes\":{},\"id\":\"17340\",\"type\":\"SaveTool\"},{\"attributes\":{},\"id\":\"17321\",\"type\":\"DataRange1d\"},{\"attributes\":{\"callback\":null,\"mode\":\"vline\",\"renderers\":[{\"id\":\"17394\"}],\"tooltips\":[[\"Date\",\"@__x__values_original\"],[\"NIFTY IT index\",\"@{NIFTY IT index}\"]]},\"id\":\"17406\",\"type\":\"HoverTool\"},{\"attributes\":{\"fill_alpha\":{\"value\":0.1},\"fill_color\":{\"value\":\"#d62728\"},\"line_alpha\":{\"value\":0.1},\"line_color\":{\"value\":\"#d62728\"},\"line_width\":{\"value\":2},\"top\":{\"field\":\"NIFTY Pharma index\"},\"width\":{\"value\":0.14285714285714285},\"x\":{\"field\":\"__x__values\",\"transform\":{\"id\":\"17408\"}}},\"id\":\"17411\",\"type\":\"VBar\"},{\"attributes\":{},\"id\":\"17323\",\"type\":\"DataRange1d\"},{\"attributes\":{\"fill_color\":{\"value\":\"#d62728\"},\"line_color\":{\"value\":\"#d62728\"},\"line_width\":{\"value\":2},\"top\":{\"field\":\"NIFTY Pharma index\"},\"width\":{\"value\":0.14285714285714285},\"x\":{\"field\":\"__x__values\",\"transform\":{\"id\":\"17408\"}}},\"id\":\"17410\",\"type\":\"VBar\"},{\"attributes\":{\"range\":{\"id\":\"17321\"},\"value\":-0.25},\"id\":\"17353\",\"type\":\"Dodge\"},{\"attributes\":{\"range\":{\"id\":\"17321\"},\"value\":0.25},\"id\":\"17408\",\"type\":\"Dodge\"},{\"attributes\":{\"axis\":{\"id\":\"17329\"},\"ticker\":null},\"id\":\"17332\",\"type\":\"Grid\"},{\"attributes\":{},\"id\":\"17325\",\"type\":\"LinearScale\"},{\"attributes\":{\"fill_alpha\":{\"value\":0.1},\"fill_color\":{\"value\":\"#1f77b4\"},\"line_alpha\":{\"value\":0.1},\"line_color\":{\"value\":\"#1f77b4\"},\"line_width\":{\"value\":2},\"top\":{\"field\":\"NIFTY Bank index\"},\"width\":{\"value\":0.14285714285714285},\"x\":{\"field\":\"__x__values\",\"transform\":{\"id\":\"17353\"}}},\"id\":\"17356\",\"type\":\"VBar\"},{\"attributes\":{\"axis_label\":\"Date\",\"formatter\":{\"id\":\"17351\"},\"major_label_policy\":{\"id\":\"17361\"},\"ticker\":{\"id\":\"17426\"}},\"id\":\"17329\",\"type\":\"LinearAxis\"},{\"attributes\":{},\"id\":\"17327\",\"type\":\"LinearScale\"},{\"attributes\":{\"source\":{\"id\":\"17317\"}},\"id\":\"17413\",\"type\":\"CDSView\"},{\"attributes\":{\"data_source\":{\"id\":\"17317\"},\"glyph\":{\"id\":\"17410\"},\"hover_glyph\":null,\"muted_glyph\":null,\"nonselection_glyph\":{\"id\":\"17411\"},\"view\":{\"id\":\"17413\"}},\"id\":\"17412\",\"type\":\"GlyphRenderer\"}],\"root_ids\":[\"17318\"]},\"title\":\"Bokeh Application\",\"version\":\"2.3.2\"}};\n",
       "  var render_items = [{\"docid\":\"5c84a4d5-266b-4361-aae0-47a81799a804\",\"root_ids\":[\"17318\"],\"roots\":{\"17318\":\"e18ce94e-88cb-4ea2-bbd8-2c23fc40a7ee\"}}];\n",
       "  root.Bokeh.embed.embed_items_notebook(docs_json, render_items);\n",
       "\n",
       "  }\n",
       "  if (root.Bokeh !== undefined) {\n",
       "    embed_document(root);\n",
       "  } else {\n",
       "    var attempts = 0;\n",
       "    var timer = setInterval(function(root) {\n",
       "      if (root.Bokeh !== undefined) {\n",
       "        clearInterval(timer);\n",
       "        embed_document(root);\n",
       "      } else {\n",
       "        attempts++;\n",
       "        if (attempts > 100) {\n",
       "          clearInterval(timer);\n",
       "          console.log(\"Bokeh: ERROR: Unable to run BokehJS code because BokehJS library is missing\");\n",
       "        }\n",
       "      }\n",
       "    }, 10, root)\n",
       "  }\n",
       "})(window);"
      ],
      "application/vnd.bokehjs_exec.v0+json": ""
     },
     "metadata": {
      "application/vnd.bokehjs_exec.v0+json": {
       "id": "17318"
      }
     },
     "output_type": "display_data"
    },
    {
     "data": {
      "text/html": [
       "<div style=\"display: table;\"><div style=\"display: table-row;\"><div style=\"display: table-cell;\"><b title=\"bokeh.plotting.figure.Figure\">Figure</b>(</div><div style=\"display: table-cell;\">id&nbsp;=&nbsp;'17318', <span id=\"17708\" style=\"cursor: pointer;\">&hellip;)</span></div></div><div class=\"17707\" style=\"display: none;\"><div style=\"display: table-cell;\"></div><div style=\"display: table-cell;\">above&nbsp;=&nbsp;[],</div></div><div class=\"17707\" style=\"display: none;\"><div style=\"display: table-cell;\"></div><div style=\"display: table-cell;\">align&nbsp;=&nbsp;'start',</div></div><div class=\"17707\" style=\"display: none;\"><div style=\"display: table-cell;\"></div><div style=\"display: table-cell;\">aspect_ratio&nbsp;=&nbsp;None,</div></div><div class=\"17707\" style=\"display: none;\"><div style=\"display: table-cell;\"></div><div style=\"display: table-cell;\">aspect_scale&nbsp;=&nbsp;1,</div></div><div class=\"17707\" style=\"display: none;\"><div style=\"display: table-cell;\"></div><div style=\"display: table-cell;\">background&nbsp;=&nbsp;None,</div></div><div class=\"17707\" style=\"display: none;\"><div style=\"display: table-cell;\"></div><div style=\"display: table-cell;\">background_fill_alpha&nbsp;=&nbsp;1.0,</div></div><div class=\"17707\" style=\"display: none;\"><div style=\"display: table-cell;\"></div><div style=\"display: table-cell;\">background_fill_color&nbsp;=&nbsp;'#ffffff',</div></div><div class=\"17707\" style=\"display: none;\"><div style=\"display: table-cell;\"></div><div style=\"display: table-cell;\">below&nbsp;=&nbsp;[LinearAxis(id='17329', ...)],</div></div><div class=\"17707\" style=\"display: none;\"><div style=\"display: table-cell;\"></div><div style=\"display: table-cell;\">border_fill_alpha&nbsp;=&nbsp;1.0,</div></div><div class=\"17707\" style=\"display: none;\"><div style=\"display: table-cell;\"></div><div style=\"display: table-cell;\">border_fill_color&nbsp;=&nbsp;'#ffffff',</div></div><div class=\"17707\" style=\"display: none;\"><div style=\"display: table-cell;\"></div><div style=\"display: table-cell;\">center&nbsp;=&nbsp;[Grid(id='17332', ...), Grid(id='17336', ...), Legend(id='17368', ...)],</div></div><div class=\"17707\" style=\"display: none;\"><div style=\"display: table-cell;\"></div><div style=\"display: table-cell;\">css_classes&nbsp;=&nbsp;[],</div></div><div class=\"17707\" style=\"display: none;\"><div style=\"display: table-cell;\"></div><div style=\"display: table-cell;\">disabled&nbsp;=&nbsp;False,</div></div><div class=\"17707\" style=\"display: none;\"><div style=\"display: table-cell;\"></div><div style=\"display: table-cell;\">extra_x_ranges&nbsp;=&nbsp;{},</div></div><div class=\"17707\" style=\"display: none;\"><div style=\"display: table-cell;\"></div><div style=\"display: table-cell;\">extra_y_ranges&nbsp;=&nbsp;{},</div></div><div class=\"17707\" style=\"display: none;\"><div style=\"display: table-cell;\"></div><div style=\"display: table-cell;\">frame_height&nbsp;=&nbsp;None,</div></div><div class=\"17707\" style=\"display: none;\"><div style=\"display: table-cell;\"></div><div style=\"display: table-cell;\">frame_width&nbsp;=&nbsp;None,</div></div><div class=\"17707\" style=\"display: none;\"><div style=\"display: table-cell;\"></div><div style=\"display: table-cell;\">height&nbsp;=&nbsp;400,</div></div><div class=\"17707\" style=\"display: none;\"><div style=\"display: table-cell;\"></div><div style=\"display: table-cell;\">height_policy&nbsp;=&nbsp;'auto',</div></div><div class=\"17707\" style=\"display: none;\"><div style=\"display: table-cell;\"></div><div style=\"display: table-cell;\">hidpi&nbsp;=&nbsp;True,</div></div><div class=\"17707\" style=\"display: none;\"><div style=\"display: table-cell;\"></div><div style=\"display: table-cell;\">inner_height&nbsp;=&nbsp;0,</div></div><div class=\"17707\" style=\"display: none;\"><div style=\"display: table-cell;\"></div><div style=\"display: table-cell;\">inner_width&nbsp;=&nbsp;0,</div></div><div class=\"17707\" style=\"display: none;\"><div style=\"display: table-cell;\"></div><div style=\"display: table-cell;\">js_event_callbacks&nbsp;=&nbsp;{},</div></div><div class=\"17707\" style=\"display: none;\"><div style=\"display: table-cell;\"></div><div style=\"display: table-cell;\">js_property_callbacks&nbsp;=&nbsp;{},</div></div><div class=\"17707\" style=\"display: none;\"><div style=\"display: table-cell;\"></div><div style=\"display: table-cell;\">left&nbsp;=&nbsp;[LinearAxis(id='17333', ...)],</div></div><div class=\"17707\" style=\"display: none;\"><div style=\"display: table-cell;\"></div><div style=\"display: table-cell;\">lod_factor&nbsp;=&nbsp;10,</div></div><div class=\"17707\" style=\"display: none;\"><div style=\"display: table-cell;\"></div><div style=\"display: table-cell;\">lod_interval&nbsp;=&nbsp;300,</div></div><div class=\"17707\" style=\"display: none;\"><div style=\"display: table-cell;\"></div><div style=\"display: table-cell;\">lod_threshold&nbsp;=&nbsp;2000,</div></div><div class=\"17707\" style=\"display: none;\"><div style=\"display: table-cell;\"></div><div style=\"display: table-cell;\">lod_timeout&nbsp;=&nbsp;500,</div></div><div class=\"17707\" style=\"display: none;\"><div style=\"display: table-cell;\"></div><div style=\"display: table-cell;\">margin&nbsp;=&nbsp;(0, 0, 0, 0),</div></div><div class=\"17707\" style=\"display: none;\"><div style=\"display: table-cell;\"></div><div style=\"display: table-cell;\">match_aspect&nbsp;=&nbsp;False,</div></div><div class=\"17707\" style=\"display: none;\"><div style=\"display: table-cell;\"></div><div style=\"display: table-cell;\">max_height&nbsp;=&nbsp;None,</div></div><div class=\"17707\" style=\"display: none;\"><div style=\"display: table-cell;\"></div><div style=\"display: table-cell;\">max_width&nbsp;=&nbsp;None,</div></div><div class=\"17707\" style=\"display: none;\"><div style=\"display: table-cell;\"></div><div style=\"display: table-cell;\">min_border&nbsp;=&nbsp;5,</div></div><div class=\"17707\" style=\"display: none;\"><div style=\"display: table-cell;\"></div><div style=\"display: table-cell;\">min_border_bottom&nbsp;=&nbsp;None,</div></div><div class=\"17707\" style=\"display: none;\"><div style=\"display: table-cell;\"></div><div style=\"display: table-cell;\">min_border_left&nbsp;=&nbsp;None,</div></div><div class=\"17707\" style=\"display: none;\"><div style=\"display: table-cell;\"></div><div style=\"display: table-cell;\">min_border_right&nbsp;=&nbsp;None,</div></div><div class=\"17707\" style=\"display: none;\"><div style=\"display: table-cell;\"></div><div style=\"display: table-cell;\">min_border_top&nbsp;=&nbsp;None,</div></div><div class=\"17707\" style=\"display: none;\"><div style=\"display: table-cell;\"></div><div style=\"display: table-cell;\">min_height&nbsp;=&nbsp;None,</div></div><div class=\"17707\" style=\"display: none;\"><div style=\"display: table-cell;\"></div><div style=\"display: table-cell;\">min_width&nbsp;=&nbsp;None,</div></div><div class=\"17707\" style=\"display: none;\"><div style=\"display: table-cell;\"></div><div style=\"display: table-cell;\">name&nbsp;=&nbsp;None,</div></div><div class=\"17707\" style=\"display: none;\"><div style=\"display: table-cell;\"></div><div style=\"display: table-cell;\">outer_height&nbsp;=&nbsp;0,</div></div><div class=\"17707\" style=\"display: none;\"><div style=\"display: table-cell;\"></div><div style=\"display: table-cell;\">outer_width&nbsp;=&nbsp;0,</div></div><div class=\"17707\" style=\"display: none;\"><div style=\"display: table-cell;\"></div><div style=\"display: table-cell;\">outline_line_alpha&nbsp;=&nbsp;1.0,</div></div><div class=\"17707\" style=\"display: none;\"><div style=\"display: table-cell;\"></div><div style=\"display: table-cell;\">outline_line_cap&nbsp;=&nbsp;'butt',</div></div><div class=\"17707\" style=\"display: none;\"><div style=\"display: table-cell;\"></div><div style=\"display: table-cell;\">outline_line_color&nbsp;=&nbsp;'#e5e5e5',</div></div><div class=\"17707\" style=\"display: none;\"><div style=\"display: table-cell;\"></div><div style=\"display: table-cell;\">outline_line_dash&nbsp;=&nbsp;[],</div></div><div class=\"17707\" style=\"display: none;\"><div style=\"display: table-cell;\"></div><div style=\"display: table-cell;\">outline_line_dash_offset&nbsp;=&nbsp;0,</div></div><div class=\"17707\" style=\"display: none;\"><div style=\"display: table-cell;\"></div><div style=\"display: table-cell;\">outline_line_join&nbsp;=&nbsp;'bevel',</div></div><div class=\"17707\" style=\"display: none;\"><div style=\"display: table-cell;\"></div><div style=\"display: table-cell;\">outline_line_width&nbsp;=&nbsp;1,</div></div><div class=\"17707\" style=\"display: none;\"><div style=\"display: table-cell;\"></div><div style=\"display: table-cell;\">output_backend&nbsp;=&nbsp;'webgl',</div></div><div class=\"17707\" style=\"display: none;\"><div style=\"display: table-cell;\"></div><div style=\"display: table-cell;\">renderers&nbsp;=&nbsp;[GlyphRenderer(id='17357', ...), GlyphRenderer(id='17376', ...), GlyphRenderer(id='17394', ...), GlyphRenderer(id='17412', ...)],</div></div><div class=\"17707\" style=\"display: none;\"><div style=\"display: table-cell;\"></div><div style=\"display: table-cell;\">reset_policy&nbsp;=&nbsp;'standard',</div></div><div class=\"17707\" style=\"display: none;\"><div style=\"display: table-cell;\"></div><div style=\"display: table-cell;\">right&nbsp;=&nbsp;[],</div></div><div class=\"17707\" style=\"display: none;\"><div style=\"display: table-cell;\"></div><div style=\"display: table-cell;\">sizing_mode&nbsp;=&nbsp;'fixed',</div></div><div class=\"17707\" style=\"display: none;\"><div style=\"display: table-cell;\"></div><div style=\"display: table-cell;\">subscribed_events&nbsp;=&nbsp;[],</div></div><div class=\"17707\" style=\"display: none;\"><div style=\"display: table-cell;\"></div><div style=\"display: table-cell;\">syncable&nbsp;=&nbsp;True,</div></div><div class=\"17707\" style=\"display: none;\"><div style=\"display: table-cell;\"></div><div style=\"display: table-cell;\">tags&nbsp;=&nbsp;[],</div></div><div class=\"17707\" style=\"display: none;\"><div style=\"display: table-cell;\"></div><div style=\"display: table-cell;\">title&nbsp;=&nbsp;Title(id='17319', ...),</div></div><div class=\"17707\" style=\"display: none;\"><div style=\"display: table-cell;\"></div><div style=\"display: table-cell;\">title_location&nbsp;=&nbsp;'above',</div></div><div class=\"17707\" style=\"display: none;\"><div style=\"display: table-cell;\"></div><div style=\"display: table-cell;\">toolbar&nbsp;=&nbsp;Toolbar(id='17344', ...),</div></div><div class=\"17707\" style=\"display: none;\"><div style=\"display: table-cell;\"></div><div style=\"display: table-cell;\">toolbar_location&nbsp;=&nbsp;'right',</div></div><div class=\"17707\" style=\"display: none;\"><div style=\"display: table-cell;\"></div><div style=\"display: table-cell;\">toolbar_sticky&nbsp;=&nbsp;True,</div></div><div class=\"17707\" style=\"display: none;\"><div style=\"display: table-cell;\"></div><div style=\"display: table-cell;\">visible&nbsp;=&nbsp;True,</div></div><div class=\"17707\" style=\"display: none;\"><div style=\"display: table-cell;\"></div><div style=\"display: table-cell;\">width&nbsp;=&nbsp;600,</div></div><div class=\"17707\" style=\"display: none;\"><div style=\"display: table-cell;\"></div><div style=\"display: table-cell;\">width_policy&nbsp;=&nbsp;'auto',</div></div><div class=\"17707\" style=\"display: none;\"><div style=\"display: table-cell;\"></div><div style=\"display: table-cell;\">x_range&nbsp;=&nbsp;DataRange1d(id='17321', ...),</div></div><div class=\"17707\" style=\"display: none;\"><div style=\"display: table-cell;\"></div><div style=\"display: table-cell;\">x_scale&nbsp;=&nbsp;LinearScale(id='17325', ...),</div></div><div class=\"17707\" style=\"display: none;\"><div style=\"display: table-cell;\"></div><div style=\"display: table-cell;\">y_range&nbsp;=&nbsp;DataRange1d(id='17323', ...),</div></div><div class=\"17707\" style=\"display: none;\"><div style=\"display: table-cell;\"></div><div style=\"display: table-cell;\">y_scale&nbsp;=&nbsp;LinearScale(id='17327', ...))</div></div></div>\n",
       "<script>\n",
       "(function() {\n",
       "  var expanded = false;\n",
       "  var ellipsis = document.getElementById(\"17708\");\n",
       "  ellipsis.addEventListener(\"click\", function() {\n",
       "    var rows = document.getElementsByClassName(\"17707\");\n",
       "    for (var i = 0; i < rows.length; i++) {\n",
       "      var el = rows[i];\n",
       "      el.style.display = expanded ? \"none\" : \"table-row\";\n",
       "    }\n",
       "    ellipsis.innerHTML = expanded ? \"&hellip;)\" : \"&lsaquo;&lsaquo;&lsaquo;\";\n",
       "    expanded = !expanded;\n",
       "  });\n",
       "})();\n",
       "</script>\n"
      ],
      "text/plain": [
       "Figure(id='17318', ...)"
      ]
     },
     "execution_count": 149,
     "metadata": {},
     "output_type": "execute_result"
    }
   ],
   "source": [
    "df_res.plot_bokeh(kind='bar')"
   ]
  },
  {
   "cell_type": "code",
   "execution_count": 150,
   "metadata": {},
   "outputs": [
    {
     "data": {
      "text/html": [
       "\n",
       "\n",
       "\n",
       "\n",
       "\n",
       "\n",
       "  <div class=\"bk-root\" id=\"67406db7-fc0d-402e-b3dd-bb488ebdd294\" data-root-id=\"17746\"></div>\n"
      ]
     },
     "metadata": {},
     "output_type": "display_data"
    },
    {
     "data": {
      "application/javascript": [
       "(function(root) {\n",
       "  function embed_document(root) {\n",
       "    \n",
       "  var docs_json = {\"eba6a6a8-a712-436c-bdbd-3710ccb42f5e\":{\"defs\":[],\"roots\":{\"references\":[{\"attributes\":{\"below\":[{\"id\":\"17757\"}],\"center\":[{\"id\":\"17760\"},{\"id\":\"17764\"},{\"id\":\"17803\"}],\"height\":400,\"left\":[{\"id\":\"17761\"}],\"output_backend\":\"webgl\",\"renderers\":[{\"id\":\"17792\"},{\"id\":\"17808\"},{\"id\":\"17823\"},{\"id\":\"17838\"}],\"sizing_mode\":\"fixed\",\"title\":{\"id\":\"17747\"},\"toolbar\":{\"id\":\"17772\"},\"x_range\":{\"id\":\"17749\"},\"x_scale\":{\"id\":\"17753\"},\"y_range\":{\"id\":\"17751\"},\"y_scale\":{\"id\":\"17755\"}},\"id\":\"17746\",\"subtype\":\"Figure\",\"type\":\"Plot\"},{\"attributes\":{\"fill_alpha\":{\"value\":0.1},\"fill_color\":{\"value\":\"#d62728\"},\"height\":{\"value\":0.8},\"left\":{\"expr\":{\"id\":\"17787\"}},\"line_alpha\":{\"value\":0.1},\"line_color\":{\"value\":\"#d62728\"},\"line_width\":{\"value\":2},\"right\":{\"expr\":{\"id\":\"17788\"}},\"y\":{\"field\":\"__x__values\"}},\"id\":\"17837\",\"type\":\"HBar\"},{\"attributes\":{},\"id\":\"17747\",\"type\":\"Title\"},{\"attributes\":{\"label\":{\"value\":\"NIFTY Bank index\"},\"renderers\":[{\"id\":\"17792\"}]},\"id\":\"17804\",\"type\":\"LegendItem\"},{\"attributes\":{\"label\":{\"value\":\"NIFTY Pharma index\"},\"renderers\":[{\"id\":\"17838\"}]},\"id\":\"17849\",\"type\":\"LegendItem\"},{\"attributes\":{\"data_source\":{\"id\":\"17745\"},\"glyph\":{\"id\":\"17821\"},\"hover_glyph\":null,\"muted_glyph\":null,\"name\":\"NIFTY IT index\",\"nonselection_glyph\":{\"id\":\"17822\"},\"view\":{\"id\":\"17824\"}},\"id\":\"17823\",\"type\":\"GlyphRenderer\"},{\"attributes\":{\"source\":{\"id\":\"17745\"}},\"id\":\"17793\",\"type\":\"CDSView\"},{\"attributes\":{\"source\":{\"id\":\"17745\"}},\"id\":\"17839\",\"type\":\"CDSView\"},{\"attributes\":{\"items\":[{\"id\":\"17804\"},{\"id\":\"17819\"},{\"id\":\"17834\"},{\"id\":\"17849\"}]},\"id\":\"17803\",\"type\":\"Legend\"},{\"attributes\":{},\"id\":\"17800\",\"type\":\"UnionRenderers\"},{\"attributes\":{\"fill_alpha\":{\"value\":0.1},\"fill_color\":{\"value\":\"#2ca02c\"},\"height\":{\"value\":0.8},\"left\":{\"expr\":{\"id\":\"17785\"}},\"line_alpha\":{\"value\":0.1},\"line_color\":{\"value\":\"#2ca02c\"},\"line_width\":{\"value\":2},\"right\":{\"expr\":{\"id\":\"17786\"}},\"y\":{\"field\":\"__x__values\"}},\"id\":\"17822\",\"type\":\"HBar\"},{\"attributes\":{\"fields\":[]},\"id\":\"17781\",\"type\":\"Stack\"},{\"attributes\":{},\"id\":\"17801\",\"type\":\"Selection\"},{\"attributes\":{\"fields\":[\"NIFTY Bank index\",\"NIFTY FMCG index\"]},\"id\":\"17785\",\"type\":\"Stack\"},{\"attributes\":{\"label\":{\"value\":\"NIFTY IT index\"},\"renderers\":[{\"id\":\"17823\"}]},\"id\":\"17834\",\"type\":\"LegendItem\"},{\"attributes\":{},\"id\":\"17795\",\"type\":\"BasicTickFormatter\"},{\"attributes\":{\"source\":{\"id\":\"17745\"}},\"id\":\"17824\",\"type\":\"CDSView\"},{\"attributes\":{\"fill_color\":{\"value\":\"#ff7f0e\"},\"height\":{\"value\":0.8},\"left\":{\"expr\":{\"id\":\"17783\"}},\"line_color\":{\"value\":\"#ff7f0e\"},\"line_width\":{\"value\":2},\"right\":{\"expr\":{\"id\":\"17784\"}},\"y\":{\"field\":\"__x__values\"}},\"id\":\"17806\",\"type\":\"HBar\"},{\"attributes\":{\"fields\":[\"NIFTY Bank index\",\"NIFTY FMCG index\",\"NIFTY IT index\"]},\"id\":\"17787\",\"type\":\"Stack\"},{\"attributes\":{\"fields\":[\"NIFTY Bank index\",\"NIFTY FMCG index\"]},\"id\":\"17784\",\"type\":\"Stack\"},{\"attributes\":{\"fields\":[\"NIFTY Bank index\"]},\"id\":\"17782\",\"type\":\"Stack\"},{\"attributes\":{\"fill_color\":{\"value\":\"#2ca02c\"},\"height\":{\"value\":0.8},\"left\":{\"expr\":{\"id\":\"17785\"}},\"line_color\":{\"value\":\"#2ca02c\"},\"line_width\":{\"value\":2},\"right\":{\"expr\":{\"id\":\"17786\"}},\"y\":{\"field\":\"__x__values\"}},\"id\":\"17821\",\"type\":\"HBar\"},{\"attributes\":{\"bottom_units\":\"screen\",\"fill_alpha\":0.5,\"fill_color\":\"lightgrey\",\"left_units\":\"screen\",\"level\":\"overlay\",\"line_alpha\":1.0,\"line_color\":\"black\",\"line_dash\":[4,4],\"line_width\":2,\"right_units\":\"screen\",\"syncable\":false,\"top_units\":\"screen\"},\"id\":\"17771\",\"type\":\"BoxAnnotation\"},{\"attributes\":{\"data_source\":{\"id\":\"17745\"},\"glyph\":{\"id\":\"17806\"},\"hover_glyph\":null,\"muted_glyph\":null,\"name\":\"NIFTY FMCG index\",\"nonselection_glyph\":{\"id\":\"17807\"},\"view\":{\"id\":\"17809\"}},\"id\":\"17808\",\"type\":\"GlyphRenderer\"},{\"attributes\":{},\"id\":\"17797\",\"type\":\"AllLabels\"},{\"attributes\":{\"active_multi\":null,\"active_scroll\":{\"id\":\"17766\"},\"tools\":[{\"id\":\"17765\"},{\"id\":\"17766\"},{\"id\":\"17767\"},{\"id\":\"17768\"},{\"id\":\"17769\"},{\"id\":\"17770\"},{\"id\":\"17850\"}]},\"id\":\"17772\",\"type\":\"Toolbar\"},{\"attributes\":{\"fill_alpha\":{\"value\":0.1},\"fill_color\":{\"value\":\"#ff7f0e\"},\"height\":{\"value\":0.8},\"left\":{\"expr\":{\"id\":\"17783\"}},\"line_alpha\":{\"value\":0.1},\"line_color\":{\"value\":\"#ff7f0e\"},\"line_width\":{\"value\":2},\"right\":{\"expr\":{\"id\":\"17784\"}},\"y\":{\"field\":\"__x__values\"}},\"id\":\"17807\",\"type\":\"HBar\"},{\"attributes\":{\"code\":\"\\n                                    var labels = {0: '2020/01/31', 1: '2020/02/29', 2: '2020/03/31', 3: '2020/04/30', 4: '2020/05/31', 5: '2020/06/30', 6: '2020/07/31'};\\n                                    return labels[tick];\\n                                    \"},\"id\":\"17779\",\"type\":\"FuncTickFormatter\"},{\"attributes\":{\"label\":{\"value\":\"NIFTY FMCG index\"},\"renderers\":[{\"id\":\"17808\"}]},\"id\":\"17819\",\"type\":\"LegendItem\"},{\"attributes\":{\"fields\":[\"NIFTY Bank index\",\"NIFTY FMCG index\",\"NIFTY IT index\"]},\"id\":\"17786\",\"type\":\"Stack\"},{\"attributes\":{},\"id\":\"17749\",\"type\":\"DataRange1d\"},{\"attributes\":{\"source\":{\"id\":\"17745\"}},\"id\":\"17809\",\"type\":\"CDSView\"},{\"attributes\":{},\"id\":\"17751\",\"type\":\"DataRange1d\"},{\"attributes\":{\"data_source\":{\"id\":\"17745\"},\"glyph\":{\"id\":\"17790\"},\"hover_glyph\":null,\"muted_glyph\":null,\"name\":\"NIFTY Bank index\",\"nonselection_glyph\":{\"id\":\"17791\"},\"view\":{\"id\":\"17793\"}},\"id\":\"17792\",\"type\":\"GlyphRenderer\"},{\"attributes\":{\"callback\":null,\"mode\":\"hline\",\"renderers\":[{\"id\":\"17838\"}],\"tooltips\":[[\"Date\",\"@__x__values_original\"],[\"NIFTY Bank index\",\"@{NIFTY Bank index}\"],[\"NIFTY FMCG index\",\"@{NIFTY FMCG index}\"],[\"NIFTY IT index\",\"@{NIFTY IT index}\"],[\"NIFTY Pharma index\",\"@{NIFTY Pharma index}\"]]},\"id\":\"17850\",\"type\":\"HoverTool\"},{\"attributes\":{},\"id\":\"17768\",\"type\":\"SaveTool\"},{\"attributes\":{\"axis\":{\"id\":\"17757\"},\"ticker\":null},\"id\":\"17760\",\"type\":\"Grid\"},{\"attributes\":{},\"id\":\"17753\",\"type\":\"LinearScale\"},{\"attributes\":{\"axis_label\":\"Date\",\"formatter\":{\"id\":\"17779\"},\"major_label_policy\":{\"id\":\"17799\"},\"ticker\":{\"id\":\"17852\"}},\"id\":\"17761\",\"type\":\"LinearAxis\"},{\"attributes\":{\"formatter\":{\"id\":\"17795\"},\"major_label_policy\":{\"id\":\"17797\"},\"ticker\":{\"id\":\"17758\"}},\"id\":\"17757\",\"type\":\"LinearAxis\"},{\"attributes\":{\"data\":{\"NIFTY Bank index\":{\"__ndarray__\":\"iWRVs0ZyP0CtUQ/R6Kw+QGr4QFmg7zZAaijI4hG3M0AaAQ8YDLUyQGeXulck9DRAOZAKcjI8NkA=\",\"dtype\":\"float64\",\"order\":\"little\",\"shape\":[7]},\"NIFTY FMCG index\":{\"__ndarray__\":\"czsaKaTKPkCRBUzg1nc+QAooP5I+aDpALo/mZkOfPEA8rbShcVM7QJMK7MdFUj1AqdTdWiPoPkA=\",\"dtype\":\"float64\",\"order\":\"little\",\"shape\":[7]},\"NIFTY IT index\":{\"__ndarray__\":\"ds35Q5EtMEDs+gW7YWkwQC8hH/RstipARIUQfWSAKUADgFoegCMrQIKqZ2CZKy1ALaVG8Rg5MEA=\",\"dtype\":\"float64\",\"order\":\"little\",\"shape\":[7]},\"NIFTY Pharma index\":{\"__ndarray__\":\"tS/PwrNeIEAW4/xNKEggQF9w87N+wBxAI27snYLaIUCpGx8/MKYiQEGlHiuOEiRAvadpKTU6JEA=\",\"dtype\":\"float64\",\"order\":\"little\",\"shape\":[7]},\"__x__values\":[0,1,2,3,4,5,6],\"__x__values_original\":{\"__ndarray__\":\"AAAAW47/dkIAAMDh4wh3QgAAADTeEndCAACAIIYcd0IAAMBygCZ3QgAAQF8oMHdCAACAsSI6d0I=\",\"dtype\":\"float64\",\"order\":\"little\",\"shape\":[7]}},\"selected\":{\"id\":\"17801\"},\"selection_policy\":{\"id\":\"17800\"}},\"id\":\"17745\",\"type\":\"ColumnDataSource\"},{\"attributes\":{},\"id\":\"17758\",\"type\":\"BasicTicker\"},{\"attributes\":{\"axis\":{\"id\":\"17761\"},\"dimension\":1,\"ticker\":null},\"id\":\"17764\",\"type\":\"Grid\"},{\"attributes\":{\"fields\":[\"NIFTY Bank index\",\"NIFTY FMCG index\",\"NIFTY IT index\",\"NIFTY Pharma index\"]},\"id\":\"17788\",\"type\":\"Stack\"},{\"attributes\":{\"ticks\":[0,1,2,3,4,5,6]},\"id\":\"17852\",\"type\":\"FixedTicker\"},{\"attributes\":{},\"id\":\"17799\",\"type\":\"AllLabels\"},{\"attributes\":{\"overlay\":{\"id\":\"17771\"}},\"id\":\"17767\",\"type\":\"BoxZoomTool\"},{\"attributes\":{},\"id\":\"17755\",\"type\":\"LinearScale\"},{\"attributes\":{},\"id\":\"17766\",\"type\":\"WheelZoomTool\"},{\"attributes\":{\"fields\":[\"NIFTY Bank index\"]},\"id\":\"17783\",\"type\":\"Stack\"},{\"attributes\":{},\"id\":\"17770\",\"type\":\"HelpTool\"},{\"attributes\":{\"fill_color\":{\"value\":\"#d62728\"},\"height\":{\"value\":0.8},\"left\":{\"expr\":{\"id\":\"17787\"}},\"line_color\":{\"value\":\"#d62728\"},\"line_width\":{\"value\":2},\"right\":{\"expr\":{\"id\":\"17788\"}},\"y\":{\"field\":\"__x__values\"}},\"id\":\"17836\",\"type\":\"HBar\"},{\"attributes\":{\"fill_color\":{\"value\":\"#1f77b4\"},\"height\":{\"value\":0.8},\"left\":{\"expr\":{\"id\":\"17781\"}},\"line_color\":{\"value\":\"#1f77b4\"},\"line_width\":{\"value\":2},\"right\":{\"expr\":{\"id\":\"17782\"}},\"y\":{\"field\":\"__x__values\"}},\"id\":\"17790\",\"type\":\"HBar\"},{\"attributes\":{},\"id\":\"17769\",\"type\":\"ResetTool\"},{\"attributes\":{\"data_source\":{\"id\":\"17745\"},\"glyph\":{\"id\":\"17836\"},\"hover_glyph\":null,\"muted_glyph\":null,\"name\":\"NIFTY Pharma index\",\"nonselection_glyph\":{\"id\":\"17837\"},\"view\":{\"id\":\"17839\"}},\"id\":\"17838\",\"type\":\"GlyphRenderer\"},{\"attributes\":{},\"id\":\"17765\",\"type\":\"PanTool\"},{\"attributes\":{\"fill_alpha\":{\"value\":0.1},\"fill_color\":{\"value\":\"#1f77b4\"},\"height\":{\"value\":0.8},\"left\":{\"expr\":{\"id\":\"17781\"}},\"line_alpha\":{\"value\":0.1},\"line_color\":{\"value\":\"#1f77b4\"},\"line_width\":{\"value\":2},\"right\":{\"expr\":{\"id\":\"17782\"}},\"y\":{\"field\":\"__x__values\"}},\"id\":\"17791\",\"type\":\"HBar\"}],\"root_ids\":[\"17746\"]},\"title\":\"Bokeh Application\",\"version\":\"2.3.2\"}};\n",
       "  var render_items = [{\"docid\":\"eba6a6a8-a712-436c-bdbd-3710ccb42f5e\",\"root_ids\":[\"17746\"],\"roots\":{\"17746\":\"67406db7-fc0d-402e-b3dd-bb488ebdd294\"}}];\n",
       "  root.Bokeh.embed.embed_items_notebook(docs_json, render_items);\n",
       "\n",
       "  }\n",
       "  if (root.Bokeh !== undefined) {\n",
       "    embed_document(root);\n",
       "  } else {\n",
       "    var attempts = 0;\n",
       "    var timer = setInterval(function(root) {\n",
       "      if (root.Bokeh !== undefined) {\n",
       "        clearInterval(timer);\n",
       "        embed_document(root);\n",
       "      } else {\n",
       "        attempts++;\n",
       "        if (attempts > 100) {\n",
       "          clearInterval(timer);\n",
       "          console.log(\"Bokeh: ERROR: Unable to run BokehJS code because BokehJS library is missing\");\n",
       "        }\n",
       "      }\n",
       "    }, 10, root)\n",
       "  }\n",
       "})(window);"
      ],
      "application/vnd.bokehjs_exec.v0+json": ""
     },
     "metadata": {
      "application/vnd.bokehjs_exec.v0+json": {
       "id": "17746"
      }
     },
     "output_type": "display_data"
    },
    {
     "data": {
      "text/html": [
       "<div style=\"display: table;\"><div style=\"display: table-row;\"><div style=\"display: table-cell;\"><b title=\"bokeh.plotting.figure.Figure\">Figure</b>(</div><div style=\"display: table-cell;\">id&nbsp;=&nbsp;'17746', <span id=\"18142\" style=\"cursor: pointer;\">&hellip;)</span></div></div><div class=\"18141\" style=\"display: none;\"><div style=\"display: table-cell;\"></div><div style=\"display: table-cell;\">above&nbsp;=&nbsp;[],</div></div><div class=\"18141\" style=\"display: none;\"><div style=\"display: table-cell;\"></div><div style=\"display: table-cell;\">align&nbsp;=&nbsp;'start',</div></div><div class=\"18141\" style=\"display: none;\"><div style=\"display: table-cell;\"></div><div style=\"display: table-cell;\">aspect_ratio&nbsp;=&nbsp;None,</div></div><div class=\"18141\" style=\"display: none;\"><div style=\"display: table-cell;\"></div><div style=\"display: table-cell;\">aspect_scale&nbsp;=&nbsp;1,</div></div><div class=\"18141\" style=\"display: none;\"><div style=\"display: table-cell;\"></div><div style=\"display: table-cell;\">background&nbsp;=&nbsp;None,</div></div><div class=\"18141\" style=\"display: none;\"><div style=\"display: table-cell;\"></div><div style=\"display: table-cell;\">background_fill_alpha&nbsp;=&nbsp;1.0,</div></div><div class=\"18141\" style=\"display: none;\"><div style=\"display: table-cell;\"></div><div style=\"display: table-cell;\">background_fill_color&nbsp;=&nbsp;'#ffffff',</div></div><div class=\"18141\" style=\"display: none;\"><div style=\"display: table-cell;\"></div><div style=\"display: table-cell;\">below&nbsp;=&nbsp;[LinearAxis(id='17757', ...)],</div></div><div class=\"18141\" style=\"display: none;\"><div style=\"display: table-cell;\"></div><div style=\"display: table-cell;\">border_fill_alpha&nbsp;=&nbsp;1.0,</div></div><div class=\"18141\" style=\"display: none;\"><div style=\"display: table-cell;\"></div><div style=\"display: table-cell;\">border_fill_color&nbsp;=&nbsp;'#ffffff',</div></div><div class=\"18141\" style=\"display: none;\"><div style=\"display: table-cell;\"></div><div style=\"display: table-cell;\">center&nbsp;=&nbsp;[Grid(id='17760', ...), Grid(id='17764', ...), Legend(id='17803', ...)],</div></div><div class=\"18141\" style=\"display: none;\"><div style=\"display: table-cell;\"></div><div style=\"display: table-cell;\">css_classes&nbsp;=&nbsp;[],</div></div><div class=\"18141\" style=\"display: none;\"><div style=\"display: table-cell;\"></div><div style=\"display: table-cell;\">disabled&nbsp;=&nbsp;False,</div></div><div class=\"18141\" style=\"display: none;\"><div style=\"display: table-cell;\"></div><div style=\"display: table-cell;\">extra_x_ranges&nbsp;=&nbsp;{},</div></div><div class=\"18141\" style=\"display: none;\"><div style=\"display: table-cell;\"></div><div style=\"display: table-cell;\">extra_y_ranges&nbsp;=&nbsp;{},</div></div><div class=\"18141\" style=\"display: none;\"><div style=\"display: table-cell;\"></div><div style=\"display: table-cell;\">frame_height&nbsp;=&nbsp;None,</div></div><div class=\"18141\" style=\"display: none;\"><div style=\"display: table-cell;\"></div><div style=\"display: table-cell;\">frame_width&nbsp;=&nbsp;None,</div></div><div class=\"18141\" style=\"display: none;\"><div style=\"display: table-cell;\"></div><div style=\"display: table-cell;\">height&nbsp;=&nbsp;400,</div></div><div class=\"18141\" style=\"display: none;\"><div style=\"display: table-cell;\"></div><div style=\"display: table-cell;\">height_policy&nbsp;=&nbsp;'auto',</div></div><div class=\"18141\" style=\"display: none;\"><div style=\"display: table-cell;\"></div><div style=\"display: table-cell;\">hidpi&nbsp;=&nbsp;True,</div></div><div class=\"18141\" style=\"display: none;\"><div style=\"display: table-cell;\"></div><div style=\"display: table-cell;\">inner_height&nbsp;=&nbsp;0,</div></div><div class=\"18141\" style=\"display: none;\"><div style=\"display: table-cell;\"></div><div style=\"display: table-cell;\">inner_width&nbsp;=&nbsp;0,</div></div><div class=\"18141\" style=\"display: none;\"><div style=\"display: table-cell;\"></div><div style=\"display: table-cell;\">js_event_callbacks&nbsp;=&nbsp;{},</div></div><div class=\"18141\" style=\"display: none;\"><div style=\"display: table-cell;\"></div><div style=\"display: table-cell;\">js_property_callbacks&nbsp;=&nbsp;{},</div></div><div class=\"18141\" style=\"display: none;\"><div style=\"display: table-cell;\"></div><div style=\"display: table-cell;\">left&nbsp;=&nbsp;[LinearAxis(id='17761', ...)],</div></div><div class=\"18141\" style=\"display: none;\"><div style=\"display: table-cell;\"></div><div style=\"display: table-cell;\">lod_factor&nbsp;=&nbsp;10,</div></div><div class=\"18141\" style=\"display: none;\"><div style=\"display: table-cell;\"></div><div style=\"display: table-cell;\">lod_interval&nbsp;=&nbsp;300,</div></div><div class=\"18141\" style=\"display: none;\"><div style=\"display: table-cell;\"></div><div style=\"display: table-cell;\">lod_threshold&nbsp;=&nbsp;2000,</div></div><div class=\"18141\" style=\"display: none;\"><div style=\"display: table-cell;\"></div><div style=\"display: table-cell;\">lod_timeout&nbsp;=&nbsp;500,</div></div><div class=\"18141\" style=\"display: none;\"><div style=\"display: table-cell;\"></div><div style=\"display: table-cell;\">margin&nbsp;=&nbsp;(0, 0, 0, 0),</div></div><div class=\"18141\" style=\"display: none;\"><div style=\"display: table-cell;\"></div><div style=\"display: table-cell;\">match_aspect&nbsp;=&nbsp;False,</div></div><div class=\"18141\" style=\"display: none;\"><div style=\"display: table-cell;\"></div><div style=\"display: table-cell;\">max_height&nbsp;=&nbsp;None,</div></div><div class=\"18141\" style=\"display: none;\"><div style=\"display: table-cell;\"></div><div style=\"display: table-cell;\">max_width&nbsp;=&nbsp;None,</div></div><div class=\"18141\" style=\"display: none;\"><div style=\"display: table-cell;\"></div><div style=\"display: table-cell;\">min_border&nbsp;=&nbsp;5,</div></div><div class=\"18141\" style=\"display: none;\"><div style=\"display: table-cell;\"></div><div style=\"display: table-cell;\">min_border_bottom&nbsp;=&nbsp;None,</div></div><div class=\"18141\" style=\"display: none;\"><div style=\"display: table-cell;\"></div><div style=\"display: table-cell;\">min_border_left&nbsp;=&nbsp;None,</div></div><div class=\"18141\" style=\"display: none;\"><div style=\"display: table-cell;\"></div><div style=\"display: table-cell;\">min_border_right&nbsp;=&nbsp;None,</div></div><div class=\"18141\" style=\"display: none;\"><div style=\"display: table-cell;\"></div><div style=\"display: table-cell;\">min_border_top&nbsp;=&nbsp;None,</div></div><div class=\"18141\" style=\"display: none;\"><div style=\"display: table-cell;\"></div><div style=\"display: table-cell;\">min_height&nbsp;=&nbsp;None,</div></div><div class=\"18141\" style=\"display: none;\"><div style=\"display: table-cell;\"></div><div style=\"display: table-cell;\">min_width&nbsp;=&nbsp;None,</div></div><div class=\"18141\" style=\"display: none;\"><div style=\"display: table-cell;\"></div><div style=\"display: table-cell;\">name&nbsp;=&nbsp;None,</div></div><div class=\"18141\" style=\"display: none;\"><div style=\"display: table-cell;\"></div><div style=\"display: table-cell;\">outer_height&nbsp;=&nbsp;0,</div></div><div class=\"18141\" style=\"display: none;\"><div style=\"display: table-cell;\"></div><div style=\"display: table-cell;\">outer_width&nbsp;=&nbsp;0,</div></div><div class=\"18141\" style=\"display: none;\"><div style=\"display: table-cell;\"></div><div style=\"display: table-cell;\">outline_line_alpha&nbsp;=&nbsp;1.0,</div></div><div class=\"18141\" style=\"display: none;\"><div style=\"display: table-cell;\"></div><div style=\"display: table-cell;\">outline_line_cap&nbsp;=&nbsp;'butt',</div></div><div class=\"18141\" style=\"display: none;\"><div style=\"display: table-cell;\"></div><div style=\"display: table-cell;\">outline_line_color&nbsp;=&nbsp;'#e5e5e5',</div></div><div class=\"18141\" style=\"display: none;\"><div style=\"display: table-cell;\"></div><div style=\"display: table-cell;\">outline_line_dash&nbsp;=&nbsp;[],</div></div><div class=\"18141\" style=\"display: none;\"><div style=\"display: table-cell;\"></div><div style=\"display: table-cell;\">outline_line_dash_offset&nbsp;=&nbsp;0,</div></div><div class=\"18141\" style=\"display: none;\"><div style=\"display: table-cell;\"></div><div style=\"display: table-cell;\">outline_line_join&nbsp;=&nbsp;'bevel',</div></div><div class=\"18141\" style=\"display: none;\"><div style=\"display: table-cell;\"></div><div style=\"display: table-cell;\">outline_line_width&nbsp;=&nbsp;1,</div></div><div class=\"18141\" style=\"display: none;\"><div style=\"display: table-cell;\"></div><div style=\"display: table-cell;\">output_backend&nbsp;=&nbsp;'webgl',</div></div><div class=\"18141\" style=\"display: none;\"><div style=\"display: table-cell;\"></div><div style=\"display: table-cell;\">renderers&nbsp;=&nbsp;[GlyphRenderer(id='17792', ...), GlyphRenderer(id='17808', ...), GlyphRenderer(id='17823', ...), GlyphRenderer(id='17838', ...)],</div></div><div class=\"18141\" style=\"display: none;\"><div style=\"display: table-cell;\"></div><div style=\"display: table-cell;\">reset_policy&nbsp;=&nbsp;'standard',</div></div><div class=\"18141\" style=\"display: none;\"><div style=\"display: table-cell;\"></div><div style=\"display: table-cell;\">right&nbsp;=&nbsp;[],</div></div><div class=\"18141\" style=\"display: none;\"><div style=\"display: table-cell;\"></div><div style=\"display: table-cell;\">sizing_mode&nbsp;=&nbsp;'fixed',</div></div><div class=\"18141\" style=\"display: none;\"><div style=\"display: table-cell;\"></div><div style=\"display: table-cell;\">subscribed_events&nbsp;=&nbsp;[],</div></div><div class=\"18141\" style=\"display: none;\"><div style=\"display: table-cell;\"></div><div style=\"display: table-cell;\">syncable&nbsp;=&nbsp;True,</div></div><div class=\"18141\" style=\"display: none;\"><div style=\"display: table-cell;\"></div><div style=\"display: table-cell;\">tags&nbsp;=&nbsp;[],</div></div><div class=\"18141\" style=\"display: none;\"><div style=\"display: table-cell;\"></div><div style=\"display: table-cell;\">title&nbsp;=&nbsp;Title(id='17747', ...),</div></div><div class=\"18141\" style=\"display: none;\"><div style=\"display: table-cell;\"></div><div style=\"display: table-cell;\">title_location&nbsp;=&nbsp;'above',</div></div><div class=\"18141\" style=\"display: none;\"><div style=\"display: table-cell;\"></div><div style=\"display: table-cell;\">toolbar&nbsp;=&nbsp;Toolbar(id='17772', ...),</div></div><div class=\"18141\" style=\"display: none;\"><div style=\"display: table-cell;\"></div><div style=\"display: table-cell;\">toolbar_location&nbsp;=&nbsp;'right',</div></div><div class=\"18141\" style=\"display: none;\"><div style=\"display: table-cell;\"></div><div style=\"display: table-cell;\">toolbar_sticky&nbsp;=&nbsp;True,</div></div><div class=\"18141\" style=\"display: none;\"><div style=\"display: table-cell;\"></div><div style=\"display: table-cell;\">visible&nbsp;=&nbsp;True,</div></div><div class=\"18141\" style=\"display: none;\"><div style=\"display: table-cell;\"></div><div style=\"display: table-cell;\">width&nbsp;=&nbsp;600,</div></div><div class=\"18141\" style=\"display: none;\"><div style=\"display: table-cell;\"></div><div style=\"display: table-cell;\">width_policy&nbsp;=&nbsp;'auto',</div></div><div class=\"18141\" style=\"display: none;\"><div style=\"display: table-cell;\"></div><div style=\"display: table-cell;\">x_range&nbsp;=&nbsp;DataRange1d(id='17749', ...),</div></div><div class=\"18141\" style=\"display: none;\"><div style=\"display: table-cell;\"></div><div style=\"display: table-cell;\">x_scale&nbsp;=&nbsp;LinearScale(id='17753', ...),</div></div><div class=\"18141\" style=\"display: none;\"><div style=\"display: table-cell;\"></div><div style=\"display: table-cell;\">y_range&nbsp;=&nbsp;DataRange1d(id='17751', ...),</div></div><div class=\"18141\" style=\"display: none;\"><div style=\"display: table-cell;\"></div><div style=\"display: table-cell;\">y_scale&nbsp;=&nbsp;LinearScale(id='17755', ...))</div></div></div>\n",
       "<script>\n",
       "(function() {\n",
       "  var expanded = false;\n",
       "  var ellipsis = document.getElementById(\"18142\");\n",
       "  ellipsis.addEventListener(\"click\", function() {\n",
       "    var rows = document.getElementsByClassName(\"18141\");\n",
       "    for (var i = 0; i < rows.length; i++) {\n",
       "      var el = rows[i];\n",
       "      el.style.display = expanded ? \"none\" : \"table-row\";\n",
       "    }\n",
       "    ellipsis.innerHTML = expanded ? \"&hellip;)\" : \"&lsaquo;&lsaquo;&lsaquo;\";\n",
       "    expanded = !expanded;\n",
       "  });\n",
       "})();\n",
       "</script>\n"
      ],
      "text/plain": [
       "Figure(id='17746', ...)"
      ]
     },
     "execution_count": 150,
     "metadata": {},
     "output_type": "execute_result"
    }
   ],
   "source": [
    "df_res.plot_bokeh(kind='barh', stacked=True)"
   ]
  },
  {
   "cell_type": "code",
   "execution_count": 153,
   "metadata": {
    "scrolled": false
   },
   "outputs": [
    {
     "data": {
      "text/html": [
       "\n",
       "\n",
       "\n",
       "\n",
       "\n",
       "\n",
       "  <div class=\"bk-root\" id=\"d732a1b4-1bf6-4858-9213-97941dab1bf0\" data-root-id=\"18799\"></div>\n"
      ]
     },
     "metadata": {},
     "output_type": "display_data"
    },
    {
     "data": {
      "application/javascript": [
       "(function(root) {\n",
       "  function embed_document(root) {\n",
       "    \n",
       "  var docs_json = {\"18db7e1a-9b9b-437a-9fba-960e4b491ca9\":{\"defs\":[],\"roots\":{\"references\":[{\"attributes\":{\"below\":[{\"id\":\"18810\"}],\"center\":[{\"id\":\"18813\"},{\"id\":\"18817\"},{\"id\":\"18850\"}],\"height\":400,\"left\":[{\"id\":\"18814\"}],\"renderers\":[{\"id\":\"18838\"}],\"title\":{\"id\":\"18800\"},\"toolbar\":{\"id\":\"18825\"},\"toolbar_location\":null,\"x_range\":{\"id\":\"18802\"},\"x_scale\":{\"id\":\"18806\"},\"y_range\":{\"id\":\"18804\"},\"y_scale\":{\"id\":\"18808\"}},\"id\":\"18799\",\"subtype\":\"Figure\",\"type\":\"Plot\"},{\"attributes\":{},\"id\":\"18823\",\"type\":\"HelpTool\"},{\"attributes\":{\"end_angle\":{\"expr\":{\"id\":\"18833\"}},\"fill_color\":{\"field\":\"color\"},\"inner_radius\":{\"field\":\"inner_radius\"},\"line_color\":{\"value\":\"white\"},\"line_width\":{\"value\":2},\"outer_radius\":{\"field\":\"outer_radius\"},\"start_angle\":{\"expr\":{\"id\":\"18832\"}},\"x\":{\"value\":0},\"y\":{\"value\":0}},\"id\":\"18836\",\"type\":\"AnnularWedge\"},{\"attributes\":{\"axis\":{\"id\":\"18814\"},\"dimension\":1,\"grid_line_color\":null,\"ticker\":null},\"id\":\"18817\",\"type\":\"Grid\"},{\"attributes\":{\"end_angle\":{\"expr\":{\"id\":\"18833\"}},\"fill_alpha\":{\"value\":0.1},\"fill_color\":{\"field\":\"color\"},\"inner_radius\":{\"field\":\"inner_radius\"},\"line_alpha\":{\"value\":0.1},\"line_color\":{\"value\":\"white\"},\"line_width\":{\"value\":2},\"outer_radius\":{\"field\":\"outer_radius\"},\"start_angle\":{\"expr\":{\"id\":\"18832\"}},\"x\":{\"value\":0},\"y\":{\"value\":0}},\"id\":\"18837\",\"type\":\"AnnularWedge\"},{\"attributes\":{\"axis_label\":null,\"formatter\":{\"id\":\"18844\"},\"major_label_policy\":{\"id\":\"18846\"},\"ticker\":{\"id\":\"18815\"},\"visible\":false},\"id\":\"18814\",\"type\":\"LinearAxis\"},{\"attributes\":{},\"id\":\"18815\",\"type\":\"BasicTicker\"},{\"attributes\":{\"active_multi\":null,\"tools\":[{\"id\":\"18818\"},{\"id\":\"18819\"},{\"id\":\"18820\"},{\"id\":\"18821\"},{\"id\":\"18822\"},{\"id\":\"18823\"},{\"id\":\"18852\"}]},\"id\":\"18825\",\"type\":\"Toolbar\"},{\"attributes\":{\"items\":[{\"id\":\"18851\"}]},\"id\":\"18850\",\"type\":\"Legend\"},{\"attributes\":{},\"id\":\"18819\",\"type\":\"WheelZoomTool\"},{\"attributes\":{},\"id\":\"18818\",\"type\":\"PanTool\"},{\"attributes\":{\"data_source\":{\"id\":\"18834\"},\"glyph\":{\"id\":\"18836\"},\"hover_glyph\":null,\"muted_glyph\":null,\"nonselection_glyph\":{\"id\":\"18837\"},\"view\":{\"id\":\"18839\"}},\"id\":\"18838\",\"type\":\"GlyphRenderer\"},{\"attributes\":{\"overlay\":{\"id\":\"18824\"}},\"id\":\"18820\",\"type\":\"BoxZoomTool\"},{\"attributes\":{},\"id\":\"18821\",\"type\":\"SaveTool\"},{\"attributes\":{},\"id\":\"18822\",\"type\":\"ResetTool\"},{\"attributes\":{\"label\":{\"value\":\"__x__values\"},\"renderers\":[{\"id\":\"18838\"}]},\"id\":\"18851\",\"type\":\"LegendItem\"},{\"attributes\":{},\"id\":\"18847\",\"type\":\"UnionRenderers\"},{\"attributes\":{},\"id\":\"18800\",\"type\":\"Title\"},{\"attributes\":{},\"id\":\"18846\",\"type\":\"AllLabels\"},{\"attributes\":{},\"id\":\"18848\",\"type\":\"Selection\"},{\"attributes\":{},\"id\":\"18841\",\"type\":\"BasicTickFormatter\"},{\"attributes\":{\"callback\":null,\"renderers\":[{\"id\":\"18838\"}],\"tooltips\":[[\"x\",\"@__x__values_original\"],[\"NIFTY Bank index\",\"@{NIFTY Bank index}\"]]},\"id\":\"18852\",\"type\":\"HoverTool\"},{\"attributes\":{\"axis_label\":null,\"formatter\":{\"id\":\"18841\"},\"major_label_policy\":{\"id\":\"18843\"},\"ticker\":{\"id\":\"18854\"},\"visible\":false},\"id\":\"18810\",\"type\":\"LinearAxis\"},{\"attributes\":{\"ticks\":[0,1,2,3,4,5,6]},\"id\":\"18854\",\"type\":\"FixedTicker\"},{\"attributes\":{},\"id\":\"18843\",\"type\":\"AllLabels\"},{\"attributes\":{\"bottom_units\":\"screen\",\"fill_alpha\":0.5,\"fill_color\":\"lightgrey\",\"left_units\":\"screen\",\"level\":\"overlay\",\"line_alpha\":1.0,\"line_color\":\"black\",\"line_dash\":[4,4],\"line_width\":2,\"right_units\":\"screen\",\"syncable\":false,\"top_units\":\"screen\"},\"id\":\"18824\",\"type\":\"BoxAnnotation\"},{\"attributes\":{},\"id\":\"18844\",\"type\":\"BasicTickFormatter\"},{\"attributes\":{\"end\":2,\"start\":-2.2},\"id\":\"18802\",\"type\":\"Range1d\"},{\"attributes\":{\"end\":1.2,\"start\":-1.2},\"id\":\"18804\",\"type\":\"Range1d\"},{\"attributes\":{\"data\":{\"NIFTY Bank index\":{\"__ndarray__\":\"iWRVs0ZyP0CtUQ/R6Kw+QGr4QFmg7zZAaijI4hG3M0AaAQ8YDLUyQGeXulck9DRAOZAKcjI8NkA=\",\"dtype\":\"float64\",\"order\":\"little\",\"shape\":[7]},\"NIFTY Bank index_angle\":{\"__ndarray__\":\"+sHnZb738j/c5x5VsoDyPwgB3mhDq+s/Q0YsSo7I5z8bHur+SZHmPxtdQKQOR+k/mFLf1c7S6j8=\",\"dtype\":\"float64\",\"order\":\"little\",\"shape\":[7]},\"__x__values\":[\"Jan\",\"Feb\",\"March\",\"April\",\"May\",\"June\",\"July\"],\"__x__values_original\":[\"Jan\",\"Feb\",\"March\",\"April\",\"May\",\"June\",\"July\"],\"color\":[\"#1f77b4\",\"#ff7f0e\",\"#2ca02c\",\"#d62728\",\"#9467bd\",\"#8c564b\",\"#e377c2\"],\"inner_radius\":[0.0,0.0,0.0,0.0,0.0,0.0,0.0],\"outer_radius\":[0.9,0.9,0.9,0.9,0.9,0.9,0.9]},\"selected\":{\"id\":\"18848\"},\"selection_policy\":{\"id\":\"18847\"}},\"id\":\"18834\",\"type\":\"ColumnDataSource\"},{\"attributes\":{\"axis\":{\"id\":\"18810\"},\"grid_line_color\":null,\"ticker\":null},\"id\":\"18813\",\"type\":\"Grid\"},{\"attributes\":{\"source\":{\"id\":\"18834\"}},\"id\":\"18839\",\"type\":\"CDSView\"},{\"attributes\":{},\"id\":\"18806\",\"type\":\"LinearScale\"},{\"attributes\":{\"field\":\"NIFTY Bank index_angle\"},\"id\":\"18833\",\"type\":\"CumSum\"},{\"attributes\":{},\"id\":\"18808\",\"type\":\"LinearScale\"},{\"attributes\":{\"field\":\"NIFTY Bank index_angle\",\"include_zero\":true},\"id\":\"18832\",\"type\":\"CumSum\"}],\"root_ids\":[\"18799\"]},\"title\":\"Bokeh Application\",\"version\":\"2.3.2\"}};\n",
       "  var render_items = [{\"docid\":\"18db7e1a-9b9b-437a-9fba-960e4b491ca9\",\"root_ids\":[\"18799\"],\"roots\":{\"18799\":\"d732a1b4-1bf6-4858-9213-97941dab1bf0\"}}];\n",
       "  root.Bokeh.embed.embed_items_notebook(docs_json, render_items);\n",
       "\n",
       "  }\n",
       "  if (root.Bokeh !== undefined) {\n",
       "    embed_document(root);\n",
       "  } else {\n",
       "    var attempts = 0;\n",
       "    var timer = setInterval(function(root) {\n",
       "      if (root.Bokeh !== undefined) {\n",
       "        clearInterval(timer);\n",
       "        embed_document(root);\n",
       "      } else {\n",
       "        attempts++;\n",
       "        if (attempts > 100) {\n",
       "          clearInterval(timer);\n",
       "          console.log(\"Bokeh: ERROR: Unable to run BokehJS code because BokehJS library is missing\");\n",
       "        }\n",
       "      }\n",
       "    }, 10, root)\n",
       "  }\n",
       "})(window);"
      ],
      "application/vnd.bokehjs_exec.v0+json": ""
     },
     "metadata": {
      "application/vnd.bokehjs_exec.v0+json": {
       "id": "18799"
      }
     },
     "output_type": "display_data"
    },
    {
     "data": {
      "text/html": [
       "<div style=\"display: table;\"><div style=\"display: table-row;\"><div style=\"display: table-cell;\"><b title=\"bokeh.plotting.figure.Figure\">Figure</b>(</div><div style=\"display: table-cell;\">id&nbsp;=&nbsp;'18799', <span id=\"19189\" style=\"cursor: pointer;\">&hellip;)</span></div></div><div class=\"19188\" style=\"display: none;\"><div style=\"display: table-cell;\"></div><div style=\"display: table-cell;\">above&nbsp;=&nbsp;[],</div></div><div class=\"19188\" style=\"display: none;\"><div style=\"display: table-cell;\"></div><div style=\"display: table-cell;\">align&nbsp;=&nbsp;'start',</div></div><div class=\"19188\" style=\"display: none;\"><div style=\"display: table-cell;\"></div><div style=\"display: table-cell;\">aspect_ratio&nbsp;=&nbsp;None,</div></div><div class=\"19188\" style=\"display: none;\"><div style=\"display: table-cell;\"></div><div style=\"display: table-cell;\">aspect_scale&nbsp;=&nbsp;1,</div></div><div class=\"19188\" style=\"display: none;\"><div style=\"display: table-cell;\"></div><div style=\"display: table-cell;\">background&nbsp;=&nbsp;None,</div></div><div class=\"19188\" style=\"display: none;\"><div style=\"display: table-cell;\"></div><div style=\"display: table-cell;\">background_fill_alpha&nbsp;=&nbsp;1.0,</div></div><div class=\"19188\" style=\"display: none;\"><div style=\"display: table-cell;\"></div><div style=\"display: table-cell;\">background_fill_color&nbsp;=&nbsp;'#ffffff',</div></div><div class=\"19188\" style=\"display: none;\"><div style=\"display: table-cell;\"></div><div style=\"display: table-cell;\">below&nbsp;=&nbsp;[LinearAxis(id='18810', ...)],</div></div><div class=\"19188\" style=\"display: none;\"><div style=\"display: table-cell;\"></div><div style=\"display: table-cell;\">border_fill_alpha&nbsp;=&nbsp;1.0,</div></div><div class=\"19188\" style=\"display: none;\"><div style=\"display: table-cell;\"></div><div style=\"display: table-cell;\">border_fill_color&nbsp;=&nbsp;'#ffffff',</div></div><div class=\"19188\" style=\"display: none;\"><div style=\"display: table-cell;\"></div><div style=\"display: table-cell;\">center&nbsp;=&nbsp;[Grid(id='18813', ...), Grid(id='18817', ...), Legend(id='18850', ...)],</div></div><div class=\"19188\" style=\"display: none;\"><div style=\"display: table-cell;\"></div><div style=\"display: table-cell;\">css_classes&nbsp;=&nbsp;[],</div></div><div class=\"19188\" style=\"display: none;\"><div style=\"display: table-cell;\"></div><div style=\"display: table-cell;\">disabled&nbsp;=&nbsp;False,</div></div><div class=\"19188\" style=\"display: none;\"><div style=\"display: table-cell;\"></div><div style=\"display: table-cell;\">extra_x_ranges&nbsp;=&nbsp;{},</div></div><div class=\"19188\" style=\"display: none;\"><div style=\"display: table-cell;\"></div><div style=\"display: table-cell;\">extra_y_ranges&nbsp;=&nbsp;{},</div></div><div class=\"19188\" style=\"display: none;\"><div style=\"display: table-cell;\"></div><div style=\"display: table-cell;\">frame_height&nbsp;=&nbsp;None,</div></div><div class=\"19188\" style=\"display: none;\"><div style=\"display: table-cell;\"></div><div style=\"display: table-cell;\">frame_width&nbsp;=&nbsp;None,</div></div><div class=\"19188\" style=\"display: none;\"><div style=\"display: table-cell;\"></div><div style=\"display: table-cell;\">height&nbsp;=&nbsp;400,</div></div><div class=\"19188\" style=\"display: none;\"><div style=\"display: table-cell;\"></div><div style=\"display: table-cell;\">height_policy&nbsp;=&nbsp;'auto',</div></div><div class=\"19188\" style=\"display: none;\"><div style=\"display: table-cell;\"></div><div style=\"display: table-cell;\">hidpi&nbsp;=&nbsp;True,</div></div><div class=\"19188\" style=\"display: none;\"><div style=\"display: table-cell;\"></div><div style=\"display: table-cell;\">inner_height&nbsp;=&nbsp;0,</div></div><div class=\"19188\" style=\"display: none;\"><div style=\"display: table-cell;\"></div><div style=\"display: table-cell;\">inner_width&nbsp;=&nbsp;0,</div></div><div class=\"19188\" style=\"display: none;\"><div style=\"display: table-cell;\"></div><div style=\"display: table-cell;\">js_event_callbacks&nbsp;=&nbsp;{},</div></div><div class=\"19188\" style=\"display: none;\"><div style=\"display: table-cell;\"></div><div style=\"display: table-cell;\">js_property_callbacks&nbsp;=&nbsp;{},</div></div><div class=\"19188\" style=\"display: none;\"><div style=\"display: table-cell;\"></div><div style=\"display: table-cell;\">left&nbsp;=&nbsp;[LinearAxis(id='18814', ...)],</div></div><div class=\"19188\" style=\"display: none;\"><div style=\"display: table-cell;\"></div><div style=\"display: table-cell;\">lod_factor&nbsp;=&nbsp;10,</div></div><div class=\"19188\" style=\"display: none;\"><div style=\"display: table-cell;\"></div><div style=\"display: table-cell;\">lod_interval&nbsp;=&nbsp;300,</div></div><div class=\"19188\" style=\"display: none;\"><div style=\"display: table-cell;\"></div><div style=\"display: table-cell;\">lod_threshold&nbsp;=&nbsp;2000,</div></div><div class=\"19188\" style=\"display: none;\"><div style=\"display: table-cell;\"></div><div style=\"display: table-cell;\">lod_timeout&nbsp;=&nbsp;500,</div></div><div class=\"19188\" style=\"display: none;\"><div style=\"display: table-cell;\"></div><div style=\"display: table-cell;\">margin&nbsp;=&nbsp;(0, 0, 0, 0),</div></div><div class=\"19188\" style=\"display: none;\"><div style=\"display: table-cell;\"></div><div style=\"display: table-cell;\">match_aspect&nbsp;=&nbsp;False,</div></div><div class=\"19188\" style=\"display: none;\"><div style=\"display: table-cell;\"></div><div style=\"display: table-cell;\">max_height&nbsp;=&nbsp;None,</div></div><div class=\"19188\" style=\"display: none;\"><div style=\"display: table-cell;\"></div><div style=\"display: table-cell;\">max_width&nbsp;=&nbsp;None,</div></div><div class=\"19188\" style=\"display: none;\"><div style=\"display: table-cell;\"></div><div style=\"display: table-cell;\">min_border&nbsp;=&nbsp;5,</div></div><div class=\"19188\" style=\"display: none;\"><div style=\"display: table-cell;\"></div><div style=\"display: table-cell;\">min_border_bottom&nbsp;=&nbsp;None,</div></div><div class=\"19188\" style=\"display: none;\"><div style=\"display: table-cell;\"></div><div style=\"display: table-cell;\">min_border_left&nbsp;=&nbsp;None,</div></div><div class=\"19188\" style=\"display: none;\"><div style=\"display: table-cell;\"></div><div style=\"display: table-cell;\">min_border_right&nbsp;=&nbsp;None,</div></div><div class=\"19188\" style=\"display: none;\"><div style=\"display: table-cell;\"></div><div style=\"display: table-cell;\">min_border_top&nbsp;=&nbsp;None,</div></div><div class=\"19188\" style=\"display: none;\"><div style=\"display: table-cell;\"></div><div style=\"display: table-cell;\">min_height&nbsp;=&nbsp;None,</div></div><div class=\"19188\" style=\"display: none;\"><div style=\"display: table-cell;\"></div><div style=\"display: table-cell;\">min_width&nbsp;=&nbsp;None,</div></div><div class=\"19188\" style=\"display: none;\"><div style=\"display: table-cell;\"></div><div style=\"display: table-cell;\">name&nbsp;=&nbsp;None,</div></div><div class=\"19188\" style=\"display: none;\"><div style=\"display: table-cell;\"></div><div style=\"display: table-cell;\">outer_height&nbsp;=&nbsp;0,</div></div><div class=\"19188\" style=\"display: none;\"><div style=\"display: table-cell;\"></div><div style=\"display: table-cell;\">outer_width&nbsp;=&nbsp;0,</div></div><div class=\"19188\" style=\"display: none;\"><div style=\"display: table-cell;\"></div><div style=\"display: table-cell;\">outline_line_alpha&nbsp;=&nbsp;1.0,</div></div><div class=\"19188\" style=\"display: none;\"><div style=\"display: table-cell;\"></div><div style=\"display: table-cell;\">outline_line_cap&nbsp;=&nbsp;'butt',</div></div><div class=\"19188\" style=\"display: none;\"><div style=\"display: table-cell;\"></div><div style=\"display: table-cell;\">outline_line_color&nbsp;=&nbsp;'#e5e5e5',</div></div><div class=\"19188\" style=\"display: none;\"><div style=\"display: table-cell;\"></div><div style=\"display: table-cell;\">outline_line_dash&nbsp;=&nbsp;[],</div></div><div class=\"19188\" style=\"display: none;\"><div style=\"display: table-cell;\"></div><div style=\"display: table-cell;\">outline_line_dash_offset&nbsp;=&nbsp;0,</div></div><div class=\"19188\" style=\"display: none;\"><div style=\"display: table-cell;\"></div><div style=\"display: table-cell;\">outline_line_join&nbsp;=&nbsp;'bevel',</div></div><div class=\"19188\" style=\"display: none;\"><div style=\"display: table-cell;\"></div><div style=\"display: table-cell;\">outline_line_width&nbsp;=&nbsp;1,</div></div><div class=\"19188\" style=\"display: none;\"><div style=\"display: table-cell;\"></div><div style=\"display: table-cell;\">output_backend&nbsp;=&nbsp;'canvas',</div></div><div class=\"19188\" style=\"display: none;\"><div style=\"display: table-cell;\"></div><div style=\"display: table-cell;\">renderers&nbsp;=&nbsp;[GlyphRenderer(id='18838', ...)],</div></div><div class=\"19188\" style=\"display: none;\"><div style=\"display: table-cell;\"></div><div style=\"display: table-cell;\">reset_policy&nbsp;=&nbsp;'standard',</div></div><div class=\"19188\" style=\"display: none;\"><div style=\"display: table-cell;\"></div><div style=\"display: table-cell;\">right&nbsp;=&nbsp;[],</div></div><div class=\"19188\" style=\"display: none;\"><div style=\"display: table-cell;\"></div><div style=\"display: table-cell;\">sizing_mode&nbsp;=&nbsp;None,</div></div><div class=\"19188\" style=\"display: none;\"><div style=\"display: table-cell;\"></div><div style=\"display: table-cell;\">subscribed_events&nbsp;=&nbsp;[],</div></div><div class=\"19188\" style=\"display: none;\"><div style=\"display: table-cell;\"></div><div style=\"display: table-cell;\">syncable&nbsp;=&nbsp;True,</div></div><div class=\"19188\" style=\"display: none;\"><div style=\"display: table-cell;\"></div><div style=\"display: table-cell;\">tags&nbsp;=&nbsp;[],</div></div><div class=\"19188\" style=\"display: none;\"><div style=\"display: table-cell;\"></div><div style=\"display: table-cell;\">title&nbsp;=&nbsp;Title(id='18800', ...),</div></div><div class=\"19188\" style=\"display: none;\"><div style=\"display: table-cell;\"></div><div style=\"display: table-cell;\">title_location&nbsp;=&nbsp;'above',</div></div><div class=\"19188\" style=\"display: none;\"><div style=\"display: table-cell;\"></div><div style=\"display: table-cell;\">toolbar&nbsp;=&nbsp;Toolbar(id='18825', ...),</div></div><div class=\"19188\" style=\"display: none;\"><div style=\"display: table-cell;\"></div><div style=\"display: table-cell;\">toolbar_location&nbsp;=&nbsp;None,</div></div><div class=\"19188\" style=\"display: none;\"><div style=\"display: table-cell;\"></div><div style=\"display: table-cell;\">toolbar_sticky&nbsp;=&nbsp;True,</div></div><div class=\"19188\" style=\"display: none;\"><div style=\"display: table-cell;\"></div><div style=\"display: table-cell;\">visible&nbsp;=&nbsp;True,</div></div><div class=\"19188\" style=\"display: none;\"><div style=\"display: table-cell;\"></div><div style=\"display: table-cell;\">width&nbsp;=&nbsp;600,</div></div><div class=\"19188\" style=\"display: none;\"><div style=\"display: table-cell;\"></div><div style=\"display: table-cell;\">width_policy&nbsp;=&nbsp;'auto',</div></div><div class=\"19188\" style=\"display: none;\"><div style=\"display: table-cell;\"></div><div style=\"display: table-cell;\">x_range&nbsp;=&nbsp;Range1d(id='18802', ...),</div></div><div class=\"19188\" style=\"display: none;\"><div style=\"display: table-cell;\"></div><div style=\"display: table-cell;\">x_scale&nbsp;=&nbsp;LinearScale(id='18806', ...),</div></div><div class=\"19188\" style=\"display: none;\"><div style=\"display: table-cell;\"></div><div style=\"display: table-cell;\">y_range&nbsp;=&nbsp;Range1d(id='18804', ...),</div></div><div class=\"19188\" style=\"display: none;\"><div style=\"display: table-cell;\"></div><div style=\"display: table-cell;\">y_scale&nbsp;=&nbsp;LinearScale(id='18808', ...))</div></div></div>\n",
       "<script>\n",
       "(function() {\n",
       "  var expanded = false;\n",
       "  var ellipsis = document.getElementById(\"19189\");\n",
       "  ellipsis.addEventListener(\"click\", function() {\n",
       "    var rows = document.getElementsByClassName(\"19188\");\n",
       "    for (var i = 0; i < rows.length; i++) {\n",
       "      var el = rows[i];\n",
       "      el.style.display = expanded ? \"none\" : \"table-row\";\n",
       "    }\n",
       "    ellipsis.innerHTML = expanded ? \"&hellip;)\" : \"&lsaquo;&lsaquo;&lsaquo;\";\n",
       "    expanded = !expanded;\n",
       "  });\n",
       "})();\n",
       "</script>\n"
      ],
      "text/plain": [
       "Figure(id='18799', ...)"
      ]
     },
     "execution_count": 153,
     "metadata": {},
     "output_type": "execute_result"
    }
   ],
   "source": [
    "df_res.index=['Jan', 'Feb', 'March', 'April', 'May', 'June', 'July']\n",
    "df_res.plot_bokeh(kind='pie', y='NIFTY Bank index')"
   ]
  },
  {
   "cell_type": "code",
   "execution_count": 154,
   "metadata": {},
   "outputs": [
    {
     "data": {
      "text/html": [
       "\n",
       "\n",
       "\n",
       "\n",
       "\n",
       "\n",
       "  <div class=\"bk-root\" id=\"915ca787-e766-40ad-9ca1-3daa85223e65\" data-root-id=\"19226\"></div>\n"
      ]
     },
     "metadata": {},
     "output_type": "display_data"
    },
    {
     "data": {
      "application/javascript": [
       "(function(root) {\n",
       "  function embed_document(root) {\n",
       "    \n",
       "  var docs_json = {\"4b926b28-ae50-4a54-b99f-eab34bd83c7b\":{\"defs\":[],\"roots\":{\"references\":[{\"attributes\":{\"below\":[{\"id\":\"19237\"}],\"center\":[{\"id\":\"19240\"},{\"id\":\"19244\"},{\"id\":\"19358\"}],\"height\":400,\"left\":[{\"id\":\"19241\"}],\"renderers\":[{\"id\":\"19265\"},{\"id\":\"19271\"},{\"id\":\"19276\"},{\"id\":\"19286\"},{\"id\":\"19292\"},{\"id\":\"19297\"},{\"id\":\"19307\"},{\"id\":\"19313\"},{\"id\":\"19318\"},{\"id\":\"19328\"},{\"id\":\"19364\"},{\"id\":\"19369\"}],\"title\":{\"id\":\"19227\"},\"toolbar\":{\"id\":\"19252\"},\"toolbar_location\":null,\"x_range\":{\"id\":\"19229\"},\"x_scale\":{\"id\":\"19233\"},\"y_range\":{\"id\":\"19231\"},\"y_scale\":{\"id\":\"19235\"}},\"id\":\"19226\",\"subtype\":\"Figure\",\"type\":\"Plot\"},{\"attributes\":{\"items\":[{\"id\":\"19359\"}]},\"id\":\"19358\",\"type\":\"Legend\"},{\"attributes\":{\"text_alpha\":{\"value\":0.1},\"text_color\":{\"value\":\"black\"},\"text_font_style\":{\"value\":\"bold\"},\"x\":{\"field\":\"__x__values\"},\"y\":{\"field\":\"y\"}},\"id\":\"19363\",\"type\":\"Text\"},{\"attributes\":{},\"id\":\"19688\",\"type\":\"UnionRenderers\"},{\"attributes\":{\"text_color\":{\"value\":\"black\"},\"text_font_style\":{\"value\":\"bold\"},\"x\":{\"field\":\"__x__values\"},\"y\":{\"field\":\"y\"}},\"id\":\"19362\",\"type\":\"Text\"},{\"attributes\":{},\"id\":\"19351\",\"type\":\"UnionRenderers\"},{\"attributes\":{\"data_source\":{\"id\":\"19360\"},\"glyph\":{\"id\":\"19362\"},\"hover_glyph\":null,\"muted_glyph\":null,\"nonselection_glyph\":{\"id\":\"19363\"},\"view\":{\"id\":\"19365\"}},\"id\":\"19364\",\"type\":\"GlyphRenderer\"},{\"attributes\":{\"ticks\":[0,1,2,3,4,5,6]},\"id\":\"19373\",\"type\":\"FixedTicker\"},{\"attributes\":{\"x\":{\"field\":\"x\"},\"y\":{\"field\":\"y\"}},\"id\":\"19367\",\"type\":\"Line\"},{\"attributes\":{},\"id\":\"19352\",\"type\":\"Selection\"},{\"attributes\":{\"source\":{\"id\":\"19360\"}},\"id\":\"19365\",\"type\":\"CDSView\"},{\"attributes\":{},\"id\":\"19341\",\"type\":\"UnionRenderers\"},{\"attributes\":{\"source\":{\"id\":\"19366\"}},\"id\":\"19370\",\"type\":\"CDSView\"},{\"attributes\":{\"data\":{\"x\":[-1.3800000000000001,0],\"y\":[0.5,-0.1125]},\"selected\":{\"id\":\"19691\"},\"selection_policy\":{\"id\":\"19690\"}},\"id\":\"19366\",\"type\":\"ColumnDataSource\"},{\"attributes\":{\"callback\":null,\"renderers\":[{\"id\":\"19328\"}],\"tooltips\":[[\"x\",\"@__x__values_original\"],[\"NIFTY Bank index\",\"@{NIFTY Bank index}\"]]},\"id\":\"19371\",\"type\":\"HoverTool\"},{\"attributes\":{\"data_source\":{\"id\":\"19366\"},\"glyph\":{\"id\":\"19367\"},\"hover_glyph\":null,\"muted_glyph\":null,\"nonselection_glyph\":{\"id\":\"19368\"},\"view\":{\"id\":\"19370\"}},\"id\":\"19369\",\"type\":\"GlyphRenderer\"},{\"attributes\":{},\"id\":\"19342\",\"type\":\"Selection\"},{\"attributes\":{},\"id\":\"19689\",\"type\":\"Selection\"},{\"attributes\":{\"line_alpha\":0.1,\"x\":{\"field\":\"x\"},\"y\":{\"field\":\"y\"}},\"id\":\"19368\",\"type\":\"Line\"},{\"attributes\":{},\"id\":\"19353\",\"type\":\"UnionRenderers\"},{\"attributes\":{},\"id\":\"19354\",\"type\":\"Selection\"},{\"attributes\":{},\"id\":\"19343\",\"type\":\"UnionRenderers\"},{\"attributes\":{},\"id\":\"19344\",\"type\":\"Selection\"},{\"attributes\":{},\"id\":\"19333\",\"type\":\"AllLabels\"},{\"attributes\":{},\"id\":\"19690\",\"type\":\"UnionRenderers\"},{\"attributes\":{},\"id\":\"19355\",\"type\":\"UnionRenderers\"},{\"attributes\":{},\"id\":\"19691\",\"type\":\"Selection\"},{\"attributes\":{},\"id\":\"19334\",\"type\":\"BasicTickFormatter\"},{\"attributes\":{},\"id\":\"19356\",\"type\":\"Selection\"},{\"attributes\":{},\"id\":\"19345\",\"type\":\"UnionRenderers\"},{\"attributes\":{},\"id\":\"19336\",\"type\":\"AllLabels\"},{\"attributes\":{},\"id\":\"19346\",\"type\":\"Selection\"},{\"attributes\":{},\"id\":\"19347\",\"type\":\"UnionRenderers\"},{\"attributes\":{},\"id\":\"19348\",\"type\":\"Selection\"},{\"attributes\":{},\"id\":\"19337\",\"type\":\"UnionRenderers\"},{\"attributes\":{},\"id\":\"19338\",\"type\":\"Selection\"},{\"attributes\":{},\"id\":\"19349\",\"type\":\"UnionRenderers\"},{\"attributes\":{},\"id\":\"19350\",\"type\":\"Selection\"},{\"attributes\":{},\"id\":\"19339\",\"type\":\"UnionRenderers\"},{\"attributes\":{\"field\":\"NIFTY Pharma index_angle\",\"include_zero\":true},\"id\":\"19259\",\"type\":\"CumSum\"},{\"attributes\":{},\"id\":\"19340\",\"type\":\"Selection\"},{\"attributes\":{\"data\":{\"NIFTY Bank index\":{\"__ndarray__\":\"iWRVs0ZyP0CtUQ/R6Kw+QGr4QFmg7zZAaijI4hG3M0AaAQ8YDLUyQGeXulck9DRAOZAKcjI8NkA=\",\"dtype\":\"float64\",\"order\":\"little\",\"shape\":[7]},\"NIFTY Bank index_angle\":{\"__ndarray__\":\"+sHnZb738j/c5x5VsoDyPwgB3mhDq+s/Q0YsSo7I5z8bHur+SZHmPxtdQKQOR+k/mFLf1c7S6j8=\",\"dtype\":\"float64\",\"order\":\"little\",\"shape\":[7]},\"NIFTY FMCG index\":{\"__ndarray__\":\"czsaKaTKPkCRBUzg1nc+QAooP5I+aDpALo/mZkOfPEA8rbShcVM7QJMK7MdFUj1AqdTdWiPoPkA=\",\"dtype\":\"float64\",\"order\":\"little\",\"shape\":[7]},\"NIFTY FMCG index_angle\":{\"__ndarray__\":\"tub/dBdf7j9HG6Viaw3uPyQCtjQCDOo/f5mkiUo77D9Lq1fB//PqPw/1Cqvb6+w/wiq/ny987j8=\",\"dtype\":\"float64\",\"order\":\"little\",\"shape\":[7]},\"NIFTY IT index\":{\"__ndarray__\":\"ds35Q5EtMEDs+gW7YWkwQC8hH/RstipARIUQfWSAKUADgFoegCMrQIKqZ2CZKy1ALaVG8Rg5MEA=\",\"dtype\":\"float64\",\"order\":\"little\",\"shape\":[7]},\"NIFTY IT index_angle\":{\"__ndarray__\":\"WGl9TcGO7z+ylh1LtwHwP5u4Rl+xDeo/UyjcQk/f6D+Q3h2OE3jqP44iLY9Xc+w//u/6/j6l7z8=\",\"dtype\":\"float64\",\"order\":\"little\",\"shape\":[7]},\"NIFTY Pharma index\":{\"__ndarray__\":\"tS/PwrNeIEAW4/xNKEggQF9w87N+wBxAI27snYLaIUCpGx8/MKYiQEGlHiuOEiRAvadpKTU6JEA=\",\"dtype\":\"float64\",\"order\":\"little\",\"shape\":[7]},\"NIFTY Pharma index_angle\":{\"__ndarray__\":\"n6p6R2WU6j9uFCQ7ym/qP1bFnnmTV+c/qTDT6hX97D8xJqiwy0fuP4HXOf+0S/A/QW/6BeZr8D8=\",\"dtype\":\"float64\",\"order\":\"little\",\"shape\":[7]},\"__x__values\":[\"Jan\",\"Feb\",\"March\",\"April\",\"May\",\"June\",\"July\"],\"__x__values_original\":[\"Jan\",\"Feb\",\"March\",\"April\",\"May\",\"June\",\"July\"],\"color\":[\"#1f77b4\",\"#ff7f0e\",\"#2ca02c\",\"#d62728\",\"#9467bd\",\"#8c564b\",\"#e377c2\"],\"inner_radius\":[0.5,0.5,0.5,0.5,0.5,0.5,0.5],\"outer_radius\":[0.725,0.725,0.725,0.725,0.725,0.725,0.725]},\"selected\":{\"id\":\"19344\"},\"selection_policy\":{\"id\":\"19343\"}},\"id\":\"19282\",\"type\":\"ColumnDataSource\"},{\"attributes\":{\"end_angle\":{\"expr\":{\"id\":\"19281\"}},\"fill_color\":{\"field\":\"color\"},\"inner_radius\":{\"field\":\"inner_radius\"},\"line_color\":{\"value\":\"white\"},\"line_width\":{\"value\":2},\"outer_radius\":{\"field\":\"outer_radius\"},\"start_angle\":{\"expr\":{\"id\":\"19280\"}},\"x\":{\"value\":0},\"y\":{\"value\":0}},\"id\":\"19284\",\"type\":\"AnnularWedge\"},{\"attributes\":{\"source\":{\"id\":\"19273\"}},\"id\":\"19277\",\"type\":\"CDSView\"},{\"attributes\":{\"data\":{\"x\":[-1.3,0],\"y\":[-0.3999999999999999,-0.8625]},\"selected\":{\"id\":\"19342\"},\"selection_policy\":{\"id\":\"19341\"}},\"id\":\"19273\",\"type\":\"ColumnDataSource\"},{\"attributes\":{\"bottom_units\":\"screen\",\"fill_alpha\":0.5,\"fill_color\":\"lightgrey\",\"left_units\":\"screen\",\"level\":\"overlay\",\"line_alpha\":1.0,\"line_color\":\"black\",\"line_dash\":[4,4],\"line_width\":2,\"right_units\":\"screen\",\"syncable\":false,\"top_units\":\"screen\"},\"id\":\"19251\",\"type\":\"BoxAnnotation\"},{\"attributes\":{\"data_source\":{\"id\":\"19267\"},\"glyph\":{\"id\":\"19269\"},\"hover_glyph\":null,\"muted_glyph\":null,\"nonselection_glyph\":{\"id\":\"19270\"},\"view\":{\"id\":\"19272\"}},\"id\":\"19271\",\"type\":\"GlyphRenderer\"},{\"attributes\":{\"field\":\"NIFTY IT index_angle\"},\"id\":\"19281\",\"type\":\"CumSum\"},{\"attributes\":{\"text_alpha\":{\"value\":0.1},\"text_color\":{\"value\":\"black\"},\"text_font_style\":{\"value\":\"bold\"},\"x\":{\"field\":\"__x__values\"},\"y\":{\"field\":\"y\"}},\"id\":\"19270\",\"type\":\"Text\"},{\"attributes\":{\"callback\":null,\"renderers\":[{\"id\":\"19265\"}],\"tooltips\":[[\"x\",\"@__x__values_original\"],[\"NIFTY Pharma index\",\"@{NIFTY Pharma index}\"]]},\"id\":\"19278\",\"type\":\"HoverTool\"},{\"attributes\":{\"data\":{\"NIFTY Bank index\":{\"__ndarray__\":\"iWRVs0ZyP0CtUQ/R6Kw+QGr4QFmg7zZAaijI4hG3M0AaAQ8YDLUyQGeXulck9DRAOZAKcjI8NkA=\",\"dtype\":\"float64\",\"order\":\"little\",\"shape\":[7]},\"NIFTY Bank index_angle\":{\"__ndarray__\":\"+sHnZb738j/c5x5VsoDyPwgB3mhDq+s/Q0YsSo7I5z8bHur+SZHmPxtdQKQOR+k/mFLf1c7S6j8=\",\"dtype\":\"float64\",\"order\":\"little\",\"shape\":[7]},\"NIFTY FMCG index\":{\"__ndarray__\":\"czsaKaTKPkCRBUzg1nc+QAooP5I+aDpALo/mZkOfPEA8rbShcVM7QJMK7MdFUj1AqdTdWiPoPkA=\",\"dtype\":\"float64\",\"order\":\"little\",\"shape\":[7]},\"NIFTY FMCG index_angle\":{\"__ndarray__\":\"tub/dBdf7j9HG6Viaw3uPyQCtjQCDOo/f5mkiUo77D9Lq1fB//PqPw/1Cqvb6+w/wiq/ny987j8=\",\"dtype\":\"float64\",\"order\":\"little\",\"shape\":[7]},\"NIFTY IT index\":{\"__ndarray__\":\"ds35Q5EtMEDs+gW7YWkwQC8hH/RstipARIUQfWSAKUADgFoegCMrQIKqZ2CZKy1ALaVG8Rg5MEA=\",\"dtype\":\"float64\",\"order\":\"little\",\"shape\":[7]},\"NIFTY IT index_angle\":{\"__ndarray__\":\"WGl9TcGO7z+ylh1LtwHwP5u4Rl+xDeo/UyjcQk/f6D+Q3h2OE3jqP44iLY9Xc+w//u/6/j6l7z8=\",\"dtype\":\"float64\",\"order\":\"little\",\"shape\":[7]},\"NIFTY Pharma index\":{\"__ndarray__\":\"tS/PwrNeIEAW4/xNKEggQF9w87N+wBxAI27snYLaIUCpGx8/MKYiQEGlHiuOEiRAvadpKTU6JEA=\",\"dtype\":\"float64\",\"order\":\"little\",\"shape\":[7]},\"NIFTY Pharma index_angle\":{\"__ndarray__\":\"n6p6R2WU6j9uFCQ7ym/qP1bFnnmTV+c/qTDT6hX97D8xJqiwy0fuP4HXOf+0S/A/QW/6BeZr8D8=\",\"dtype\":\"float64\",\"order\":\"little\",\"shape\":[7]},\"__x__values\":[\"Jan\",\"Feb\",\"March\",\"April\",\"May\",\"June\",\"July\"],\"__x__values_original\":[\"Jan\",\"Feb\",\"March\",\"April\",\"May\",\"June\",\"July\"],\"color\":[\"#1f77b4\",\"#ff7f0e\",\"#2ca02c\",\"#d62728\",\"#9467bd\",\"#8c564b\",\"#e377c2\"],\"inner_radius\":[0.75,0.75,0.75,0.75,0.75,0.75,0.75],\"outer_radius\":[0.975,0.975,0.975,0.975,0.975,0.975,0.975]},\"selected\":{\"id\":\"19338\"},\"selection_policy\":{\"id\":\"19337\"}},\"id\":\"19261\",\"type\":\"ColumnDataSource\"},{\"attributes\":{\"source\":{\"id\":\"19282\"}},\"id\":\"19287\",\"type\":\"CDSView\"},{\"attributes\":{\"end_angle\":{\"expr\":{\"id\":\"19281\"}},\"fill_alpha\":{\"value\":0.1},\"fill_color\":{\"field\":\"color\"},\"inner_radius\":{\"field\":\"inner_radius\"},\"line_alpha\":{\"value\":0.1},\"line_color\":{\"value\":\"white\"},\"line_width\":{\"value\":2},\"outer_radius\":{\"field\":\"outer_radius\"},\"start_angle\":{\"expr\":{\"id\":\"19280\"}},\"x\":{\"value\":0},\"y\":{\"value\":0}},\"id\":\"19285\",\"type\":\"AnnularWedge\"},{\"attributes\":{\"field\":\"NIFTY Pharma index_angle\"},\"id\":\"19260\",\"type\":\"CumSum\"},{\"attributes\":{\"text_alpha\":{\"value\":0.1},\"text_color\":{\"value\":\"black\"},\"text_font_style\":{\"value\":\"bold\"},\"x\":{\"field\":\"__x__values\"},\"y\":{\"field\":\"y\"}},\"id\":\"19291\",\"type\":\"Text\"},{\"attributes\":{\"data_source\":{\"id\":\"19282\"},\"glyph\":{\"id\":\"19284\"},\"hover_glyph\":null,\"muted_glyph\":null,\"nonselection_glyph\":{\"id\":\"19285\"},\"view\":{\"id\":\"19287\"}},\"id\":\"19286\",\"type\":\"GlyphRenderer\"},{\"attributes\":{\"source\":{\"id\":\"19267\"}},\"id\":\"19272\",\"type\":\"CDSView\"},{\"attributes\":{\"label\":{\"value\":\"__x__values\"},\"renderers\":[{\"id\":\"19328\"}]},\"id\":\"19359\",\"type\":\"LegendItem\"},{\"attributes\":{\"data\":{\"__x__values\":[-2.2],\"text\":[\"NIFTY IT index\"],\"y\":[-0.09999999999999998]},\"selected\":{\"id\":\"19346\"},\"selection_policy\":{\"id\":\"19345\"}},\"id\":\"19288\",\"type\":\"ColumnDataSource\"},{\"attributes\":{\"text_color\":{\"value\":\"black\"},\"text_font_style\":{\"value\":\"bold\"},\"x\":{\"field\":\"__x__values\"},\"y\":{\"field\":\"y\"}},\"id\":\"19290\",\"type\":\"Text\"},{\"attributes\":{\"data_source\":{\"id\":\"19288\"},\"glyph\":{\"id\":\"19290\"},\"hover_glyph\":null,\"muted_glyph\":null,\"nonselection_glyph\":{\"id\":\"19291\"},\"view\":{\"id\":\"19293\"}},\"id\":\"19292\",\"type\":\"GlyphRenderer\"},{\"attributes\":{\"x\":{\"field\":\"x\"},\"y\":{\"field\":\"y\"}},\"id\":\"19295\",\"type\":\"Line\"},{\"attributes\":{\"source\":{\"id\":\"19288\"}},\"id\":\"19293\",\"type\":\"CDSView\"},{\"attributes\":{\"source\":{\"id\":\"19294\"}},\"id\":\"19298\",\"type\":\"CDSView\"},{\"attributes\":{\"data\":{\"x\":[-1.46,0],\"y\":[-0.09999999999999998,-0.6125]},\"selected\":{\"id\":\"19348\"},\"selection_policy\":{\"id\":\"19347\"}},\"id\":\"19294\",\"type\":\"ColumnDataSource\"},{\"attributes\":{\"callback\":null,\"renderers\":[{\"id\":\"19286\"}],\"tooltips\":[[\"x\",\"@__x__values_original\"],[\"NIFTY IT index\",\"@{NIFTY IT index}\"]]},\"id\":\"19299\",\"type\":\"HoverTool\"},{\"attributes\":{\"data_source\":{\"id\":\"19294\"},\"glyph\":{\"id\":\"19295\"},\"hover_glyph\":null,\"muted_glyph\":null,\"nonselection_glyph\":{\"id\":\"19296\"},\"view\":{\"id\":\"19298\"}},\"id\":\"19297\",\"type\":\"GlyphRenderer\"},{\"attributes\":{\"field\":\"NIFTY FMCG index_angle\",\"include_zero\":true},\"id\":\"19301\",\"type\":\"CumSum\"},{\"attributes\":{\"end_angle\":{\"expr\":{\"id\":\"19302\"}},\"fill_color\":{\"field\":\"color\"},\"inner_radius\":{\"field\":\"inner_radius\"},\"line_color\":{\"value\":\"white\"},\"line_width\":{\"value\":2},\"outer_radius\":{\"field\":\"outer_radius\"},\"start_angle\":{\"expr\":{\"id\":\"19301\"}},\"x\":{\"value\":0},\"y\":{\"value\":0}},\"id\":\"19305\",\"type\":\"AnnularWedge\"},{\"attributes\":{\"line_alpha\":0.1,\"x\":{\"field\":\"x\"},\"y\":{\"field\":\"y\"}},\"id\":\"19296\",\"type\":\"Line\"},{\"attributes\":{},\"id\":\"19227\",\"type\":\"Title\"},{\"attributes\":{\"data\":{\"NIFTY Bank index\":{\"__ndarray__\":\"iWRVs0ZyP0CtUQ/R6Kw+QGr4QFmg7zZAaijI4hG3M0AaAQ8YDLUyQGeXulck9DRAOZAKcjI8NkA=\",\"dtype\":\"float64\",\"order\":\"little\",\"shape\":[7]},\"NIFTY Bank index_angle\":{\"__ndarray__\":\"+sHnZb738j/c5x5VsoDyPwgB3mhDq+s/Q0YsSo7I5z8bHur+SZHmPxtdQKQOR+k/mFLf1c7S6j8=\",\"dtype\":\"float64\",\"order\":\"little\",\"shape\":[7]},\"NIFTY FMCG index\":{\"__ndarray__\":\"czsaKaTKPkCRBUzg1nc+QAooP5I+aDpALo/mZkOfPEA8rbShcVM7QJMK7MdFUj1AqdTdWiPoPkA=\",\"dtype\":\"float64\",\"order\":\"little\",\"shape\":[7]},\"NIFTY FMCG index_angle\":{\"__ndarray__\":\"tub/dBdf7j9HG6Viaw3uPyQCtjQCDOo/f5mkiUo77D9Lq1fB//PqPw/1Cqvb6+w/wiq/ny987j8=\",\"dtype\":\"float64\",\"order\":\"little\",\"shape\":[7]},\"NIFTY IT index\":{\"__ndarray__\":\"ds35Q5EtMEDs+gW7YWkwQC8hH/RstipARIUQfWSAKUADgFoegCMrQIKqZ2CZKy1ALaVG8Rg5MEA=\",\"dtype\":\"float64\",\"order\":\"little\",\"shape\":[7]},\"NIFTY IT index_angle\":{\"__ndarray__\":\"WGl9TcGO7z+ylh1LtwHwP5u4Rl+xDeo/UyjcQk/f6D+Q3h2OE3jqP44iLY9Xc+w//u/6/j6l7z8=\",\"dtype\":\"float64\",\"order\":\"little\",\"shape\":[7]},\"NIFTY Pharma index\":{\"__ndarray__\":\"tS/PwrNeIEAW4/xNKEggQF9w87N+wBxAI27snYLaIUCpGx8/MKYiQEGlHiuOEiRAvadpKTU6JEA=\",\"dtype\":\"float64\",\"order\":\"little\",\"shape\":[7]},\"NIFTY Pharma index_angle\":{\"__ndarray__\":\"n6p6R2WU6j9uFCQ7ym/qP1bFnnmTV+c/qTDT6hX97D8xJqiwy0fuP4HXOf+0S/A/QW/6BeZr8D8=\",\"dtype\":\"float64\",\"order\":\"little\",\"shape\":[7]},\"__x__values\":[\"Jan\",\"Feb\",\"March\",\"April\",\"May\",\"June\",\"July\"],\"__x__values_original\":[\"Jan\",\"Feb\",\"March\",\"April\",\"May\",\"June\",\"July\"],\"color\":[\"#1f77b4\",\"#ff7f0e\",\"#2ca02c\",\"#d62728\",\"#9467bd\",\"#8c564b\",\"#e377c2\"],\"inner_radius\":[0.25,0.25,0.25,0.25,0.25,0.25,0.25],\"outer_radius\":[0.475,0.475,0.475,0.475,0.475,0.475,0.475]},\"selected\":{\"id\":\"19350\"},\"selection_policy\":{\"id\":\"19349\"}},\"id\":\"19303\",\"type\":\"ColumnDataSource\"},{\"attributes\":{\"field\":\"NIFTY FMCG index_angle\"},\"id\":\"19302\",\"type\":\"CumSum\"},{\"attributes\":{\"end\":2,\"start\":-2.3},\"id\":\"19229\",\"type\":\"Range1d\"},{\"attributes\":{\"data\":{\"__x__values\":[-2.2],\"text\":[\"NIFTY FMCG index\"],\"y\":[0.2]},\"selected\":{\"id\":\"19352\"},\"selection_policy\":{\"id\":\"19351\"}},\"id\":\"19309\",\"type\":\"ColumnDataSource\"},{\"attributes\":{\"end\":1.2,\"start\":-1.2},\"id\":\"19231\",\"type\":\"Range1d\"},{\"attributes\":{\"source\":{\"id\":\"19303\"}},\"id\":\"19308\",\"type\":\"CDSView\"},{\"attributes\":{\"axis_label\":null,\"formatter\":{\"id\":\"19334\"},\"major_label_policy\":{\"id\":\"19336\"},\"ticker\":{\"id\":\"19242\"},\"visible\":false},\"id\":\"19241\",\"type\":\"LinearAxis\"},{\"attributes\":{\"end_angle\":{\"expr\":{\"id\":\"19302\"}},\"fill_alpha\":{\"value\":0.1},\"fill_color\":{\"field\":\"color\"},\"inner_radius\":{\"field\":\"inner_radius\"},\"line_alpha\":{\"value\":0.1},\"line_color\":{\"value\":\"white\"},\"line_width\":{\"value\":2},\"outer_radius\":{\"field\":\"outer_radius\"},\"start_angle\":{\"expr\":{\"id\":\"19301\"}},\"x\":{\"value\":0},\"y\":{\"value\":0}},\"id\":\"19306\",\"type\":\"AnnularWedge\"},{\"attributes\":{},\"id\":\"19250\",\"type\":\"HelpTool\"},{\"attributes\":{\"axis_label\":null,\"formatter\":{\"id\":\"19331\"},\"major_label_policy\":{\"id\":\"19333\"},\"ticker\":{\"id\":\"19373\"},\"visible\":false},\"id\":\"19237\",\"type\":\"LinearAxis\"},{\"attributes\":{\"text_color\":{\"value\":\"black\"},\"text_font_style\":{\"value\":\"bold\"},\"x\":{\"field\":\"__x__values\"},\"y\":{\"field\":\"y\"}},\"id\":\"19311\",\"type\":\"Text\"},{\"attributes\":{},\"id\":\"19233\",\"type\":\"LinearScale\"},{\"attributes\":{},\"id\":\"19235\",\"type\":\"LinearScale\"},{\"attributes\":{\"text_alpha\":{\"value\":0.1},\"text_color\":{\"value\":\"black\"},\"text_font_style\":{\"value\":\"bold\"},\"x\":{\"field\":\"__x__values\"},\"y\":{\"field\":\"y\"}},\"id\":\"19312\",\"type\":\"Text\"},{\"attributes\":{\"data_source\":{\"id\":\"19303\"},\"glyph\":{\"id\":\"19305\"},\"hover_glyph\":null,\"muted_glyph\":null,\"nonselection_glyph\":{\"id\":\"19306\"},\"view\":{\"id\":\"19308\"}},\"id\":\"19307\",\"type\":\"GlyphRenderer\"},{\"attributes\":{\"axis\":{\"id\":\"19237\"},\"grid_line_color\":null,\"ticker\":null},\"id\":\"19240\",\"type\":\"Grid\"},{\"attributes\":{\"data_source\":{\"id\":\"19273\"},\"glyph\":{\"id\":\"19274\"},\"hover_glyph\":null,\"muted_glyph\":null,\"nonselection_glyph\":{\"id\":\"19275\"},\"view\":{\"id\":\"19277\"}},\"id\":\"19276\",\"type\":\"GlyphRenderer\"},{\"attributes\":{\"end_angle\":{\"expr\":{\"id\":\"19260\"}},\"fill_alpha\":{\"value\":0.1},\"fill_color\":{\"field\":\"color\"},\"inner_radius\":{\"field\":\"inner_radius\"},\"line_alpha\":{\"value\":0.1},\"line_color\":{\"value\":\"white\"},\"line_width\":{\"value\":2},\"outer_radius\":{\"field\":\"outer_radius\"},\"start_angle\":{\"expr\":{\"id\":\"19259\"}},\"x\":{\"value\":0},\"y\":{\"value\":0}},\"id\":\"19264\",\"type\":\"AnnularWedge\"},{\"attributes\":{\"data_source\":{\"id\":\"19309\"},\"glyph\":{\"id\":\"19311\"},\"hover_glyph\":null,\"muted_glyph\":null,\"nonselection_glyph\":{\"id\":\"19312\"},\"view\":{\"id\":\"19314\"}},\"id\":\"19313\",\"type\":\"GlyphRenderer\"},{\"attributes\":{\"axis\":{\"id\":\"19241\"},\"dimension\":1,\"grid_line_color\":null,\"ticker\":null},\"id\":\"19244\",\"type\":\"Grid\"},{\"attributes\":{\"line_alpha\":0.1,\"x\":{\"field\":\"x\"},\"y\":{\"field\":\"y\"}},\"id\":\"19275\",\"type\":\"Line\"},{\"attributes\":{\"x\":{\"field\":\"x\"},\"y\":{\"field\":\"y\"}},\"id\":\"19316\",\"type\":\"Line\"},{\"attributes\":{},\"id\":\"19242\",\"type\":\"BasicTicker\"},{\"attributes\":{\"source\":{\"id\":\"19261\"}},\"id\":\"19266\",\"type\":\"CDSView\"},{\"attributes\":{\"x\":{\"field\":\"x\"},\"y\":{\"field\":\"y\"}},\"id\":\"19274\",\"type\":\"Line\"},{\"attributes\":{\"source\":{\"id\":\"19309\"}},\"id\":\"19314\",\"type\":\"CDSView\"},{\"attributes\":{\"active_multi\":null,\"tools\":[{\"id\":\"19245\"},{\"id\":\"19246\"},{\"id\":\"19247\"},{\"id\":\"19248\"},{\"id\":\"19249\"},{\"id\":\"19250\"},{\"id\":\"19278\"},{\"id\":\"19299\"},{\"id\":\"19320\"},{\"id\":\"19371\"}]},\"id\":\"19252\",\"type\":\"Toolbar\"},{\"attributes\":{\"source\":{\"id\":\"19315\"}},\"id\":\"19319\",\"type\":\"CDSView\"},{\"attributes\":{\"data\":{\"x\":[-1.3800000000000001,0],\"y\":[0.2,-0.3625]},\"selected\":{\"id\":\"19354\"},\"selection_policy\":{\"id\":\"19353\"}},\"id\":\"19315\",\"type\":\"ColumnDataSource\"},{\"attributes\":{},\"id\":\"19246\",\"type\":\"WheelZoomTool\"},{\"attributes\":{},\"id\":\"19245\",\"type\":\"PanTool\"},{\"attributes\":{\"callback\":null,\"renderers\":[{\"id\":\"19307\"}],\"tooltips\":[[\"x\",\"@__x__values_original\"],[\"NIFTY FMCG index\",\"@{NIFTY FMCG index}\"]]},\"id\":\"19320\",\"type\":\"HoverTool\"},{\"attributes\":{\"data_source\":{\"id\":\"19315\"},\"glyph\":{\"id\":\"19316\"},\"hover_glyph\":null,\"muted_glyph\":null,\"nonselection_glyph\":{\"id\":\"19317\"},\"view\":{\"id\":\"19319\"}},\"id\":\"19318\",\"type\":\"GlyphRenderer\"},{\"attributes\":{\"overlay\":{\"id\":\"19251\"}},\"id\":\"19247\",\"type\":\"BoxZoomTool\"},{\"attributes\":{\"data\":{\"__x__values\":[-2.2],\"text\":[\"NIFTY Bank index\"],\"y\":[0.5]},\"selected\":{\"id\":\"19689\"},\"selection_policy\":{\"id\":\"19688\"}},\"id\":\"19360\",\"type\":\"ColumnDataSource\"},{\"attributes\":{},\"id\":\"19248\",\"type\":\"SaveTool\"},{\"attributes\":{\"end_angle\":{\"expr\":{\"id\":\"19323\"}},\"fill_color\":{\"field\":\"color\"},\"inner_radius\":{\"field\":\"inner_radius\"},\"line_color\":{\"value\":\"white\"},\"line_width\":{\"value\":2},\"outer_radius\":{\"field\":\"outer_radius\"},\"start_angle\":{\"expr\":{\"id\":\"19322\"}},\"x\":{\"value\":0},\"y\":{\"value\":0}},\"id\":\"19326\",\"type\":\"AnnularWedge\"},{\"attributes\":{},\"id\":\"19249\",\"type\":\"ResetTool\"},{\"attributes\":{\"line_alpha\":0.1,\"x\":{\"field\":\"x\"},\"y\":{\"field\":\"y\"}},\"id\":\"19317\",\"type\":\"Line\"},{\"attributes\":{\"data_source\":{\"id\":\"19324\"},\"glyph\":{\"id\":\"19326\"},\"hover_glyph\":null,\"muted_glyph\":null,\"nonselection_glyph\":{\"id\":\"19327\"},\"view\":{\"id\":\"19329\"}},\"id\":\"19328\",\"type\":\"GlyphRenderer\"},{\"attributes\":{\"data\":{\"NIFTY Bank index\":{\"__ndarray__\":\"iWRVs0ZyP0CtUQ/R6Kw+QGr4QFmg7zZAaijI4hG3M0AaAQ8YDLUyQGeXulck9DRAOZAKcjI8NkA=\",\"dtype\":\"float64\",\"order\":\"little\",\"shape\":[7]},\"NIFTY Bank index_angle\":{\"__ndarray__\":\"+sHnZb738j/c5x5VsoDyPwgB3mhDq+s/Q0YsSo7I5z8bHur+SZHmPxtdQKQOR+k/mFLf1c7S6j8=\",\"dtype\":\"float64\",\"order\":\"little\",\"shape\":[7]},\"NIFTY FMCG index\":{\"__ndarray__\":\"czsaKaTKPkCRBUzg1nc+QAooP5I+aDpALo/mZkOfPEA8rbShcVM7QJMK7MdFUj1AqdTdWiPoPkA=\",\"dtype\":\"float64\",\"order\":\"little\",\"shape\":[7]},\"NIFTY FMCG index_angle\":{\"__ndarray__\":\"tub/dBdf7j9HG6Viaw3uPyQCtjQCDOo/f5mkiUo77D9Lq1fB//PqPw/1Cqvb6+w/wiq/ny987j8=\",\"dtype\":\"float64\",\"order\":\"little\",\"shape\":[7]},\"NIFTY IT index\":{\"__ndarray__\":\"ds35Q5EtMEDs+gW7YWkwQC8hH/RstipARIUQfWSAKUADgFoegCMrQIKqZ2CZKy1ALaVG8Rg5MEA=\",\"dtype\":\"float64\",\"order\":\"little\",\"shape\":[7]},\"NIFTY IT index_angle\":{\"__ndarray__\":\"WGl9TcGO7z+ylh1LtwHwP5u4Rl+xDeo/UyjcQk/f6D+Q3h2OE3jqP44iLY9Xc+w//u/6/j6l7z8=\",\"dtype\":\"float64\",\"order\":\"little\",\"shape\":[7]},\"NIFTY Pharma index\":{\"__ndarray__\":\"tS/PwrNeIEAW4/xNKEggQF9w87N+wBxAI27snYLaIUCpGx8/MKYiQEGlHiuOEiRAvadpKTU6JEA=\",\"dtype\":\"float64\",\"order\":\"little\",\"shape\":[7]},\"NIFTY Pharma index_angle\":{\"__ndarray__\":\"n6p6R2WU6j9uFCQ7ym/qP1bFnnmTV+c/qTDT6hX97D8xJqiwy0fuP4HXOf+0S/A/QW/6BeZr8D8=\",\"dtype\":\"float64\",\"order\":\"little\",\"shape\":[7]},\"__x__values\":[\"Jan\",\"Feb\",\"March\",\"April\",\"May\",\"June\",\"July\"],\"__x__values_original\":[\"Jan\",\"Feb\",\"March\",\"April\",\"May\",\"June\",\"July\"],\"color\":[\"#1f77b4\",\"#ff7f0e\",\"#2ca02c\",\"#d62728\",\"#9467bd\",\"#8c564b\",\"#e377c2\"],\"inner_radius\":[0.0,0.0,0.0,0.0,0.0,0.0,0.0],\"outer_radius\":[0.225,0.225,0.225,0.225,0.225,0.225,0.225]},\"selected\":{\"id\":\"19356\"},\"selection_policy\":{\"id\":\"19355\"}},\"id\":\"19324\",\"type\":\"ColumnDataSource\"},{\"attributes\":{\"field\":\"NIFTY IT index_angle\",\"include_zero\":true},\"id\":\"19280\",\"type\":\"CumSum\"},{\"attributes\":{\"field\":\"NIFTY Bank index_angle\",\"include_zero\":true},\"id\":\"19322\",\"type\":\"CumSum\"},{\"attributes\":{\"end_angle\":{\"expr\":{\"id\":\"19260\"}},\"fill_color\":{\"field\":\"color\"},\"inner_radius\":{\"field\":\"inner_radius\"},\"line_color\":{\"value\":\"white\"},\"line_width\":{\"value\":2},\"outer_radius\":{\"field\":\"outer_radius\"},\"start_angle\":{\"expr\":{\"id\":\"19259\"}},\"x\":{\"value\":0},\"y\":{\"value\":0}},\"id\":\"19263\",\"type\":\"AnnularWedge\"},{\"attributes\":{\"field\":\"NIFTY Bank index_angle\"},\"id\":\"19323\",\"type\":\"CumSum\"},{\"attributes\":{\"text_color\":{\"value\":\"black\"},\"text_font_style\":{\"value\":\"bold\"},\"x\":{\"field\":\"__x__values\"},\"y\":{\"field\":\"y\"}},\"id\":\"19269\",\"type\":\"Text\"},{\"attributes\":{\"data_source\":{\"id\":\"19261\"},\"glyph\":{\"id\":\"19263\"},\"hover_glyph\":null,\"muted_glyph\":null,\"nonselection_glyph\":{\"id\":\"19264\"},\"view\":{\"id\":\"19266\"}},\"id\":\"19265\",\"type\":\"GlyphRenderer\"},{\"attributes\":{\"end_angle\":{\"expr\":{\"id\":\"19323\"}},\"fill_alpha\":{\"value\":0.1},\"fill_color\":{\"field\":\"color\"},\"inner_radius\":{\"field\":\"inner_radius\"},\"line_alpha\":{\"value\":0.1},\"line_color\":{\"value\":\"white\"},\"line_width\":{\"value\":2},\"outer_radius\":{\"field\":\"outer_radius\"},\"start_angle\":{\"expr\":{\"id\":\"19322\"}},\"x\":{\"value\":0},\"y\":{\"value\":0}},\"id\":\"19327\",\"type\":\"AnnularWedge\"},{\"attributes\":{\"data\":{\"__x__values\":[-2.2],\"text\":[\"NIFTY Pharma index\"],\"y\":[-0.3999999999999999]},\"selected\":{\"id\":\"19340\"},\"selection_policy\":{\"id\":\"19339\"}},\"id\":\"19267\",\"type\":\"ColumnDataSource\"},{\"attributes\":{},\"id\":\"19331\",\"type\":\"BasicTickFormatter\"},{\"attributes\":{\"source\":{\"id\":\"19324\"}},\"id\":\"19329\",\"type\":\"CDSView\"}],\"root_ids\":[\"19226\"]},\"title\":\"Bokeh Application\",\"version\":\"2.3.2\"}};\n",
       "  var render_items = [{\"docid\":\"4b926b28-ae50-4a54-b99f-eab34bd83c7b\",\"root_ids\":[\"19226\"],\"roots\":{\"19226\":\"915ca787-e766-40ad-9ca1-3daa85223e65\"}}];\n",
       "  root.Bokeh.embed.embed_items_notebook(docs_json, render_items);\n",
       "\n",
       "  }\n",
       "  if (root.Bokeh !== undefined) {\n",
       "    embed_document(root);\n",
       "  } else {\n",
       "    var attempts = 0;\n",
       "    var timer = setInterval(function(root) {\n",
       "      if (root.Bokeh !== undefined) {\n",
       "        clearInterval(timer);\n",
       "        embed_document(root);\n",
       "      } else {\n",
       "        attempts++;\n",
       "        if (attempts > 100) {\n",
       "          clearInterval(timer);\n",
       "          console.log(\"Bokeh: ERROR: Unable to run BokehJS code because BokehJS library is missing\");\n",
       "        }\n",
       "      }\n",
       "    }, 10, root)\n",
       "  }\n",
       "})(window);"
      ],
      "application/vnd.bokehjs_exec.v0+json": ""
     },
     "metadata": {
      "application/vnd.bokehjs_exec.v0+json": {
       "id": "19226"
      }
     },
     "output_type": "display_data"
    },
    {
     "data": {
      "text/html": [
       "<div style=\"display: table;\"><div style=\"display: table-row;\"><div style=\"display: table-cell;\"><b title=\"bokeh.plotting.figure.Figure\">Figure</b>(</div><div style=\"display: table-cell;\">id&nbsp;=&nbsp;'19226', <span id=\"19849\" style=\"cursor: pointer;\">&hellip;)</span></div></div><div class=\"19848\" style=\"display: none;\"><div style=\"display: table-cell;\"></div><div style=\"display: table-cell;\">above&nbsp;=&nbsp;[],</div></div><div class=\"19848\" style=\"display: none;\"><div style=\"display: table-cell;\"></div><div style=\"display: table-cell;\">align&nbsp;=&nbsp;'start',</div></div><div class=\"19848\" style=\"display: none;\"><div style=\"display: table-cell;\"></div><div style=\"display: table-cell;\">aspect_ratio&nbsp;=&nbsp;None,</div></div><div class=\"19848\" style=\"display: none;\"><div style=\"display: table-cell;\"></div><div style=\"display: table-cell;\">aspect_scale&nbsp;=&nbsp;1,</div></div><div class=\"19848\" style=\"display: none;\"><div style=\"display: table-cell;\"></div><div style=\"display: table-cell;\">background&nbsp;=&nbsp;None,</div></div><div class=\"19848\" style=\"display: none;\"><div style=\"display: table-cell;\"></div><div style=\"display: table-cell;\">background_fill_alpha&nbsp;=&nbsp;1.0,</div></div><div class=\"19848\" style=\"display: none;\"><div style=\"display: table-cell;\"></div><div style=\"display: table-cell;\">background_fill_color&nbsp;=&nbsp;'#ffffff',</div></div><div class=\"19848\" style=\"display: none;\"><div style=\"display: table-cell;\"></div><div style=\"display: table-cell;\">below&nbsp;=&nbsp;[LinearAxis(id='19237', ...)],</div></div><div class=\"19848\" style=\"display: none;\"><div style=\"display: table-cell;\"></div><div style=\"display: table-cell;\">border_fill_alpha&nbsp;=&nbsp;1.0,</div></div><div class=\"19848\" style=\"display: none;\"><div style=\"display: table-cell;\"></div><div style=\"display: table-cell;\">border_fill_color&nbsp;=&nbsp;'#ffffff',</div></div><div class=\"19848\" style=\"display: none;\"><div style=\"display: table-cell;\"></div><div style=\"display: table-cell;\">center&nbsp;=&nbsp;[Grid(id='19240', ...), Grid(id='19244', ...), Legend(id='19358', ...)],</div></div><div class=\"19848\" style=\"display: none;\"><div style=\"display: table-cell;\"></div><div style=\"display: table-cell;\">css_classes&nbsp;=&nbsp;[],</div></div><div class=\"19848\" style=\"display: none;\"><div style=\"display: table-cell;\"></div><div style=\"display: table-cell;\">disabled&nbsp;=&nbsp;False,</div></div><div class=\"19848\" style=\"display: none;\"><div style=\"display: table-cell;\"></div><div style=\"display: table-cell;\">extra_x_ranges&nbsp;=&nbsp;{},</div></div><div class=\"19848\" style=\"display: none;\"><div style=\"display: table-cell;\"></div><div style=\"display: table-cell;\">extra_y_ranges&nbsp;=&nbsp;{},</div></div><div class=\"19848\" style=\"display: none;\"><div style=\"display: table-cell;\"></div><div style=\"display: table-cell;\">frame_height&nbsp;=&nbsp;None,</div></div><div class=\"19848\" style=\"display: none;\"><div style=\"display: table-cell;\"></div><div style=\"display: table-cell;\">frame_width&nbsp;=&nbsp;None,</div></div><div class=\"19848\" style=\"display: none;\"><div style=\"display: table-cell;\"></div><div style=\"display: table-cell;\">height&nbsp;=&nbsp;400,</div></div><div class=\"19848\" style=\"display: none;\"><div style=\"display: table-cell;\"></div><div style=\"display: table-cell;\">height_policy&nbsp;=&nbsp;'auto',</div></div><div class=\"19848\" style=\"display: none;\"><div style=\"display: table-cell;\"></div><div style=\"display: table-cell;\">hidpi&nbsp;=&nbsp;True,</div></div><div class=\"19848\" style=\"display: none;\"><div style=\"display: table-cell;\"></div><div style=\"display: table-cell;\">inner_height&nbsp;=&nbsp;0,</div></div><div class=\"19848\" style=\"display: none;\"><div style=\"display: table-cell;\"></div><div style=\"display: table-cell;\">inner_width&nbsp;=&nbsp;0,</div></div><div class=\"19848\" style=\"display: none;\"><div style=\"display: table-cell;\"></div><div style=\"display: table-cell;\">js_event_callbacks&nbsp;=&nbsp;{},</div></div><div class=\"19848\" style=\"display: none;\"><div style=\"display: table-cell;\"></div><div style=\"display: table-cell;\">js_property_callbacks&nbsp;=&nbsp;{},</div></div><div class=\"19848\" style=\"display: none;\"><div style=\"display: table-cell;\"></div><div style=\"display: table-cell;\">left&nbsp;=&nbsp;[LinearAxis(id='19241', ...)],</div></div><div class=\"19848\" style=\"display: none;\"><div style=\"display: table-cell;\"></div><div style=\"display: table-cell;\">lod_factor&nbsp;=&nbsp;10,</div></div><div class=\"19848\" style=\"display: none;\"><div style=\"display: table-cell;\"></div><div style=\"display: table-cell;\">lod_interval&nbsp;=&nbsp;300,</div></div><div class=\"19848\" style=\"display: none;\"><div style=\"display: table-cell;\"></div><div style=\"display: table-cell;\">lod_threshold&nbsp;=&nbsp;2000,</div></div><div class=\"19848\" style=\"display: none;\"><div style=\"display: table-cell;\"></div><div style=\"display: table-cell;\">lod_timeout&nbsp;=&nbsp;500,</div></div><div class=\"19848\" style=\"display: none;\"><div style=\"display: table-cell;\"></div><div style=\"display: table-cell;\">margin&nbsp;=&nbsp;(0, 0, 0, 0),</div></div><div class=\"19848\" style=\"display: none;\"><div style=\"display: table-cell;\"></div><div style=\"display: table-cell;\">match_aspect&nbsp;=&nbsp;False,</div></div><div class=\"19848\" style=\"display: none;\"><div style=\"display: table-cell;\"></div><div style=\"display: table-cell;\">max_height&nbsp;=&nbsp;None,</div></div><div class=\"19848\" style=\"display: none;\"><div style=\"display: table-cell;\"></div><div style=\"display: table-cell;\">max_width&nbsp;=&nbsp;None,</div></div><div class=\"19848\" style=\"display: none;\"><div style=\"display: table-cell;\"></div><div style=\"display: table-cell;\">min_border&nbsp;=&nbsp;5,</div></div><div class=\"19848\" style=\"display: none;\"><div style=\"display: table-cell;\"></div><div style=\"display: table-cell;\">min_border_bottom&nbsp;=&nbsp;None,</div></div><div class=\"19848\" style=\"display: none;\"><div style=\"display: table-cell;\"></div><div style=\"display: table-cell;\">min_border_left&nbsp;=&nbsp;None,</div></div><div class=\"19848\" style=\"display: none;\"><div style=\"display: table-cell;\"></div><div style=\"display: table-cell;\">min_border_right&nbsp;=&nbsp;None,</div></div><div class=\"19848\" style=\"display: none;\"><div style=\"display: table-cell;\"></div><div style=\"display: table-cell;\">min_border_top&nbsp;=&nbsp;None,</div></div><div class=\"19848\" style=\"display: none;\"><div style=\"display: table-cell;\"></div><div style=\"display: table-cell;\">min_height&nbsp;=&nbsp;None,</div></div><div class=\"19848\" style=\"display: none;\"><div style=\"display: table-cell;\"></div><div style=\"display: table-cell;\">min_width&nbsp;=&nbsp;None,</div></div><div class=\"19848\" style=\"display: none;\"><div style=\"display: table-cell;\"></div><div style=\"display: table-cell;\">name&nbsp;=&nbsp;None,</div></div><div class=\"19848\" style=\"display: none;\"><div style=\"display: table-cell;\"></div><div style=\"display: table-cell;\">outer_height&nbsp;=&nbsp;0,</div></div><div class=\"19848\" style=\"display: none;\"><div style=\"display: table-cell;\"></div><div style=\"display: table-cell;\">outer_width&nbsp;=&nbsp;0,</div></div><div class=\"19848\" style=\"display: none;\"><div style=\"display: table-cell;\"></div><div style=\"display: table-cell;\">outline_line_alpha&nbsp;=&nbsp;1.0,</div></div><div class=\"19848\" style=\"display: none;\"><div style=\"display: table-cell;\"></div><div style=\"display: table-cell;\">outline_line_cap&nbsp;=&nbsp;'butt',</div></div><div class=\"19848\" style=\"display: none;\"><div style=\"display: table-cell;\"></div><div style=\"display: table-cell;\">outline_line_color&nbsp;=&nbsp;'#e5e5e5',</div></div><div class=\"19848\" style=\"display: none;\"><div style=\"display: table-cell;\"></div><div style=\"display: table-cell;\">outline_line_dash&nbsp;=&nbsp;[],</div></div><div class=\"19848\" style=\"display: none;\"><div style=\"display: table-cell;\"></div><div style=\"display: table-cell;\">outline_line_dash_offset&nbsp;=&nbsp;0,</div></div><div class=\"19848\" style=\"display: none;\"><div style=\"display: table-cell;\"></div><div style=\"display: table-cell;\">outline_line_join&nbsp;=&nbsp;'bevel',</div></div><div class=\"19848\" style=\"display: none;\"><div style=\"display: table-cell;\"></div><div style=\"display: table-cell;\">outline_line_width&nbsp;=&nbsp;1,</div></div><div class=\"19848\" style=\"display: none;\"><div style=\"display: table-cell;\"></div><div style=\"display: table-cell;\">output_backend&nbsp;=&nbsp;'canvas',</div></div><div class=\"19848\" style=\"display: none;\"><div style=\"display: table-cell;\"></div><div style=\"display: table-cell;\">renderers&nbsp;=&nbsp;[GlyphRenderer(id='19265', ...), GlyphRenderer(id='19271', ...), GlyphRenderer(id='19276', ...), GlyphRenderer(id='19286', ...), GlyphRenderer(id='19292', ...), GlyphRenderer(id='19297', ...), GlyphRenderer(id='19307', ...), GlyphRenderer(id='19313', ...), GlyphRenderer(id='19318', ...), GlyphRenderer(id='19328', ...), GlyphRenderer(id='19364', ...), GlyphRenderer(id='19369', ...)],</div></div><div class=\"19848\" style=\"display: none;\"><div style=\"display: table-cell;\"></div><div style=\"display: table-cell;\">reset_policy&nbsp;=&nbsp;'standard',</div></div><div class=\"19848\" style=\"display: none;\"><div style=\"display: table-cell;\"></div><div style=\"display: table-cell;\">right&nbsp;=&nbsp;[],</div></div><div class=\"19848\" style=\"display: none;\"><div style=\"display: table-cell;\"></div><div style=\"display: table-cell;\">sizing_mode&nbsp;=&nbsp;None,</div></div><div class=\"19848\" style=\"display: none;\"><div style=\"display: table-cell;\"></div><div style=\"display: table-cell;\">subscribed_events&nbsp;=&nbsp;[],</div></div><div class=\"19848\" style=\"display: none;\"><div style=\"display: table-cell;\"></div><div style=\"display: table-cell;\">syncable&nbsp;=&nbsp;True,</div></div><div class=\"19848\" style=\"display: none;\"><div style=\"display: table-cell;\"></div><div style=\"display: table-cell;\">tags&nbsp;=&nbsp;[],</div></div><div class=\"19848\" style=\"display: none;\"><div style=\"display: table-cell;\"></div><div style=\"display: table-cell;\">title&nbsp;=&nbsp;Title(id='19227', ...),</div></div><div class=\"19848\" style=\"display: none;\"><div style=\"display: table-cell;\"></div><div style=\"display: table-cell;\">title_location&nbsp;=&nbsp;'above',</div></div><div class=\"19848\" style=\"display: none;\"><div style=\"display: table-cell;\"></div><div style=\"display: table-cell;\">toolbar&nbsp;=&nbsp;Toolbar(id='19252', ...),</div></div><div class=\"19848\" style=\"display: none;\"><div style=\"display: table-cell;\"></div><div style=\"display: table-cell;\">toolbar_location&nbsp;=&nbsp;None,</div></div><div class=\"19848\" style=\"display: none;\"><div style=\"display: table-cell;\"></div><div style=\"display: table-cell;\">toolbar_sticky&nbsp;=&nbsp;True,</div></div><div class=\"19848\" style=\"display: none;\"><div style=\"display: table-cell;\"></div><div style=\"display: table-cell;\">visible&nbsp;=&nbsp;True,</div></div><div class=\"19848\" style=\"display: none;\"><div style=\"display: table-cell;\"></div><div style=\"display: table-cell;\">width&nbsp;=&nbsp;600,</div></div><div class=\"19848\" style=\"display: none;\"><div style=\"display: table-cell;\"></div><div style=\"display: table-cell;\">width_policy&nbsp;=&nbsp;'auto',</div></div><div class=\"19848\" style=\"display: none;\"><div style=\"display: table-cell;\"></div><div style=\"display: table-cell;\">x_range&nbsp;=&nbsp;Range1d(id='19229', ...),</div></div><div class=\"19848\" style=\"display: none;\"><div style=\"display: table-cell;\"></div><div style=\"display: table-cell;\">x_scale&nbsp;=&nbsp;LinearScale(id='19233', ...),</div></div><div class=\"19848\" style=\"display: none;\"><div style=\"display: table-cell;\"></div><div style=\"display: table-cell;\">y_range&nbsp;=&nbsp;Range1d(id='19231', ...),</div></div><div class=\"19848\" style=\"display: none;\"><div style=\"display: table-cell;\"></div><div style=\"display: table-cell;\">y_scale&nbsp;=&nbsp;LinearScale(id='19235', ...))</div></div></div>\n",
       "<script>\n",
       "(function() {\n",
       "  var expanded = false;\n",
       "  var ellipsis = document.getElementById(\"19849\");\n",
       "  ellipsis.addEventListener(\"click\", function() {\n",
       "    var rows = document.getElementsByClassName(\"19848\");\n",
       "    for (var i = 0; i < rows.length; i++) {\n",
       "      var el = rows[i];\n",
       "      el.style.display = expanded ? \"none\" : \"table-row\";\n",
       "    }\n",
       "    ellipsis.innerHTML = expanded ? \"&hellip;)\" : \"&lsaquo;&lsaquo;&lsaquo;\";\n",
       "    expanded = !expanded;\n",
       "  });\n",
       "})();\n",
       "</script>\n"
      ],
      "text/plain": [
       "Figure(id='19226', ...)"
      ]
     },
     "execution_count": 154,
     "metadata": {},
     "output_type": "execute_result"
    }
   ],
   "source": [
    "df_res.plot_bokeh(kind='pie')"
   ]
  }
 ],
 "metadata": {
  "kernelspec": {
   "display_name": "Python 3",
   "language": "python",
   "name": "python3"
  },
  "language_info": {
   "codemirror_mode": {
    "name": "ipython",
    "version": 3
   },
   "file_extension": ".py",
   "mimetype": "text/x-python",
   "name": "python",
   "nbconvert_exporter": "python",
   "pygments_lexer": "ipython3",
   "version": "3.8.5"
  }
 },
 "nbformat": 4,
 "nbformat_minor": 4
}
