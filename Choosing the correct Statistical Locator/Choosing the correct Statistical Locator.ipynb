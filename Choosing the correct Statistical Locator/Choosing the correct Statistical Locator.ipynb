{
 "cells": [
  {
   "cell_type": "code",
   "execution_count": 33,
   "metadata": {},
   "outputs": [],
   "source": [
    "import pandas as pd\n",
    "from matplotlib import pyplot as plt\n",
    "import seaborn as sns\n",
    "import numpy as np\n",
    "from scipy import stats\n",
    "from scipy.stats import chi2_contingency"
   ]
  },
  {
   "cell_type": "markdown",
   "metadata": {},
   "source": [
    "Within this document I will attempt to illustrate the differences in analysing quantitative and categorical data and the different summary statistics that could be used.\\\n",
    "Below, I have imported a dataset about car information from a car dealership website. It contains both quantitative data such as 'year', 'selling_price' and 'km_driven'. It also contains categorical data such as 'name', 'fuel', 'seller_type', 'transmission' and 'owner'. Due to the types of the data, we may use different methods to obtain accurate and useful information from the dataframe. "
   ]
  },
  {
   "cell_type": "code",
   "execution_count": 15,
   "metadata": {
    "scrolled": true
   },
   "outputs": [
    {
     "data": {
      "text/html": [
       "<div>\n",
       "<style scoped>\n",
       "    .dataframe tbody tr th:only-of-type {\n",
       "        vertical-align: middle;\n",
       "    }\n",
       "\n",
       "    .dataframe tbody tr th {\n",
       "        vertical-align: top;\n",
       "    }\n",
       "\n",
       "    .dataframe thead th {\n",
       "        text-align: right;\n",
       "    }\n",
       "</style>\n",
       "<table border=\"1\" class=\"dataframe\">\n",
       "  <thead>\n",
       "    <tr style=\"text-align: right;\">\n",
       "      <th></th>\n",
       "      <th>name</th>\n",
       "      <th>year</th>\n",
       "      <th>selling_price</th>\n",
       "      <th>km_driven</th>\n",
       "      <th>fuel</th>\n",
       "      <th>seller_type</th>\n",
       "      <th>transmission</th>\n",
       "      <th>owner</th>\n",
       "    </tr>\n",
       "  </thead>\n",
       "  <tbody>\n",
       "    <tr>\n",
       "      <th>0</th>\n",
       "      <td>Maruti 800 AC</td>\n",
       "      <td>2007</td>\n",
       "      <td>60000</td>\n",
       "      <td>70000</td>\n",
       "      <td>Petrol</td>\n",
       "      <td>Individual</td>\n",
       "      <td>Manual</td>\n",
       "      <td>First Owner</td>\n",
       "    </tr>\n",
       "    <tr>\n",
       "      <th>1</th>\n",
       "      <td>Maruti Wagon R LXI Minor</td>\n",
       "      <td>2007</td>\n",
       "      <td>135000</td>\n",
       "      <td>50000</td>\n",
       "      <td>Petrol</td>\n",
       "      <td>Individual</td>\n",
       "      <td>Manual</td>\n",
       "      <td>First Owner</td>\n",
       "    </tr>\n",
       "    <tr>\n",
       "      <th>2</th>\n",
       "      <td>Hyundai Verna 1.6 SX</td>\n",
       "      <td>2012</td>\n",
       "      <td>600000</td>\n",
       "      <td>100000</td>\n",
       "      <td>Diesel</td>\n",
       "      <td>Individual</td>\n",
       "      <td>Manual</td>\n",
       "      <td>First Owner</td>\n",
       "    </tr>\n",
       "    <tr>\n",
       "      <th>3</th>\n",
       "      <td>Datsun RediGO T Option</td>\n",
       "      <td>2017</td>\n",
       "      <td>250000</td>\n",
       "      <td>46000</td>\n",
       "      <td>Petrol</td>\n",
       "      <td>Individual</td>\n",
       "      <td>Manual</td>\n",
       "      <td>First Owner</td>\n",
       "    </tr>\n",
       "    <tr>\n",
       "      <th>4</th>\n",
       "      <td>Honda Amaze VX i-DTEC</td>\n",
       "      <td>2014</td>\n",
       "      <td>450000</td>\n",
       "      <td>141000</td>\n",
       "      <td>Diesel</td>\n",
       "      <td>Individual</td>\n",
       "      <td>Manual</td>\n",
       "      <td>Second Owner</td>\n",
       "    </tr>\n",
       "  </tbody>\n",
       "</table>\n",
       "</div>"
      ],
      "text/plain": [
       "                       name  year  selling_price  km_driven    fuel  \\\n",
       "0             Maruti 800 AC  2007          60000      70000  Petrol   \n",
       "1  Maruti Wagon R LXI Minor  2007         135000      50000  Petrol   \n",
       "2      Hyundai Verna 1.6 SX  2012         600000     100000  Diesel   \n",
       "3    Datsun RediGO T Option  2017         250000      46000  Petrol   \n",
       "4     Honda Amaze VX i-DTEC  2014         450000     141000  Diesel   \n",
       "\n",
       "  seller_type transmission         owner  \n",
       "0  Individual       Manual   First Owner  \n",
       "1  Individual       Manual   First Owner  \n",
       "2  Individual       Manual   First Owner  \n",
       "3  Individual       Manual   First Owner  \n",
       "4  Individual       Manual  Second Owner  "
      ]
     },
     "execution_count": 15,
     "metadata": {},
     "output_type": "execute_result"
    }
   ],
   "source": [
    "df = pd.read_csv('CAR DETAILS FROM CAR DEKHO.csv')\n",
    "df.head()"
   ]
  },
  {
   "cell_type": "markdown",
   "metadata": {},
   "source": [
    "If we are only focusing on one variable, then we are analysing a 'univariate statistic'. For example, if we were trying to find the average price of a vehicle.\\\n",
    "In this instance, the price is a quantitative variable. When dealing with quantitative variables we are usually interested in the Central Location and the Spread. We can still use multiple different methods to find the most accurate 'central location' depending on the shape of the data."
   ]
  },
  {
   "cell_type": "code",
   "execution_count": 4,
   "metadata": {},
   "outputs": [
    {
     "data": {
      "image/png": "[encoded data removed]",
      "text/plain": [
       "<Figure size 432x288 with 1 Axes>"
      ]
     },
     "metadata": {
      "needs_background": "light"
     },
     "output_type": "display_data"
    }
   ],
   "source": [
    "plt.hist(df.selling_price, bins=40)\n",
    "plt.title('Selling Price')\n",
    "plt.ylabel('Count')\n",
    "plt.xlabel('Price (RS)')\n",
    "plt.ticklabel_format(style='plain') #This disables the scientific notation on the y-axis, it used to be 1e6\n",
    "plt.show()"
   ]
  },
  {
   "cell_type": "markdown",
   "metadata": {},
   "source": [
    "Above, we can see that the data is very skewed right, this means that there may be some outliers which could skew our central location statistics. Here are the most commonly used central locators, note the differences between them and whether outliers could have caused them. "
   ]
  },
  {
   "cell_type": "code",
   "execution_count": 5,
   "metadata": {},
   "outputs": [
    {
     "name": "stdout",
     "output_type": "stream",
     "text": [
      "Mean = 504127.0\n",
      "Median = 350000.0\n",
      "Mode = 300000\n",
      "Trimmed mean = 401905.0\n"
     ]
    }
   ],
   "source": [
    "print(f'Mean = {(np.round(df.selling_price.mean()))}')\n",
    "print(f'Median = {df.selling_price.median()}')\n",
    "mode = df.selling_price.mode()\n",
    "print(f'Mode = {mode[0]}')\n",
    "print(f'Trimmed mean = {np.round(stats.trim_mean(df.selling_price, 0.1))}')"
   ]
  },
  {
   "cell_type": "markdown",
   "metadata": {},
   "source": [
    "Above we can see that the mean is far higher than the median and mode, this could give an inaccurate central location of the data and be less robust due to the outliers. With data that is not normally distributed like this, the mean may not be the best indicator of where the data is primarily gathered, the median may be more accurate. You could also use a trimmed mean to get rid of the top and bottom 10% of data to try and remove the effect of outlier data. "
   ]
  },
  {
   "cell_type": "markdown",
   "metadata": {},
   "source": [
    "The Spread is another feature of univariate statistics that demonstrates how spread out the data is from the central value. If the data is clustered together, you can be more confident that any particular car will be closer to RS350,000 (the median value). The spread contains statistics such as range, interquartile range (IQR), variance, standard deviation and mean absolute deviation. "
   ]
  },
  {
   "cell_type": "code",
   "execution_count": 6,
   "metadata": {},
   "outputs": [
    {
     "name": "stdout",
     "output_type": "stream",
     "text": [
      "range = 8880000\n",
      "IQR = 391250.25\n",
      "Variance = 334718640088.0\n",
      "Standard Deviation = 578549.0\n",
      "Mean Absolute Deviation = 324405.0\n"
     ]
    }
   ],
   "source": [
    "print(f'range = {df.selling_price.max() - df.selling_price.min()}')\n",
    "print(f'IQR = {np.percentile(df.selling_price,75) - np.percentile(df.selling_price,25)}')\n",
    "print(f'Variance = {np.round(df.selling_price.var())}')\n",
    "print(f'Standard Deviation = {np.round(df.selling_price.std())}')\n",
    "print(f'Mean Absolute Deviation = {np.round(df.selling_price.mad())}')"
   ]
  },
  {
   "cell_type": "markdown",
   "metadata": {},
   "source": [
    "As the variance is the result of squared absolute values, it is on a different scale to the actual data and so is not very useful on its own, the standard deviation is the square root of the variance and so is used instead. With skewed data like this, it is better to use spread values like IQR and MAD as they are more robust and less susceptible to outliers. With normally distributed data the standard deviation and variance are more frequently reported. "
   ]
  },
  {
   "cell_type": "markdown",
   "metadata": {},
   "source": [
    "Categorical variables are variables that have names, such as 'Diesel' in fuel type or 'Individual' in seller type. These variables can be either nominal (no order) or ordinal (ordered). The gaps between categorical types may not always be even, therefore we should not use the mean or any locator that relies on the mean such as standard deviation or variance. Instead, the commonly used locator is that of frequency or proportion, using value_counts(). This can then be displayed in a bar chart. "
   ]
  },
  {
   "cell_type": "code",
   "execution_count": 7,
   "metadata": {
    "scrolled": true
   },
   "outputs": [
    {
     "name": "stdout",
     "output_type": "stream",
     "text": [
      "Diesel      2153\n",
      "Petrol      2123\n",
      "CNG           40\n",
      "LPG           23\n",
      "Electric       1\n",
      "Name: fuel, dtype: int64\n"
     ]
    }
   ],
   "source": [
    "print(df.fuel.value_counts())"
   ]
  },
  {
   "cell_type": "code",
   "execution_count": 8,
   "metadata": {},
   "outputs": [
    {
     "name": "stdout",
     "output_type": "stream",
     "text": [
      "Diesel      0.496083\n",
      "Petrol      0.489171\n",
      "CNG         0.009217\n",
      "LPG         0.005300\n",
      "Electric    0.000230\n",
      "Name: fuel, dtype: float64\n"
     ]
    }
   ],
   "source": [
    "print(df.fuel.value_counts(normalize=True))"
   ]
  },
  {
   "cell_type": "markdown",
   "metadata": {},
   "source": [
    "Above we can see that diesel is the most common fuel type, with petrol close behind. The others are very far behind and could probably be amalgamated into a separate category of 'Other'."
   ]
  },
  {
   "cell_type": "code",
   "execution_count": 9,
   "metadata": {},
   "outputs": [
    {
     "name": "stdout",
     "output_type": "stream",
     "text": [
      "2153\n"
     ]
    }
   ],
   "source": [
    "print(len(df.fuel[df.fuel == 'Diesel']))"
   ]
  },
  {
   "cell_type": "code",
   "execution_count": 10,
   "metadata": {},
   "outputs": [],
   "source": [
    "df.fuel = df.fuel.apply(lambda x: 'Other' if len(df.fuel[df.fuel == x]) < 100 else x)\n",
    "fuel = df.fuel.value_counts().reset_index()"
   ]
  },
  {
   "cell_type": "code",
   "execution_count": 11,
   "metadata": {},
   "outputs": [
    {
     "data": {
      "text/html": [
       "<div>\n",
       "<style scoped>\n",
       "    .dataframe tbody tr th:only-of-type {\n",
       "        vertical-align: middle;\n",
       "    }\n",
       "\n",
       "    .dataframe tbody tr th {\n",
       "        vertical-align: top;\n",
       "    }\n",
       "\n",
       "    .dataframe thead th {\n",
       "        text-align: right;\n",
       "    }\n",
       "</style>\n",
       "<table border=\"1\" class=\"dataframe\">\n",
       "  <thead>\n",
       "    <tr style=\"text-align: right;\">\n",
       "      <th></th>\n",
       "      <th>index</th>\n",
       "      <th>fuel</th>\n",
       "    </tr>\n",
       "  </thead>\n",
       "  <tbody>\n",
       "    <tr>\n",
       "      <th>0</th>\n",
       "      <td>Diesel</td>\n",
       "      <td>2153</td>\n",
       "    </tr>\n",
       "    <tr>\n",
       "      <th>1</th>\n",
       "      <td>Petrol</td>\n",
       "      <td>2123</td>\n",
       "    </tr>\n",
       "    <tr>\n",
       "      <th>2</th>\n",
       "      <td>Other</td>\n",
       "      <td>64</td>\n",
       "    </tr>\n",
       "  </tbody>\n",
       "</table>\n",
       "</div>"
      ],
      "text/plain": [
       "    index  fuel\n",
       "0  Diesel  2153\n",
       "1  Petrol  2123\n",
       "2   Other    64"
      ]
     },
     "execution_count": 11,
     "metadata": {},
     "output_type": "execute_result"
    }
   ],
   "source": [
    "fuel"
   ]
  },
  {
   "cell_type": "code",
   "execution_count": 12,
   "metadata": {},
   "outputs": [
    {
     "data": {
      "image/png": "[encoded data removed]",
      "text/plain": [
       "<Figure size 432x288 with 1 Axes>"
      ]
     },
     "metadata": {
      "needs_background": "light"
     },
     "output_type": "display_data"
    }
   ],
   "source": [
    "sns.barplot(data=fuel, x='index', y='fuel')\n",
    "plt.xlabel('Fuel')\n",
    "plt.ylabel('Count')\n",
    "plt.show()"
   ]
  },
  {
   "cell_type": "markdown",
   "metadata": {},
   "source": [
    "Bivariate statistics are used to evaluate the relationship between 2 variables, for example: Do newer cars cost more money? Do manual transmission cars cost less than automatic? Do individual dealers sell more automatic cars? As you can see, these can be a mix of quantitative or categorical variables that we are comparing to each other. Depending on the types of summary statistics that we are comparing, we should use different methods. "
   ]
  },
  {
   "cell_type": "markdown",
   "metadata": {},
   "source": [
    "If we are deciding to investigate whether manual cars cost less than automatic cars, we can compare the medians or central locators of the two."
   ]
  },
  {
   "cell_type": "code",
   "execution_count": 26,
   "metadata": {},
   "outputs": [
    {
     "name": "stdout",
     "output_type": "stream",
     "text": [
      "Manual Median = 325000.0\n",
      "Automatic Median = 950000.0\n"
     ]
    }
   ],
   "source": [
    "manuals_median = df.selling_price[df.transmission == 'Manual'].median()\n",
    "auto_median = df.selling_price[df.transmission == 'Automatic'].median()\n",
    "print(f'Manual Median = {manuals_median}')\n",
    "print(f'Automatic Median = {auto_median}')"
   ]
  },
  {
   "cell_type": "markdown",
   "metadata": {},
   "source": [
    "Here we can see that there is a difference of 625,000 between the median price of a manual car and the median price of an automatic car. "
   ]
  },
  {
   "cell_type": "markdown",
   "metadata": {},
   "source": [
    "Investigating two quantitative variables like do older cars cost less money? (year and price), we can use Pearson's correlation to see if there is a positive or negative association between the variables. "
   ]
  },
  {
   "cell_type": "code",
   "execution_count": 28,
   "metadata": {
    "scrolled": true
   },
   "outputs": [
    {
     "data": {
      "text/html": [
       "<div>\n",
       "<style scoped>\n",
       "    .dataframe tbody tr th:only-of-type {\n",
       "        vertical-align: middle;\n",
       "    }\n",
       "\n",
       "    .dataframe tbody tr th {\n",
       "        vertical-align: top;\n",
       "    }\n",
       "\n",
       "    .dataframe thead th {\n",
       "        text-align: right;\n",
       "    }\n",
       "</style>\n",
       "<table border=\"1\" class=\"dataframe\">\n",
       "  <thead>\n",
       "    <tr style=\"text-align: right;\">\n",
       "      <th></th>\n",
       "      <th>selling_price</th>\n",
       "      <th>year</th>\n",
       "    </tr>\n",
       "  </thead>\n",
       "  <tbody>\n",
       "    <tr>\n",
       "      <th>selling_price</th>\n",
       "      <td>1.000000</td>\n",
       "      <td>0.413922</td>\n",
       "    </tr>\n",
       "    <tr>\n",
       "      <th>year</th>\n",
       "      <td>0.413922</td>\n",
       "      <td>1.000000</td>\n",
       "    </tr>\n",
       "  </tbody>\n",
       "</table>\n",
       "</div>"
      ],
      "text/plain": [
       "               selling_price      year\n",
       "selling_price       1.000000  0.413922\n",
       "year                0.413922  1.000000"
      ]
     },
     "execution_count": 28,
     "metadata": {},
     "output_type": "execute_result"
    }
   ],
   "source": [
    "year_price = df[['selling_price', 'year']].corr(method='pearson')\n",
    "year_price"
   ]
  },
  {
   "cell_type": "markdown",
   "metadata": {},
   "source": [
    "Here we can see that the correlation is 0.41 which is positive as Pearson's correlation goes from -1 to 1. This shows that as year increases, so does selling price. Therefore newer cars usually cost more than older cars and older cars usually cost less than newer cars."
   ]
  },
  {
   "cell_type": "markdown",
   "metadata": {},
   "source": [
    "If we're comparing two categorical vehicles such as transmission type and seller, we can use a contingency table and chi2 test."
   ]
  },
  {
   "cell_type": "code",
   "execution_count": 31,
   "metadata": {},
   "outputs": [
    {
     "data": {
      "text/html": [
       "<div>\n",
       "<style scoped>\n",
       "    .dataframe tbody tr th:only-of-type {\n",
       "        vertical-align: middle;\n",
       "    }\n",
       "\n",
       "    .dataframe tbody tr th {\n",
       "        vertical-align: top;\n",
       "    }\n",
       "\n",
       "    .dataframe thead th {\n",
       "        text-align: right;\n",
       "    }\n",
       "</style>\n",
       "<table border=\"1\" class=\"dataframe\">\n",
       "  <thead>\n",
       "    <tr style=\"text-align: right;\">\n",
       "      <th>transmission</th>\n",
       "      <th>Automatic</th>\n",
       "      <th>Manual</th>\n",
       "    </tr>\n",
       "    <tr>\n",
       "      <th>seller_type</th>\n",
       "      <th></th>\n",
       "      <th></th>\n",
       "    </tr>\n",
       "  </thead>\n",
       "  <tbody>\n",
       "    <tr>\n",
       "      <th>Dealer</th>\n",
       "      <td>217</td>\n",
       "      <td>777</td>\n",
       "    </tr>\n",
       "    <tr>\n",
       "      <th>Individual</th>\n",
       "      <td>212</td>\n",
       "      <td>3032</td>\n",
       "    </tr>\n",
       "    <tr>\n",
       "      <th>Trustmark Dealer</th>\n",
       "      <td>19</td>\n",
       "      <td>83</td>\n",
       "    </tr>\n",
       "  </tbody>\n",
       "</table>\n",
       "</div>"
      ],
      "text/plain": [
       "transmission      Automatic  Manual\n",
       "seller_type                        \n",
       "Dealer                  217     777\n",
       "Individual              212    3032\n",
       "Trustmark Dealer         19      83"
      ]
     },
     "execution_count": 31,
     "metadata": {},
     "output_type": "execute_result"
    }
   ],
   "source": [
    "cross = pd.crosstab(df.seller_type, df.transmission)\n",
    "cross"
   ]
  },
  {
   "cell_type": "code",
   "execution_count": 34,
   "metadata": {},
   "outputs": [
    {
     "name": "stdout",
     "output_type": "stream",
     "text": [
      "(200.08368329113958, 3.567633340656093e-44, 2, array([[ 102.60645161,  891.39354839],\n",
      "       [ 334.86451613, 2909.13548387],\n",
      "       [  10.52903226,   91.47096774]]))\n"
     ]
    }
   ],
   "source": [
    "print(chi2_contingency(cross))"
   ]
  },
  {
   "cell_type": "markdown",
   "metadata": {},
   "source": [
    "Here we can see the chi2 statistic, the p-value, the degrees of freedom and the expected values, in an array. The p-value is a very small number, far below 0.05. This shows that the results are statistically significant and there is a difference between types of vehicles sold by the type of seller that is not due to random chance. "
   ]
  },
  {
   "cell_type": "markdown",
   "metadata": {},
   "source": [
    "Overall, we can see how important it is to know what type of test or statistic you should be looking for before you start analysing the data. It can strongly affect how useful or accurate your results are. The main lesson to take from this is the difference between quantitative and categorical variables and how we should interact with them, as well as looking at the shape of the data to influence what type of test we use. "
   ]
  }
 ],
 "metadata": {
  "kernelspec": {
   "display_name": "Python 3",
   "language": "python",
   "name": "python3"
  },
  "language_info": {
   "codemirror_mode": {
    "name": "ipython",
    "version": 3
   },
   "file_extension": ".py",
   "mimetype": "text/x-python",
   "name": "python",
   "nbconvert_exporter": "python",
   "pygments_lexer": "ipython3",
   "version": "3.8.5"
  }
 },
 "nbformat": 4,
 "nbformat_minor": 4
}
