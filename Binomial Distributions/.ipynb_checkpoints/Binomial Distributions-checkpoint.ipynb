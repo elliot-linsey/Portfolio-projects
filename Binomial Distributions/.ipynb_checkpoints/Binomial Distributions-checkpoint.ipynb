{
 "cells": [
  {
   "cell_type": "code",
   "execution_count": 2,
   "metadata": {},
   "outputs": [],
   "source": [
    "from scipy.stats import binom\n",
    "from scipy.stats import binom_test\n",
    "from scipy.stats import probplot\n",
    "from scipy import stats\n",
    "import matplotlib.pyplot as plt\n",
    "import numpy as np\n",
    "import seaborn as sns"
   ]
  },
  {
   "cell_type": "markdown",
   "metadata": {},
   "source": [
    "Binomial Distributions are very important within analytics as they are usually the culmination of previous experiments, resulting in questions like click/don't click, buy/don't buy, subscribe/don't subscribe etc. A central part of understanding binomial distributions is the existence of a set of trials, each with a definite probability of occurring, such as a coin flip being 50/50.\\\n",
    "Not all binomial trials need to have equal chances of occurring, so long as they add up to 1.0, for example 70/30 or 40/60.\\\n",
    "It is common to assign the 'success' outcome the number 1, with the other being assigned to 0. This is also true with the rarest outcome being assigned to 1, for example, fraudulent transactions are more rare than normal transactions so they would be assigned to 1 rather than 0. "
   ]
  },
  {
   "cell_type": "markdown",
   "metadata": {},
   "source": [
    "The binomial distribution is the frequency distribution of the number of successes (x) in a given number of trials (n) with specified probability (p). To simplify this, an example would be how likely is it that you achieve 0 sales (successes or 'x') within 200 clicks (trials or 'n') when the probability of a click becoming a sale is 0.02 (probability or 'p')?\\\n",
    "In this example, x=0, n=200 and p=0.02\\\n",
    "To answer this we plug these numbers into scipy.stats.binom"
   ]
  },
  {
   "cell_type": "markdown",
   "metadata": {},
   "source": [
    "binom.pmf() stands for probability mass function, this will give us the exact probability of a specific number of events occurring, it will tell us the probability of exactly x=0 or x=2."
   ]
  },
  {
   "cell_type": "code",
   "execution_count": 32,
   "metadata": {},
   "outputs": [
    {
     "name": "stdout",
     "output_type": "stream",
     "text": [
      "Probability Mass Function of 0 occurrences: 0.017587946605721567\n",
      "Probability Mass Function of 4 occurrences: 0.19734860696728865\n"
     ]
    }
   ],
   "source": [
    "print('Probability Mass Function of 0 occurrences: ' + str(binom.pmf(0,n=200,p=0.02)))\n",
    "print('Probability Mass Function of 4 occurrences: ' + str(binom.pmf(4,n=200,p=0.02)))"
   ]
  },
  {
   "cell_type": "markdown",
   "metadata": {},
   "source": [
    "binom.cdf() stands for cumulative distribution function and this will tell us the probability of x or fewer events occurring, so the chances that 2 events or fewer will occur in 'n' trials.\\ \n",
    "There is a 63% chance that the event will occur from 0 - 4 times. We can see the difference in results from using .pmf() and .cdf()\\\n",
    "Also, from experimenting with .pmf() we can see that using x=4 results in the highest probability result, using x<=3 or x>=5 results in the probability decreasing, this is because if we do (200 * 0.02) it equals 4.0. Therefore it would make sense that the chance of 4 successes occurring would be the highest.\\\n",
    "As you increase the 'x' variable for cdf, the probability increases, if the p value is quite low then there is less chance for 2 or less (x) successes to occur, however if you use a high x value such as 20, then it is quite likely that you will achieve less than 20 successes (0.99)."
   ]
  },
  {
   "cell_type": "code",
   "execution_count": 33,
   "metadata": {
    "scrolled": true
   },
   "outputs": [
    {
     "name": "stdout",
     "output_type": "stream",
     "text": [
      "Cumulative Distribution Function of 4 occurrences: 0.6288435801288308\n",
      "Cumulative Distribution Function of 20 occurrences: 0.9999999990667603\n"
     ]
    }
   ],
   "source": [
    "print('Cumulative Distribution Function of 4 occurrences: ' + str(binom.cdf(4,n=200,p=0.02)))\n",
    "print('Cumulative Distribution Function of 20 occurrences: ' + str(binom.cdf(20,n=200,p=0.02)))"
   ]
  },
  {
   "cell_type": "markdown",
   "metadata": {},
   "source": [
    "The mean of a binomial distribution is (n * p), this gives the most common number of successes to occur, demonstrated previously with 200 * 0.02 = 4, which had the highest probability of occurring.\\\n",
    "The variance n * p(1-p)  = (200 * 0.02) * (1-0.02) = 3.92\n",
    "To get the standard deviation you just square root the variance 3.92 ** 0.5 = 1.98"
   ]
  },
  {
   "cell_type": "code",
   "execution_count": 35,
   "metadata": {},
   "outputs": [
    {
     "name": "stdout",
     "output_type": "stream",
     "text": [
      "Mean: 4.0\n",
      "Variance: 3.92\n",
      "Standard Deviation: 1.9798989873223332\n"
     ]
    }
   ],
   "source": [
    "mean = 200 * 0.02\n",
    "var = (200*0.02)*(1-0.02)\n",
    "std = var**0.5\n",
    "print('Mean: ' + str(mean))\n",
    "print('Variance: '+ str(var))\n",
    "print('Standard Deviation: ' + str(std))"
   ]
  },
  {
   "cell_type": "markdown",
   "metadata": {},
   "source": [
    "If n is large or p is close to 0.50 then a binomial distribution can be quite indistinguishable from a normal distribution, demonstrated below using the same mean, standard deviation and sample size as above."
   ]
  },
  {
   "cell_type": "code",
   "execution_count": 7,
   "metadata": {},
   "outputs": [],
   "source": [
    "norm = np.random.normal(loc=4, scale=1.98, size=200)"
   ]
  },
  {
   "cell_type": "code",
   "execution_count": 8,
   "metadata": {
    "scrolled": false
   },
   "outputs": [
    {
     "data": {
      "image/png": "[encoded data removed]",
      "text/plain": [
       "<Figure size 432x288 with 1 Axes>"
      ]
     },
     "metadata": {
      "needs_background": "light"
     },
     "output_type": "display_data"
    }
   ],
   "source": [
    "sns.kdeplot(norm)\n",
    "plt.show()"
   ]
  },
  {
   "cell_type": "code",
   "execution_count": 37,
   "metadata": {
    "scrolled": false
   },
   "outputs": [],
   "source": [
    "# fig, ax = plt.subplots(figsize=(4,4))\n",
    "# norm_sample = norm\n",
    "# probplot(norm_sample, plot=ax)\n",
    "# ax.set_xlabel('Quantile of normal distribution')\n",
    "# ax.set_ylabel('Z-score')\n",
    "# plt.show()"
   ]
  },
  {
   "cell_type": "markdown",
   "metadata": {},
   "source": [
    "A more in-depth example would be visitors to a website, let's say that the probability of a visitor purchasing something when they visit a website is 0.1, or 10%. In a sample of 500 visitors you would expect there to be 50 purchases, but what if you only got 41? Is this different enough from the expected value to be statistically significant or just due to random chance?"
   ]
  },
  {
   "cell_type": "markdown",
   "metadata": {},
   "source": [
    "We can investigate this using np.random.choice(). Here we have provided it with 2 choices, either 'y' or 'n', with 'y' representing a purchase. The size=1 means it only makes the choice once, and the p=[0.1,0.9] represents the probabilities of being chosen, they should add up to 1. "
   ]
  },
  {
   "cell_type": "code",
   "execution_count": 10,
   "metadata": {},
   "outputs": [
    {
     "name": "stdout",
     "output_type": "stream",
     "text": [
      "['n']\n"
     ]
    }
   ],
   "source": [
    "one_visitor = np.random.choice(['y', 'n'], size=1, p=[0.1, 0.9])\n",
    "print(one_visitor)"
   ]
  },
  {
   "cell_type": "markdown",
   "metadata": {},
   "source": [
    "Setting the size to 10 means making 10 choices, with the probability of 0.1 for 'y' you would expect to see 'y' once per running, however it can vary with sometimes there being zero 'y's or even two 'y's. Run it enough times and you could potentially see such extremes as nine or ten 'y's. However, the consensus is that it will generally be about 1 'y'. "
   ]
  },
  {
   "cell_type": "code",
   "execution_count": 11,
   "metadata": {},
   "outputs": [
    {
     "name": "stdout",
     "output_type": "stream",
     "text": [
      "['n' 'n' 'y' 'n' 'n' 'y' 'n' 'y' 'n' 'n']\n"
     ]
    }
   ],
   "source": [
    "ten_visitors = np.random.choice(['y', 'n'], size=10, p=[0.1, 0.9])\n",
    "print(ten_visitors)"
   ]
  },
  {
   "cell_type": "markdown",
   "metadata": {},
   "source": [
    "Here we use a size of 500 to simulate our initial problem. Running it a number of times and using np.sum() to find the number of 'y's will give values ranging from about 40 to 60."
   ]
  },
  {
   "cell_type": "code",
   "execution_count": 36,
   "metadata": {},
   "outputs": [
    {
     "data": {
      "text/plain": [
       "58"
      ]
     },
     "execution_count": 36,
     "metadata": {},
     "output_type": "execute_result"
    }
   ],
   "source": [
    "fivehundred_visitors = np.random.choice(['y', 'n'], size=500, p=[0.1, 0.9])\n",
    "np.sum(fivehundred_visitors == 'y')"
   ]
  },
  {
   "cell_type": "markdown",
   "metadata": {},
   "source": [
    "We can use a for loop to work out a p-value. Here we have run the experiment 10000 times and then appended the number of 'y' values to a list named 'outcomes'. Each value within the list is a result of the experiment and from these we can figure out the likelihood of a specific or range of values occurring. "
   ]
  },
  {
   "cell_type": "code",
   "execution_count": 13,
   "metadata": {},
   "outputs": [
    {
     "name": "stdout",
     "output_type": "stream",
     "text": [
      "[60, 54, 59, 48, 64]\n"
     ]
    }
   ],
   "source": [
    "outcomes = []\n",
    "\n",
    "for i in range(10000): \n",
    "    visitors = np.random.choice(['y', 'n'], size=500, p=[0.1, 0.9])\n",
    "    outcomes.append(np.sum(visitors == 'y'))\n",
    "print(outcomes[:5])"
   ]
  },
  {
   "cell_type": "code",
   "execution_count": 14,
   "metadata": {},
   "outputs": [
    {
     "name": "stdout",
     "output_type": "stream",
     "text": [
      "0.0955\n"
     ]
    }
   ],
   "source": [
    "outcomes = np.array(outcomes)\n",
    "p_value = np.sum((outcomes <= 41)/len(outcomes))\n",
    "print(p_value)"
   ]
  },
  {
   "cell_type": "markdown",
   "metadata": {},
   "source": [
    "The result should be around 0.1, or 10%. This shows that the probability of observing 41 or less purchases in a size of 500 with a 10% pick rate is around 0.1. As this is not below 0.05 which is the usual scientific standard for determining statistical significance, we can say that this result is not statistically significant. "
   ]
  },
  {
   "cell_type": "markdown",
   "metadata": {},
   "source": [
    "Using percentiles, we can also determine the confidence intervals. Here we have calculated the 95% confidence interval of the range of values within outcomes, this lets us say that we can be 95% certain that out of 500 visitors, we can expect between 37 and 64 purchases. If we change the confidence interval to 90% for example, the numbers expected get higher as we are less certain that the numbers will be closer to the expected value of 50. In this case, we are only 90% certain that we will get between 39 and 61 sales.\\\n",
    "We can also see that our original value of 41 is within the 95% confidence interval and that it is likely it occurred due to random chance. "
   ]
  },
  {
   "cell_type": "code",
   "execution_count": 15,
   "metadata": {},
   "outputs": [
    {
     "name": "stdout",
     "output_type": "stream",
     "text": [
      "[37. 64.]\n",
      "[39. 61.]\n"
     ]
    }
   ],
   "source": [
    "print(np.percentile(outcomes, [2.5,97.5]))\n",
    "print(np.percentile(outcomes, [5,95]))"
   ]
  },
  {
   "cell_type": "markdown",
   "metadata": {},
   "source": [
    "This is only a one-sided test however, as we were determining the p-value of obtaining a result of 41 or less. A two-sided test would also include going higher than the expected value of 50, so 59 or higher or 41 or less (they are both 9 away from the expected value). We can include this in our looping test using '|'. This sums the number of values in outcomes that are above 41 or 59, then divides them by the total length of outcomes to result in a p-value. As we can see, the p_value is nearly twice as big as the one-sided test. This emphasises how we must be certain about what question we are asking before performing any testing to avoid obtaining the wrong result. It could be the difference between determining the result is statistically significant or a product of random chance. "
   ]
  },
  {
   "cell_type": "code",
   "execution_count": 16,
   "metadata": {},
   "outputs": [
    {
     "name": "stdout",
     "output_type": "stream",
     "text": [
      "0.2008\n"
     ]
    }
   ],
   "source": [
    "p_value = np.sum((outcomes <= 41) | (outcomes >= 59))/len(outcomes)\n",
    "print(p_value)"
   ]
  },
  {
   "cell_type": "markdown",
   "metadata": {},
   "source": [
    "We can also use scipy.stats.binom_test to calculate this all automatically. The parameters are the number of successes, the size of the group and the probability of a success occurring. binom_test is set to default as two-sided, but this can be changed with alternative='less' for lower one-sided or 'greater' for higher one-sided. "
   ]
  },
  {
   "cell_type": "code",
   "execution_count": 17,
   "metadata": {},
   "outputs": [
    {
     "data": {
      "text/plain": [
       "0.20456397700678308"
      ]
     },
     "execution_count": 17,
     "metadata": {},
     "output_type": "execute_result"
    }
   ],
   "source": [
    "binom_test(41, n=500, p=0.1)"
   ]
  },
  {
   "cell_type": "code",
   "execution_count": 18,
   "metadata": {
    "scrolled": true
   },
   "outputs": [
    {
     "data": {
      "text/plain": [
       "0.1001135269756488"
      ]
     },
     "execution_count": 18,
     "metadata": {},
     "output_type": "execute_result"
    }
   ],
   "source": [
    "binom_test(41, n=500, p=0.1, alternative='less')"
   ]
  },
  {
   "cell_type": "markdown",
   "metadata": {},
   "source": [
    "Here we can find the probability of achieving exactly 41 successes using binom.pmf(). Using cdf() is the same as running a one-sided test. "
   ]
  },
  {
   "cell_type": "code",
   "execution_count": 19,
   "metadata": {},
   "outputs": [
    {
     "data": {
      "text/plain": [
       "0.025024237316633308"
      ]
     },
     "execution_count": 19,
     "metadata": {},
     "output_type": "execute_result"
    }
   ],
   "source": [
    "binom.pmf(41,n=500,p=0.1)"
   ]
  },
  {
   "cell_type": "code",
   "execution_count": 20,
   "metadata": {},
   "outputs": [
    {
     "data": {
      "text/plain": [
       "0.1001135269756488"
      ]
     },
     "execution_count": 20,
     "metadata": {},
     "output_type": "execute_result"
    }
   ],
   "source": [
    "binom.cdf(41,n=500,p=0.1)"
   ]
  },
  {
   "cell_type": "markdown",
   "metadata": {},
   "source": [
    "Here is an example of a binomial type question: \n",
    "The probability that a professor arrives at school after 9pm on any given day is 0.1. Over a period of 20 days, calculate the probability that he arrives late at least once, but not more than 3 times. For this, we need to use binom.pmf() as it gives us the exact probability of an event occurring. We then sum up these probabilities to give us the chance of at least one of them occurring. In this instance we do not use .cdf() because this includes the probability of the event occurring 0 times, the question here states that it must happen at least once. "
   ]
  },
  {
   "cell_type": "code",
   "execution_count": 21,
   "metadata": {},
   "outputs": [
    {
     "name": "stdout",
     "output_type": "stream",
     "text": [
      "0.745470021975095\n",
      "0.745470021975095\n"
     ]
    }
   ],
   "source": [
    "a = stats.binom.pmf(1, 20, 0.1)\n",
    "b = stats.binom.pmf(2, 20, 0.1)\n",
    "c = stats.binom.pmf(3, 20, 0.1)\n",
    "print(a+b+c)\n",
    "\n",
    "#A quicker method of doing the above, it returns a list of the results of binom.pdf() which numpy then sums into one value. \n",
    "e = stats.binom.pmf([1,2,3],20,0.1) \n",
    "print(np.sum(e))"
   ]
  },
  {
   "cell_type": "markdown",
   "metadata": {},
   "source": [
    "The above is correct, below is incorrect as it includes the probability of it occurring 0 times. "
   ]
  },
  {
   "cell_type": "code",
   "execution_count": 22,
   "metadata": {},
   "outputs": [
    {
     "name": "stdout",
     "output_type": "stream",
     "text": [
      "0.8670466765656643\n",
      "0.867046676565665\n"
     ]
    }
   ],
   "source": [
    "d = stats.binom.pmf(0,20,0.1)\n",
    "print(a+b+c+d)\n",
    "print(stats.binom.cdf(3,20,0.1))"
   ]
  },
  {
   "cell_type": "markdown",
   "metadata": {},
   "source": [
    "We could use .cdf() to find the answer to the above question. It involves using the cdf() of the top range of the successes minus the cdf() of one below the bottom range"
   ]
  },
  {
   "cell_type": "code",
   "execution_count": 23,
   "metadata": {},
   "outputs": [
    {
     "name": "stdout",
     "output_type": "stream",
     "text": [
      "0.7454700219750957\n"
     ]
    }
   ],
   "source": [
    "high = stats.binom.cdf(3, 20, 0.1)\n",
    "low = stats.binom.cdf(0, 20, 0.1)\n",
    "print(high-low)"
   ]
  },
  {
   "cell_type": "markdown",
   "metadata": {},
   "source": [
    "Here's another example:"
   ]
  },
  {
   "cell_type": "code",
   "execution_count": 24,
   "metadata": {},
   "outputs": [
    {
     "name": "stdout",
     "output_type": "stream",
     "text": [
      "0.36621093750000033\n",
      "0.3662109375000001\n"
     ]
    }
   ],
   "source": [
    "print(np.sum(stats.binom.pmf([2,3,4], 10, 0.5)))\n",
    "print(stats.binom.cdf(4, 10, 0.5) - stats.binom.cdf(1, 10, 0.5))"
   ]
  },
  {
   "cell_type": "markdown",
   "metadata": {},
   "source": [
    "Also, we can use .pmf() in a reverse way by taking away from 1. As all the probabilities must sum to 1, if we were trying to find 18 or lower successes in 20 coin flips, we could find the probability of 19 and 20 then minus them from 1. This is admittedly the same as using .cdf() for 18 successes. "
   ]
  },
  {
   "cell_type": "code",
   "execution_count": 25,
   "metadata": {},
   "outputs": [
    {
     "name": "stdout",
     "output_type": "stream",
     "text": [
      "0.9999799728393555\n",
      "0.9999799728393555\n"
     ]
    }
   ],
   "source": [
    "print(1 - np.sum(stats.binom.pmf([19,20], 20, 0.5)))\n",
    "print(stats.binom.cdf(18,20,0.5))"
   ]
  }
 ],
 "metadata": {
  "interpreter": {
   "hash": "68e5eec871f4a0b113878d9d8f753a0df0ad6db7c0ea5b0051ec16ab875e30ce"
  },
  "kernelspec": {
   "display_name": "Python 3",
   "language": "python",
   "name": "python3"
  },
  "language_info": {
   "codemirror_mode": {
    "name": "ipython",
    "version": 3
   },
   "file_extension": ".py",
   "mimetype": "text/x-python",
   "name": "python",
   "nbconvert_exporter": "python",
   "pygments_lexer": "ipython3",
   "version": "3.8.8"
  }
 },
 "nbformat": 4,
 "nbformat_minor": 4
}
