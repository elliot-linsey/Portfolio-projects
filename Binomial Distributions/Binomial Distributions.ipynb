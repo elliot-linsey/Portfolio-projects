{
 "cells": [
  {
   "cell_type": "code",
   "execution_count": 1,
   "source": [
    "from scipy.stats import binom\r\n",
    "from scipy.stats import binom_test\r\n",
    "from scipy.stats import probplot\r\n",
    "from scipy import stats\r\n",
    "import matplotlib.pyplot as plt\r\n",
    "import numpy as np\r\n",
    "import seaborn as sns"
   ],
   "outputs": [],
   "metadata": {}
  },
  {
   "cell_type": "markdown",
   "source": [
    "Binomial Distributions are very important within analytics as they are usually the culmination of previous experiments, resulting in questions like click/don't click, buy/don't buy, subscribe/don't subscribe etc. A central part of understanding binomial distributions is the existence of a set of trials, each with a definite probability of occurring, such as a coin flip being 50/50.\\\n",
    "Not all binomial trials need to have equal chances of occurring, so long as they add up to 1.0, for example 70/30 or 40/60.\\\n",
    "It is common to assign the 'success' outcome the number 1, with the other being assigned to 0. This is also true with the rarest outcome being assigned to 1, for example, fraudulent transactions are more rare than normal transactions so they would be assigned to 1 rather than 0. "
   ],
   "metadata": {}
  },
  {
   "cell_type": "markdown",
   "source": [
    "The binomial distribution is the frequency distribution of the number of successes (x) in a given number of trials (n) with specified probability (p). To simplify this, an example would be how likely is it that you achieve 0 sales (successes or 'x') within 200 clicks (trials or 'n') when the probability of a click becoming a sale is 0.02 (probability or 'p')?\\\n",
    "In this example, x=0, n=200 and p=0.02\\\n",
    "To answer this we plug these numbers into scipy.stats.binom"
   ],
   "metadata": {}
  },
  {
   "cell_type": "markdown",
   "source": [
    "binom.pmf() stands for probability mass function, this will give us the exact probability of a specific number of events occurring, it will tell us the probability of exactly x=0 or x=2.\r\n",
    "binom.cdf() stands for cumulative distribution function and this will tell us the probability of x or fewer events occurring, so the chances that 2 events or fewer will occur in 'n' trials.\\ "
   ],
   "metadata": {}
  },
  {
   "cell_type": "code",
   "execution_count": 2,
   "source": [
    "binom.pmf(0,n=200,p=0.02)"
   ],
   "outputs": [
    {
     "output_type": "execute_result",
     "data": {
      "text/plain": [
       "0.017587946605721567"
      ]
     },
     "metadata": {},
     "execution_count": 2
    }
   ],
   "metadata": {}
  },
  {
   "cell_type": "markdown",
   "source": [
    "As we used binom.cdf() the result is the probability that the event will occur 4 times or less, so it is more there is a 62% chance that the event will occur from 0 - 4 times. We can see the difference in results from using .pmf() and .cdf()\\\n",
    "Also, from experimenting with .pmf() we can see that using x=4 results in the highest probability result, using x<=3 or x>=5 results in the probability decreasing, this is because if we do (200 * 0.02) it equals 4.0. Therefore it would make sense that the chance of 4 successes occurring would be the highest.\\\n",
    "As you increase the 'x' variable for cdf, the probability increases, if the p value is quite low then there is less chance for 2 or less (x) successes to occur, however if you use a high x value such as 20, then it is quite likely that you will achieve less than 20 successes (0.99)."
   ],
   "metadata": {}
  },
  {
   "cell_type": "code",
   "execution_count": 3,
   "source": [
    "binom.pmf(4,n=200,p=0.02)"
   ],
   "outputs": [
    {
     "output_type": "execute_result",
     "data": {
      "text/plain": [
       "0.19734860696728865"
      ]
     },
     "metadata": {},
     "execution_count": 3
    }
   ],
   "metadata": {}
  },
  {
   "cell_type": "code",
   "execution_count": 4,
   "source": [
    "binom.cdf(4, n=200, p=0.02)"
   ],
   "outputs": [
    {
     "output_type": "execute_result",
     "data": {
      "text/plain": [
       "0.6288435801288308"
      ]
     },
     "metadata": {},
     "execution_count": 4
    }
   ],
   "metadata": {
    "scrolled": true
   }
  },
  {
   "cell_type": "markdown",
   "source": [
    "The mean of a binomial distribution is (n * p), this gives the most common number of successes to occur, demonstrated previously with 200 * 0.02 = 4, which had the highest probability of occurring.\\\n",
    "The variance n * p(1-p)  = (200 * 0.02) * (1-0.02) = 3.92\n",
    "To get the standard deviation you just square root the variance 3.92 ** 0.5 = 1.98"
   ],
   "metadata": {}
  },
  {
   "cell_type": "code",
   "execution_count": 5,
   "source": [
    "mean = 200 * 0.02\r\n",
    "var = (200*0.02)*(1-0.02)\r\n",
    "std = var**0.5\r\n",
    "print(mean)\r\n",
    "print(var)\r\n",
    "print(std)"
   ],
   "outputs": [
    {
     "output_type": "stream",
     "name": "stdout",
     "text": [
      "4.0\n",
      "3.92\n",
      "1.9798989873223332\n"
     ]
    }
   ],
   "metadata": {}
  },
  {
   "cell_type": "markdown",
   "source": [
    "If n is large or p is close to 0.50 then a binomial distribution can be quite indistinguishable from a normal distribution, demonstrated below using the same mean, standard deviation and sample size as above."
   ],
   "metadata": {}
  },
  {
   "cell_type": "code",
   "execution_count": 6,
   "source": [
    "norm = np.random.normal(loc=4, scale=1.98, size=200)"
   ],
   "outputs": [],
   "metadata": {}
  },
  {
   "cell_type": "code",
   "execution_count": 7,
   "source": [
    "sns.kdeplot(norm)\r\n",
    "plt.show()"
   ],
   "outputs": [
    {
     "output_type": "display_data",
     "data": {
      "image/png": "[encoded data removed]",
      "image/svg+xml": "<?xml version=\"1.0\" encoding=\"utf-8\" standalone=\"no\"?>\r\n<!DOCTYPE svg PUBLIC \"-//W3C//DTD SVG 1.1//EN\"\r\n  \"http://www.w3.org/Graphics/SVG/1.1/DTD/svg11.dtd\">\r\n<!-- Created with matplotlib (https://matplotlib.org/) -->\r\n<svg height=\"248.518125pt\" version=\"1.1\" viewBox=\"0 0 408.306761 248.518125\" width=\"408.306761pt\" xmlns=\"http://www.w3.org/2000/svg\" xmlns:xlink=\"http://www.w3.org/1999/xlink\">\r\n <metadata>\r\n  <rdf:RDF xmlns:cc=\"http://creativecommons.org/ns#\" xmlns:dc=\"http://purl.org/dc/elements/1.1/\" xmlns:rdf=\"http://www.w3.org/1999/02/22-rdf-syntax-ns#\">\r\n   <cc:Work>\r\n    <dc:type rdf:resource=\"http://purl.org/dc/dcmitype/StillImage\"/>\r\n    <dc:date>2021-09-03T20:34:46.201465</dc:date>\r\n    <dc:format>image/svg+xml</dc:format>\r\n    <dc:creator>\r\n     <cc:Agent>\r\n      <dc:title>Matplotlib v3.3.2, https://matplotlib.org/</dc:title>\r\n     </cc:Agent>\r\n    </dc:creator>\r\n   </cc:Work>\r\n  </rdf:RDF>\r\n </metadata>\r\n <defs>\r\n  <style type=\"text/css\">*{stroke-linecap:butt;stroke-linejoin:round;}</style>\r\n </defs>\r\n <g id=\"figure_1\">\r\n  <g id=\"patch_1\">\r\n   <path d=\"M 0 248.518125 \r\nL 408.306761 248.518125 \r\nL 408.306761 0 \r\nL 0 0 \r\nz\r\n\" style=\"fill:none;\"/>\r\n  </g>\r\n  <g id=\"axes_1\">\r\n   <g id=\"patch_2\">\r\n    <path d=\"M 56.50625 224.64 \r\nL 391.30625 224.64 \r\nL 391.30625 7.2 \r\nL 56.50625 7.2 \r\nz\r\n\" style=\"fill:#ffffff;\"/>\r\n   </g>\r\n   <g id=\"matplotlib.axis_1\">\r\n    <g id=\"xtick_1\">\r\n     <g id=\"line2d_1\">\r\n      <defs>\r\n       <path d=\"M 0 0 \r\nL 0 3.5 \r\n\" id=\"m49eb38b8d0\" style=\"stroke:#000000;stroke-width:0.8;\"/>\r\n      </defs>\r\n      <g>\r\n       <use style=\"stroke:#000000;stroke-width:0.8;\" x=\"69.929388\" xlink:href=\"#m49eb38b8d0\" y=\"224.64\"/>\r\n      </g>\r\n     </g>\r\n     <g id=\"text_1\">\r\n      <!-- −5.0 -->\r\n      <g transform=\"translate(57.787982 239.238437)scale(0.1 -0.1)\">\r\n       <defs>\r\n        <path d=\"M 10.59375 35.5 \r\nL 73.1875 35.5 \r\nL 73.1875 27.203125 \r\nL 10.59375 27.203125 \r\nz\r\n\" id=\"DejaVuSans-8722\"/>\r\n        <path d=\"M 10.796875 72.90625 \r\nL 49.515625 72.90625 \r\nL 49.515625 64.59375 \r\nL 19.828125 64.59375 \r\nL 19.828125 46.734375 \r\nQ 21.96875 47.46875 24.109375 47.828125 \r\nQ 26.265625 48.1875 28.421875 48.1875 \r\nQ 40.625 48.1875 47.75 41.5 \r\nQ 54.890625 34.8125 54.890625 23.390625 \r\nQ 54.890625 11.625 47.5625 5.09375 \r\nQ 40.234375 -1.421875 26.90625 -1.421875 \r\nQ 22.3125 -1.421875 17.546875 -0.640625 \r\nQ 12.796875 0.140625 7.71875 1.703125 \r\nL 7.71875 11.625 \r\nQ 12.109375 9.234375 16.796875 8.0625 \r\nQ 21.484375 6.890625 26.703125 6.890625 \r\nQ 35.15625 6.890625 40.078125 11.328125 \r\nQ 45.015625 15.765625 45.015625 23.390625 \r\nQ 45.015625 31 40.078125 35.4375 \r\nQ 35.15625 39.890625 26.703125 39.890625 \r\nQ 22.75 39.890625 18.8125 39.015625 \r\nQ 14.890625 38.140625 10.796875 36.28125 \r\nz\r\n\" id=\"DejaVuSans-53\"/>\r\n        <path d=\"M 10.6875 12.40625 \r\nL 21 12.40625 \r\nL 21 0 \r\nL 10.6875 0 \r\nz\r\n\" id=\"DejaVuSans-46\"/>\r\n        <path d=\"M 31.78125 66.40625 \r\nQ 24.171875 66.40625 20.328125 58.90625 \r\nQ 16.5 51.421875 16.5 36.375 \r\nQ 16.5 21.390625 20.328125 13.890625 \r\nQ 24.171875 6.390625 31.78125 6.390625 \r\nQ 39.453125 6.390625 43.28125 13.890625 \r\nQ 47.125 21.390625 47.125 36.375 \r\nQ 47.125 51.421875 43.28125 58.90625 \r\nQ 39.453125 66.40625 31.78125 66.40625 \r\nz\r\nM 31.78125 74.21875 \r\nQ 44.046875 74.21875 50.515625 64.515625 \r\nQ 56.984375 54.828125 56.984375 36.375 \r\nQ 56.984375 17.96875 50.515625 8.265625 \r\nQ 44.046875 -1.421875 31.78125 -1.421875 \r\nQ 19.53125 -1.421875 13.0625 8.265625 \r\nQ 6.59375 17.96875 6.59375 36.375 \r\nQ 6.59375 54.828125 13.0625 64.515625 \r\nQ 19.53125 74.21875 31.78125 74.21875 \r\nz\r\n\" id=\"DejaVuSans-48\"/>\r\n       </defs>\r\n       <use xlink:href=\"#DejaVuSans-8722\"/>\r\n       <use x=\"83.789062\" xlink:href=\"#DejaVuSans-53\"/>\r\n       <use x=\"147.412109\" xlink:href=\"#DejaVuSans-46\"/>\r\n       <use x=\"179.199219\" xlink:href=\"#DejaVuSans-48\"/>\r\n      </g>\r\n     </g>\r\n    </g>\r\n    <g id=\"xtick_2\">\r\n     <g id=\"line2d_2\">\r\n      <g>\r\n       <use style=\"stroke:#000000;stroke-width:0.8;\" x=\"115.65004\" xlink:href=\"#m49eb38b8d0\" y=\"224.64\"/>\r\n      </g>\r\n     </g>\r\n     <g id=\"text_2\">\r\n      <!-- −2.5 -->\r\n      <g transform=\"translate(103.508634 239.238437)scale(0.1 -0.1)\">\r\n       <defs>\r\n        <path d=\"M 19.1875 8.296875 \r\nL 53.609375 8.296875 \r\nL 53.609375 0 \r\nL 7.328125 0 \r\nL 7.328125 8.296875 \r\nQ 12.9375 14.109375 22.625 23.890625 \r\nQ 32.328125 33.6875 34.8125 36.53125 \r\nQ 39.546875 41.84375 41.421875 45.53125 \r\nQ 43.3125 49.21875 43.3125 52.78125 \r\nQ 43.3125 58.59375 39.234375 62.25 \r\nQ 35.15625 65.921875 28.609375 65.921875 \r\nQ 23.96875 65.921875 18.8125 64.3125 \r\nQ 13.671875 62.703125 7.8125 59.421875 \r\nL 7.8125 69.390625 \r\nQ 13.765625 71.78125 18.9375 73 \r\nQ 24.125 74.21875 28.421875 74.21875 \r\nQ 39.75 74.21875 46.484375 68.546875 \r\nQ 53.21875 62.890625 53.21875 53.421875 \r\nQ 53.21875 48.921875 51.53125 44.890625 \r\nQ 49.859375 40.875 45.40625 35.40625 \r\nQ 44.1875 33.984375 37.640625 27.21875 \r\nQ 31.109375 20.453125 19.1875 8.296875 \r\nz\r\n\" id=\"DejaVuSans-50\"/>\r\n       </defs>\r\n       <use xlink:href=\"#DejaVuSans-8722\"/>\r\n       <use x=\"83.789062\" xlink:href=\"#DejaVuSans-50\"/>\r\n       <use x=\"147.412109\" xlink:href=\"#DejaVuSans-46\"/>\r\n       <use x=\"179.199219\" xlink:href=\"#DejaVuSans-53\"/>\r\n      </g>\r\n     </g>\r\n    </g>\r\n    <g id=\"xtick_3\">\r\n     <g id=\"line2d_3\">\r\n      <g>\r\n       <use style=\"stroke:#000000;stroke-width:0.8;\" x=\"161.370691\" xlink:href=\"#m49eb38b8d0\" y=\"224.64\"/>\r\n      </g>\r\n     </g>\r\n     <g id=\"text_3\">\r\n      <!-- 0.0 -->\r\n      <g transform=\"translate(153.419129 239.238437)scale(0.1 -0.1)\">\r\n       <use xlink:href=\"#DejaVuSans-48\"/>\r\n       <use x=\"63.623047\" xlink:href=\"#DejaVuSans-46\"/>\r\n       <use x=\"95.410156\" xlink:href=\"#DejaVuSans-48\"/>\r\n      </g>\r\n     </g>\r\n    </g>\r\n    <g id=\"xtick_4\">\r\n     <g id=\"line2d_4\">\r\n      <g>\r\n       <use style=\"stroke:#000000;stroke-width:0.8;\" x=\"207.091343\" xlink:href=\"#m49eb38b8d0\" y=\"224.64\"/>\r\n      </g>\r\n     </g>\r\n     <g id=\"text_4\">\r\n      <!-- 2.5 -->\r\n      <g transform=\"translate(199.13978 239.238437)scale(0.1 -0.1)\">\r\n       <use xlink:href=\"#DejaVuSans-50\"/>\r\n       <use x=\"63.623047\" xlink:href=\"#DejaVuSans-46\"/>\r\n       <use x=\"95.410156\" xlink:href=\"#DejaVuSans-53\"/>\r\n      </g>\r\n     </g>\r\n    </g>\r\n    <g id=\"xtick_5\">\r\n     <g id=\"line2d_5\">\r\n      <g>\r\n       <use style=\"stroke:#000000;stroke-width:0.8;\" x=\"252.811994\" xlink:href=\"#m49eb38b8d0\" y=\"224.64\"/>\r\n      </g>\r\n     </g>\r\n     <g id=\"text_5\">\r\n      <!-- 5.0 -->\r\n      <g transform=\"translate(244.860432 239.238437)scale(0.1 -0.1)\">\r\n       <use xlink:href=\"#DejaVuSans-53\"/>\r\n       <use x=\"63.623047\" xlink:href=\"#DejaVuSans-46\"/>\r\n       <use x=\"95.410156\" xlink:href=\"#DejaVuSans-48\"/>\r\n      </g>\r\n     </g>\r\n    </g>\r\n    <g id=\"xtick_6\">\r\n     <g id=\"line2d_6\">\r\n      <g>\r\n       <use style=\"stroke:#000000;stroke-width:0.8;\" x=\"298.532646\" xlink:href=\"#m49eb38b8d0\" y=\"224.64\"/>\r\n      </g>\r\n     </g>\r\n     <g id=\"text_6\">\r\n      <!-- 7.5 -->\r\n      <g transform=\"translate(290.581083 239.238437)scale(0.1 -0.1)\">\r\n       <defs>\r\n        <path d=\"M 8.203125 72.90625 \r\nL 55.078125 72.90625 \r\nL 55.078125 68.703125 \r\nL 28.609375 0 \r\nL 18.3125 0 \r\nL 43.21875 64.59375 \r\nL 8.203125 64.59375 \r\nz\r\n\" id=\"DejaVuSans-55\"/>\r\n       </defs>\r\n       <use xlink:href=\"#DejaVuSans-55\"/>\r\n       <use x=\"63.623047\" xlink:href=\"#DejaVuSans-46\"/>\r\n       <use x=\"95.410156\" xlink:href=\"#DejaVuSans-53\"/>\r\n      </g>\r\n     </g>\r\n    </g>\r\n    <g id=\"xtick_7\">\r\n     <g id=\"line2d_7\">\r\n      <g>\r\n       <use style=\"stroke:#000000;stroke-width:0.8;\" x=\"344.253297\" xlink:href=\"#m49eb38b8d0\" y=\"224.64\"/>\r\n      </g>\r\n     </g>\r\n     <g id=\"text_7\">\r\n      <!-- 10.0 -->\r\n      <g transform=\"translate(333.120485 239.238437)scale(0.1 -0.1)\">\r\n       <defs>\r\n        <path d=\"M 12.40625 8.296875 \r\nL 28.515625 8.296875 \r\nL 28.515625 63.921875 \r\nL 10.984375 60.40625 \r\nL 10.984375 69.390625 \r\nL 28.421875 72.90625 \r\nL 38.28125 72.90625 \r\nL 38.28125 8.296875 \r\nL 54.390625 8.296875 \r\nL 54.390625 0 \r\nL 12.40625 0 \r\nz\r\n\" id=\"DejaVuSans-49\"/>\r\n       </defs>\r\n       <use xlink:href=\"#DejaVuSans-49\"/>\r\n       <use x=\"63.623047\" xlink:href=\"#DejaVuSans-48\"/>\r\n       <use x=\"127.246094\" xlink:href=\"#DejaVuSans-46\"/>\r\n       <use x=\"159.033203\" xlink:href=\"#DejaVuSans-48\"/>\r\n      </g>\r\n     </g>\r\n    </g>\r\n    <g id=\"xtick_8\">\r\n     <g id=\"line2d_8\">\r\n      <g>\r\n       <use style=\"stroke:#000000;stroke-width:0.8;\" x=\"389.973949\" xlink:href=\"#m49eb38b8d0\" y=\"224.64\"/>\r\n      </g>\r\n     </g>\r\n     <g id=\"text_8\">\r\n      <!-- 12.5 -->\r\n      <g transform=\"translate(378.841136 239.238437)scale(0.1 -0.1)\">\r\n       <use xlink:href=\"#DejaVuSans-49\"/>\r\n       <use x=\"63.623047\" xlink:href=\"#DejaVuSans-50\"/>\r\n       <use x=\"127.246094\" xlink:href=\"#DejaVuSans-46\"/>\r\n       <use x=\"159.033203\" xlink:href=\"#DejaVuSans-53\"/>\r\n      </g>\r\n     </g>\r\n    </g>\r\n   </g>\r\n   <g id=\"matplotlib.axis_2\">\r\n    <g id=\"ytick_1\">\r\n     <g id=\"line2d_9\">\r\n      <defs>\r\n       <path d=\"M 0 0 \r\nL -3.5 0 \r\n\" id=\"m24d80738aa\" style=\"stroke:#000000;stroke-width:0.8;\"/>\r\n      </defs>\r\n      <g>\r\n       <use style=\"stroke:#000000;stroke-width:0.8;\" x=\"56.50625\" xlink:href=\"#m24d80738aa\" y=\"224.64\"/>\r\n      </g>\r\n     </g>\r\n     <g id=\"text_9\">\r\n      <!-- 0.000 -->\r\n      <g transform=\"translate(20.878125 228.439219)scale(0.1 -0.1)\">\r\n       <use xlink:href=\"#DejaVuSans-48\"/>\r\n       <use x=\"63.623047\" xlink:href=\"#DejaVuSans-46\"/>\r\n       <use x=\"95.410156\" xlink:href=\"#DejaVuSans-48\"/>\r\n       <use x=\"159.033203\" xlink:href=\"#DejaVuSans-48\"/>\r\n       <use x=\"222.65625\" xlink:href=\"#DejaVuSans-48\"/>\r\n      </g>\r\n     </g>\r\n    </g>\r\n    <g id=\"ytick_2\">\r\n     <g id=\"line2d_10\">\r\n      <g>\r\n       <use style=\"stroke:#000000;stroke-width:0.8;\" x=\"56.50625\" xlink:href=\"#m24d80738aa\" y=\"196.921079\"/>\r\n      </g>\r\n     </g>\r\n     <g id=\"text_10\">\r\n      <!-- 0.025 -->\r\n      <g transform=\"translate(20.878125 200.720298)scale(0.1 -0.1)\">\r\n       <use xlink:href=\"#DejaVuSans-48\"/>\r\n       <use x=\"63.623047\" xlink:href=\"#DejaVuSans-46\"/>\r\n       <use x=\"95.410156\" xlink:href=\"#DejaVuSans-48\"/>\r\n       <use x=\"159.033203\" xlink:href=\"#DejaVuSans-50\"/>\r\n       <use x=\"222.65625\" xlink:href=\"#DejaVuSans-53\"/>\r\n      </g>\r\n     </g>\r\n    </g>\r\n    <g id=\"ytick_3\">\r\n     <g id=\"line2d_11\">\r\n      <g>\r\n       <use style=\"stroke:#000000;stroke-width:0.8;\" x=\"56.50625\" xlink:href=\"#m24d80738aa\" y=\"169.202158\"/>\r\n      </g>\r\n     </g>\r\n     <g id=\"text_11\">\r\n      <!-- 0.050 -->\r\n      <g transform=\"translate(20.878125 173.001377)scale(0.1 -0.1)\">\r\n       <use xlink:href=\"#DejaVuSans-48\"/>\r\n       <use x=\"63.623047\" xlink:href=\"#DejaVuSans-46\"/>\r\n       <use x=\"95.410156\" xlink:href=\"#DejaVuSans-48\"/>\r\n       <use x=\"159.033203\" xlink:href=\"#DejaVuSans-53\"/>\r\n       <use x=\"222.65625\" xlink:href=\"#DejaVuSans-48\"/>\r\n      </g>\r\n     </g>\r\n    </g>\r\n    <g id=\"ytick_4\">\r\n     <g id=\"line2d_12\">\r\n      <g>\r\n       <use style=\"stroke:#000000;stroke-width:0.8;\" x=\"56.50625\" xlink:href=\"#m24d80738aa\" y=\"141.483237\"/>\r\n      </g>\r\n     </g>\r\n     <g id=\"text_12\">\r\n      <!-- 0.075 -->\r\n      <g transform=\"translate(20.878125 145.282456)scale(0.1 -0.1)\">\r\n       <use xlink:href=\"#DejaVuSans-48\"/>\r\n       <use x=\"63.623047\" xlink:href=\"#DejaVuSans-46\"/>\r\n       <use x=\"95.410156\" xlink:href=\"#DejaVuSans-48\"/>\r\n       <use x=\"159.033203\" xlink:href=\"#DejaVuSans-55\"/>\r\n       <use x=\"222.65625\" xlink:href=\"#DejaVuSans-53\"/>\r\n      </g>\r\n     </g>\r\n    </g>\r\n    <g id=\"ytick_5\">\r\n     <g id=\"line2d_13\">\r\n      <g>\r\n       <use style=\"stroke:#000000;stroke-width:0.8;\" x=\"56.50625\" xlink:href=\"#m24d80738aa\" y=\"113.764316\"/>\r\n      </g>\r\n     </g>\r\n     <g id=\"text_13\">\r\n      <!-- 0.100 -->\r\n      <g transform=\"translate(20.878125 117.563535)scale(0.1 -0.1)\">\r\n       <use xlink:href=\"#DejaVuSans-48\"/>\r\n       <use x=\"63.623047\" xlink:href=\"#DejaVuSans-46\"/>\r\n       <use x=\"95.410156\" xlink:href=\"#DejaVuSans-49\"/>\r\n       <use x=\"159.033203\" xlink:href=\"#DejaVuSans-48\"/>\r\n       <use x=\"222.65625\" xlink:href=\"#DejaVuSans-48\"/>\r\n      </g>\r\n     </g>\r\n    </g>\r\n    <g id=\"ytick_6\">\r\n     <g id=\"line2d_14\">\r\n      <g>\r\n       <use style=\"stroke:#000000;stroke-width:0.8;\" x=\"56.50625\" xlink:href=\"#m24d80738aa\" y=\"86.045395\"/>\r\n      </g>\r\n     </g>\r\n     <g id=\"text_14\">\r\n      <!-- 0.125 -->\r\n      <g transform=\"translate(20.878125 89.844614)scale(0.1 -0.1)\">\r\n       <use xlink:href=\"#DejaVuSans-48\"/>\r\n       <use x=\"63.623047\" xlink:href=\"#DejaVuSans-46\"/>\r\n       <use x=\"95.410156\" xlink:href=\"#DejaVuSans-49\"/>\r\n       <use x=\"159.033203\" xlink:href=\"#DejaVuSans-50\"/>\r\n       <use x=\"222.65625\" xlink:href=\"#DejaVuSans-53\"/>\r\n      </g>\r\n     </g>\r\n    </g>\r\n    <g id=\"ytick_7\">\r\n     <g id=\"line2d_15\">\r\n      <g>\r\n       <use style=\"stroke:#000000;stroke-width:0.8;\" x=\"56.50625\" xlink:href=\"#m24d80738aa\" y=\"58.326474\"/>\r\n      </g>\r\n     </g>\r\n     <g id=\"text_15\">\r\n      <!-- 0.150 -->\r\n      <g transform=\"translate(20.878125 62.125692)scale(0.1 -0.1)\">\r\n       <use xlink:href=\"#DejaVuSans-48\"/>\r\n       <use x=\"63.623047\" xlink:href=\"#DejaVuSans-46\"/>\r\n       <use x=\"95.410156\" xlink:href=\"#DejaVuSans-49\"/>\r\n       <use x=\"159.033203\" xlink:href=\"#DejaVuSans-53\"/>\r\n       <use x=\"222.65625\" xlink:href=\"#DejaVuSans-48\"/>\r\n      </g>\r\n     </g>\r\n    </g>\r\n    <g id=\"ytick_8\">\r\n     <g id=\"line2d_16\">\r\n      <g>\r\n       <use style=\"stroke:#000000;stroke-width:0.8;\" x=\"56.50625\" xlink:href=\"#m24d80738aa\" y=\"30.607553\"/>\r\n      </g>\r\n     </g>\r\n     <g id=\"text_16\">\r\n      <!-- 0.175 -->\r\n      <g transform=\"translate(20.878125 34.406771)scale(0.1 -0.1)\">\r\n       <use xlink:href=\"#DejaVuSans-48\"/>\r\n       <use x=\"63.623047\" xlink:href=\"#DejaVuSans-46\"/>\r\n       <use x=\"95.410156\" xlink:href=\"#DejaVuSans-49\"/>\r\n       <use x=\"159.033203\" xlink:href=\"#DejaVuSans-55\"/>\r\n       <use x=\"222.65625\" xlink:href=\"#DejaVuSans-53\"/>\r\n      </g>\r\n     </g>\r\n    </g>\r\n    <g id=\"text_17\">\r\n     <!-- Density -->\r\n     <g transform=\"translate(14.798437 134.928594)rotate(-90)scale(0.1 -0.1)\">\r\n      <defs>\r\n       <path d=\"M 19.671875 64.796875 \r\nL 19.671875 8.109375 \r\nL 31.59375 8.109375 \r\nQ 46.6875 8.109375 53.6875 14.9375 \r\nQ 60.6875 21.78125 60.6875 36.53125 \r\nQ 60.6875 51.171875 53.6875 57.984375 \r\nQ 46.6875 64.796875 31.59375 64.796875 \r\nz\r\nM 9.8125 72.90625 \r\nL 30.078125 72.90625 \r\nQ 51.265625 72.90625 61.171875 64.09375 \r\nQ 71.09375 55.28125 71.09375 36.53125 \r\nQ 71.09375 17.671875 61.125 8.828125 \r\nQ 51.171875 0 30.078125 0 \r\nL 9.8125 0 \r\nz\r\n\" id=\"DejaVuSans-68\"/>\r\n       <path d=\"M 56.203125 29.59375 \r\nL 56.203125 25.203125 \r\nL 14.890625 25.203125 \r\nQ 15.484375 15.921875 20.484375 11.0625 \r\nQ 25.484375 6.203125 34.421875 6.203125 \r\nQ 39.59375 6.203125 44.453125 7.46875 \r\nQ 49.3125 8.734375 54.109375 11.28125 \r\nL 54.109375 2.78125 \r\nQ 49.265625 0.734375 44.1875 -0.34375 \r\nQ 39.109375 -1.421875 33.890625 -1.421875 \r\nQ 20.796875 -1.421875 13.15625 6.1875 \r\nQ 5.515625 13.8125 5.515625 26.8125 \r\nQ 5.515625 40.234375 12.765625 48.109375 \r\nQ 20.015625 56 32.328125 56 \r\nQ 43.359375 56 49.78125 48.890625 \r\nQ 56.203125 41.796875 56.203125 29.59375 \r\nz\r\nM 47.21875 32.234375 \r\nQ 47.125 39.59375 43.09375 43.984375 \r\nQ 39.0625 48.390625 32.421875 48.390625 \r\nQ 24.90625 48.390625 20.390625 44.140625 \r\nQ 15.875 39.890625 15.1875 32.171875 \r\nz\r\n\" id=\"DejaVuSans-101\"/>\r\n       <path d=\"M 54.890625 33.015625 \r\nL 54.890625 0 \r\nL 45.90625 0 \r\nL 45.90625 32.71875 \r\nQ 45.90625 40.484375 42.875 44.328125 \r\nQ 39.84375 48.1875 33.796875 48.1875 \r\nQ 26.515625 48.1875 22.3125 43.546875 \r\nQ 18.109375 38.921875 18.109375 30.90625 \r\nL 18.109375 0 \r\nL 9.078125 0 \r\nL 9.078125 54.6875 \r\nL 18.109375 54.6875 \r\nL 18.109375 46.1875 \r\nQ 21.34375 51.125 25.703125 53.5625 \r\nQ 30.078125 56 35.796875 56 \r\nQ 45.21875 56 50.046875 50.171875 \r\nQ 54.890625 44.34375 54.890625 33.015625 \r\nz\r\n\" id=\"DejaVuSans-110\"/>\r\n       <path d=\"M 44.28125 53.078125 \r\nL 44.28125 44.578125 \r\nQ 40.484375 46.53125 36.375 47.5 \r\nQ 32.28125 48.484375 27.875 48.484375 \r\nQ 21.1875 48.484375 17.84375 46.4375 \r\nQ 14.5 44.390625 14.5 40.28125 \r\nQ 14.5 37.15625 16.890625 35.375 \r\nQ 19.28125 33.59375 26.515625 31.984375 \r\nL 29.59375 31.296875 \r\nQ 39.15625 29.25 43.1875 25.515625 \r\nQ 47.21875 21.78125 47.21875 15.09375 \r\nQ 47.21875 7.46875 41.1875 3.015625 \r\nQ 35.15625 -1.421875 24.609375 -1.421875 \r\nQ 20.21875 -1.421875 15.453125 -0.5625 \r\nQ 10.6875 0.296875 5.421875 2 \r\nL 5.421875 11.28125 \r\nQ 10.40625 8.6875 15.234375 7.390625 \r\nQ 20.0625 6.109375 24.8125 6.109375 \r\nQ 31.15625 6.109375 34.5625 8.28125 \r\nQ 37.984375 10.453125 37.984375 14.40625 \r\nQ 37.984375 18.0625 35.515625 20.015625 \r\nQ 33.0625 21.96875 24.703125 23.78125 \r\nL 21.578125 24.515625 \r\nQ 13.234375 26.265625 9.515625 29.90625 \r\nQ 5.8125 33.546875 5.8125 39.890625 \r\nQ 5.8125 47.609375 11.28125 51.796875 \r\nQ 16.75 56 26.8125 56 \r\nQ 31.78125 56 36.171875 55.265625 \r\nQ 40.578125 54.546875 44.28125 53.078125 \r\nz\r\n\" id=\"DejaVuSans-115\"/>\r\n       <path d=\"M 9.421875 54.6875 \r\nL 18.40625 54.6875 \r\nL 18.40625 0 \r\nL 9.421875 0 \r\nz\r\nM 9.421875 75.984375 \r\nL 18.40625 75.984375 \r\nL 18.40625 64.59375 \r\nL 9.421875 64.59375 \r\nz\r\n\" id=\"DejaVuSans-105\"/>\r\n       <path d=\"M 18.3125 70.21875 \r\nL 18.3125 54.6875 \r\nL 36.8125 54.6875 \r\nL 36.8125 47.703125 \r\nL 18.3125 47.703125 \r\nL 18.3125 18.015625 \r\nQ 18.3125 11.328125 20.140625 9.421875 \r\nQ 21.96875 7.515625 27.59375 7.515625 \r\nL 36.8125 7.515625 \r\nL 36.8125 0 \r\nL 27.59375 0 \r\nQ 17.1875 0 13.234375 3.875 \r\nQ 9.28125 7.765625 9.28125 18.015625 \r\nL 9.28125 47.703125 \r\nL 2.6875 47.703125 \r\nL 2.6875 54.6875 \r\nL 9.28125 54.6875 \r\nL 9.28125 70.21875 \r\nz\r\n\" id=\"DejaVuSans-116\"/>\r\n       <path d=\"M 32.171875 -5.078125 \r\nQ 28.375 -14.84375 24.75 -17.8125 \r\nQ 21.140625 -20.796875 15.09375 -20.796875 \r\nL 7.90625 -20.796875 \r\nL 7.90625 -13.28125 \r\nL 13.1875 -13.28125 \r\nQ 16.890625 -13.28125 18.9375 -11.515625 \r\nQ 21 -9.765625 23.484375 -3.21875 \r\nL 25.09375 0.875 \r\nL 2.984375 54.6875 \r\nL 12.5 54.6875 \r\nL 29.59375 11.921875 \r\nL 46.6875 54.6875 \r\nL 56.203125 54.6875 \r\nz\r\n\" id=\"DejaVuSans-121\"/>\r\n      </defs>\r\n      <use xlink:href=\"#DejaVuSans-68\"/>\r\n      <use x=\"77.001953\" xlink:href=\"#DejaVuSans-101\"/>\r\n      <use x=\"138.525391\" xlink:href=\"#DejaVuSans-110\"/>\r\n      <use x=\"201.904297\" xlink:href=\"#DejaVuSans-115\"/>\r\n      <use x=\"254.003906\" xlink:href=\"#DejaVuSans-105\"/>\r\n      <use x=\"281.787109\" xlink:href=\"#DejaVuSans-116\"/>\r\n      <use x=\"320.996094\" xlink:href=\"#DejaVuSans-121\"/>\r\n     </g>\r\n    </g>\r\n   </g>\r\n   <g id=\"line2d_17\">\r\n    <path clip-path=\"url(#p0ef822e8b4)\" d=\"M 71.724432 224.596414 \r\nL 79.371759 224.413728 \r\nL 83.960156 224.122216 \r\nL 88.548552 223.588849 \r\nL 93.136949 222.745631 \r\nL 97.725345 221.605881 \r\nL 106.902139 219.114681 \r\nL 109.96107 218.499382 \r\nL 113.020001 218.082674 \r\nL 116.078932 217.85606 \r\nL 126.78519 217.362558 \r\nL 129.844121 216.864509 \r\nL 132.903052 216.081863 \r\nL 135.961983 215.01586 \r\nL 139.020914 213.692733 \r\nL 142.079845 212.13098 \r\nL 145.138776 210.308711 \r\nL 148.197707 208.145059 \r\nL 151.256638 205.505207 \r\nL 152.786104 203.956657 \r\nL 154.315569 202.229673 \r\nL 155.845035 200.307771 \r\nL 157.3745 198.178504 \r\nL 158.903966 195.834463 \r\nL 161.962897 190.500468 \r\nL 165.021828 184.355529 \r\nL 168.080759 177.511699 \r\nL 171.13969 170.093088 \r\nL 174.198621 162.176603 \r\nL 177.257552 153.747314 \r\nL 180.316483 144.689633 \r\nL 183.375414 134.824346 \r\nL 186.434345 123.984946 \r\nL 189.493276 112.110703 \r\nL 192.552207 99.324845 \r\nL 201.729 59.780959 \r\nL 204.787931 48.219485 \r\nL 206.317397 43.064801 \r\nL 207.846862 38.390493 \r\nL 209.376328 34.225153 \r\nL 210.905793 30.581727 \r\nL 212.435259 27.458066 \r\nL 213.964724 24.838349 \r\nL 215.49419 22.69522 \r\nL 217.023655 20.992426 \r\nL 218.553121 19.687714 \r\nL 220.082586 18.735759 \r\nL 221.612052 18.090911 \r\nL 223.141517 17.709586 \r\nL 224.670983 17.55221 \r\nL 226.200448 17.58465 \r\nL 227.729914 17.779137 \r\nL 229.259379 18.114739 \r\nL 230.788845 18.577444 \r\nL 233.847776 19.861258 \r\nL 235.377241 20.686072 \r\nL 236.906707 21.644169 \r\nL 238.436172 22.749634 \r\nL 239.965638 24.020056 \r\nL 241.495103 25.475642 \r\nL 243.024569 27.138249 \r\nL 244.554034 29.030332 \r\nL 246.0835 31.173822 \r\nL 247.612965 33.588962 \r\nL 249.142431 36.293126 \r\nL 250.671896 39.2997 \r\nL 252.201362 42.617059 \r\nL 253.730827 46.247721 \r\nL 256.789758 54.426266 \r\nL 259.848689 63.721726 \r\nL 262.90762 73.917657 \r\nL 267.496017 90.241862 \r\nL 273.613879 112.210079 \r\nL 278.202276 127.691317 \r\nL 281.261207 137.285799 \r\nL 284.320138 146.280681 \r\nL 287.379069 154.717688 \r\nL 290.438 162.646122 \r\nL 293.496931 170.089483 \r\nL 296.555862 177.029074 \r\nL 299.614793 183.407721 \r\nL 302.673724 189.149108 \r\nL 305.732655 194.183475 \r\nL 308.791586 198.470138 \r\nL 310.321051 200.331836 \r\nL 311.850517 202.010903 \r\nL 313.379982 203.514713 \r\nL 314.909448 204.85324 \r\nL 317.968379 207.085599 \r\nL 321.02731 208.82797 \r\nL 324.086241 210.219573 \r\nL 328.674637 211.960765 \r\nL 334.792499 214.246073 \r\nL 339.380896 216.185001 \r\nL 348.557689 220.231716 \r\nL 351.61662 221.381372 \r\nL 354.675551 222.341143 \r\nL 357.734482 223.094743 \r\nL 360.793413 223.651521 \r\nL 365.38181 224.18007 \r\nL 369.970206 224.449427 \r\nL 376.088068 224.590985 \r\nL 376.088068 224.590985 \r\n\" style=\"fill:none;stroke:#1f77b4;stroke-linecap:square;stroke-width:1.5;\"/>\r\n   </g>\r\n   <g id=\"patch_3\">\r\n    <path d=\"M 56.50625 224.64 \r\nL 56.50625 7.2 \r\n\" style=\"fill:none;stroke:#000000;stroke-linecap:square;stroke-linejoin:miter;stroke-width:0.8;\"/>\r\n   </g>\r\n   <g id=\"patch_4\">\r\n    <path d=\"M 391.30625 224.64 \r\nL 391.30625 7.2 \r\n\" style=\"fill:none;stroke:#000000;stroke-linecap:square;stroke-linejoin:miter;stroke-width:0.8;\"/>\r\n   </g>\r\n   <g id=\"patch_5\">\r\n    <path d=\"M 56.50625 224.64 \r\nL 391.30625 224.64 \r\n\" style=\"fill:none;stroke:#000000;stroke-linecap:square;stroke-linejoin:miter;stroke-width:0.8;\"/>\r\n   </g>\r\n   <g id=\"patch_6\">\r\n    <path d=\"M 56.50625 7.2 \r\nL 391.30625 7.2 \r\n\" style=\"fill:none;stroke:#000000;stroke-linecap:square;stroke-linejoin:miter;stroke-width:0.8;\"/>\r\n   </g>\r\n  </g>\r\n </g>\r\n <defs>\r\n  <clipPath id=\"p0ef822e8b4\">\r\n   <rect height=\"217.44\" width=\"334.8\" x=\"56.50625\" y=\"7.2\"/>\r\n  </clipPath>\r\n </defs>\r\n</svg>\r\n",
      "text/plain": [
       "<Figure size 432x288 with 1 Axes>"
      ]
     },
     "metadata": {
      "needs_background": "light"
     }
    }
   ],
   "metadata": {
    "scrolled": false
   }
  },
  {
   "cell_type": "code",
   "execution_count": 8,
   "source": [
    "fig, ax = plt.subplots(figsize=(4,4))\r\n",
    "norm_sample = norm\r\n",
    "probplot(norm_sample, plot=ax)\r\n",
    "ax.set_xlabel('Quantile of normal distribution')\r\n",
    "ax.set_ylabel('Z-score')\r\n",
    "plt.show()"
   ],
   "outputs": [
    {
     "output_type": "display_data",
     "data": {
      "image/png": "[encoded data removed]",
      "image/svg+xml": "<?xml version=\"1.0\" encoding=\"utf-8\" standalone=\"no\"?>\r\n<!DOCTYPE svg PUBLIC \"-//W3C//DTD SVG 1.1//EN\"\r\n  \"http://www.w3.org/Graphics/SVG/1.1/DTD/svg11.dtd\">\r\n<!-- Created with matplotlib (https://matplotlib.org/) -->\r\n<svg height=\"277.314375pt\" version=\"1.1\" viewBox=\"0 0 273.020312 277.314375\" width=\"273.020312pt\" xmlns=\"http://www.w3.org/2000/svg\" xmlns:xlink=\"http://www.w3.org/1999/xlink\">\r\n <metadata>\r\n  <rdf:RDF xmlns:cc=\"http://creativecommons.org/ns#\" xmlns:dc=\"http://purl.org/dc/elements/1.1/\" xmlns:rdf=\"http://www.w3.org/1999/02/22-rdf-syntax-ns#\">\r\n   <cc:Work>\r\n    <dc:type rdf:resource=\"http://purl.org/dc/dcmitype/StillImage\"/>\r\n    <dc:date>2021-09-03T20:34:46.459799</dc:date>\r\n    <dc:format>image/svg+xml</dc:format>\r\n    <dc:creator>\r\n     <cc:Agent>\r\n      <dc:title>Matplotlib v3.3.2, https://matplotlib.org/</dc:title>\r\n     </cc:Agent>\r\n    </dc:creator>\r\n   </cc:Work>\r\n  </rdf:RDF>\r\n </metadata>\r\n <defs>\r\n  <style type=\"text/css\">*{stroke-linecap:butt;stroke-linejoin:round;}</style>\r\n </defs>\r\n <g id=\"figure_1\">\r\n  <g id=\"patch_1\">\r\n   <path d=\"M 0 277.314375 \r\nL 273.020312 277.314375 \r\nL 273.020312 0 \r\nL 0 0 \r\nz\r\n\" style=\"fill:none;\"/>\r\n  </g>\r\n  <g id=\"axes_1\">\r\n   <g id=\"patch_2\">\r\n    <path d=\"M 42.620313 239.758125 \r\nL 265.820312 239.758125 \r\nL 265.820312 22.318125 \r\nL 42.620313 22.318125 \r\nz\r\n\" style=\"fill:#ffffff;\"/>\r\n   </g>\r\n   <g id=\"matplotlib.axis_1\">\r\n    <g id=\"xtick_1\">\r\n     <g id=\"line2d_1\">\r\n      <defs>\r\n       <path d=\"M 0 0 \r\nL 0 3.5 \r\n\" id=\"m2cf5ebec0d\" style=\"stroke:#000000;stroke-width:0.8;\"/>\r\n      </defs>\r\n      <g>\r\n       <use style=\"stroke:#000000;stroke-width:0.8;\" x=\"79.088139\" xlink:href=\"#m2cf5ebec0d\" y=\"239.758125\"/>\r\n      </g>\r\n     </g>\r\n     <g id=\"text_1\">\r\n      <!-- −2 -->\r\n      <g transform=\"translate(71.717046 254.356562)scale(0.1 -0.1)\">\r\n       <defs>\r\n        <path d=\"M 10.59375 35.5 \r\nL 73.1875 35.5 \r\nL 73.1875 27.203125 \r\nL 10.59375 27.203125 \r\nz\r\n\" id=\"DejaVuSans-8722\"/>\r\n        <path d=\"M 19.1875 8.296875 \r\nL 53.609375 8.296875 \r\nL 53.609375 0 \r\nL 7.328125 0 \r\nL 7.328125 8.296875 \r\nQ 12.9375 14.109375 22.625 23.890625 \r\nQ 32.328125 33.6875 34.8125 36.53125 \r\nQ 39.546875 41.84375 41.421875 45.53125 \r\nQ 43.3125 49.21875 43.3125 52.78125 \r\nQ 43.3125 58.59375 39.234375 62.25 \r\nQ 35.15625 65.921875 28.609375 65.921875 \r\nQ 23.96875 65.921875 18.8125 64.3125 \r\nQ 13.671875 62.703125 7.8125 59.421875 \r\nL 7.8125 69.390625 \r\nQ 13.765625 71.78125 18.9375 73 \r\nQ 24.125 74.21875 28.421875 74.21875 \r\nQ 39.75 74.21875 46.484375 68.546875 \r\nQ 53.21875 62.890625 53.21875 53.421875 \r\nQ 53.21875 48.921875 51.53125 44.890625 \r\nQ 49.859375 40.875 45.40625 35.40625 \r\nQ 44.1875 33.984375 37.640625 27.21875 \r\nQ 31.109375 20.453125 19.1875 8.296875 \r\nz\r\n\" id=\"DejaVuSans-50\"/>\r\n       </defs>\r\n       <use xlink:href=\"#DejaVuSans-8722\"/>\r\n       <use x=\"83.789062\" xlink:href=\"#DejaVuSans-50\"/>\r\n      </g>\r\n     </g>\r\n    </g>\r\n    <g id=\"xtick_2\">\r\n     <g id=\"line2d_2\">\r\n      <g>\r\n       <use style=\"stroke:#000000;stroke-width:0.8;\" x=\"116.654226\" xlink:href=\"#m2cf5ebec0d\" y=\"239.758125\"/>\r\n      </g>\r\n     </g>\r\n     <g id=\"text_2\">\r\n      <!-- −1 -->\r\n      <g transform=\"translate(109.283132 254.356562)scale(0.1 -0.1)\">\r\n       <defs>\r\n        <path d=\"M 12.40625 8.296875 \r\nL 28.515625 8.296875 \r\nL 28.515625 63.921875 \r\nL 10.984375 60.40625 \r\nL 10.984375 69.390625 \r\nL 28.421875 72.90625 \r\nL 38.28125 72.90625 \r\nL 38.28125 8.296875 \r\nL 54.390625 8.296875 \r\nL 54.390625 0 \r\nL 12.40625 0 \r\nz\r\n\" id=\"DejaVuSans-49\"/>\r\n       </defs>\r\n       <use xlink:href=\"#DejaVuSans-8722\"/>\r\n       <use x=\"83.789062\" xlink:href=\"#DejaVuSans-49\"/>\r\n      </g>\r\n     </g>\r\n    </g>\r\n    <g id=\"xtick_3\">\r\n     <g id=\"line2d_3\">\r\n      <g>\r\n       <use style=\"stroke:#000000;stroke-width:0.8;\" x=\"154.220313\" xlink:href=\"#m2cf5ebec0d\" y=\"239.758125\"/>\r\n      </g>\r\n     </g>\r\n     <g id=\"text_3\">\r\n      <!-- 0 -->\r\n      <g transform=\"translate(151.039062 254.356562)scale(0.1 -0.1)\">\r\n       <defs>\r\n        <path d=\"M 31.78125 66.40625 \r\nQ 24.171875 66.40625 20.328125 58.90625 \r\nQ 16.5 51.421875 16.5 36.375 \r\nQ 16.5 21.390625 20.328125 13.890625 \r\nQ 24.171875 6.390625 31.78125 6.390625 \r\nQ 39.453125 6.390625 43.28125 13.890625 \r\nQ 47.125 21.390625 47.125 36.375 \r\nQ 47.125 51.421875 43.28125 58.90625 \r\nQ 39.453125 66.40625 31.78125 66.40625 \r\nz\r\nM 31.78125 74.21875 \r\nQ 44.046875 74.21875 50.515625 64.515625 \r\nQ 56.984375 54.828125 56.984375 36.375 \r\nQ 56.984375 17.96875 50.515625 8.265625 \r\nQ 44.046875 -1.421875 31.78125 -1.421875 \r\nQ 19.53125 -1.421875 13.0625 8.265625 \r\nQ 6.59375 17.96875 6.59375 36.375 \r\nQ 6.59375 54.828125 13.0625 64.515625 \r\nQ 19.53125 74.21875 31.78125 74.21875 \r\nz\r\n\" id=\"DejaVuSans-48\"/>\r\n       </defs>\r\n       <use xlink:href=\"#DejaVuSans-48\"/>\r\n      </g>\r\n     </g>\r\n    </g>\r\n    <g id=\"xtick_4\">\r\n     <g id=\"line2d_4\">\r\n      <g>\r\n       <use style=\"stroke:#000000;stroke-width:0.8;\" x=\"191.786399\" xlink:href=\"#m2cf5ebec0d\" y=\"239.758125\"/>\r\n      </g>\r\n     </g>\r\n     <g id=\"text_4\">\r\n      <!-- 1 -->\r\n      <g transform=\"translate(188.605149 254.356562)scale(0.1 -0.1)\">\r\n       <use xlink:href=\"#DejaVuSans-49\"/>\r\n      </g>\r\n     </g>\r\n    </g>\r\n    <g id=\"xtick_5\">\r\n     <g id=\"line2d_5\">\r\n      <g>\r\n       <use style=\"stroke:#000000;stroke-width:0.8;\" x=\"229.352486\" xlink:href=\"#m2cf5ebec0d\" y=\"239.758125\"/>\r\n      </g>\r\n     </g>\r\n     <g id=\"text_5\">\r\n      <!-- 2 -->\r\n      <g transform=\"translate(226.171236 254.356562)scale(0.1 -0.1)\">\r\n       <use xlink:href=\"#DejaVuSans-50\"/>\r\n      </g>\r\n     </g>\r\n    </g>\r\n    <g id=\"text_6\">\r\n     <!-- Quantile of normal distribution -->\r\n     <g transform=\"translate(77.46875 268.034687)scale(0.1 -0.1)\">\r\n      <defs>\r\n       <path d=\"M 39.40625 66.21875 \r\nQ 28.65625 66.21875 22.328125 58.203125 \r\nQ 16.015625 50.203125 16.015625 36.375 \r\nQ 16.015625 22.609375 22.328125 14.59375 \r\nQ 28.65625 6.59375 39.40625 6.59375 \r\nQ 50.140625 6.59375 56.421875 14.59375 \r\nQ 62.703125 22.609375 62.703125 36.375 \r\nQ 62.703125 50.203125 56.421875 58.203125 \r\nQ 50.140625 66.21875 39.40625 66.21875 \r\nz\r\nM 53.21875 1.3125 \r\nL 66.21875 -12.890625 \r\nL 54.296875 -12.890625 \r\nL 43.5 -1.21875 \r\nQ 41.890625 -1.3125 41.03125 -1.359375 \r\nQ 40.1875 -1.421875 39.40625 -1.421875 \r\nQ 24.03125 -1.421875 14.8125 8.859375 \r\nQ 5.609375 19.140625 5.609375 36.375 \r\nQ 5.609375 53.65625 14.8125 63.9375 \r\nQ 24.03125 74.21875 39.40625 74.21875 \r\nQ 54.734375 74.21875 63.90625 63.9375 \r\nQ 73.09375 53.65625 73.09375 36.375 \r\nQ 73.09375 23.6875 67.984375 14.640625 \r\nQ 62.890625 5.609375 53.21875 1.3125 \r\nz\r\n\" id=\"DejaVuSans-81\"/>\r\n       <path d=\"M 8.5 21.578125 \r\nL 8.5 54.6875 \r\nL 17.484375 54.6875 \r\nL 17.484375 21.921875 \r\nQ 17.484375 14.15625 20.5 10.265625 \r\nQ 23.53125 6.390625 29.59375 6.390625 \r\nQ 36.859375 6.390625 41.078125 11.03125 \r\nQ 45.3125 15.671875 45.3125 23.6875 \r\nL 45.3125 54.6875 \r\nL 54.296875 54.6875 \r\nL 54.296875 0 \r\nL 45.3125 0 \r\nL 45.3125 8.40625 \r\nQ 42.046875 3.421875 37.71875 1 \r\nQ 33.40625 -1.421875 27.6875 -1.421875 \r\nQ 18.265625 -1.421875 13.375 4.4375 \r\nQ 8.5 10.296875 8.5 21.578125 \r\nz\r\nM 31.109375 56 \r\nz\r\n\" id=\"DejaVuSans-117\"/>\r\n       <path d=\"M 34.28125 27.484375 \r\nQ 23.390625 27.484375 19.1875 25 \r\nQ 14.984375 22.515625 14.984375 16.5 \r\nQ 14.984375 11.71875 18.140625 8.90625 \r\nQ 21.296875 6.109375 26.703125 6.109375 \r\nQ 34.1875 6.109375 38.703125 11.40625 \r\nQ 43.21875 16.703125 43.21875 25.484375 \r\nL 43.21875 27.484375 \r\nz\r\nM 52.203125 31.203125 \r\nL 52.203125 0 \r\nL 43.21875 0 \r\nL 43.21875 8.296875 \r\nQ 40.140625 3.328125 35.546875 0.953125 \r\nQ 30.953125 -1.421875 24.3125 -1.421875 \r\nQ 15.921875 -1.421875 10.953125 3.296875 \r\nQ 6 8.015625 6 15.921875 \r\nQ 6 25.140625 12.171875 29.828125 \r\nQ 18.359375 34.515625 30.609375 34.515625 \r\nL 43.21875 34.515625 \r\nL 43.21875 35.40625 \r\nQ 43.21875 41.609375 39.140625 45 \r\nQ 35.0625 48.390625 27.6875 48.390625 \r\nQ 23 48.390625 18.546875 47.265625 \r\nQ 14.109375 46.140625 10.015625 43.890625 \r\nL 10.015625 52.203125 \r\nQ 14.9375 54.109375 19.578125 55.046875 \r\nQ 24.21875 56 28.609375 56 \r\nQ 40.484375 56 46.34375 49.84375 \r\nQ 52.203125 43.703125 52.203125 31.203125 \r\nz\r\n\" id=\"DejaVuSans-97\"/>\r\n       <path d=\"M 54.890625 33.015625 \r\nL 54.890625 0 \r\nL 45.90625 0 \r\nL 45.90625 32.71875 \r\nQ 45.90625 40.484375 42.875 44.328125 \r\nQ 39.84375 48.1875 33.796875 48.1875 \r\nQ 26.515625 48.1875 22.3125 43.546875 \r\nQ 18.109375 38.921875 18.109375 30.90625 \r\nL 18.109375 0 \r\nL 9.078125 0 \r\nL 9.078125 54.6875 \r\nL 18.109375 54.6875 \r\nL 18.109375 46.1875 \r\nQ 21.34375 51.125 25.703125 53.5625 \r\nQ 30.078125 56 35.796875 56 \r\nQ 45.21875 56 50.046875 50.171875 \r\nQ 54.890625 44.34375 54.890625 33.015625 \r\nz\r\n\" id=\"DejaVuSans-110\"/>\r\n       <path d=\"M 18.3125 70.21875 \r\nL 18.3125 54.6875 \r\nL 36.8125 54.6875 \r\nL 36.8125 47.703125 \r\nL 18.3125 47.703125 \r\nL 18.3125 18.015625 \r\nQ 18.3125 11.328125 20.140625 9.421875 \r\nQ 21.96875 7.515625 27.59375 7.515625 \r\nL 36.8125 7.515625 \r\nL 36.8125 0 \r\nL 27.59375 0 \r\nQ 17.1875 0 13.234375 3.875 \r\nQ 9.28125 7.765625 9.28125 18.015625 \r\nL 9.28125 47.703125 \r\nL 2.6875 47.703125 \r\nL 2.6875 54.6875 \r\nL 9.28125 54.6875 \r\nL 9.28125 70.21875 \r\nz\r\n\" id=\"DejaVuSans-116\"/>\r\n       <path d=\"M 9.421875 54.6875 \r\nL 18.40625 54.6875 \r\nL 18.40625 0 \r\nL 9.421875 0 \r\nz\r\nM 9.421875 75.984375 \r\nL 18.40625 75.984375 \r\nL 18.40625 64.59375 \r\nL 9.421875 64.59375 \r\nz\r\n\" id=\"DejaVuSans-105\"/>\r\n       <path d=\"M 9.421875 75.984375 \r\nL 18.40625 75.984375 \r\nL 18.40625 0 \r\nL 9.421875 0 \r\nz\r\n\" id=\"DejaVuSans-108\"/>\r\n       <path d=\"M 56.203125 29.59375 \r\nL 56.203125 25.203125 \r\nL 14.890625 25.203125 \r\nQ 15.484375 15.921875 20.484375 11.0625 \r\nQ 25.484375 6.203125 34.421875 6.203125 \r\nQ 39.59375 6.203125 44.453125 7.46875 \r\nQ 49.3125 8.734375 54.109375 11.28125 \r\nL 54.109375 2.78125 \r\nQ 49.265625 0.734375 44.1875 -0.34375 \r\nQ 39.109375 -1.421875 33.890625 -1.421875 \r\nQ 20.796875 -1.421875 13.15625 6.1875 \r\nQ 5.515625 13.8125 5.515625 26.8125 \r\nQ 5.515625 40.234375 12.765625 48.109375 \r\nQ 20.015625 56 32.328125 56 \r\nQ 43.359375 56 49.78125 48.890625 \r\nQ 56.203125 41.796875 56.203125 29.59375 \r\nz\r\nM 47.21875 32.234375 \r\nQ 47.125 39.59375 43.09375 43.984375 \r\nQ 39.0625 48.390625 32.421875 48.390625 \r\nQ 24.90625 48.390625 20.390625 44.140625 \r\nQ 15.875 39.890625 15.1875 32.171875 \r\nz\r\n\" id=\"DejaVuSans-101\"/>\r\n       <path id=\"DejaVuSans-32\"/>\r\n       <path d=\"M 30.609375 48.390625 \r\nQ 23.390625 48.390625 19.1875 42.75 \r\nQ 14.984375 37.109375 14.984375 27.296875 \r\nQ 14.984375 17.484375 19.15625 11.84375 \r\nQ 23.34375 6.203125 30.609375 6.203125 \r\nQ 37.796875 6.203125 41.984375 11.859375 \r\nQ 46.1875 17.53125 46.1875 27.296875 \r\nQ 46.1875 37.015625 41.984375 42.703125 \r\nQ 37.796875 48.390625 30.609375 48.390625 \r\nz\r\nM 30.609375 56 \r\nQ 42.328125 56 49.015625 48.375 \r\nQ 55.71875 40.765625 55.71875 27.296875 \r\nQ 55.71875 13.875 49.015625 6.21875 \r\nQ 42.328125 -1.421875 30.609375 -1.421875 \r\nQ 18.84375 -1.421875 12.171875 6.21875 \r\nQ 5.515625 13.875 5.515625 27.296875 \r\nQ 5.515625 40.765625 12.171875 48.375 \r\nQ 18.84375 56 30.609375 56 \r\nz\r\n\" id=\"DejaVuSans-111\"/>\r\n       <path d=\"M 37.109375 75.984375 \r\nL 37.109375 68.5 \r\nL 28.515625 68.5 \r\nQ 23.6875 68.5 21.796875 66.546875 \r\nQ 19.921875 64.59375 19.921875 59.515625 \r\nL 19.921875 54.6875 \r\nL 34.71875 54.6875 \r\nL 34.71875 47.703125 \r\nL 19.921875 47.703125 \r\nL 19.921875 0 \r\nL 10.890625 0 \r\nL 10.890625 47.703125 \r\nL 2.296875 47.703125 \r\nL 2.296875 54.6875 \r\nL 10.890625 54.6875 \r\nL 10.890625 58.5 \r\nQ 10.890625 67.625 15.140625 71.796875 \r\nQ 19.390625 75.984375 28.609375 75.984375 \r\nz\r\n\" id=\"DejaVuSans-102\"/>\r\n       <path d=\"M 41.109375 46.296875 \r\nQ 39.59375 47.171875 37.8125 47.578125 \r\nQ 36.03125 48 33.890625 48 \r\nQ 26.265625 48 22.1875 43.046875 \r\nQ 18.109375 38.09375 18.109375 28.8125 \r\nL 18.109375 0 \r\nL 9.078125 0 \r\nL 9.078125 54.6875 \r\nL 18.109375 54.6875 \r\nL 18.109375 46.1875 \r\nQ 20.953125 51.171875 25.484375 53.578125 \r\nQ 30.03125 56 36.53125 56 \r\nQ 37.453125 56 38.578125 55.875 \r\nQ 39.703125 55.765625 41.0625 55.515625 \r\nz\r\n\" id=\"DejaVuSans-114\"/>\r\n       <path d=\"M 52 44.1875 \r\nQ 55.375 50.25 60.0625 53.125 \r\nQ 64.75 56 71.09375 56 \r\nQ 79.640625 56 84.28125 50.015625 \r\nQ 88.921875 44.046875 88.921875 33.015625 \r\nL 88.921875 0 \r\nL 79.890625 0 \r\nL 79.890625 32.71875 \r\nQ 79.890625 40.578125 77.09375 44.375 \r\nQ 74.3125 48.1875 68.609375 48.1875 \r\nQ 61.625 48.1875 57.5625 43.546875 \r\nQ 53.515625 38.921875 53.515625 30.90625 \r\nL 53.515625 0 \r\nL 44.484375 0 \r\nL 44.484375 32.71875 \r\nQ 44.484375 40.625 41.703125 44.40625 \r\nQ 38.921875 48.1875 33.109375 48.1875 \r\nQ 26.21875 48.1875 22.15625 43.53125 \r\nQ 18.109375 38.875 18.109375 30.90625 \r\nL 18.109375 0 \r\nL 9.078125 0 \r\nL 9.078125 54.6875 \r\nL 18.109375 54.6875 \r\nL 18.109375 46.1875 \r\nQ 21.1875 51.21875 25.484375 53.609375 \r\nQ 29.78125 56 35.6875 56 \r\nQ 41.65625 56 45.828125 52.96875 \r\nQ 50 49.953125 52 44.1875 \r\nz\r\n\" id=\"DejaVuSans-109\"/>\r\n       <path d=\"M 45.40625 46.390625 \r\nL 45.40625 75.984375 \r\nL 54.390625 75.984375 \r\nL 54.390625 0 \r\nL 45.40625 0 \r\nL 45.40625 8.203125 \r\nQ 42.578125 3.328125 38.25 0.953125 \r\nQ 33.9375 -1.421875 27.875 -1.421875 \r\nQ 17.96875 -1.421875 11.734375 6.484375 \r\nQ 5.515625 14.40625 5.515625 27.296875 \r\nQ 5.515625 40.1875 11.734375 48.09375 \r\nQ 17.96875 56 27.875 56 \r\nQ 33.9375 56 38.25 53.625 \r\nQ 42.578125 51.265625 45.40625 46.390625 \r\nz\r\nM 14.796875 27.296875 \r\nQ 14.796875 17.390625 18.875 11.75 \r\nQ 22.953125 6.109375 30.078125 6.109375 \r\nQ 37.203125 6.109375 41.296875 11.75 \r\nQ 45.40625 17.390625 45.40625 27.296875 \r\nQ 45.40625 37.203125 41.296875 42.84375 \r\nQ 37.203125 48.484375 30.078125 48.484375 \r\nQ 22.953125 48.484375 18.875 42.84375 \r\nQ 14.796875 37.203125 14.796875 27.296875 \r\nz\r\n\" id=\"DejaVuSans-100\"/>\r\n       <path d=\"M 44.28125 53.078125 \r\nL 44.28125 44.578125 \r\nQ 40.484375 46.53125 36.375 47.5 \r\nQ 32.28125 48.484375 27.875 48.484375 \r\nQ 21.1875 48.484375 17.84375 46.4375 \r\nQ 14.5 44.390625 14.5 40.28125 \r\nQ 14.5 37.15625 16.890625 35.375 \r\nQ 19.28125 33.59375 26.515625 31.984375 \r\nL 29.59375 31.296875 \r\nQ 39.15625 29.25 43.1875 25.515625 \r\nQ 47.21875 21.78125 47.21875 15.09375 \r\nQ 47.21875 7.46875 41.1875 3.015625 \r\nQ 35.15625 -1.421875 24.609375 -1.421875 \r\nQ 20.21875 -1.421875 15.453125 -0.5625 \r\nQ 10.6875 0.296875 5.421875 2 \r\nL 5.421875 11.28125 \r\nQ 10.40625 8.6875 15.234375 7.390625 \r\nQ 20.0625 6.109375 24.8125 6.109375 \r\nQ 31.15625 6.109375 34.5625 8.28125 \r\nQ 37.984375 10.453125 37.984375 14.40625 \r\nQ 37.984375 18.0625 35.515625 20.015625 \r\nQ 33.0625 21.96875 24.703125 23.78125 \r\nL 21.578125 24.515625 \r\nQ 13.234375 26.265625 9.515625 29.90625 \r\nQ 5.8125 33.546875 5.8125 39.890625 \r\nQ 5.8125 47.609375 11.28125 51.796875 \r\nQ 16.75 56 26.8125 56 \r\nQ 31.78125 56 36.171875 55.265625 \r\nQ 40.578125 54.546875 44.28125 53.078125 \r\nz\r\n\" id=\"DejaVuSans-115\"/>\r\n       <path d=\"M 48.6875 27.296875 \r\nQ 48.6875 37.203125 44.609375 42.84375 \r\nQ 40.53125 48.484375 33.40625 48.484375 \r\nQ 26.265625 48.484375 22.1875 42.84375 \r\nQ 18.109375 37.203125 18.109375 27.296875 \r\nQ 18.109375 17.390625 22.1875 11.75 \r\nQ 26.265625 6.109375 33.40625 6.109375 \r\nQ 40.53125 6.109375 44.609375 11.75 \r\nQ 48.6875 17.390625 48.6875 27.296875 \r\nz\r\nM 18.109375 46.390625 \r\nQ 20.953125 51.265625 25.265625 53.625 \r\nQ 29.59375 56 35.59375 56 \r\nQ 45.5625 56 51.78125 48.09375 \r\nQ 58.015625 40.1875 58.015625 27.296875 \r\nQ 58.015625 14.40625 51.78125 6.484375 \r\nQ 45.5625 -1.421875 35.59375 -1.421875 \r\nQ 29.59375 -1.421875 25.265625 0.953125 \r\nQ 20.953125 3.328125 18.109375 8.203125 \r\nL 18.109375 0 \r\nL 9.078125 0 \r\nL 9.078125 75.984375 \r\nL 18.109375 75.984375 \r\nz\r\n\" id=\"DejaVuSans-98\"/>\r\n      </defs>\r\n      <use xlink:href=\"#DejaVuSans-81\"/>\r\n      <use x=\"78.710938\" xlink:href=\"#DejaVuSans-117\"/>\r\n      <use x=\"142.089844\" xlink:href=\"#DejaVuSans-97\"/>\r\n      <use x=\"203.369141\" xlink:href=\"#DejaVuSans-110\"/>\r\n      <use x=\"266.748047\" xlink:href=\"#DejaVuSans-116\"/>\r\n      <use x=\"305.957031\" xlink:href=\"#DejaVuSans-105\"/>\r\n      <use x=\"333.740234\" xlink:href=\"#DejaVuSans-108\"/>\r\n      <use x=\"361.523438\" xlink:href=\"#DejaVuSans-101\"/>\r\n      <use x=\"423.046875\" xlink:href=\"#DejaVuSans-32\"/>\r\n      <use x=\"454.833984\" xlink:href=\"#DejaVuSans-111\"/>\r\n      <use x=\"516.015625\" xlink:href=\"#DejaVuSans-102\"/>\r\n      <use x=\"551.220703\" xlink:href=\"#DejaVuSans-32\"/>\r\n      <use x=\"583.007812\" xlink:href=\"#DejaVuSans-110\"/>\r\n      <use x=\"646.386719\" xlink:href=\"#DejaVuSans-111\"/>\r\n      <use x=\"707.568359\" xlink:href=\"#DejaVuSans-114\"/>\r\n      <use x=\"746.931641\" xlink:href=\"#DejaVuSans-109\"/>\r\n      <use x=\"844.34375\" xlink:href=\"#DejaVuSans-97\"/>\r\n      <use x=\"905.623047\" xlink:href=\"#DejaVuSans-108\"/>\r\n      <use x=\"933.40625\" xlink:href=\"#DejaVuSans-32\"/>\r\n      <use x=\"965.193359\" xlink:href=\"#DejaVuSans-100\"/>\r\n      <use x=\"1028.669922\" xlink:href=\"#DejaVuSans-105\"/>\r\n      <use x=\"1056.453125\" xlink:href=\"#DejaVuSans-115\"/>\r\n      <use x=\"1108.552734\" xlink:href=\"#DejaVuSans-116\"/>\r\n      <use x=\"1147.761719\" xlink:href=\"#DejaVuSans-114\"/>\r\n      <use x=\"1188.875\" xlink:href=\"#DejaVuSans-105\"/>\r\n      <use x=\"1216.658203\" xlink:href=\"#DejaVuSans-98\"/>\r\n      <use x=\"1280.134766\" xlink:href=\"#DejaVuSans-117\"/>\r\n      <use x=\"1343.513672\" xlink:href=\"#DejaVuSans-116\"/>\r\n      <use x=\"1382.722656\" xlink:href=\"#DejaVuSans-105\"/>\r\n      <use x=\"1410.505859\" xlink:href=\"#DejaVuSans-111\"/>\r\n      <use x=\"1471.6875\" xlink:href=\"#DejaVuSans-110\"/>\r\n     </g>\r\n    </g>\r\n   </g>\r\n   <g id=\"matplotlib.axis_2\">\r\n    <g id=\"ytick_1\">\r\n     <g id=\"line2d_6\">\r\n      <defs>\r\n       <path d=\"M 0 0 \r\nL -3.5 0 \r\n\" id=\"m57577bfb98\" style=\"stroke:#000000;stroke-width:0.8;\"/>\r\n      </defs>\r\n      <g>\r\n       <use style=\"stroke:#000000;stroke-width:0.8;\" x=\"42.620313\" xlink:href=\"#m57577bfb98\" y=\"217.609358\"/>\r\n      </g>\r\n     </g>\r\n     <g id=\"text_7\">\r\n      <!-- −2 -->\r\n      <g transform=\"translate(20.878125 221.408577)scale(0.1 -0.1)\">\r\n       <use xlink:href=\"#DejaVuSans-8722\"/>\r\n       <use x=\"83.789062\" xlink:href=\"#DejaVuSans-50\"/>\r\n      </g>\r\n     </g>\r\n    </g>\r\n    <g id=\"ytick_2\">\r\n     <g id=\"line2d_7\">\r\n      <g>\r\n       <use style=\"stroke:#000000;stroke-width:0.8;\" x=\"42.620313\" xlink:href=\"#m57577bfb98\" y=\"185.660936\"/>\r\n      </g>\r\n     </g>\r\n     <g id=\"text_8\">\r\n      <!-- 0 -->\r\n      <g transform=\"translate(29.257813 189.460155)scale(0.1 -0.1)\">\r\n       <use xlink:href=\"#DejaVuSans-48\"/>\r\n      </g>\r\n     </g>\r\n    </g>\r\n    <g id=\"ytick_3\">\r\n     <g id=\"line2d_8\">\r\n      <g>\r\n       <use style=\"stroke:#000000;stroke-width:0.8;\" x=\"42.620313\" xlink:href=\"#m57577bfb98\" y=\"153.712514\"/>\r\n      </g>\r\n     </g>\r\n     <g id=\"text_9\">\r\n      <!-- 2 -->\r\n      <g transform=\"translate(29.257813 157.511733)scale(0.1 -0.1)\">\r\n       <use xlink:href=\"#DejaVuSans-50\"/>\r\n      </g>\r\n     </g>\r\n    </g>\r\n    <g id=\"ytick_4\">\r\n     <g id=\"line2d_9\">\r\n      <g>\r\n       <use style=\"stroke:#000000;stroke-width:0.8;\" x=\"42.620313\" xlink:href=\"#m57577bfb98\" y=\"121.764092\"/>\r\n      </g>\r\n     </g>\r\n     <g id=\"text_10\">\r\n      <!-- 4 -->\r\n      <g transform=\"translate(29.257813 125.563311)scale(0.1 -0.1)\">\r\n       <defs>\r\n        <path d=\"M 37.796875 64.3125 \r\nL 12.890625 25.390625 \r\nL 37.796875 25.390625 \r\nz\r\nM 35.203125 72.90625 \r\nL 47.609375 72.90625 \r\nL 47.609375 25.390625 \r\nL 58.015625 25.390625 \r\nL 58.015625 17.1875 \r\nL 47.609375 17.1875 \r\nL 47.609375 0 \r\nL 37.796875 0 \r\nL 37.796875 17.1875 \r\nL 4.890625 17.1875 \r\nL 4.890625 26.703125 \r\nz\r\n\" id=\"DejaVuSans-52\"/>\r\n       </defs>\r\n       <use xlink:href=\"#DejaVuSans-52\"/>\r\n      </g>\r\n     </g>\r\n    </g>\r\n    <g id=\"ytick_5\">\r\n     <g id=\"line2d_10\">\r\n      <g>\r\n       <use style=\"stroke:#000000;stroke-width:0.8;\" x=\"42.620313\" xlink:href=\"#m57577bfb98\" y=\"89.815671\"/>\r\n      </g>\r\n     </g>\r\n     <g id=\"text_11\">\r\n      <!-- 6 -->\r\n      <g transform=\"translate(29.257813 93.614889)scale(0.1 -0.1)\">\r\n       <defs>\r\n        <path d=\"M 33.015625 40.375 \r\nQ 26.375 40.375 22.484375 35.828125 \r\nQ 18.609375 31.296875 18.609375 23.390625 \r\nQ 18.609375 15.53125 22.484375 10.953125 \r\nQ 26.375 6.390625 33.015625 6.390625 \r\nQ 39.65625 6.390625 43.53125 10.953125 \r\nQ 47.40625 15.53125 47.40625 23.390625 \r\nQ 47.40625 31.296875 43.53125 35.828125 \r\nQ 39.65625 40.375 33.015625 40.375 \r\nz\r\nM 52.59375 71.296875 \r\nL 52.59375 62.3125 \r\nQ 48.875 64.0625 45.09375 64.984375 \r\nQ 41.3125 65.921875 37.59375 65.921875 \r\nQ 27.828125 65.921875 22.671875 59.328125 \r\nQ 17.53125 52.734375 16.796875 39.40625 \r\nQ 19.671875 43.65625 24.015625 45.921875 \r\nQ 28.375 48.1875 33.59375 48.1875 \r\nQ 44.578125 48.1875 50.953125 41.515625 \r\nQ 57.328125 34.859375 57.328125 23.390625 \r\nQ 57.328125 12.15625 50.6875 5.359375 \r\nQ 44.046875 -1.421875 33.015625 -1.421875 \r\nQ 20.359375 -1.421875 13.671875 8.265625 \r\nQ 6.984375 17.96875 6.984375 36.375 \r\nQ 6.984375 53.65625 15.1875 63.9375 \r\nQ 23.390625 74.21875 37.203125 74.21875 \r\nQ 40.921875 74.21875 44.703125 73.484375 \r\nQ 48.484375 72.75 52.59375 71.296875 \r\nz\r\n\" id=\"DejaVuSans-54\"/>\r\n       </defs>\r\n       <use xlink:href=\"#DejaVuSans-54\"/>\r\n      </g>\r\n     </g>\r\n    </g>\r\n    <g id=\"ytick_6\">\r\n     <g id=\"line2d_11\">\r\n      <g>\r\n       <use style=\"stroke:#000000;stroke-width:0.8;\" x=\"42.620313\" xlink:href=\"#m57577bfb98\" y=\"57.867249\"/>\r\n      </g>\r\n     </g>\r\n     <g id=\"text_12\">\r\n      <!-- 8 -->\r\n      <g transform=\"translate(29.257813 61.666467)scale(0.1 -0.1)\">\r\n       <defs>\r\n        <path d=\"M 31.78125 34.625 \r\nQ 24.75 34.625 20.71875 30.859375 \r\nQ 16.703125 27.09375 16.703125 20.515625 \r\nQ 16.703125 13.921875 20.71875 10.15625 \r\nQ 24.75 6.390625 31.78125 6.390625 \r\nQ 38.8125 6.390625 42.859375 10.171875 \r\nQ 46.921875 13.96875 46.921875 20.515625 \r\nQ 46.921875 27.09375 42.890625 30.859375 \r\nQ 38.875 34.625 31.78125 34.625 \r\nz\r\nM 21.921875 38.8125 \r\nQ 15.578125 40.375 12.03125 44.71875 \r\nQ 8.5 49.078125 8.5 55.328125 \r\nQ 8.5 64.0625 14.71875 69.140625 \r\nQ 20.953125 74.21875 31.78125 74.21875 \r\nQ 42.671875 74.21875 48.875 69.140625 \r\nQ 55.078125 64.0625 55.078125 55.328125 \r\nQ 55.078125 49.078125 51.53125 44.71875 \r\nQ 48 40.375 41.703125 38.8125 \r\nQ 48.828125 37.15625 52.796875 32.3125 \r\nQ 56.78125 27.484375 56.78125 20.515625 \r\nQ 56.78125 9.90625 50.3125 4.234375 \r\nQ 43.84375 -1.421875 31.78125 -1.421875 \r\nQ 19.734375 -1.421875 13.25 4.234375 \r\nQ 6.78125 9.90625 6.78125 20.515625 \r\nQ 6.78125 27.484375 10.78125 32.3125 \r\nQ 14.796875 37.15625 21.921875 38.8125 \r\nz\r\nM 18.3125 54.390625 \r\nQ 18.3125 48.734375 21.84375 45.5625 \r\nQ 25.390625 42.390625 31.78125 42.390625 \r\nQ 38.140625 42.390625 41.71875 45.5625 \r\nQ 45.3125 48.734375 45.3125 54.390625 \r\nQ 45.3125 60.0625 41.71875 63.234375 \r\nQ 38.140625 66.40625 31.78125 66.40625 \r\nQ 25.390625 66.40625 21.84375 63.234375 \r\nQ 18.3125 60.0625 18.3125 54.390625 \r\nz\r\n\" id=\"DejaVuSans-56\"/>\r\n       </defs>\r\n       <use xlink:href=\"#DejaVuSans-56\"/>\r\n      </g>\r\n     </g>\r\n    </g>\r\n    <g id=\"ytick_7\">\r\n     <g id=\"line2d_12\">\r\n      <g>\r\n       <use style=\"stroke:#000000;stroke-width:0.8;\" x=\"42.620313\" xlink:href=\"#m57577bfb98\" y=\"25.918827\"/>\r\n      </g>\r\n     </g>\r\n     <g id=\"text_13\">\r\n      <!-- 10 -->\r\n      <g transform=\"translate(22.895313 29.718046)scale(0.1 -0.1)\">\r\n       <use xlink:href=\"#DejaVuSans-49\"/>\r\n       <use x=\"63.623047\" xlink:href=\"#DejaVuSans-48\"/>\r\n      </g>\r\n     </g>\r\n    </g>\r\n    <g id=\"text_14\">\r\n     <!-- Z-score -->\r\n     <g transform=\"translate(14.798438 149.612344)rotate(-90)scale(0.1 -0.1)\">\r\n      <defs>\r\n       <path d=\"M 5.609375 72.90625 \r\nL 62.890625 72.90625 \r\nL 62.890625 65.375 \r\nL 16.796875 8.296875 \r\nL 64.015625 8.296875 \r\nL 64.015625 0 \r\nL 4.5 0 \r\nL 4.5 7.515625 \r\nL 50.59375 64.59375 \r\nL 5.609375 64.59375 \r\nz\r\n\" id=\"DejaVuSans-90\"/>\r\n       <path d=\"M 4.890625 31.390625 \r\nL 31.203125 31.390625 \r\nL 31.203125 23.390625 \r\nL 4.890625 23.390625 \r\nz\r\n\" id=\"DejaVuSans-45\"/>\r\n       <path d=\"M 48.78125 52.59375 \r\nL 48.78125 44.1875 \r\nQ 44.96875 46.296875 41.140625 47.34375 \r\nQ 37.3125 48.390625 33.40625 48.390625 \r\nQ 24.65625 48.390625 19.8125 42.84375 \r\nQ 14.984375 37.3125 14.984375 27.296875 \r\nQ 14.984375 17.28125 19.8125 11.734375 \r\nQ 24.65625 6.203125 33.40625 6.203125 \r\nQ 37.3125 6.203125 41.140625 7.25 \r\nQ 44.96875 8.296875 48.78125 10.40625 \r\nL 48.78125 2.09375 \r\nQ 45.015625 0.34375 40.984375 -0.53125 \r\nQ 36.96875 -1.421875 32.421875 -1.421875 \r\nQ 20.0625 -1.421875 12.78125 6.34375 \r\nQ 5.515625 14.109375 5.515625 27.296875 \r\nQ 5.515625 40.671875 12.859375 48.328125 \r\nQ 20.21875 56 33.015625 56 \r\nQ 37.15625 56 41.109375 55.140625 \r\nQ 45.0625 54.296875 48.78125 52.59375 \r\nz\r\n\" id=\"DejaVuSans-99\"/>\r\n      </defs>\r\n      <use xlink:href=\"#DejaVuSans-90\"/>\r\n      <use x=\"66.755859\" xlink:href=\"#DejaVuSans-45\"/>\r\n      <use x=\"102.839844\" xlink:href=\"#DejaVuSans-115\"/>\r\n      <use x=\"154.939453\" xlink:href=\"#DejaVuSans-99\"/>\r\n      <use x=\"209.919922\" xlink:href=\"#DejaVuSans-111\"/>\r\n      <use x=\"271.101562\" xlink:href=\"#DejaVuSans-114\"/>\r\n      <use x=\"309.964844\" xlink:href=\"#DejaVuSans-101\"/>\r\n     </g>\r\n    </g>\r\n   </g>\r\n   <g id=\"line2d_13\">\r\n    <defs>\r\n     <path d=\"M 0 3 \r\nC 0.795609 3 1.55874 2.683901 2.12132 2.12132 \r\nC 2.683901 1.55874 3 0.795609 3 0 \r\nC 3 -0.795609 2.683901 -1.55874 2.12132 -2.12132 \r\nC 1.55874 -2.683901 0.795609 -3 0 -3 \r\nC -0.795609 -3 -1.55874 -2.683901 -2.12132 -2.12132 \r\nC -2.683901 -1.55874 -3 -0.795609 -3 0 \r\nC -3 0.795609 -2.683901 1.55874 -2.12132 2.12132 \r\nC -1.55874 2.683901 -0.795609 3 0 3 \r\nz\r\n\" id=\"m68180188a8\" style=\"stroke:#0000ff;\"/>\r\n    </defs>\r\n    <g clip-path=\"url(#p45db54cd04)\">\r\n     <use style=\"fill:#0000ff;stroke:#0000ff;\" x=\"52.765767\" xlink:href=\"#m68180188a8\" y=\"229.874489\"/>\r\n     <use style=\"fill:#0000ff;stroke:#0000ff;\" x=\"64.393065\" xlink:href=\"#m68180188a8\" y=\"225.129768\"/>\r\n     <use style=\"fill:#0000ff;stroke:#0000ff;\" x=\"71.020223\" xlink:href=\"#m68180188a8\" y=\"202.491613\"/>\r\n     <use style=\"fill:#0000ff;stroke:#0000ff;\" x=\"75.765692\" xlink:href=\"#m68180188a8\" y=\"199.921085\"/>\r\n     <use style=\"fill:#0000ff;stroke:#0000ff;\" x=\"79.514464\" xlink:href=\"#m68180188a8\" y=\"196.404304\"/>\r\n     <use style=\"fill:#0000ff;stroke:#0000ff;\" x=\"82.639979\" xlink:href=\"#m68180188a8\" y=\"185.092792\"/>\r\n     <use style=\"fill:#0000ff;stroke:#0000ff;\" x=\"85.336575\" xlink:href=\"#m68180188a8\" y=\"180.048242\"/>\r\n     <use style=\"fill:#0000ff;stroke:#0000ff;\" x=\"87.718845\" xlink:href=\"#m68180188a8\" y=\"179.868015\"/>\r\n     <use style=\"fill:#0000ff;stroke:#0000ff;\" x=\"89.860271\" xlink:href=\"#m68180188a8\" y=\"179.480209\"/>\r\n     <use style=\"fill:#0000ff;stroke:#0000ff;\" x=\"91.810913\" xlink:href=\"#m68180188a8\" y=\"176.106986\"/>\r\n     <use style=\"fill:#0000ff;stroke:#0000ff;\" x=\"93.606476\" xlink:href=\"#m68180188a8\" y=\"173.846042\"/>\r\n     <use style=\"fill:#0000ff;stroke:#0000ff;\" x=\"95.273357\" xlink:href=\"#m68180188a8\" y=\"172.107281\"/>\r\n     <use style=\"fill:#0000ff;stroke:#0000ff;\" x=\"96.831649\" xlink:href=\"#m68180188a8\" y=\"171.881705\"/>\r\n     <use style=\"fill:#0000ff;stroke:#0000ff;\" x=\"98.297015\" xlink:href=\"#m68180188a8\" y=\"171.085121\"/>\r\n     <use style=\"fill:#0000ff;stroke:#0000ff;\" x=\"99.68191\" xlink:href=\"#m68180188a8\" y=\"170.968387\"/>\r\n     <use style=\"fill:#0000ff;stroke:#0000ff;\" x=\"100.996412\" xlink:href=\"#m68180188a8\" y=\"170.894562\"/>\r\n     <use style=\"fill:#0000ff;stroke:#0000ff;\" x=\"102.248795\" xlink:href=\"#m68180188a8\" y=\"168.879259\"/>\r\n     <use style=\"fill:#0000ff;stroke:#0000ff;\" x=\"103.44594\" xlink:href=\"#m68180188a8\" y=\"168.701185\"/>\r\n     <use style=\"fill:#0000ff;stroke:#0000ff;\" x=\"104.593631\" xlink:href=\"#m68180188a8\" y=\"167.380387\"/>\r\n     <use style=\"fill:#0000ff;stroke:#0000ff;\" x=\"105.696783\" xlink:href=\"#m68180188a8\" y=\"164.37355\"/>\r\n     <use style=\"fill:#0000ff;stroke:#0000ff;\" x=\"106.759608\" xlink:href=\"#m68180188a8\" y=\"163.882508\"/>\r\n     <use style=\"fill:#0000ff;stroke:#0000ff;\" x=\"107.785744\" xlink:href=\"#m68180188a8\" y=\"163.769577\"/>\r\n     <use style=\"fill:#0000ff;stroke:#0000ff;\" x=\"108.778356\" xlink:href=\"#m68180188a8\" y=\"161.357764\"/>\r\n     <use style=\"fill:#0000ff;stroke:#0000ff;\" x=\"109.740217\" xlink:href=\"#m68180188a8\" y=\"160.703608\"/>\r\n     <use style=\"fill:#0000ff;stroke:#0000ff;\" x=\"110.673769\" xlink:href=\"#m68180188a8\" y=\"157.314161\"/>\r\n     <use style=\"fill:#0000ff;stroke:#0000ff;\" x=\"111.581175\" xlink:href=\"#m68180188a8\" y=\"156.833332\"/>\r\n     <use style=\"fill:#0000ff;stroke:#0000ff;\" x=\"112.464362\" xlink:href=\"#m68180188a8\" y=\"156.176462\"/>\r\n     <use style=\"fill:#0000ff;stroke:#0000ff;\" x=\"113.325053\" xlink:href=\"#m68180188a8\" y=\"155.191796\"/>\r\n     <use style=\"fill:#0000ff;stroke:#0000ff;\" x=\"114.164795\" xlink:href=\"#m68180188a8\" y=\"154.873332\"/>\r\n     <use style=\"fill:#0000ff;stroke:#0000ff;\" x=\"114.984985\" xlink:href=\"#m68180188a8\" y=\"154.744172\"/>\r\n     <use style=\"fill:#0000ff;stroke:#0000ff;\" x=\"115.786886\" xlink:href=\"#m68180188a8\" y=\"154.331553\"/>\r\n     <use style=\"fill:#0000ff;stroke:#0000ff;\" x=\"116.571646\" xlink:href=\"#m68180188a8\" y=\"153.988949\"/>\r\n     <use style=\"fill:#0000ff;stroke:#0000ff;\" x=\"117.34031\" xlink:href=\"#m68180188a8\" y=\"153.743657\"/>\r\n     <use style=\"fill:#0000ff;stroke:#0000ff;\" x=\"118.093836\" xlink:href=\"#m68180188a8\" y=\"153.65456\"/>\r\n     <use style=\"fill:#0000ff;stroke:#0000ff;\" x=\"118.8331\" xlink:href=\"#m68180188a8\" y=\"153.225466\"/>\r\n     <use style=\"fill:#0000ff;stroke:#0000ff;\" x=\"119.558907\" xlink:href=\"#m68180188a8\" y=\"152.377722\"/>\r\n     <use style=\"fill:#0000ff;stroke:#0000ff;\" x=\"120.272\" xlink:href=\"#m68180188a8\" y=\"151.824851\"/>\r\n     <use style=\"fill:#0000ff;stroke:#0000ff;\" x=\"120.973066\" xlink:href=\"#m68180188a8\" y=\"151.492052\"/>\r\n     <use style=\"fill:#0000ff;stroke:#0000ff;\" x=\"121.66274\" xlink:href=\"#m68180188a8\" y=\"151.19229\"/>\r\n     <use style=\"fill:#0000ff;stroke:#0000ff;\" x=\"122.34161\" xlink:href=\"#m68180188a8\" y=\"149.71616\"/>\r\n     <use style=\"fill:#0000ff;stroke:#0000ff;\" x=\"123.010227\" xlink:href=\"#m68180188a8\" y=\"149.185072\"/>\r\n     <use style=\"fill:#0000ff;stroke:#0000ff;\" x=\"123.669099\" xlink:href=\"#m68180188a8\" y=\"148.697696\"/>\r\n     <use style=\"fill:#0000ff;stroke:#0000ff;\" x=\"124.318705\" xlink:href=\"#m68180188a8\" y=\"147.952555\"/>\r\n     <use style=\"fill:#0000ff;stroke:#0000ff;\" x=\"124.95949\" xlink:href=\"#m68180188a8\" y=\"147.878458\"/>\r\n     <use style=\"fill:#0000ff;stroke:#0000ff;\" x=\"125.591872\" xlink:href=\"#m68180188a8\" y=\"147.615477\"/>\r\n     <use style=\"fill:#0000ff;stroke:#0000ff;\" x=\"126.216243\" xlink:href=\"#m68180188a8\" y=\"146.333773\"/>\r\n     <use style=\"fill:#0000ff;stroke:#0000ff;\" x=\"126.832973\" xlink:href=\"#m68180188a8\" y=\"145.632259\"/>\r\n     <use style=\"fill:#0000ff;stroke:#0000ff;\" x=\"127.442408\" xlink:href=\"#m68180188a8\" y=\"144.885385\"/>\r\n     <use style=\"fill:#0000ff;stroke:#0000ff;\" x=\"128.044875\" xlink:href=\"#m68180188a8\" y=\"144.738965\"/>\r\n     <use style=\"fill:#0000ff;stroke:#0000ff;\" x=\"128.640684\" xlink:href=\"#m68180188a8\" y=\"144.605973\"/>\r\n     <use style=\"fill:#0000ff;stroke:#0000ff;\" x=\"129.230127\" xlink:href=\"#m68180188a8\" y=\"144.41892\"/>\r\n     <use style=\"fill:#0000ff;stroke:#0000ff;\" x=\"129.81348\" xlink:href=\"#m68180188a8\" y=\"144.379984\"/>\r\n     <use style=\"fill:#0000ff;stroke:#0000ff;\" x=\"130.391006\" xlink:href=\"#m68180188a8\" y=\"144.26759\"/>\r\n     <use style=\"fill:#0000ff;stroke:#0000ff;\" x=\"130.962954\" xlink:href=\"#m68180188a8\" y=\"144.201291\"/>\r\n     <use style=\"fill:#0000ff;stroke:#0000ff;\" x=\"131.529561\" xlink:href=\"#m68180188a8\" y=\"143.286661\"/>\r\n     <use style=\"fill:#0000ff;stroke:#0000ff;\" x=\"132.091052\" xlink:href=\"#m68180188a8\" y=\"143.122154\"/>\r\n     <use style=\"fill:#0000ff;stroke:#0000ff;\" x=\"132.647642\" xlink:href=\"#m68180188a8\" y=\"143.095874\"/>\r\n     <use style=\"fill:#0000ff;stroke:#0000ff;\" x=\"133.199537\" xlink:href=\"#m68180188a8\" y=\"143.084148\"/>\r\n     <use style=\"fill:#0000ff;stroke:#0000ff;\" x=\"133.746931\" xlink:href=\"#m68180188a8\" y=\"142.810444\"/>\r\n     <use style=\"fill:#0000ff;stroke:#0000ff;\" x=\"134.290011\" xlink:href=\"#m68180188a8\" y=\"142.76594\"/>\r\n     <use style=\"fill:#0000ff;stroke:#0000ff;\" x=\"134.828958\" xlink:href=\"#m68180188a8\" y=\"142.743026\"/>\r\n     <use style=\"fill:#0000ff;stroke:#0000ff;\" x=\"135.363943\" xlink:href=\"#m68180188a8\" y=\"142.700977\"/>\r\n     <use style=\"fill:#0000ff;stroke:#0000ff;\" x=\"135.895131\" xlink:href=\"#m68180188a8\" y=\"141.673465\"/>\r\n     <use style=\"fill:#0000ff;stroke:#0000ff;\" x=\"136.422679\" xlink:href=\"#m68180188a8\" y=\"140.414464\"/>\r\n     <use style=\"fill:#0000ff;stroke:#0000ff;\" x=\"136.946741\" xlink:href=\"#m68180188a8\" y=\"140.164913\"/>\r\n     <use style=\"fill:#0000ff;stroke:#0000ff;\" x=\"137.467462\" xlink:href=\"#m68180188a8\" y=\"139.619844\"/>\r\n     <use style=\"fill:#0000ff;stroke:#0000ff;\" x=\"137.984984\" xlink:href=\"#m68180188a8\" y=\"139.16436\"/>\r\n     <use style=\"fill:#0000ff;stroke:#0000ff;\" x=\"138.499443\" xlink:href=\"#m68180188a8\" y=\"139.034459\"/>\r\n     <use style=\"fill:#0000ff;stroke:#0000ff;\" x=\"139.01097\" xlink:href=\"#m68180188a8\" y=\"138.938032\"/>\r\n     <use style=\"fill:#0000ff;stroke:#0000ff;\" x=\"139.519692\" xlink:href=\"#m68180188a8\" y=\"138.333783\"/>\r\n     <use style=\"fill:#0000ff;stroke:#0000ff;\" x=\"140.025732\" xlink:href=\"#m68180188a8\" y=\"137.458055\"/>\r\n     <use style=\"fill:#0000ff;stroke:#0000ff;\" x=\"140.52921\" xlink:href=\"#m68180188a8\" y=\"137.452909\"/>\r\n     <use style=\"fill:#0000ff;stroke:#0000ff;\" x=\"141.03024\" xlink:href=\"#m68180188a8\" y=\"137.037504\"/>\r\n     <use style=\"fill:#0000ff;stroke:#0000ff;\" x=\"141.528935\" xlink:href=\"#m68180188a8\" y=\"136.655942\"/>\r\n     <use style=\"fill:#0000ff;stroke:#0000ff;\" x=\"142.025403\" xlink:href=\"#m68180188a8\" y=\"136.172382\"/>\r\n     <use style=\"fill:#0000ff;stroke:#0000ff;\" x=\"142.51975\" xlink:href=\"#m68180188a8\" y=\"135.6911\"/>\r\n     <use style=\"fill:#0000ff;stroke:#0000ff;\" x=\"143.012079\" xlink:href=\"#m68180188a8\" y=\"135.443721\"/>\r\n     <use style=\"fill:#0000ff;stroke:#0000ff;\" x=\"143.50249\" xlink:href=\"#m68180188a8\" y=\"134.933299\"/>\r\n     <use style=\"fill:#0000ff;stroke:#0000ff;\" x=\"143.991082\" xlink:href=\"#m68180188a8\" y=\"133.462721\"/>\r\n     <use style=\"fill:#0000ff;stroke:#0000ff;\" x=\"144.477949\" xlink:href=\"#m68180188a8\" y=\"132.795602\"/>\r\n     <use style=\"fill:#0000ff;stroke:#0000ff;\" x=\"144.963185\" xlink:href=\"#m68180188a8\" y=\"132.521614\"/>\r\n     <use style=\"fill:#0000ff;stroke:#0000ff;\" x=\"145.446882\" xlink:href=\"#m68180188a8\" y=\"132.252738\"/>\r\n     <use style=\"fill:#0000ff;stroke:#0000ff;\" x=\"145.929128\" xlink:href=\"#m68180188a8\" y=\"131.753326\"/>\r\n     <use style=\"fill:#0000ff;stroke:#0000ff;\" x=\"146.410012\" xlink:href=\"#m68180188a8\" y=\"131.70061\"/>\r\n     <use style=\"fill:#0000ff;stroke:#0000ff;\" x=\"146.889619\" xlink:href=\"#m68180188a8\" y=\"131.530391\"/>\r\n     <use style=\"fill:#0000ff;stroke:#0000ff;\" x=\"147.368034\" xlink:href=\"#m68180188a8\" y=\"130.132667\"/>\r\n     <use style=\"fill:#0000ff;stroke:#0000ff;\" x=\"147.845341\" xlink:href=\"#m68180188a8\" y=\"129.907216\"/>\r\n     <use style=\"fill:#0000ff;stroke:#0000ff;\" x=\"148.32162\" xlink:href=\"#m68180188a8\" y=\"129.190536\"/>\r\n     <use style=\"fill:#0000ff;stroke:#0000ff;\" x=\"148.796953\" xlink:href=\"#m68180188a8\" y=\"128.981154\"/>\r\n     <use style=\"fill:#0000ff;stroke:#0000ff;\" x=\"149.271419\" xlink:href=\"#m68180188a8\" y=\"128.794425\"/>\r\n     <use style=\"fill:#0000ff;stroke:#0000ff;\" x=\"149.745098\" xlink:href=\"#m68180188a8\" y=\"128.105823\"/>\r\n     <use style=\"fill:#0000ff;stroke:#0000ff;\" x=\"150.218065\" xlink:href=\"#m68180188a8\" y=\"128.096095\"/>\r\n     <use style=\"fill:#0000ff;stroke:#0000ff;\" x=\"150.690399\" xlink:href=\"#m68180188a8\" y=\"127.927385\"/>\r\n     <use style=\"fill:#0000ff;stroke:#0000ff;\" x=\"151.162176\" xlink:href=\"#m68180188a8\" y=\"127.358862\"/>\r\n     <use style=\"fill:#0000ff;stroke:#0000ff;\" x=\"151.633471\" xlink:href=\"#m68180188a8\" y=\"127.090412\"/>\r\n     <use style=\"fill:#0000ff;stroke:#0000ff;\" x=\"152.104359\" xlink:href=\"#m68180188a8\" y=\"126.644513\"/>\r\n     <use style=\"fill:#0000ff;stroke:#0000ff;\" x=\"152.574915\" xlink:href=\"#m68180188a8\" y=\"126.088826\"/>\r\n     <use style=\"fill:#0000ff;stroke:#0000ff;\" x=\"153.045212\" xlink:href=\"#m68180188a8\" y=\"126.017019\"/>\r\n     <use style=\"fill:#0000ff;stroke:#0000ff;\" x=\"153.515326\" xlink:href=\"#m68180188a8\" y=\"125.945636\"/>\r\n     <use style=\"fill:#0000ff;stroke:#0000ff;\" x=\"153.985329\" xlink:href=\"#m68180188a8\" y=\"125.317732\"/>\r\n     <use style=\"fill:#0000ff;stroke:#0000ff;\" x=\"154.455296\" xlink:href=\"#m68180188a8\" y=\"124.687737\"/>\r\n     <use style=\"fill:#0000ff;stroke:#0000ff;\" x=\"154.925299\" xlink:href=\"#m68180188a8\" y=\"124.651647\"/>\r\n     <use style=\"fill:#0000ff;stroke:#0000ff;\" x=\"155.395413\" xlink:href=\"#m68180188a8\" y=\"124.238036\"/>\r\n     <use style=\"fill:#0000ff;stroke:#0000ff;\" x=\"155.86571\" xlink:href=\"#m68180188a8\" y=\"124.229282\"/>\r\n     <use style=\"fill:#0000ff;stroke:#0000ff;\" x=\"156.336266\" xlink:href=\"#m68180188a8\" y=\"124.220609\"/>\r\n     <use style=\"fill:#0000ff;stroke:#0000ff;\" x=\"156.807154\" xlink:href=\"#m68180188a8\" y=\"124.141217\"/>\r\n     <use style=\"fill:#0000ff;stroke:#0000ff;\" x=\"157.278449\" xlink:href=\"#m68180188a8\" y=\"123.322702\"/>\r\n     <use style=\"fill:#0000ff;stroke:#0000ff;\" x=\"157.750226\" xlink:href=\"#m68180188a8\" y=\"122.432189\"/>\r\n     <use style=\"fill:#0000ff;stroke:#0000ff;\" x=\"158.22256\" xlink:href=\"#m68180188a8\" y=\"120.1478\"/>\r\n     <use style=\"fill:#0000ff;stroke:#0000ff;\" x=\"158.695527\" xlink:href=\"#m68180188a8\" y=\"119.904577\"/>\r\n     <use style=\"fill:#0000ff;stroke:#0000ff;\" x=\"159.169206\" xlink:href=\"#m68180188a8\" y=\"119.682834\"/>\r\n     <use style=\"fill:#0000ff;stroke:#0000ff;\" x=\"159.643672\" xlink:href=\"#m68180188a8\" y=\"119.540694\"/>\r\n     <use style=\"fill:#0000ff;stroke:#0000ff;\" x=\"160.119005\" xlink:href=\"#m68180188a8\" y=\"119.146772\"/>\r\n     <use style=\"fill:#0000ff;stroke:#0000ff;\" x=\"160.595284\" xlink:href=\"#m68180188a8\" y=\"118.963717\"/>\r\n     <use style=\"fill:#0000ff;stroke:#0000ff;\" x=\"161.072591\" xlink:href=\"#m68180188a8\" y=\"118.39823\"/>\r\n     <use style=\"fill:#0000ff;stroke:#0000ff;\" x=\"161.551006\" xlink:href=\"#m68180188a8\" y=\"117.809066\"/>\r\n     <use style=\"fill:#0000ff;stroke:#0000ff;\" x=\"162.030613\" xlink:href=\"#m68180188a8\" y=\"117.754151\"/>\r\n     <use style=\"fill:#0000ff;stroke:#0000ff;\" x=\"162.511497\" xlink:href=\"#m68180188a8\" y=\"117.421808\"/>\r\n     <use style=\"fill:#0000ff;stroke:#0000ff;\" x=\"162.993743\" xlink:href=\"#m68180188a8\" y=\"117.000485\"/>\r\n     <use style=\"fill:#0000ff;stroke:#0000ff;\" x=\"163.47744\" xlink:href=\"#m68180188a8\" y=\"116.362252\"/>\r\n     <use style=\"fill:#0000ff;stroke:#0000ff;\" x=\"163.962676\" xlink:href=\"#m68180188a8\" y=\"116.097387\"/>\r\n     <use style=\"fill:#0000ff;stroke:#0000ff;\" x=\"164.449543\" xlink:href=\"#m68180188a8\" y=\"115.654638\"/>\r\n     <use style=\"fill:#0000ff;stroke:#0000ff;\" x=\"164.938135\" xlink:href=\"#m68180188a8\" y=\"115.006338\"/>\r\n     <use style=\"fill:#0000ff;stroke:#0000ff;\" x=\"165.428546\" xlink:href=\"#m68180188a8\" y=\"115.004382\"/>\r\n     <use style=\"fill:#0000ff;stroke:#0000ff;\" x=\"165.920875\" xlink:href=\"#m68180188a8\" y=\"114.981444\"/>\r\n     <use style=\"fill:#0000ff;stroke:#0000ff;\" x=\"166.415222\" xlink:href=\"#m68180188a8\" y=\"113.597467\"/>\r\n     <use style=\"fill:#0000ff;stroke:#0000ff;\" x=\"166.91169\" xlink:href=\"#m68180188a8\" y=\"113.297222\"/>\r\n     <use style=\"fill:#0000ff;stroke:#0000ff;\" x=\"167.410385\" xlink:href=\"#m68180188a8\" y=\"112.713118\"/>\r\n     <use style=\"fill:#0000ff;stroke:#0000ff;\" x=\"167.911415\" xlink:href=\"#m68180188a8\" y=\"111.801109\"/>\r\n     <use style=\"fill:#0000ff;stroke:#0000ff;\" x=\"168.414893\" xlink:href=\"#m68180188a8\" y=\"111.452114\"/>\r\n     <use style=\"fill:#0000ff;stroke:#0000ff;\" x=\"168.920933\" xlink:href=\"#m68180188a8\" y=\"111.112704\"/>\r\n     <use style=\"fill:#0000ff;stroke:#0000ff;\" x=\"169.429655\" xlink:href=\"#m68180188a8\" y=\"110.460919\"/>\r\n     <use style=\"fill:#0000ff;stroke:#0000ff;\" x=\"169.941182\" xlink:href=\"#m68180188a8\" y=\"110.123001\"/>\r\n     <use style=\"fill:#0000ff;stroke:#0000ff;\" x=\"170.455641\" xlink:href=\"#m68180188a8\" y=\"110.087045\"/>\r\n     <use style=\"fill:#0000ff;stroke:#0000ff;\" x=\"170.973163\" xlink:href=\"#m68180188a8\" y=\"109.814945\"/>\r\n     <use style=\"fill:#0000ff;stroke:#0000ff;\" x=\"171.493884\" xlink:href=\"#m68180188a8\" y=\"109.576272\"/>\r\n     <use style=\"fill:#0000ff;stroke:#0000ff;\" x=\"172.017946\" xlink:href=\"#m68180188a8\" y=\"108.859951\"/>\r\n     <use style=\"fill:#0000ff;stroke:#0000ff;\" x=\"172.545494\" xlink:href=\"#m68180188a8\" y=\"108.833179\"/>\r\n     <use style=\"fill:#0000ff;stroke:#0000ff;\" x=\"173.076682\" xlink:href=\"#m68180188a8\" y=\"108.826184\"/>\r\n     <use style=\"fill:#0000ff;stroke:#0000ff;\" x=\"173.611667\" xlink:href=\"#m68180188a8\" y=\"108.77289\"/>\r\n     <use style=\"fill:#0000ff;stroke:#0000ff;\" x=\"174.150614\" xlink:href=\"#m68180188a8\" y=\"108.281072\"/>\r\n     <use style=\"fill:#0000ff;stroke:#0000ff;\" x=\"174.693694\" xlink:href=\"#m68180188a8\" y=\"108.092535\"/>\r\n     <use style=\"fill:#0000ff;stroke:#0000ff;\" x=\"175.241088\" xlink:href=\"#m68180188a8\" y=\"107.409691\"/>\r\n     <use style=\"fill:#0000ff;stroke:#0000ff;\" x=\"175.792983\" xlink:href=\"#m68180188a8\" y=\"105.810219\"/>\r\n     <use style=\"fill:#0000ff;stroke:#0000ff;\" x=\"176.349573\" xlink:href=\"#m68180188a8\" y=\"105.689547\"/>\r\n     <use style=\"fill:#0000ff;stroke:#0000ff;\" x=\"176.911064\" xlink:href=\"#m68180188a8\" y=\"104.95064\"/>\r\n     <use style=\"fill:#0000ff;stroke:#0000ff;\" x=\"177.477671\" xlink:href=\"#m68180188a8\" y=\"104.577025\"/>\r\n     <use style=\"fill:#0000ff;stroke:#0000ff;\" x=\"178.049619\" xlink:href=\"#m68180188a8\" y=\"103.791997\"/>\r\n     <use style=\"fill:#0000ff;stroke:#0000ff;\" x=\"178.627145\" xlink:href=\"#m68180188a8\" y=\"103.031799\"/>\r\n     <use style=\"fill:#0000ff;stroke:#0000ff;\" x=\"179.210498\" xlink:href=\"#m68180188a8\" y=\"103.016734\"/>\r\n     <use style=\"fill:#0000ff;stroke:#0000ff;\" x=\"179.799941\" xlink:href=\"#m68180188a8\" y=\"102.480466\"/>\r\n     <use style=\"fill:#0000ff;stroke:#0000ff;\" x=\"180.39575\" xlink:href=\"#m68180188a8\" y=\"101.891524\"/>\r\n     <use style=\"fill:#0000ff;stroke:#0000ff;\" x=\"180.998217\" xlink:href=\"#m68180188a8\" y=\"101.632923\"/>\r\n     <use style=\"fill:#0000ff;stroke:#0000ff;\" x=\"181.607652\" xlink:href=\"#m68180188a8\" y=\"100.966787\"/>\r\n     <use style=\"fill:#0000ff;stroke:#0000ff;\" x=\"182.224382\" xlink:href=\"#m68180188a8\" y=\"100.929136\"/>\r\n     <use style=\"fill:#0000ff;stroke:#0000ff;\" x=\"182.848753\" xlink:href=\"#m68180188a8\" y=\"100.837482\"/>\r\n     <use style=\"fill:#0000ff;stroke:#0000ff;\" x=\"183.481135\" xlink:href=\"#m68180188a8\" y=\"100.603638\"/>\r\n     <use style=\"fill:#0000ff;stroke:#0000ff;\" x=\"184.12192\" xlink:href=\"#m68180188a8\" y=\"100.227017\"/>\r\n     <use style=\"fill:#0000ff;stroke:#0000ff;\" x=\"184.771526\" xlink:href=\"#m68180188a8\" y=\"98.183163\"/>\r\n     <use style=\"fill:#0000ff;stroke:#0000ff;\" x=\"185.430398\" xlink:href=\"#m68180188a8\" y=\"98.174787\"/>\r\n     <use style=\"fill:#0000ff;stroke:#0000ff;\" x=\"186.099015\" xlink:href=\"#m68180188a8\" y=\"97.698941\"/>\r\n     <use style=\"fill:#0000ff;stroke:#0000ff;\" x=\"186.777885\" xlink:href=\"#m68180188a8\" y=\"97.400725\"/>\r\n     <use style=\"fill:#0000ff;stroke:#0000ff;\" x=\"187.467559\" xlink:href=\"#m68180188a8\" y=\"96.662076\"/>\r\n     <use style=\"fill:#0000ff;stroke:#0000ff;\" x=\"188.168625\" xlink:href=\"#m68180188a8\" y=\"96.604008\"/>\r\n     <use style=\"fill:#0000ff;stroke:#0000ff;\" x=\"188.881718\" xlink:href=\"#m68180188a8\" y=\"96.386519\"/>\r\n     <use style=\"fill:#0000ff;stroke:#0000ff;\" x=\"189.607525\" xlink:href=\"#m68180188a8\" y=\"95.587339\"/>\r\n     <use style=\"fill:#0000ff;stroke:#0000ff;\" x=\"190.346789\" xlink:href=\"#m68180188a8\" y=\"95.191155\"/>\r\n     <use style=\"fill:#0000ff;stroke:#0000ff;\" x=\"191.100315\" xlink:href=\"#m68180188a8\" y=\"93.323293\"/>\r\n     <use style=\"fill:#0000ff;stroke:#0000ff;\" x=\"191.868979\" xlink:href=\"#m68180188a8\" y=\"92.315317\"/>\r\n     <use style=\"fill:#0000ff;stroke:#0000ff;\" x=\"192.653739\" xlink:href=\"#m68180188a8\" y=\"91.376386\"/>\r\n     <use style=\"fill:#0000ff;stroke:#0000ff;\" x=\"193.45564\" xlink:href=\"#m68180188a8\" y=\"91.171831\"/>\r\n     <use style=\"fill:#0000ff;stroke:#0000ff;\" x=\"194.27583\" xlink:href=\"#m68180188a8\" y=\"91.059867\"/>\r\n     <use style=\"fill:#0000ff;stroke:#0000ff;\" x=\"195.115572\" xlink:href=\"#m68180188a8\" y=\"90.72466\"/>\r\n     <use style=\"fill:#0000ff;stroke:#0000ff;\" x=\"195.976263\" xlink:href=\"#m68180188a8\" y=\"90.626147\"/>\r\n     <use style=\"fill:#0000ff;stroke:#0000ff;\" x=\"196.85945\" xlink:href=\"#m68180188a8\" y=\"90.17065\"/>\r\n     <use style=\"fill:#0000ff;stroke:#0000ff;\" x=\"197.766856\" xlink:href=\"#m68180188a8\" y=\"89.279007\"/>\r\n     <use style=\"fill:#0000ff;stroke:#0000ff;\" x=\"198.700408\" xlink:href=\"#m68180188a8\" y=\"85.919274\"/>\r\n     <use style=\"fill:#0000ff;stroke:#0000ff;\" x=\"199.662269\" xlink:href=\"#m68180188a8\" y=\"85.260592\"/>\r\n     <use style=\"fill:#0000ff;stroke:#0000ff;\" x=\"200.654881\" xlink:href=\"#m68180188a8\" y=\"84.610113\"/>\r\n     <use style=\"fill:#0000ff;stroke:#0000ff;\" x=\"201.681017\" xlink:href=\"#m68180188a8\" y=\"84.117581\"/>\r\n     <use style=\"fill:#0000ff;stroke:#0000ff;\" x=\"202.743842\" xlink:href=\"#m68180188a8\" y=\"83.702652\"/>\r\n     <use style=\"fill:#0000ff;stroke:#0000ff;\" x=\"203.846994\" xlink:href=\"#m68180188a8\" y=\"81.111004\"/>\r\n     <use style=\"fill:#0000ff;stroke:#0000ff;\" x=\"204.994685\" xlink:href=\"#m68180188a8\" y=\"80.206777\"/>\r\n     <use style=\"fill:#0000ff;stroke:#0000ff;\" x=\"206.19183\" xlink:href=\"#m68180188a8\" y=\"80.090723\"/>\r\n     <use style=\"fill:#0000ff;stroke:#0000ff;\" x=\"207.444213\" xlink:href=\"#m68180188a8\" y=\"78.908653\"/>\r\n     <use style=\"fill:#0000ff;stroke:#0000ff;\" x=\"208.758715\" xlink:href=\"#m68180188a8\" y=\"76.009709\"/>\r\n     <use style=\"fill:#0000ff;stroke:#0000ff;\" x=\"210.14361\" xlink:href=\"#m68180188a8\" y=\"75.114519\"/>\r\n     <use style=\"fill:#0000ff;stroke:#0000ff;\" x=\"211.608976\" xlink:href=\"#m68180188a8\" y=\"73.764716\"/>\r\n     <use style=\"fill:#0000ff;stroke:#0000ff;\" x=\"213.167268\" xlink:href=\"#m68180188a8\" y=\"73.590299\"/>\r\n     <use style=\"fill:#0000ff;stroke:#0000ff;\" x=\"214.834149\" xlink:href=\"#m68180188a8\" y=\"72.987653\"/>\r\n     <use style=\"fill:#0000ff;stroke:#0000ff;\" x=\"216.629712\" xlink:href=\"#m68180188a8\" y=\"71.614751\"/>\r\n     <use style=\"fill:#0000ff;stroke:#0000ff;\" x=\"218.580354\" xlink:href=\"#m68180188a8\" y=\"69.406688\"/>\r\n     <use style=\"fill:#0000ff;stroke:#0000ff;\" x=\"220.72178\" xlink:href=\"#m68180188a8\" y=\"68.253932\"/>\r\n     <use style=\"fill:#0000ff;stroke:#0000ff;\" x=\"223.10405\" xlink:href=\"#m68180188a8\" y=\"62.918522\"/>\r\n     <use style=\"fill:#0000ff;stroke:#0000ff;\" x=\"225.800646\" xlink:href=\"#m68180188a8\" y=\"62.146182\"/>\r\n     <use style=\"fill:#0000ff;stroke:#0000ff;\" x=\"228.926161\" xlink:href=\"#m68180188a8\" y=\"53.624174\"/>\r\n     <use style=\"fill:#0000ff;stroke:#0000ff;\" x=\"232.674933\" xlink:href=\"#m68180188a8\" y=\"53.235149\"/>\r\n     <use style=\"fill:#0000ff;stroke:#0000ff;\" x=\"237.420402\" xlink:href=\"#m68180188a8\" y=\"42.478167\"/>\r\n     <use style=\"fill:#0000ff;stroke:#0000ff;\" x=\"244.04756\" xlink:href=\"#m68180188a8\" y=\"35.745428\"/>\r\n     <use style=\"fill:#0000ff;stroke:#0000ff;\" x=\"255.674858\" xlink:href=\"#m68180188a8\" y=\"32.201761\"/>\r\n    </g>\r\n   </g>\r\n   <g id=\"line2d_14\">\r\n    <path clip-path=\"url(#p45db54cd04)\" d=\"M 52.765767 213.360165 \r\nL 255.674858 35.404219 \r\nL 255.674858 35.404219 \r\n\" style=\"fill:none;stroke:#ff0000;stroke-linecap:square;stroke-width:1.5;\"/>\r\n   </g>\r\n   <g id=\"patch_3\">\r\n    <path d=\"M 42.620313 239.758125 \r\nL 42.620313 22.318125 \r\n\" style=\"fill:none;stroke:#000000;stroke-linecap:square;stroke-linejoin:miter;stroke-width:0.8;\"/>\r\n   </g>\r\n   <g id=\"patch_4\">\r\n    <path d=\"M 265.820312 239.758125 \r\nL 265.820312 22.318125 \r\n\" style=\"fill:none;stroke:#000000;stroke-linecap:square;stroke-linejoin:miter;stroke-width:0.8;\"/>\r\n   </g>\r\n   <g id=\"patch_5\">\r\n    <path d=\"M 42.620313 239.758125 \r\nL 265.820312 239.758125 \r\n\" style=\"fill:none;stroke:#000000;stroke-linecap:square;stroke-linejoin:miter;stroke-width:0.8;\"/>\r\n   </g>\r\n   <g id=\"patch_6\">\r\n    <path d=\"M 42.620313 22.318125 \r\nL 265.820312 22.318125 \r\n\" style=\"fill:none;stroke:#000000;stroke-linecap:square;stroke-linejoin:miter;stroke-width:0.8;\"/>\r\n   </g>\r\n   <g id=\"text_15\">\r\n    <!-- Probability Plot -->\r\n    <g transform=\"translate(109.290625 16.318125)scale(0.12 -0.12)\">\r\n     <defs>\r\n      <path d=\"M 19.671875 64.796875 \r\nL 19.671875 37.40625 \r\nL 32.078125 37.40625 \r\nQ 38.96875 37.40625 42.71875 40.96875 \r\nQ 46.484375 44.53125 46.484375 51.125 \r\nQ 46.484375 57.671875 42.71875 61.234375 \r\nQ 38.96875 64.796875 32.078125 64.796875 \r\nz\r\nM 9.8125 72.90625 \r\nL 32.078125 72.90625 \r\nQ 44.34375 72.90625 50.609375 67.359375 \r\nQ 56.890625 61.8125 56.890625 51.125 \r\nQ 56.890625 40.328125 50.609375 34.8125 \r\nQ 44.34375 29.296875 32.078125 29.296875 \r\nL 19.671875 29.296875 \r\nL 19.671875 0 \r\nL 9.8125 0 \r\nz\r\n\" id=\"DejaVuSans-80\"/>\r\n      <path d=\"M 32.171875 -5.078125 \r\nQ 28.375 -14.84375 24.75 -17.8125 \r\nQ 21.140625 -20.796875 15.09375 -20.796875 \r\nL 7.90625 -20.796875 \r\nL 7.90625 -13.28125 \r\nL 13.1875 -13.28125 \r\nQ 16.890625 -13.28125 18.9375 -11.515625 \r\nQ 21 -9.765625 23.484375 -3.21875 \r\nL 25.09375 0.875 \r\nL 2.984375 54.6875 \r\nL 12.5 54.6875 \r\nL 29.59375 11.921875 \r\nL 46.6875 54.6875 \r\nL 56.203125 54.6875 \r\nz\r\n\" id=\"DejaVuSans-121\"/>\r\n     </defs>\r\n     <use xlink:href=\"#DejaVuSans-80\"/>\r\n     <use x=\"58.552734\" xlink:href=\"#DejaVuSans-114\"/>\r\n     <use x=\"97.416016\" xlink:href=\"#DejaVuSans-111\"/>\r\n     <use x=\"158.597656\" xlink:href=\"#DejaVuSans-98\"/>\r\n     <use x=\"222.074219\" xlink:href=\"#DejaVuSans-97\"/>\r\n     <use x=\"283.353516\" xlink:href=\"#DejaVuSans-98\"/>\r\n     <use x=\"346.830078\" xlink:href=\"#DejaVuSans-105\"/>\r\n     <use x=\"374.613281\" xlink:href=\"#DejaVuSans-108\"/>\r\n     <use x=\"402.396484\" xlink:href=\"#DejaVuSans-105\"/>\r\n     <use x=\"430.179688\" xlink:href=\"#DejaVuSans-116\"/>\r\n     <use x=\"469.388672\" xlink:href=\"#DejaVuSans-121\"/>\r\n     <use x=\"528.568359\" xlink:href=\"#DejaVuSans-32\"/>\r\n     <use x=\"560.355469\" xlink:href=\"#DejaVuSans-80\"/>\r\n     <use x=\"620.658203\" xlink:href=\"#DejaVuSans-108\"/>\r\n     <use x=\"648.441406\" xlink:href=\"#DejaVuSans-111\"/>\r\n     <use x=\"709.623047\" xlink:href=\"#DejaVuSans-116\"/>\r\n    </g>\r\n   </g>\r\n  </g>\r\n </g>\r\n <defs>\r\n  <clipPath id=\"p45db54cd04\">\r\n   <rect height=\"217.44\" width=\"223.2\" x=\"42.620313\" y=\"22.318125\"/>\r\n  </clipPath>\r\n </defs>\r\n</svg>\r\n",
      "text/plain": [
       "<Figure size 288x288 with 1 Axes>"
      ]
     },
     "metadata": {
      "needs_background": "light"
     }
    }
   ],
   "metadata": {
    "scrolled": false
   }
  },
  {
   "cell_type": "markdown",
   "source": [
    "A more in-depth example would be visitors to a website, let's say that the probability of a visitor purchasing something when they visit a website is 0.1, or 10%. In a sample of 500 visitors you would expect there to be 50 purchases, but what if you only got 41? Is this different enough from the expected value to be statistically significant or just due to random chance?"
   ],
   "metadata": {}
  },
  {
   "cell_type": "markdown",
   "source": [
    "We can investigate this using np.random.choice(). Here we have provided it with 2 choices, either 'y' or 'n' with 'y' representing a purchase. The size=1 means it only makes the choice once, and the p=[0.1,0.9] represents the probabilities of being chosen, they should add up to 1. "
   ],
   "metadata": {}
  },
  {
   "cell_type": "code",
   "execution_count": 9,
   "source": [
    "one_visitor = np.random.choice(['y', 'n'], size=1, p=[0.1, 0.9])\r\n",
    "print(one_visitor)"
   ],
   "outputs": [
    {
     "output_type": "stream",
     "name": "stdout",
     "text": [
      "['n']\n"
     ]
    }
   ],
   "metadata": {}
  },
  {
   "cell_type": "markdown",
   "source": [
    "Setting the size to 10 means making 10 choices, with the probability of 0.1 for 'y' you would expect to see 'y' once per running, however it can vary with sometimes there being zero 'y's or even two 'y's. Run it enough times and you could potentially see such extremes as nine or ten 'y's. However, the consensus is that it will generally be about 1 'y'. "
   ],
   "metadata": {}
  },
  {
   "cell_type": "code",
   "execution_count": 10,
   "source": [
    "ten_visitors = np.random.choice(['y', 'n'], size=10, p=[0.1, 0.9])\r\n",
    "print(ten_visitors)"
   ],
   "outputs": [
    {
     "output_type": "stream",
     "name": "stdout",
     "text": [
      "['n' 'n' 'n' 'n' 'n' 'n' 'y' 'n' 'n' 'n']\n"
     ]
    }
   ],
   "metadata": {}
  },
  {
   "cell_type": "markdown",
   "source": [
    "Here we use a size of 500 to simulate our initial problem. Running it a number of times and using np.sum() to find the number of 'y's will give values ranging from about 40 to 60."
   ],
   "metadata": {}
  },
  {
   "cell_type": "code",
   "execution_count": 11,
   "source": [
    "fivehundred_visitors = np.random.choice(['y', 'n'], size=500, p=[0.1, 0.9])\r\n",
    "np.sum(fivehundred_visitors == 'y')"
   ],
   "outputs": [
    {
     "output_type": "execute_result",
     "data": {
      "text/plain": [
       "52"
      ]
     },
     "metadata": {},
     "execution_count": 11
    }
   ],
   "metadata": {}
  },
  {
   "cell_type": "markdown",
   "source": [
    "We can use a for loop to work out a p-value. Here we have run the experiment 10000 times and then appended the number of 'y' values to a list named 'outcomes'. Each value within the list is a result of the experiment and from these we can figure out the likelihood of a specific or range of values occurring. "
   ],
   "metadata": {}
  },
  {
   "cell_type": "code",
   "execution_count": 12,
   "source": [
    "outcomes = []\r\n",
    "\r\n",
    "for i in range(10000): \r\n",
    "    visitors = np.random.choice(['y', 'n'], size=500, p=[0.1, 0.9])\r\n",
    "    outcomes.append(np.sum(visitors == 'y'))\r\n",
    "print(outcomes[:5])"
   ],
   "outputs": [
    {
     "output_type": "stream",
     "name": "stdout",
     "text": [
      "[52, 57, 55, 47, 53]\n"
     ]
    }
   ],
   "metadata": {}
  },
  {
   "cell_type": "code",
   "execution_count": 13,
   "source": [
    "outcomes = np.array(outcomes)\r\n",
    "p_value = np.sum((outcomes <= 41)/len(outcomes))\r\n",
    "print(p_value)"
   ],
   "outputs": [
    {
     "output_type": "stream",
     "name": "stdout",
     "text": [
      "0.0986\n"
     ]
    }
   ],
   "metadata": {}
  },
  {
   "cell_type": "markdown",
   "source": [
    "The result should be around 0.1, or 10%. This shows that the probability of observing 41 or less purchases in a size of 500 with a 10% pick rate is around 0.1. As this is not below 0.05 which is the usual scientific standard for determining statistical significance, we can say that this result is not statistically significant. "
   ],
   "metadata": {}
  },
  {
   "cell_type": "markdown",
   "source": [
    "Using percentiles, we can also determine the confidence intervals. Here we have calculated the 95% confidence interval of the range of values within outcomes, this lets us say that we can be 95% certain that out of 500 visitors, we can expect between 37 and 64 purchases. If we change the confidence interval to 90% for example, the numbers expected get higher as we are less certain that the numbers will be closer to the expected value of 50. In this case, we are only 90% certain that we will get between 39 and 61 sales.\\\n",
    "We can also see that our original value of 41 is within the 95% confidence interval and that it is likely it occurred due to random chance. "
   ],
   "metadata": {}
  },
  {
   "cell_type": "code",
   "execution_count": 14,
   "source": [
    "print(np.percentile(outcomes, [2.5,97.5]))\r\n",
    "print(np.percentile(outcomes, [5,95]))"
   ],
   "outputs": [
    {
     "output_type": "stream",
     "name": "stdout",
     "text": [
      "[37. 64.]\n",
      "[39. 61.]\n"
     ]
    }
   ],
   "metadata": {}
  },
  {
   "cell_type": "markdown",
   "source": [
    "This is only a one-sided test however, as we were determining the p-value of obtaining a result of 41 or less. A two-sided test would also include going higher than the expected value of 50, so 59 or higher or 41 or less (they are both 9 away from the expected value). We can include this in our looping test using '|'. This sums the number of values in outcomes that are above 41 or 59, then divides them by the total length of outcomes to result in a p-value. As we can see, the p_value is nearly twice as big as the one-sided test. This emphasises how we must be certain about what question we are asking before performing any testing to avoid obtaining the wrong result. It could be the difference between determining the result is statistically significant or a product of random chance. "
   ],
   "metadata": {}
  },
  {
   "cell_type": "code",
   "execution_count": 15,
   "source": [
    "p_value = np.sum((outcomes <= 41) | (outcomes >= 59))/len(outcomes)\r\n",
    "print(p_value)"
   ],
   "outputs": [
    {
     "output_type": "stream",
     "name": "stdout",
     "text": [
      "0.2084\n"
     ]
    }
   ],
   "metadata": {}
  },
  {
   "cell_type": "markdown",
   "source": [
    "We can also use scipy.stats.binom_test to calculate this all automatically. The parameters are the number of successes, the size of the group and the probability of a success occurring. binom_test is set to default as two-sided, but this can be changed with alternative='less' for lower one-sided or 'greater' for higher one-sided. "
   ],
   "metadata": {}
  },
  {
   "cell_type": "code",
   "execution_count": 16,
   "source": [
    "binom_test(41, n=500, p=0.1)"
   ],
   "outputs": [
    {
     "output_type": "execute_result",
     "data": {
      "text/plain": [
       "0.20456397700678308"
      ]
     },
     "metadata": {},
     "execution_count": 16
    }
   ],
   "metadata": {}
  },
  {
   "cell_type": "code",
   "execution_count": 17,
   "source": [
    "binom_test(41, n=500, p=0.1, alternative='less')"
   ],
   "outputs": [
    {
     "output_type": "execute_result",
     "data": {
      "text/plain": [
       "0.1001135269756488"
      ]
     },
     "metadata": {},
     "execution_count": 17
    }
   ],
   "metadata": {
    "scrolled": true
   }
  },
  {
   "cell_type": "markdown",
   "source": [
    "Here we can find the probability of achieving exactly 41 successes using binom.pmf(). Using cdf() is the same as running a one-sided test. "
   ],
   "metadata": {}
  },
  {
   "cell_type": "code",
   "execution_count": 18,
   "source": [
    "binom.pmf(41,n=500,p=0.1)"
   ],
   "outputs": [
    {
     "output_type": "execute_result",
     "data": {
      "text/plain": [
       "0.025024237316633308"
      ]
     },
     "metadata": {},
     "execution_count": 18
    }
   ],
   "metadata": {}
  },
  {
   "cell_type": "code",
   "execution_count": 19,
   "source": [
    "binom.cdf(41,n=500,p=0.1)"
   ],
   "outputs": [
    {
     "output_type": "execute_result",
     "data": {
      "text/plain": [
       "0.1001135269756488"
      ]
     },
     "metadata": {},
     "execution_count": 19
    }
   ],
   "metadata": {}
  },
  {
   "cell_type": "markdown",
   "source": [
    "Here is an example of a binomial type question: \r\n",
    "The probability that a professor arrives at school after 9pm on any given day is 0.1. Over a period of 20 days, calculate the probability that he arrives late at least once, but not more than 3 times. For this, we need to use binom.pmf() as it gives us the exact probability of an event occurring. We then sum up these probabilities to give us the chance of at least one of them occurring. In this instance we do not use .cdf() because this includes the probability of the event occurring 0 times, the question here states that it must happen at least once. "
   ],
   "metadata": {}
  },
  {
   "cell_type": "code",
   "execution_count": 20,
   "source": [
    "a = stats.binom.pmf(1, 20, 0.1)\r\n",
    "b = stats.binom.pmf(2, 20, 0.1)\r\n",
    "c = stats.binom.pmf(3, 20, 0.1)\r\n",
    "print(a+b+c)\r\n",
    "\r\n",
    "#A quicker method of doing the above, it returns a list of the results of binom.pdf() which numpy then sums into one value. \r\n",
    "e = stats.binom.pmf([1,2,3],20,0.1) \r\n",
    "print(np.sum(e))"
   ],
   "outputs": [
    {
     "output_type": "stream",
     "name": "stdout",
     "text": [
      "0.745470021975095\n",
      "0.745470021975095\n"
     ]
    }
   ],
   "metadata": {}
  },
  {
   "cell_type": "markdown",
   "source": [
    "The above is correct, below is incorrect as it includes the probability of it occurring 0 times. "
   ],
   "metadata": {}
  },
  {
   "cell_type": "code",
   "execution_count": 21,
   "source": [
    "d = stats.binom.pmf(0,20,0.1)\r\n",
    "print(a+b+c+d)\r\n",
    "print(stats.binom.cdf(3,20,0.1))"
   ],
   "outputs": [
    {
     "output_type": "stream",
     "name": "stdout",
     "text": [
      "0.8670466765656643\n",
      "0.867046676565665\n"
     ]
    }
   ],
   "metadata": {}
  },
  {
   "cell_type": "markdown",
   "source": [
    "We could use .cdf() to find the answer to the above question. It involves using the cdf() of the top range of the successes minus the cdf() of one below the bottom range"
   ],
   "metadata": {}
  },
  {
   "cell_type": "code",
   "execution_count": 22,
   "source": [
    "high = stats.binom.cdf(3, 20, 0.1)\r\n",
    "low = stats.binom.cdf(0, 20, 0.1)\r\n",
    "print(high-low)"
   ],
   "outputs": [
    {
     "output_type": "stream",
     "name": "stdout",
     "text": [
      "0.7454700219750957\n"
     ]
    }
   ],
   "metadata": {}
  },
  {
   "cell_type": "markdown",
   "source": [
    "Here's another example:"
   ],
   "metadata": {}
  },
  {
   "cell_type": "code",
   "execution_count": 23,
   "source": [
    "print(np.sum(stats.binom.pmf([2,3,4], 10, 0.5)))\r\n",
    "print(stats.binom.cdf(4, 10, 0.5) - stats.binom.cdf(1, 10, 0.5))"
   ],
   "outputs": [
    {
     "output_type": "stream",
     "name": "stdout",
     "text": [
      "0.36621093750000033\n",
      "0.3662109375000001\n"
     ]
    }
   ],
   "metadata": {}
  },
  {
   "cell_type": "markdown",
   "source": [
    "Also, we can use .pmf() in a reverse way by taking away from 1. As all the probabilities must sum to 1, if we were trying to find 18 or lower successes in 20 coin flips, we could find the probability of 19 and 20 then minus them from 1. This is admittedly the same as using .cdf() for 18 successes. "
   ],
   "metadata": {}
  },
  {
   "cell_type": "code",
   "execution_count": 24,
   "source": [
    "print(1 - np.sum(stats.binom.pmf([19,20], 20, 0.5)))\r\n",
    "print(stats.binom.cdf(18,20,0.5))"
   ],
   "outputs": [
    {
     "output_type": "stream",
     "name": "stdout",
     "text": [
      "0.9999799728393555\n",
      "0.9999799728393555\n"
     ]
    }
   ],
   "metadata": {}
  }
 ],
 "metadata": {
  "kernelspec": {
   "name": "python3",
   "display_name": "Python 3.8.11 64-bit ('base': conda)"
  },
  "language_info": {
   "codemirror_mode": {
    "name": "ipython",
    "version": 3
   },
   "file_extension": ".py",
   "mimetype": "text/x-python",
   "name": "python",
   "nbconvert_exporter": "python",
   "pygments_lexer": "ipython3",
   "version": "3.8.11"
  },
  "interpreter": {
   "hash": "68e5eec871f4a0b113878d9d8f753a0df0ad6db7c0ea5b0051ec16ab875e30ce"
  }
 },
 "nbformat": 4,
 "nbformat_minor": 4
}