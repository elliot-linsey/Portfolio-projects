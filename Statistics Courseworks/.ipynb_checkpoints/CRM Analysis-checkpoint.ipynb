{
 "cells": [
  {
   "cell_type": "code",
   "execution_count": 2,
   "id": "d70cdaa8",
   "metadata": {},
   "outputs": [],
   "source": [
    "import pandas as pd\n",
    "from scipy import stats\n",
    "from matplotlib import pyplot as plt\n",
    "import seaborn as sns\n",
    "from statsmodels.stats.multicomp import pairwise_tukeyhsd"
   ]
  },
  {
   "cell_type": "markdown",
   "id": "616164de",
   "metadata": {},
   "source": [
    "# Elliot Linsey - CRM Analysis Tasks\n",
    "\n",
    "The data and tasks presented are created to replicate a Customer Relation Management environment, with analysis between promotional packages and whether they have an impact on revenue earned. "
   ]
  },
  {
   "cell_type": "markdown",
   "id": "507dd12b",
   "metadata": {},
   "source": [
    "## Task 1\n",
    "\n",
    "Beginning with data cleaning tasks and converting the needed columns to the correct data type. "
   ]
  },
  {
   "cell_type": "code",
   "execution_count": 3,
   "id": "22f7f624",
   "metadata": {
    "scrolled": true
   },
   "outputs": [
    {
     "data": {
      "text/html": [
       "<div>\n",
       "<style scoped>\n",
       "    .dataframe tbody tr th:only-of-type {\n",
       "        vertical-align: middle;\n",
       "    }\n",
       "\n",
       "    .dataframe tbody tr th {\n",
       "        vertical-align: top;\n",
       "    }\n",
       "\n",
       "    .dataframe thead th {\n",
       "        text-align: right;\n",
       "    }\n",
       "</style>\n",
       "<table border=\"1\" class=\"dataframe\">\n",
       "  <thead>\n",
       "    <tr style=\"text-align: right;\">\n",
       "      <th></th>\n",
       "      <th>Activity</th>\n",
       "      <th>Country</th>\n",
       "      <th>Group</th>\n",
       "      <th>Gross</th>\n",
       "    </tr>\n",
       "  </thead>\n",
       "  <tbody>\n",
       "    <tr>\n",
       "      <th>0</th>\n",
       "      <td>418</td>\n",
       "      <td>Ofu</td>\n",
       "      <td>1</td>\n",
       "      <td>8.9034</td>\n",
       "    </tr>\n",
       "    <tr>\n",
       "      <th>1</th>\n",
       "      <td>2</td>\n",
       "      <td>Ofu</td>\n",
       "      <td>4</td>\n",
       "      <td>0.0426</td>\n",
       "    </tr>\n",
       "    <tr>\n",
       "      <th>2</th>\n",
       "      <td>1868</td>\n",
       "      <td>Ofu</td>\n",
       "      <td>3</td>\n",
       "      <td>39.7884</td>\n",
       "    </tr>\n",
       "    <tr>\n",
       "      <th>3</th>\n",
       "      <td>6319</td>\n",
       "      <td>Ofu</td>\n",
       "      <td>5</td>\n",
       "      <td>134.5947</td>\n",
       "    </tr>\n",
       "    <tr>\n",
       "      <th>4</th>\n",
       "      <td>1045</td>\n",
       "      <td>Ofu</td>\n",
       "      <td>5</td>\n",
       "      <td>22.2585</td>\n",
       "    </tr>\n",
       "  </tbody>\n",
       "</table>\n",
       "</div>"
      ],
      "text/plain": [
       "   Activity Country  Group     Gross\n",
       "0       418     Ofu      1    8.9034\n",
       "1         2     Ofu      4    0.0426\n",
       "2      1868     Ofu      3   39.7884\n",
       "3      6319     Ofu      5  134.5947\n",
       "4      1045     Ofu      5   22.2585"
      ]
     },
     "execution_count": 3,
     "metadata": {},
     "output_type": "execute_result"
    }
   ],
   "source": [
    "df = pd.read_csv('Task1.csv').drop(columns=['PlayerID'],axis=1).rename(columns={' Activity ': 'Activity'})\n",
    "df.Activity = df['Activity'].replace(',','', regex=True)\n",
    "df.Activity = pd.to_numeric(df.Activity)\n",
    "df['Gross'] = df.Activity*0.0213\n",
    "df.head()"
   ]
  },
  {
   "cell_type": "markdown",
   "id": "1a11919f",
   "metadata": {},
   "source": [
    "Separating the activity points of each group. "
   ]
  },
  {
   "cell_type": "code",
   "execution_count": 4,
   "id": "047f10d7",
   "metadata": {},
   "outputs": [],
   "source": [
    "one = df.Activity[df.Group == 1]\n",
    "two = df.Activity[df.Group == 2]\n",
    "three = df.Activity[df.Group == 3]\n",
    "four = df.Activity[df.Group == 4]\n",
    "five = df.Activity[df.Group == 5]"
   ]
  },
  {
   "cell_type": "markdown",
   "id": "d55b6e25",
   "metadata": {},
   "source": [
    "Our null hypothesis in this experiment is that there is no difference between the bonuses on offer to the players and the amount of activity points earned. To test this, there are five different groups. Four have rewards ranging from \\\\$5 to \\\\$25 whilst the 5th group is a control which offers no reward. \n",
    "\n",
    "Performing a one way ANOVA test with p-value threshold of 0.05 to identify whether any of the groups are significantly different from one another. This is a one way test so we are determining whether one group is higher than the other. As the resulting p-value is below 0.05, we can confirm that at least one group is significantly different from the other. "
   ]
  },
  {
   "cell_type": "code",
   "execution_count": 5,
   "id": "40c3703e",
   "metadata": {},
   "outputs": [
    {
     "name": "stdout",
     "output_type": "stream",
     "text": [
      "p-value = 0.02106606379623132\n"
     ]
    }
   ],
   "source": [
    "pval = stats.f_oneway(one,two,three,four,five)[1]\n",
    "print('p-value = ' + str(pval))"
   ]
  },
  {
   "cell_type": "markdown",
   "id": "c26c06dd",
   "metadata": {},
   "source": [
    "We are only interested in the difference of groups with respect to the control group. Performing a further Tukey Test identifies that the majority of groups are not significantly different to one another with the exception of groups 3 (\\\\$25 bonus) and 5 (the control group). \n",
    "\n",
    "As the p-value is below 0.05, we can conclude that if we were to repeat this experiment multiple times with different samples, there is a less than 5\\% chance that we would observe these results if the null hypothesis were true. Therefore, we can reject the null hypothesis that there is no significant difference between the bonus of \\\\$25 and the control group. "
   ]
  },
  {
   "cell_type": "code",
   "execution_count": 6,
   "id": "d0fd621a",
   "metadata": {},
   "outputs": [
    {
     "name": "stdout",
     "output_type": "stream",
     "text": [
      "    Multiple Comparison of Means - Tukey HSD, FWER=0.05    \n",
      "===========================================================\n",
      "group1 group2  meandiff  p-adj    lower      upper   reject\n",
      "-----------------------------------------------------------\n",
      "     1      2  -572.0835 0.6237 -1705.1254  560.9584  False\n",
      "     1      3    238.838    0.9  -860.7217 1338.3977  False\n",
      "     1      4  -625.2949 0.5243 -1724.0058   473.416  False\n",
      "     1      5 -1061.9122 0.1174  -2272.515  148.6906  False\n",
      "     2      3   810.9215 0.2953  -328.2784 1950.1214  False\n",
      "     2      4   -53.2114    0.9 -1191.5921 1085.1692  False\n",
      "     2      5  -489.8287 0.7971 -1736.5459  756.8886  False\n",
      "     3      4  -864.1329  0.206 -1969.1932  240.9273  False\n",
      "     3      5 -1300.7502 0.0291 -2517.1183   -84.382   True\n",
      "     4      5  -436.6173 0.8493 -1652.2182  778.9837  False\n",
      "-----------------------------------------------------------\n"
     ]
    }
   ],
   "source": [
    "tukey_results = pairwise_tukeyhsd(df['Activity'], df['Group'], 0.05)\n",
    "print(tukey_results)"
   ]
  },
  {
   "cell_type": "markdown",
   "id": "542387de",
   "metadata": {},
   "source": [
    "We can also calculate the amount of Gross Rev earned for each group, and the cost of the bonuses given out to the players. "
   ]
  },
  {
   "cell_type": "code",
   "execution_count": 7,
   "id": "59a0597e",
   "metadata": {
    "scrolled": false
   },
   "outputs": [
    {
     "data": {
      "text/plain": [
       "1    22070\n",
       "2    19216\n",
       "3    21565\n",
       "4    21631\n",
       "5    15192\n",
       "Name: Group, dtype: int64"
      ]
     },
     "execution_count": 7,
     "metadata": {},
     "output_type": "execute_result"
    }
   ],
   "source": [
    "df.Group.value_counts().sort_index()"
   ]
  },
  {
   "cell_type": "code",
   "execution_count": 8,
   "id": "4360f5b1",
   "metadata": {
    "scrolled": true
   },
   "outputs": [
    {
     "data": {
      "text/html": [
       "<div>\n",
       "<style scoped>\n",
       "    .dataframe tbody tr th:only-of-type {\n",
       "        vertical-align: middle;\n",
       "    }\n",
       "\n",
       "    .dataframe tbody tr th {\n",
       "        vertical-align: top;\n",
       "    }\n",
       "\n",
       "    .dataframe thead th {\n",
       "        text-align: right;\n",
       "    }\n",
       "</style>\n",
       "<table border=\"1\" class=\"dataframe\">\n",
       "  <thead>\n",
       "    <tr style=\"text-align: right;\">\n",
       "      <th></th>\n",
       "      <th>Group</th>\n",
       "      <th>Activity</th>\n",
       "    </tr>\n",
       "  </thead>\n",
       "  <tbody>\n",
       "    <tr>\n",
       "      <th>0</th>\n",
       "      <td>1</td>\n",
       "      <td>157938875</td>\n",
       "    </tr>\n",
       "    <tr>\n",
       "      <th>1</th>\n",
       "      <td>2</td>\n",
       "      <td>126521724</td>\n",
       "    </tr>\n",
       "    <tr>\n",
       "      <th>2</th>\n",
       "      <td>3</td>\n",
       "      <td>159475500</td>\n",
       "    </tr>\n",
       "    <tr>\n",
       "      <th>3</th>\n",
       "      <td>4</td>\n",
       "      <td>141271518</td>\n",
       "    </tr>\n",
       "    <tr>\n",
       "      <th>4</th>\n",
       "      <td>5</td>\n",
       "      <td>92585481</td>\n",
       "    </tr>\n",
       "  </tbody>\n",
       "</table>\n",
       "</div>"
      ],
      "text/plain": [
       "   Group   Activity\n",
       "0      1  157938875\n",
       "1      2  126521724\n",
       "2      3  159475500\n",
       "3      4  141271518\n",
       "4      5   92585481"
      ]
     },
     "execution_count": 8,
     "metadata": {},
     "output_type": "execute_result"
    }
   ],
   "source": [
    "df_group = df.groupby(['Group']).Activity.sum().reset_index()\n",
    "df_group"
   ]
  },
  {
   "cell_type": "markdown",
   "id": "8046d938",
   "metadata": {},
   "source": [
    "As we can see, group 3 brought in the most gross rev but due to having the highest rewards cost it was not the highest earner overall, with that distinction going to group 1. \n",
    "\n",
    "At this stage we can conclude the experiment to be a success and state that using a rewards system does result in higher gross rev than without. However, this difference only starts to occur without the influence of random noise over the \\\\$25 mark as only group 3 was significantly different to the control group. There are potentially other factors that can be considered, including country which may have different wealth levels as well as personal, such as the amount of time available to the player to play. "
   ]
  },
  {
   "cell_type": "code",
   "execution_count": 9,
   "id": "978cdceb",
   "metadata": {},
   "outputs": [
    {
     "name": "stdout",
     "output_type": "stream",
     "text": [
      "Group 1 cost $441400 for a Gross Rev of $3364098.04. This is a difference of $2922698.04\n",
      "Group 2 cost $288240 for a Gross Rev of $2694912.72. This is a difference of $2406672.72\n",
      "Group 3 cost $539125 for a Gross Rev of $3396828.15. This is a difference of $2857703.15\n",
      "Group 4 cost $108155 for a Gross Rev of $3009083.33. This is a difference of $2900928.33\n",
      "Group 5 was the control group which cost nothing but brought in a Gross Rev of $1972070.75\n"
     ]
    }
   ],
   "source": [
    "print('Group 1 cost $' + str(22070*20) + ' for a Gross Rev of $' + str(round(157938875*0.0213,2)) + '. This is a difference of $' + str(round(157938875*0.0213 - 22070*20,2)))\n",
    "print('Group 2 cost $' + str(19216*15) + ' for a Gross Rev of $' + str(round(126521724*0.0213,2)) + '. This is a difference of $' + str(round(126521724*0.0213 - 19216*15,2)))\n",
    "print('Group 3 cost $' + str(21565*25) + ' for a Gross Rev of $' + str(round(159475500*0.0213,2)) + '. This is a difference of $' + str(round(159475500*0.0213 - 21565*25,2)))\n",
    "print('Group 4 cost $' + str(21631*5) + ' for a Gross Rev of $' + str(round(141271518*0.0213,2)) + '. This is a difference of $' + str(round(141271518*0.0213 - 21631*5,2)))\n",
    "print('Group 5 was the control group which cost nothing but brought in a Gross Rev of $' + str(round(92585481*0.0213,2)))"
   ]
  },
  {
   "cell_type": "markdown",
   "id": "572287ee",
   "metadata": {},
   "source": [
    "The ROI for Group 3 = \\\\$5.30. For every \\\\$1 spent in this promotion, we made \\\\$5.30. I'm using ROI = (Gross - Spent)/Spent which in this case is (3396828.15 - 539125)/539125 = \\$5.3"
   ]
  },
  {
   "cell_type": "code",
   "execution_count": 10,
   "id": "5806d3d5",
   "metadata": {},
   "outputs": [
    {
     "name": "stdout",
     "output_type": "stream",
     "text": [
      "ROI for Group 3 = $5.300631857175979\n"
     ]
    }
   ],
   "source": [
    "print('ROI for Group 3 = $' + str(2857703.15/539125))"
   ]
  },
  {
   "cell_type": "markdown",
   "id": "0d13997f",
   "metadata": {},
   "source": [
    "## Task 2\n",
    "\n",
    "Beginning with data cleaning to remove the extra characters from Gross Revenue and convert it to a numerical data type as with task 1. "
   ]
  },
  {
   "cell_type": "code",
   "execution_count": 28,
   "id": "80265723",
   "metadata": {
    "scrolled": true
   },
   "outputs": [
    {
     "data": {
      "text/html": [
       "<div>\n",
       "<style scoped>\n",
       "    .dataframe tbody tr th:only-of-type {\n",
       "        vertical-align: middle;\n",
       "    }\n",
       "\n",
       "    .dataframe tbody tr th {\n",
       "        vertical-align: top;\n",
       "    }\n",
       "\n",
       "    .dataframe thead th {\n",
       "        text-align: right;\n",
       "    }\n",
       "</style>\n",
       "<table border=\"1\" class=\"dataframe\">\n",
       "  <thead>\n",
       "    <tr style=\"text-align: right;\">\n",
       "      <th></th>\n",
       "      <th>Year</th>\n",
       "      <th>Week</th>\n",
       "      <th>Gross Revenue</th>\n",
       "    </tr>\n",
       "  </thead>\n",
       "  <tbody>\n",
       "    <tr>\n",
       "      <th>0</th>\n",
       "      <td>2015</td>\n",
       "      <td>1</td>\n",
       "      <td>349043</td>\n",
       "    </tr>\n",
       "    <tr>\n",
       "      <th>1</th>\n",
       "      <td>2015</td>\n",
       "      <td>2</td>\n",
       "      <td>342759</td>\n",
       "    </tr>\n",
       "    <tr>\n",
       "      <th>2</th>\n",
       "      <td>2015</td>\n",
       "      <td>3</td>\n",
       "      <td>312714</td>\n",
       "    </tr>\n",
       "    <tr>\n",
       "      <th>3</th>\n",
       "      <td>2015</td>\n",
       "      <td>4</td>\n",
       "      <td>324406</td>\n",
       "    </tr>\n",
       "    <tr>\n",
       "      <th>4</th>\n",
       "      <td>2015</td>\n",
       "      <td>5</td>\n",
       "      <td>289567</td>\n",
       "    </tr>\n",
       "  </tbody>\n",
       "</table>\n",
       "</div>"
      ],
      "text/plain": [
       "   Year  Week  Gross Revenue\n",
       "0  2015     1         349043\n",
       "1  2015     2         342759\n",
       "2  2015     3         312714\n",
       "3  2015     4         324406\n",
       "4  2015     5         289567"
      ]
     },
     "execution_count": 28,
     "metadata": {},
     "output_type": "execute_result"
    }
   ],
   "source": [
    "df2 = pd.read_csv('Task2.csv')\n",
    "df2['Gross Revenue'] = df2['Gross Revenue'].str.replace(',','',regex=True).str.replace('$','',regex=True).astype(int)\n",
    "df2.head()"
   ]
  },
  {
   "cell_type": "markdown",
   "id": "f47488cc",
   "metadata": {},
   "source": [
    "From plotting the data we can see immediate differences in the weeks 5 to 8 between both years. In 2015 it appears to have dropped sharply whilst in 2016 it rises steeply. From weeks 13 to 17 both years appear fairly steady with minor rises and falls. As we are comparing the impact of the promotion from weeks 5 to 8 and 13 to 17, I have cut off the 2015 graph past week 25 for easier comparison to the 2016 graph, as the 2016 graph lacks data past week 25.  "
   ]
  },
  {
   "cell_type": "code",
   "execution_count": 35,
   "id": "8af7c6d8",
   "metadata": {},
   "outputs": [
    {
     "data": {
      "image/png": "[encoded data removed]",
      "text/plain": [
       "<Figure size 1440x504 with 2 Axes>"
      ]
     },
     "metadata": {
      "needs_background": "light"
     },
     "output_type": "display_data"
    }
   ],
   "source": [
    "fig, (ax1,ax2) = plt.subplots(1,2,figsize=(20,7))\n",
    "sns.lineplot(x=df2.Week[df2.Year==2015], y=df2['Gross Revenue'][(df2.Year==2015) & (df2.Week.isin(range(26)))],ax=ax1)\n",
    "sns.lineplot(x=df2.Week[df2.Year==2016], y=df2['Gross Revenue'][df2.Year==2016],ax=ax2)\n",
    "ax1.set_title('Year 2015')\n",
    "ax2.set_title('Year 2016')\n",
    "\n",
    "plt.show()"
   ]
  },
  {
   "cell_type": "markdown",
   "id": "138b6285",
   "metadata": {},
   "source": [
    "Creating a dataframe that isolates the weeks we are looking to compare. "
   ]
  },
  {
   "cell_type": "code",
   "execution_count": 34,
   "id": "a290ee5d",
   "metadata": {},
   "outputs": [
    {
     "data": {
      "text/html": [
       "<div>\n",
       "<style scoped>\n",
       "    .dataframe tbody tr th:only-of-type {\n",
       "        vertical-align: middle;\n",
       "    }\n",
       "\n",
       "    .dataframe tbody tr th {\n",
       "        vertical-align: top;\n",
       "    }\n",
       "\n",
       "    .dataframe thead th {\n",
       "        text-align: right;\n",
       "    }\n",
       "</style>\n",
       "<table border=\"1\" class=\"dataframe\">\n",
       "  <thead>\n",
       "    <tr style=\"text-align: right;\">\n",
       "      <th></th>\n",
       "      <th>Year</th>\n",
       "      <th>Week</th>\n",
       "      <th>Gross Revenue</th>\n",
       "    </tr>\n",
       "  </thead>\n",
       "  <tbody>\n",
       "    <tr>\n",
       "      <th>0</th>\n",
       "      <td>2015</td>\n",
       "      <td>5</td>\n",
       "      <td>289567</td>\n",
       "    </tr>\n",
       "    <tr>\n",
       "      <th>1</th>\n",
       "      <td>2015</td>\n",
       "      <td>6</td>\n",
       "      <td>283549</td>\n",
       "    </tr>\n",
       "    <tr>\n",
       "      <th>2</th>\n",
       "      <td>2015</td>\n",
       "      <td>7</td>\n",
       "      <td>300651</td>\n",
       "    </tr>\n",
       "    <tr>\n",
       "      <th>3</th>\n",
       "      <td>2015</td>\n",
       "      <td>8</td>\n",
       "      <td>283467</td>\n",
       "    </tr>\n",
       "    <tr>\n",
       "      <th>4</th>\n",
       "      <td>2015</td>\n",
       "      <td>13</td>\n",
       "      <td>330666</td>\n",
       "    </tr>\n",
       "    <tr>\n",
       "      <th>5</th>\n",
       "      <td>2015</td>\n",
       "      <td>14</td>\n",
       "      <td>321685</td>\n",
       "    </tr>\n",
       "    <tr>\n",
       "      <th>6</th>\n",
       "      <td>2015</td>\n",
       "      <td>15</td>\n",
       "      <td>309301</td>\n",
       "    </tr>\n",
       "    <tr>\n",
       "      <th>7</th>\n",
       "      <td>2015</td>\n",
       "      <td>16</td>\n",
       "      <td>336736</td>\n",
       "    </tr>\n",
       "    <tr>\n",
       "      <th>8</th>\n",
       "      <td>2015</td>\n",
       "      <td>17</td>\n",
       "      <td>322654</td>\n",
       "    </tr>\n",
       "    <tr>\n",
       "      <th>9</th>\n",
       "      <td>2016</td>\n",
       "      <td>5</td>\n",
       "      <td>324459</td>\n",
       "    </tr>\n",
       "    <tr>\n",
       "      <th>10</th>\n",
       "      <td>2016</td>\n",
       "      <td>6</td>\n",
       "      <td>341161</td>\n",
       "    </tr>\n",
       "    <tr>\n",
       "      <th>11</th>\n",
       "      <td>2016</td>\n",
       "      <td>7</td>\n",
       "      <td>335210</td>\n",
       "    </tr>\n",
       "    <tr>\n",
       "      <th>12</th>\n",
       "      <td>2016</td>\n",
       "      <td>8</td>\n",
       "      <td>341948</td>\n",
       "    </tr>\n",
       "    <tr>\n",
       "      <th>13</th>\n",
       "      <td>2016</td>\n",
       "      <td>13</td>\n",
       "      <td>329001</td>\n",
       "    </tr>\n",
       "    <tr>\n",
       "      <th>14</th>\n",
       "      <td>2016</td>\n",
       "      <td>14</td>\n",
       "      <td>319940</td>\n",
       "    </tr>\n",
       "    <tr>\n",
       "      <th>15</th>\n",
       "      <td>2016</td>\n",
       "      <td>15</td>\n",
       "      <td>326966</td>\n",
       "    </tr>\n",
       "    <tr>\n",
       "      <th>16</th>\n",
       "      <td>2016</td>\n",
       "      <td>16</td>\n",
       "      <td>317775</td>\n",
       "    </tr>\n",
       "    <tr>\n",
       "      <th>17</th>\n",
       "      <td>2016</td>\n",
       "      <td>17</td>\n",
       "      <td>322949</td>\n",
       "    </tr>\n",
       "  </tbody>\n",
       "</table>\n",
       "</div>"
      ],
      "text/plain": [
       "    Year  Week  Gross Revenue\n",
       "0   2015     5         289567\n",
       "1   2015     6         283549\n",
       "2   2015     7         300651\n",
       "3   2015     8         283467\n",
       "4   2015    13         330666\n",
       "5   2015    14         321685\n",
       "6   2015    15         309301\n",
       "7   2015    16         336736\n",
       "8   2015    17         322654\n",
       "9   2016     5         324459\n",
       "10  2016     6         341161\n",
       "11  2016     7         335210\n",
       "12  2016     8         341948\n",
       "13  2016    13         329001\n",
       "14  2016    14         319940\n",
       "15  2016    15         326966\n",
       "16  2016    16         317775\n",
       "17  2016    17         322949"
      ]
     },
     "execution_count": 34,
     "metadata": {},
     "output_type": "execute_result"
    }
   ],
   "source": [
    "df_weeks = df2[df2.Week.isin([5,6,7,8,13,14,15,16,17])].reset_index(drop=True)\n",
    "df_weeks"
   ]
  },
  {
   "cell_type": "markdown",
   "id": "012ca550",
   "metadata": {},
   "source": [
    "We can perform a related T-test with a p-value threshold of 0.05 on these two sets of values between the years. We find that in comparison to 2015, there was a significant difference in revenue brought in during the first promotion in 2016. Be mindful that this does not imply causation as other confounding factors may have had an impact and 2015 was not created as a control, but in the context of the exercise we can suggest that the promotion that ran during these weeks did increase gross revenue in contrast to 2015 when the promotion was not run. \n",
    "\n",
    "For the second running of the exercise we find no significant difference and therefore the promotion does not appear to have had a major impact on increasing gross revenue. "
   ]
  },
  {
   "cell_type": "code",
   "execution_count": 14,
   "id": "c4ead8d0",
   "metadata": {},
   "outputs": [
    {
     "name": "stdout",
     "output_type": "stream",
     "text": [
      "P-value for weeks 5 to 8 = 0.006270229324482977\n",
      "P-value for weeks 13 to 17 = 0.886534447416126\n"
     ]
    }
   ],
   "source": [
    "print('P-value for weeks 5 to 8 = ' + str(stats.ttest_rel([289567,283549,300651,283467],[324459,341161,335210,341948])[1]))\n",
    "print('P-value for weeks 13 to 17 = ' + str(stats.ttest_rel([330666,321685,309301,336736,322654],[329001,319940,326966,317775,322949])[1]))"
   ]
  },
  {
   "cell_type": "markdown",
   "id": "8c5bbcc2",
   "metadata": {},
   "source": [
    "We can calculate the total gross revenue after subtracting the promotional costs for both campaigns. We find that running the campaign for weeks 5 to 8 in 2016 resulted in an extra \\\\$76822 compared to 2015. However, there was no significant difference between weeks 13 to 17 in 2016 and we not only didn't increase gross revenue (in fact we lost \\\\$4411 for the same period in 2016 compared to 2015), but also had to pay the promotional costs putting us in strong negative result of -\\\\$230406 in comparison to 2015."
   ]
  },
  {
   "cell_type": "code",
   "execution_count": 15,
   "id": "67742cb7",
   "metadata": {},
   "outputs": [
    {
     "name": "stdout",
     "output_type": "stream",
     "text": [
      "Extra Gross Revenue after promotional costs for weeks 5 to 8: $76822\n",
      "Extra Gross Revenue after promotional costs for weeks 13 to 17: $-230406\n"
     ]
    }
   ],
   "source": [
    "print('Extra Gross Revenue after promotional costs for weeks 5 to 8: $' + str((df_weeks['Gross Revenue'].iloc[9:13].sum() - df_weeks['Gross Revenue'].iloc[0:4].sum())-108722))\n",
    "print('Extra Gross Revenue after promotional costs for weeks 13 to 17: $' + str((df_weeks['Gross Revenue'].iloc[13:].sum() - df_weeks['Gross Revenue'].iloc[4:9].sum()) - 225995))"
   ]
  },
  {
   "cell_type": "markdown",
   "id": "2a945f62",
   "metadata": {},
   "source": [
    "We can calculate the ROI for the first promotion in 2016 as that resulted in significant gains. This figure is $11.35. Again, this is not a guarantee that the promotion is responsible for the extra revenue as there may have been other factors or influences present during 2016 which resulted in these differences. "
   ]
  },
  {
   "cell_type": "code",
   "execution_count": 16,
   "id": "8299e0af",
   "metadata": {},
   "outputs": [
    {
     "name": "stdout",
     "output_type": "stream",
     "text": [
      "ROI for promotion 1 = $11.350563823329225\n"
     ]
    }
   ],
   "source": [
    "print('ROI for promotion 1 = $' + str((df_weeks['Gross Revenue'].iloc[9:13].sum() - 108722)/108722))"
   ]
  },
  {
   "cell_type": "markdown",
   "id": "1905ba3d",
   "metadata": {},
   "source": [
    "For both Tasks 1 & 2 I have used classical statistical methods, it would be interesting to analyse the data using Bayesian methods."
   ]
  },
  {
   "cell_type": "markdown",
   "id": "cc6cf0dc",
   "metadata": {},
   "source": [
    "Thanks for reading! \n",
    "\n",
    "Elliot Linsey"
   ]
  }
 ],
 "metadata": {
  "kernelspec": {
   "display_name": "Python 3 (ipykernel)",
   "language": "python",
   "name": "python3"
  },
  "language_info": {
   "codemirror_mode": {
    "name": "ipython",
    "version": 3
   },
   "file_extension": ".py",
   "mimetype": "text/x-python",
   "name": "python",
   "nbconvert_exporter": "python",
   "pygments_lexer": "ipython3",
   "version": "3.9.7"
  }
 },
 "nbformat": 4,
 "nbformat_minor": 5
}
